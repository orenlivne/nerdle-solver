{
 "cells": [
  {
   "cell_type": "markdown",
   "id": "50efce8c-517b-47ca-9d81-70d88cdb5a5c",
   "metadata": {},
   "source": [
    "# Benchmarking / Profiling"
   ]
  },
  {
   "cell_type": "code",
   "execution_count": 1,
   "id": "1ce14177-17d6-4ba1-bdd4-74ae65e07847",
   "metadata": {},
   "outputs": [],
   "source": [
    "%load_ext autoreload\n",
    "%autoreload 2\n",
    "\n",
    "import collections\n",
    "import ctypes\n",
    "import itertools\n",
    "import multiprocessing\n",
    "import numpy as np\n",
    "import matplotlib.pyplot as plt\n",
    "\n",
    "import nerdle\n",
    "import score as s\n",
    "import generator\n",
    "sgo = ctypes.CDLL(s.SCORE_GUESS_OPT_SO)\n",
    "from nerdle import Hint"
   ]
  },
  {
   "cell_type": "code",
   "execution_count": 2,
   "id": "3e772c55-2cd9-4034-9a40-da234e49e783",
   "metadata": {},
   "outputs": [
    {
     "name": "stdout",
     "output_type": "stream",
     "text": [
      "(206, 206)\n"
     ]
    }
   ],
   "source": [
    "# Mini-Nerdle.\n",
    "NUM_SLOTS = 6\n",
    "SCORE_DB_FILE = \"db/nerdle{}.db\".format(NUM_SLOTS) \n",
    "solver_data = nerdle.create_solver_data(NUM_SLOTS, SCORE_DB_FILE)\n",
    "d = solver_data.score_db\n",
    "print(d.shape)"
   ]
  },
  {
   "cell_type": "markdown",
   "id": "4be3071e-e3c9-4a3c-b364-12a0798b4629",
   "metadata": {},
   "source": [
    "## Solver"
   ]
  },
  {
   "cell_type": "code",
   "execution_count": 7,
   "id": "d216b712-c81a-494b-8cec-3afd932403a8",
   "metadata": {},
   "outputs": [
    {
     "name": "stdout",
     "output_type": "stream",
     "text": [
      "3.63 ms ± 101 µs per loop (mean ± std. dev. of 7 runs, 100 loops each)\n"
     ]
    }
   ],
   "source": [
    "%timeit guess_history, hint_history, answer_size_history =  nerdle.NerdleSolver(solver_data).solve(\"4*3=12\", initial_guess=\"56/7=8\")"
   ]
  },
  {
   "cell_type": "markdown",
   "id": "28708d7f-6e57-4dd0-8704-ceb76b7eac16",
   "metadata": {},
   "source": [
    "## Answer Generation"
   ]
  },
  {
   "cell_type": "code",
   "execution_count": 8,
   "id": "d5ad3e49-f628-4c9b-8a39-33baa4269864",
   "metadata": {},
   "outputs": [
    {
     "name": "stdout",
     "output_type": "stream",
     "text": [
      "5\n",
      "CPU times: user 2.7 ms, sys: 41 µs, total: 2.74 ms\n",
      "Wall time: 2.78 ms\n",
      "217\n",
      "6\n",
      "CPU times: user 49.1 ms, sys: 1.09 ms, total: 50.2 ms\n",
      "Wall time: 49.9 ms\n",
      "206\n",
      "7\n",
      "CPU times: user 635 ms, sys: 1.8 ms, total: 637 ms\n",
      "Wall time: 638 ms\n",
      "7561\n",
      "8\n",
      "CPU times: user 9.94 s, sys: 22.3 ms, total: 9.96 s\n",
      "Wall time: 9.99 s\n",
      "17723\n"
     ]
    }
   ],
   "source": [
    "for num_slots in range(5, 9):\n",
    "    print(num_slots)\n",
    "    %time a = list(generator.all_answers(num_slots));\n",
    "    print(len(a))"
   ]
  },
  {
   "cell_type": "markdown",
   "id": "37ff72e9-e4ed-4a35-bfa9-2342d1d845eb",
   "metadata": {},
   "source": [
    "## Score Database - Parallel Construction"
   ]
  },
  {
   "cell_type": "code",
   "execution_count": 5,
   "id": "3c0df356-24b8-448b-9886-ef01b83b855a",
   "metadata": {},
   "outputs": [],
   "source": [
    "answers = list(generator.all_answers(8))"
   ]
  },
  {
   "cell_type": "code",
   "execution_count": 8,
   "id": "8cc4b0ad-1741-45da-b919-29c0d4582fe9",
   "metadata": {},
   "outputs": [
    {
     "name": "stdout",
     "output_type": "stream",
     "text": [
      "CPU times: user 2.64 s, sys: 39 ms, total: 2.67 s\n",
      "Wall time: 2.68 s\n"
     ]
    }
   ],
   "source": [
    "n = 2000\n",
    "a = answers[:n]\n",
    "%time result = [nerdle._score_guess((guess, answer)) for guess in a for answer in a]"
   ]
  },
  {
   "cell_type": "code",
   "execution_count": 9,
   "id": "e2421bf2-068b-441f-9534-2ea3610093c4",
   "metadata": {},
   "outputs": [],
   "source": [
    "# with multiprocessing.Pool(8) as pool:\n",
    "#     %time result1 = pool.starmap(nerdle._score_guess, itertools.product(a, repeat=2))"
   ]
  },
  {
   "cell_type": "code",
   "execution_count": 13,
   "id": "14a668d4-70ef-4841-9b45-3021e555fa2e",
   "metadata": {},
   "outputs": [],
   "source": [
    "# Slow.\n",
    "# with multiprocessing.Pool(multiprocessing.cpu_count() // 2) as pool:\n",
    "#     %time result2 = [pool.apply_async(nerdle._score_guess, t).get() for t in itertools.product(a, repeat=2)]\n",
    "# Doesn't work yet.\n",
    "# from concurrent.futures import ThreadPoolExecutor, ProcessPoolExecutor\n",
    "# with ProcessPoolExecutor(max_workers=4) as pool:\n",
    "#     %time result1 = pool.map(nerdle._score_guess, itertools.product(a, repeat=2))"
   ]
  },
  {
   "cell_type": "code",
   "execution_count": 10,
   "id": "465d5f2b-5338-4c26-9377-68b1b11f826d",
   "metadata": {},
   "outputs": [],
   "source": [
    "# from test_parallel import square\n",
    "\n",
    "# n = 10000000\n",
    "# with multiprocessing.Pool(processes=4) as pool:\n",
    "#     %time results = pool.map(square, itertools.repeat(3, n))"
   ]
  },
  {
   "cell_type": "code",
   "execution_count": 13,
   "id": "18559693-79ae-4a26-9db9-da15c68787dd",
   "metadata": {},
   "outputs": [
    {
     "name": "stdout",
     "output_type": "stream",
     "text": [
      "10000000 3162.2776601683795\n",
      "CPU times: user 5.14 s, sys: 129 ms, total: 5.27 s\n",
      "Wall time: 5.28 s\n",
      "CPU times: user 859 ms, sys: 297 ms, total: 1.16 s\n",
      "Wall time: 6.19 s\n",
      "CPU times: user 793 ms, sys: 290 ms, total: 1.08 s\n",
      "Wall time: 3.41 s\n",
      "CPU times: user 852 ms, sys: 297 ms, total: 1.15 s\n",
      "Wall time: 2.25 s\n",
      "CPU times: user 1.04 s, sys: 331 ms, total: 1.37 s\n",
      "Wall time: 2.03 s\n",
      "CPU times: user 1.14 s, sys: 300 ms, total: 1.44 s\n",
      "Wall time: 2.17 s\n"
     ]
    }
   ],
   "source": [
    "from test_parallel import process_one_arg\n",
    "\n",
    "n = 10000000\n",
    "print(n, n ** 0.5)\n",
    "%time results = [process_one_arg(\"54/9=6\") for _ in range(n)]\n",
    "for p in (1, 2, 4, 8, 12):\n",
    "    with multiprocessing.Pool(processes=p) as pool:\n",
    "        %time results = pool.map(process_one_arg, itertools.repeat(\"54/9=6\", n))"
   ]
  },
  {
   "cell_type": "code",
   "execution_count": 18,
   "id": "fd4fbbff-aca5-45ce-a422-70a159e0f2b6",
   "metadata": {},
   "outputs": [],
   "source": [
    "# from test_parallel import process_args\n",
    "\n",
    "# n = 2000\n",
    "# a = answers[:n]\n",
    "# %time result = [[nerdle._score_guess(guess, answer) for answer in a] for guess in a]\n",
    "\n",
    "# with multiprocessing.Pool(processes=multiprocessing.cpu_count()) as pool:\n",
    "#     %time result2 = pool.map(process_args, itertools.product(a, repeat=2))\n",
    "# result == result2\n",
    "# np.array_equal(np.array(result2).reshape(n, n), np.array(result))"
   ]
  },
  {
   "cell_type": "code",
   "execution_count": 14,
   "id": "829417f4-06b3-4511-a2ee-1f3ce8751308",
   "metadata": {},
   "outputs": [
    {
     "name": "stdout",
     "output_type": "stream",
     "text": [
      "0 / 17723 (0.0%) completed\n",
      "886 / 17723 (5.0%) completed\n",
      "1772 / 17723 (10.0%) completed\n",
      "2658 / 17723 (15.0%) completed\n",
      "3544 / 17723 (20.0%) completed\n",
      "4430 / 17723 (25.0%) completed\n",
      "5316 / 17723 (30.0%) completed\n",
      "6202 / 17723 (35.0%) completed\n",
      "7088 / 17723 (40.0%) completed\n",
      "7974 / 17723 (45.0%) completed\n",
      "8860 / 17723 (50.0%) completed\n",
      "9746 / 17723 (55.0%) completed\n",
      "10632 / 17723 (60.0%) completed\n",
      "11518 / 17723 (65.0%) completed\n",
      "12404 / 17723 (70.0%) completed\n",
      "13290 / 17723 (75.0%) completed\n",
      "14176 / 17723 (80.0%) completed\n",
      "15062 / 17723 (85.0%) completed\n",
      "15948 / 17723 (90.0%) completed\n",
      "16834 / 17723 (95.0%) completed\n",
      "17720 / 17723 (100.0%) completed\n",
      "CPU times: user 3min 11s, sys: 30.9 s, total: 3min 42s\n",
      "Wall time: 3min 46s\n"
     ]
    }
   ],
   "source": [
    "num_slots = 8\n",
    "# # Parallel implementation.\n",
    "# %time solver_data = nerdle.create_solver_data(num_slots, \"db/nerdle{}.db\".format(num_slots), overwrite=True, min_parallel_n=len(answers) // 2)\n",
    "# Serial implementation.\n",
    "%time solver_data = nerdle.create_solver_data(num_slots, \"db/nerdle{}.db\".format(num_slots), overwrite=True, min_parallel_n=2 * len(answers))"
   ]
  },
  {
   "cell_type": "code",
   "execution_count": null,
   "id": "cd80c27b-6d7a-4a2e-aa4f-f2a56300bc7d",
   "metadata": {},
   "outputs": [],
   "source": []
  }
 ],
 "metadata": {
  "kernelspec": {
   "display_name": "Python 3 (ipykernel)",
   "language": "python",
   "name": "python3"
  },
  "language_info": {
   "codemirror_mode": {
    "name": "ipython",
    "version": 3
   },
   "file_extension": ".py",
   "mimetype": "text/x-python",
   "name": "python",
   "nbconvert_exporter": "python",
   "pygments_lexer": "ipython3",
   "version": "3.10.6"
  }
 },
 "nbformat": 4,
 "nbformat_minor": 5
}
