{
 "cells": [
  {
   "cell_type": "markdown",
   "id": "50efce8c-517b-47ca-9d81-70d88cdb5a5c",
   "metadata": {},
   "source": [
    "# Benchmarking / Profiling"
   ]
  },
  {
   "cell_type": "code",
   "execution_count": 5,
   "id": "1ce14177-17d6-4ba1-bdd4-74ae65e07847",
   "metadata": {},
   "outputs": [
    {
     "name": "stdout",
     "output_type": "stream",
     "text": [
      "The autoreload extension is already loaded. To reload it, use:\n",
      "  %reload_ext autoreload\n"
     ]
    }
   ],
   "source": [
    "%load_ext autoreload\n",
    "%autoreload 2\n",
    "\n",
    "import collections\n",
    "import ctypes\n",
    "import itertools\n",
    "import multiprocessing\n",
    "import numpy as np\n",
    "import matplotlib.pyplot as plt\n",
    "\n",
    "import nerdle\n",
    "import score as s\n",
    "import generator\n",
    "sgo = ctypes.CDLL(s.SCORE_GUESS_OPT_SO)\n",
    "from nerdle import Hint"
   ]
  },
  {
   "cell_type": "code",
   "execution_count": 6,
   "id": "3e772c55-2cd9-4034-9a40-da234e49e783",
   "metadata": {},
   "outputs": [
    {
     "name": "stdout",
     "output_type": "stream",
     "text": [
      "(206, 206)\n"
     ]
    }
   ],
   "source": [
    "# Mini-Nerdle.\n",
    "NUM_SLOTS = 6\n",
    "SCORE_DB_FILE = \"db/nerdle{}.db\".format(NUM_SLOTS) \n",
    "solver_data = nerdle.create_solver_data(NUM_SLOTS, SCORE_DB_FILE)\n",
    "d = solver_data.score_db\n",
    "print(d.shape)"
   ]
  },
  {
   "cell_type": "markdown",
   "id": "4be3071e-e3c9-4a3c-b364-12a0798b4629",
   "metadata": {},
   "source": [
    "## Solver"
   ]
  },
  {
   "cell_type": "code",
   "execution_count": 7,
   "id": "d216b712-c81a-494b-8cec-3afd932403a8",
   "metadata": {},
   "outputs": [
    {
     "name": "stdout",
     "output_type": "stream",
     "text": [
      "3.63 ms ± 101 µs per loop (mean ± std. dev. of 7 runs, 100 loops each)\n"
     ]
    }
   ],
   "source": [
    "%timeit guess_history, hint_history, answer_size_history =  nerdle.NerdleSolver(solver_data).solve(\"4*3=12\", initial_guess=\"56/7=8\")"
   ]
  },
  {
   "cell_type": "markdown",
   "id": "28708d7f-6e57-4dd0-8704-ceb76b7eac16",
   "metadata": {},
   "source": [
    "## Answer Generation"
   ]
  },
  {
   "cell_type": "code",
   "execution_count": 8,
   "id": "d5ad3e49-f628-4c9b-8a39-33baa4269864",
   "metadata": {},
   "outputs": [
    {
     "name": "stdout",
     "output_type": "stream",
     "text": [
      "5\n",
      "CPU times: user 2.7 ms, sys: 41 µs, total: 2.74 ms\n",
      "Wall time: 2.78 ms\n",
      "217\n",
      "6\n",
      "CPU times: user 49.1 ms, sys: 1.09 ms, total: 50.2 ms\n",
      "Wall time: 49.9 ms\n",
      "206\n",
      "7\n",
      "CPU times: user 635 ms, sys: 1.8 ms, total: 637 ms\n",
      "Wall time: 638 ms\n",
      "7561\n",
      "8\n",
      "CPU times: user 9.94 s, sys: 22.3 ms, total: 9.96 s\n",
      "Wall time: 9.99 s\n",
      "17723\n"
     ]
    }
   ],
   "source": [
    "for num_slots in range(5, 9):\n",
    "    print(num_slots)\n",
    "    %time a = list(generator.all_answers(num_slots));\n",
    "    print(len(a))"
   ]
  },
  {
   "cell_type": "markdown",
   "id": "37ff72e9-e4ed-4a35-bfa9-2342d1d845eb",
   "metadata": {},
   "source": [
    "## Score Database - Parallel Construction"
   ]
  },
  {
   "cell_type": "code",
   "execution_count": 10,
   "id": "3c0df356-24b8-448b-9886-ef01b83b855a",
   "metadata": {},
   "outputs": [],
   "source": [
    "answers = list(generator.all_answers(8))"
   ]
  },
  {
   "cell_type": "code",
   "execution_count": 11,
   "id": "8cc4b0ad-1741-45da-b919-29c0d4582fe9",
   "metadata": {},
   "outputs": [
    {
     "ename": "TypeError",
     "evalue": "_score_guess() takes 1 positional argument but 2 were given",
     "output_type": "error",
     "traceback": [
      "\u001b[0;31m---------------------------------------------------------------------------\u001b[0m",
      "\u001b[0;31mTypeError\u001b[0m                                 Traceback (most recent call last)",
      "File \u001b[0;32m<timed exec>:1\u001b[0m\n",
      "File \u001b[0;32m<timed exec>:1\u001b[0m, in \u001b[0;36m<listcomp>\u001b[0;34m(.0)\u001b[0m\n",
      "\u001b[0;31mTypeError\u001b[0m: _score_guess() takes 1 positional argument but 2 were given"
     ]
    }
   ],
   "source": [
    "n = 2000\n",
    "a = answers[:n]\n",
    "%time result = [nerdle._score_guess(guess, answer) for guess in a for answer in a]"
   ]
  },
  {
   "cell_type": "code",
   "execution_count": 12,
   "id": "e2421bf2-068b-441f-9534-2ea3610093c4",
   "metadata": {},
   "outputs": [
    {
     "ename": "TypeError",
     "evalue": "_score_guess() takes 1 positional argument but 2 were given",
     "output_type": "error",
     "traceback": [
      "\u001b[0;31m---------------------------------------------------------------------------\u001b[0m",
      "\u001b[0;31mRemoteTraceback\u001b[0m                           Traceback (most recent call last)",
      "\u001b[0;31mRemoteTraceback\u001b[0m: \n\"\"\"\nTraceback (most recent call last):\n  File \"/Users/olivne/opt/miniconda3/envs/nerdle/lib/python3.10/multiprocessing/pool.py\", line 125, in worker\n    result = (True, func(*args, **kwds))\n  File \"/Users/olivne/opt/miniconda3/envs/nerdle/lib/python3.10/multiprocessing/pool.py\", line 51, in starmapstar\n    return list(itertools.starmap(args[0], args[1]))\nTypeError: _score_guess() takes 1 positional argument but 2 were given\n\"\"\"",
      "\nThe above exception was the direct cause of the following exception:\n",
      "\u001b[0;31mTypeError\u001b[0m                                 Traceback (most recent call last)",
      "File \u001b[0;32m<timed exec>:1\u001b[0m\n",
      "File \u001b[0;32m~/opt/miniconda3/envs/nerdle/lib/python3.10/multiprocessing/pool.py:375\u001b[0m, in \u001b[0;36mPool.starmap\u001b[0;34m(self, func, iterable, chunksize)\u001b[0m\n\u001b[1;32m    369\u001b[0m \u001b[38;5;28;01mdef\u001b[39;00m \u001b[38;5;21mstarmap\u001b[39m(\u001b[38;5;28mself\u001b[39m, func, iterable, chunksize\u001b[38;5;241m=\u001b[39m\u001b[38;5;28;01mNone\u001b[39;00m):\n\u001b[1;32m    370\u001b[0m     \u001b[38;5;124;03m'''\u001b[39;00m\n\u001b[1;32m    371\u001b[0m \u001b[38;5;124;03m    Like `map()` method but the elements of the `iterable` are expected to\u001b[39;00m\n\u001b[1;32m    372\u001b[0m \u001b[38;5;124;03m    be iterables as well and will be unpacked as arguments. Hence\u001b[39;00m\n\u001b[1;32m    373\u001b[0m \u001b[38;5;124;03m    `func` and (a, b) becomes func(a, b).\u001b[39;00m\n\u001b[1;32m    374\u001b[0m \u001b[38;5;124;03m    '''\u001b[39;00m\n\u001b[0;32m--> 375\u001b[0m     \u001b[38;5;28;01mreturn\u001b[39;00m \u001b[38;5;28;43mself\u001b[39;49m\u001b[38;5;241;43m.\u001b[39;49m\u001b[43m_map_async\u001b[49m\u001b[43m(\u001b[49m\u001b[43mfunc\u001b[49m\u001b[43m,\u001b[49m\u001b[43m \u001b[49m\u001b[43miterable\u001b[49m\u001b[43m,\u001b[49m\u001b[43m \u001b[49m\u001b[43mstarmapstar\u001b[49m\u001b[43m,\u001b[49m\u001b[43m \u001b[49m\u001b[43mchunksize\u001b[49m\u001b[43m)\u001b[49m\u001b[38;5;241;43m.\u001b[39;49m\u001b[43mget\u001b[49m\u001b[43m(\u001b[49m\u001b[43m)\u001b[49m\n",
      "File \u001b[0;32m~/opt/miniconda3/envs/nerdle/lib/python3.10/multiprocessing/pool.py:774\u001b[0m, in \u001b[0;36mApplyResult.get\u001b[0;34m(self, timeout)\u001b[0m\n\u001b[1;32m    772\u001b[0m     \u001b[38;5;28;01mreturn\u001b[39;00m \u001b[38;5;28mself\u001b[39m\u001b[38;5;241m.\u001b[39m_value\n\u001b[1;32m    773\u001b[0m \u001b[38;5;28;01melse\u001b[39;00m:\n\u001b[0;32m--> 774\u001b[0m     \u001b[38;5;28;01mraise\u001b[39;00m \u001b[38;5;28mself\u001b[39m\u001b[38;5;241m.\u001b[39m_value\n",
      "\u001b[0;31mTypeError\u001b[0m: _score_guess() takes 1 positional argument but 2 were given"
     ]
    }
   ],
   "source": [
    "with multiprocessing.Pool(8) as pool:\n",
    "    %time result1 = pool.starmap(nerdle._score_guess, itertools.product(a, repeat=2))"
   ]
  },
  {
   "cell_type": "code",
   "execution_count": 13,
   "id": "14a668d4-70ef-4841-9b45-3021e555fa2e",
   "metadata": {},
   "outputs": [],
   "source": [
    "# Slow.\n",
    "# with multiprocessing.Pool(multiprocessing.cpu_count() // 2) as pool:\n",
    "#     %time result2 = [pool.apply_async(nerdle._score_guess, t).get() for t in itertools.product(a, repeat=2)]\n",
    "# Doesn't work yet.\n",
    "# from concurrent.futures import ThreadPoolExecutor, ProcessPoolExecutor\n",
    "# with ProcessPoolExecutor(max_workers=4) as pool:\n",
    "#     %time result1 = pool.map(nerdle._score_guess, itertools.product(a, repeat=2))"
   ]
  },
  {
   "cell_type": "code",
   "execution_count": 14,
   "id": "465d5f2b-5338-4c26-9377-68b1b11f826d",
   "metadata": {},
   "outputs": [
    {
     "name": "stdout",
     "output_type": "stream",
     "text": [
      "CPU times: user 519 ms, sys: 146 ms, total: 665 ms\n",
      "Wall time: 966 ms\n"
     ]
    }
   ],
   "source": [
    "from test_parallel import square\n",
    "\n",
    "n = 10000000\n",
    "with multiprocessing.Pool(processes=4) as pool:\n",
    "    %time results = pool.map(square, itertools.repeat(3, n))"
   ]
  },
  {
   "cell_type": "code",
   "execution_count": 15,
   "id": "18559693-79ae-4a26-9db9-da15c68787dd",
   "metadata": {},
   "outputs": [
    {
     "name": "stdout",
     "output_type": "stream",
     "text": [
      "30000000 5477.2255750516615\n",
      "CPU times: user 15.8 s, sys: 274 ms, total: 16 s\n",
      "Wall time: 16.1 s\n",
      "CPU times: user 3.31 s, sys: 1.15 s, total: 4.46 s\n",
      "Wall time: 5.31 s\n"
     ]
    }
   ],
   "source": [
    "from test_parallel import process_one_arg\n",
    "\n",
    "n = 30000000\n",
    "print(n, n ** 0.5)\n",
    "%time results = [process_one_arg(\"54/9=6\") for _ in range(n)]\n",
    "with multiprocessing.Pool(processes=multiprocessing.cpu_count()) as pool:\n",
    "    %time results = pool.map(process_one_arg, itertools.repeat(\"54/9=6\", n))"
   ]
  },
  {
   "cell_type": "code",
   "execution_count": 18,
   "id": "fd4fbbff-aca5-45ce-a422-70a159e0f2b6",
   "metadata": {},
   "outputs": [],
   "source": [
    "# from test_parallel import process_args\n",
    "\n",
    "# n = 2000\n",
    "# a = answers[:n]\n",
    "# %time result = [[nerdle._score_guess(guess, answer) for answer in a] for guess in a]\n",
    "\n",
    "# with multiprocessing.Pool(processes=multiprocessing.cpu_count()) as pool:\n",
    "#     %time result2 = pool.map(process_args, itertools.product(a, repeat=2))\n",
    "# result == result2\n",
    "# np.array_equal(np.array(result2).reshape(n, n), np.array(result))"
   ]
  },
  {
   "cell_type": "code",
   "execution_count": 19,
   "id": "7d36abc0-d3a6-4336-bfa8-2b2136aa3c56",
   "metadata": {},
   "outputs": [],
   "source": [
    "num_slots = 8"
   ]
  },
  {
   "cell_type": "code",
   "execution_count": null,
   "id": "494d11b1-3fac-4768-a56f-9960dccd1e6c",
   "metadata": {},
   "outputs": [],
   "source": [
    "# Parallel implementation.\n",
    "%time solver_data = nerdle.create_solver_data(num_slots, \"db/nerdle{}.db\".format(num_slots), overwrite=True, min_parallel_n=len(answers) // 2)"
   ]
  },
  {
   "cell_type": "code",
   "execution_count": null,
   "id": "829417f4-06b3-4511-a2ee-1f3ce8751308",
   "metadata": {},
   "outputs": [
    {
     "name": "stdout",
     "output_type": "stream",
     "text": [
      "0 / 7561 (0.0%) completed\n",
      "378 / 7561 (5.0%) completed\n",
      "756 / 7561 (10.0%) completed\n",
      "1134 / 7561 (15.0%) completed\n",
      "1512 / 7561 (20.0%) completed\n",
      "1890 / 7561 (25.0%) completed\n",
      "2268 / 7561 (30.0%) completed\n",
      "2646 / 7561 (35.0%) completed\n",
      "3024 / 7561 (40.0%) completed\n",
      "3402 / 7561 (45.0%) completed\n",
      "3780 / 7561 (50.0%) completed\n",
      "4158 / 7561 (55.0%) completed\n"
     ]
    }
   ],
   "source": [
    "# Serial implementation.\n",
    "%time solver_data = nerdle.create_solver_data(num_slots, \"db/nerdle{}.db\".format(num_slots), overwrite=True, min_parallel_n=2 * len(answers))"
   ]
  },
  {
   "cell_type": "code",
   "execution_count": null,
   "id": "cd80c27b-6d7a-4a2e-aa4f-f2a56300bc7d",
   "metadata": {},
   "outputs": [],
   "source": []
  }
 ],
 "metadata": {
  "kernelspec": {
   "display_name": "Python 3 (ipykernel)",
   "language": "python",
   "name": "python3"
  },
  "language_info": {
   "codemirror_mode": {
    "name": "ipython",
    "version": 3
   },
   "file_extension": ".py",
   "mimetype": "text/x-python",
   "name": "python",
   "nbconvert_exporter": "python",
   "pygments_lexer": "ipython3",
   "version": "3.10.6"
  }
 },
 "nbformat": 4,
 "nbformat_minor": 5
}
