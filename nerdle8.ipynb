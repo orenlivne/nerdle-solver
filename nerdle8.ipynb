{
 "cells": [
  {
   "cell_type": "markdown",
   "id": "50efce8c-517b-47ca-9d81-70d88cdb5a5c",
   "metadata": {},
   "source": [
    "# 8-Slot Full Nerdle Solver Test\n",
    "This is a much larger problem, so we don't optimize the initial guess and use instead the heuristic of having many different symbols. We stick to `9*8-7=65`which needs at most $X$ guesses and $X \\pm X$ guesses."
   ]
  },
  {
   "cell_type": "code",
   "execution_count": 1,
   "id": "1ce14177-17d6-4ba1-bdd4-74ae65e07847",
   "metadata": {},
   "outputs": [],
   "source": [
    "%load_ext autoreload\n",
    "%autoreload 2\n",
    "\n",
    "import collections\n",
    "import io\n",
    "import itertools\n",
    "import numpy as np\n",
    "import matplotlib.pyplot as plt\n",
    "import sys\n",
    "\n",
    "import nerdle\n",
    "import score as s\n",
    "import generator\n",
    "from nerdle import Hint, NerdleData"
   ]
  },
  {
   "cell_type": "code",
   "execution_count": 6,
   "id": "3e772c55-2cd9-4034-9a40-da234e49e783",
   "metadata": {},
   "outputs": [
    {
     "name": "stdout",
     "output_type": "stream",
     "text": [
      "CPU times: user 8.74 ms, sys: 1.62 s, total: 1.63 s\n",
      "Wall time: 1.92 s\n"
     ]
    }
   ],
   "source": [
    "# Mini-Nerdle.\n",
    "NUM_SLOTS = 8\n",
    "SCORE_DB_FILE = \"db/nerdle{}.db\".format(NUM_SLOTS) \n",
    "\n",
    "%time solver_data = nerdle.create_solver_data(NUM_SLOTS, SCORE_DB_FILE)"
   ]
  },
  {
   "cell_type": "code",
   "execution_count": 7,
   "id": "3afd369f-ec7b-4851-a58c-fcb9c0392625",
   "metadata": {},
   "outputs": [
    {
     "data": {
      "text/plain": [
       "(17723, 17723)"
      ]
     },
     "execution_count": 7,
     "metadata": {},
     "output_type": "execute_result"
    }
   ],
   "source": [
    "d = solver_data.score_db\n",
    "d.shape"
   ]
  },
  {
   "cell_type": "markdown",
   "id": "49778b3a-6809-4c49-8926-5b625833606c",
   "metadata": {},
   "source": [
    "## Example Usage"
   ]
  },
  {
   "cell_type": "code",
   "execution_count": 8,
   "id": "dc1fb9d8-2907-4eb3-8139-1fe65b874e17",
   "metadata": {},
   "outputs": [
    {
     "ename": "AttributeError",
     "evalue": "module 'nerdle' has no attribute 'score_guess'",
     "output_type": "error",
     "traceback": [
      "\u001b[0;31m---------------------------------------------------------------------------\u001b[0m",
      "\u001b[0;31mAttributeError\u001b[0m                            Traceback (most recent call last)",
      "Cell \u001b[0;32mIn [8], line 1\u001b[0m\n\u001b[0;32m----> 1\u001b[0m score \u001b[38;5;241m=\u001b[39m \u001b[43mnerdle\u001b[49m\u001b[38;5;241;43m.\u001b[39;49m\u001b[43mscore_guess\u001b[49m(\u001b[38;5;124m\"\u001b[39m\u001b[38;5;124m10-43=66\u001b[39m\u001b[38;5;124m\"\u001b[39m, \u001b[38;5;124m\"\u001b[39m\u001b[38;5;124m12+34=56\u001b[39m\u001b[38;5;124m\"\u001b[39m)\n\u001b[1;32m      2\u001b[0m \u001b[38;5;28mprint\u001b[39m(score, \n\u001b[1;32m      3\u001b[0m       s\u001b[38;5;241m.\u001b[39mscore_to_hint_string(score, NUM_SLOTS),\n\u001b[1;32m      4\u001b[0m       s\u001b[38;5;241m.\u001b[39mscore_to_hints(score, NUM_SLOTS) \u001b[38;5;241m==\u001b[39m [Hint\u001b[38;5;241m.\u001b[39mCORRECT, Hint\u001b[38;5;241m.\u001b[39mINCORRECT, Hint\u001b[38;5;241m.\u001b[39mINCORRECT, Hint\u001b[38;5;241m.\u001b[39mMISPLACED,\n\u001b[1;32m      5\u001b[0m                                Hint\u001b[38;5;241m.\u001b[39mMISPLACED, Hint\u001b[38;5;241m.\u001b[39mCORRECT, Hint\u001b[38;5;241m.\u001b[39mINCORRECT, Hint\u001b[38;5;241m.\u001b[39mCORRECT]\n\u001b[1;32m      6\u001b[0m      )\n",
      "\u001b[0;31mAttributeError\u001b[0m: module 'nerdle' has no attribute 'score_guess'"
     ]
    }
   ],
   "source": [
    "score = nerdle.score_guess(\"10-43=66\", \"12+34=56\")\n",
    "print(score, \n",
    "      s.score_to_hint_string(score, NUM_SLOTS),\n",
    "      s.score_to_hints(score, NUM_SLOTS) == [Hint.CORRECT, Hint.INCORRECT, Hint.INCORRECT, Hint.MISPLACED,\n",
    "                               Hint.MISPLACED, Hint.CORRECT, Hint.INCORRECT, Hint.CORRECT]\n",
    "     )"
   ]
  },
  {
   "cell_type": "code",
   "execution_count": 9,
   "id": "07bb9112-773b-4de4-a876-bee818b125da",
   "metadata": {},
   "outputs": [
    {
     "name": "stdout",
     "output_type": "stream",
     "text": [
      "--> guess 9*8-7=65 guesses_left 5\n",
      "score ----?+?? 42496\n",
      "answers 71\n",
      "--> guess 11+46=57 guesses_left 4\n",
      "score ?-?-++?+ 25890\n",
      "answers 2\n",
      "--> guess 5+6+6=17 guesses_left 3\n",
      "score ++++++++ 21845\n"
     ]
    }
   ],
   "source": [
    "# A good initial guess significantly reduces the number of answers. In this case, from\n",
    "# 206 to 10.\n",
    "solver = nerdle.NerdleSolver(solver_data)\n",
    "guess_history, hint_history, answer_size_history = solver.solve(\"5+6+6=17\", initial_guess= \"9*8-7=65\", debug=True)"
   ]
  },
  {
   "cell_type": "code",
   "execution_count": 10,
   "id": "d773045c-c04c-4fcb-b5d3-857b70c64753",
   "metadata": {},
   "outputs": [
    {
     "name": "stdout",
     "output_type": "stream",
     "text": [
      "--> guess 9*8-7=65 guesses_left 5\n",
      "score -----++? 37888\n",
      "answers 70\n",
      "--> guess 11+23=34 guesses_left 4\n",
      "score +-+?-+-- 1169\n",
      "answers 2\n",
      "--> guess 10+52=62 guesses_left 3\n",
      "score ++++++++ 21845\n",
      "CPU times: user 494 ms, sys: 16.4 ms, total: 511 ms\n",
      "Wall time: 510 ms\n"
     ]
    }
   ],
   "source": [
    "# Nerdle of September 14, 2022.\n",
    "# A good initial guess significantly reduces the number of answers. In this case, from 20177236 to 70.\n",
    "solver = nerdle.NerdleSolver(solver_data)\n",
    "#hint_generator = s.FileHintGenerator(sys.stdin)\n",
    "hints = [\n",
    "    \"-----++?\", \n",
    "    \"+-+?-+--\",\n",
    "    \"++++++++\",\n",
    "]\n",
    "hint_generator = s.FileHintGenerator(io.StringIO(\"\\n\".join(hints)))\n",
    "%time guess_history, hint_history, answer_size_history = solver.solve_adversary(hint_generator.__call__, initial_guess= \"9*8-7=65\", debug=True)"
   ]
  },
  {
   "cell_type": "markdown",
   "id": "8b76723e-dedc-49a8-8287-ad95fc3ac621",
   "metadata": {},
   "source": [
    "## Benchmark\n",
    "This is a fast in-memory dict implementation."
   ]
  },
  {
   "cell_type": "code",
   "execution_count": 11,
   "id": "6179500f-b2fd-4115-8d22-1f41f3edae0d",
   "metadata": {},
   "outputs": [
    {
     "name": "stdout",
     "output_type": "stream",
     "text": [
      "CPU times: user 623 ms, sys: 5.17 ms, total: 628 ms\n",
      "Wall time: 635 ms\n"
     ]
    }
   ],
   "source": [
    "# Nerdle of September 14, 2022.\n",
    "solver = nerdle.NerdleSolver(solver_data)\n",
    "%time guess_history, hint_history, answer_size_history = solver.solve(\"10+52=62\", initial_guess=\"9*8-7=65\")"
   ]
  },
  {
   "cell_type": "markdown",
   "id": "7f5156fa-001e-4a9a-8969-b1a8038c6438",
   "metadata": {},
   "source": [
    "## Performance -- # Guesses Distribution\n",
    "Assuming a start with a lot of different numbers and operators is best. Let's try all possible answers and observe how many guesses wew need on average. In fact, if we do well with the initial guess, we could attempt to build a lookup table of guesses vs. hints, and just use this static table; although recalculation takes just 0.5 seconds now!"
   ]
  },
  {
   "cell_type": "code",
   "execution_count": 43,
   "id": "1175cfca-137b-4755-a29c-2c5964fe8b89",
   "metadata": {},
   "outputs": [
    {
     "ename": "KeyboardInterrupt",
     "evalue": "",
     "output_type": "error",
     "traceback": [
      "\u001b[0;31m---------------------------------------------------------------------------\u001b[0m",
      "\u001b[0;31mKeyboardInterrupt\u001b[0m                         Traceback (most recent call last)",
      "Cell \u001b[0;32mIn [43], line 2\u001b[0m\n\u001b[1;32m      1\u001b[0m start \u001b[38;5;241m=\u001b[39m \u001b[38;5;124m\"\u001b[39m\u001b[38;5;124m9*8-7=65\u001b[39m\u001b[38;5;124m\"\u001b[39m\n\u001b[0;32m----> 2\u001b[0m solutions \u001b[38;5;241m=\u001b[39m [nerdle\u001b[38;5;241m.\u001b[39mNerdleSolver(solver_data)\u001b[38;5;241m.\u001b[39msolve(answer, initial_guess\u001b[38;5;241m=\u001b[39mstart) \n\u001b[1;32m      3\u001b[0m              \u001b[38;5;28;01mfor\u001b[39;00m answer \u001b[38;5;129;01min\u001b[39;00m solver_data\u001b[38;5;241m.\u001b[39manswers]               \n\u001b[1;32m      4\u001b[0m n \u001b[38;5;241m=\u001b[39m np\u001b[38;5;241m.\u001b[39marray([\u001b[38;5;28mlen\u001b[39m(solution[\u001b[38;5;241m0\u001b[39m]) \u001b[38;5;28;01mfor\u001b[39;00m solution \u001b[38;5;129;01min\u001b[39;00m solutions])\n\u001b[1;32m      5\u001b[0m num_answers \u001b[38;5;241m=\u001b[39m \u001b[38;5;28mlen\u001b[39m(solver_data\u001b[38;5;241m.\u001b[39manswers)\n",
      "Cell \u001b[0;32mIn [43], line 2\u001b[0m, in \u001b[0;36m<listcomp>\u001b[0;34m(.0)\u001b[0m\n\u001b[1;32m      1\u001b[0m start \u001b[38;5;241m=\u001b[39m \u001b[38;5;124m\"\u001b[39m\u001b[38;5;124m9*8-7=65\u001b[39m\u001b[38;5;124m\"\u001b[39m\n\u001b[0;32m----> 2\u001b[0m solutions \u001b[38;5;241m=\u001b[39m [\u001b[43mnerdle\u001b[49m\u001b[38;5;241;43m.\u001b[39;49m\u001b[43mNerdleSolver\u001b[49m\u001b[43m(\u001b[49m\u001b[43msolver_data\u001b[49m\u001b[43m)\u001b[49m\u001b[38;5;241;43m.\u001b[39;49m\u001b[43msolve\u001b[49m\u001b[43m(\u001b[49m\u001b[43manswer\u001b[49m\u001b[43m,\u001b[49m\u001b[43m \u001b[49m\u001b[43minitial_guess\u001b[49m\u001b[38;5;241;43m=\u001b[39;49m\u001b[43mstart\u001b[49m\u001b[43m)\u001b[49m \n\u001b[1;32m      3\u001b[0m              \u001b[38;5;28;01mfor\u001b[39;00m answer \u001b[38;5;129;01min\u001b[39;00m solver_data\u001b[38;5;241m.\u001b[39manswers]               \n\u001b[1;32m      4\u001b[0m n \u001b[38;5;241m=\u001b[39m np\u001b[38;5;241m.\u001b[39marray([\u001b[38;5;28mlen\u001b[39m(solution[\u001b[38;5;241m0\u001b[39m]) \u001b[38;5;28;01mfor\u001b[39;00m solution \u001b[38;5;129;01min\u001b[39;00m solutions])\n\u001b[1;32m      5\u001b[0m num_answers \u001b[38;5;241m=\u001b[39m \u001b[38;5;28mlen\u001b[39m(solver_data\u001b[38;5;241m.\u001b[39manswers)\n",
      "File \u001b[0;32m~/oren/nerdle-solver/nerdle.py:192\u001b[0m, in \u001b[0;36mNerdleSolver.solve\u001b[0;34m(self, answer, max_guesses, initial_guess, debug)\u001b[0m\n\u001b[1;32m    190\u001b[0m \u001b[38;5;28;01mdef\u001b[39;00m \u001b[38;5;21msolve\u001b[39m(\u001b[38;5;28mself\u001b[39m, answer: \u001b[38;5;28mstr\u001b[39m, max_guesses: \u001b[38;5;28mint\u001b[39m \u001b[38;5;241m=\u001b[39m \u001b[38;5;241m6\u001b[39m, initial_guess: \u001b[38;5;28mstr\u001b[39m \u001b[38;5;241m=\u001b[39m \u001b[38;5;124m\"\u001b[39m\u001b[38;5;124m0+12/3=4\u001b[39m\u001b[38;5;124m\"\u001b[39m,\n\u001b[1;32m    191\u001b[0m           debug: \u001b[38;5;28mbool\u001b[39m \u001b[38;5;241m=\u001b[39m \u001b[38;5;28;01mFalse\u001b[39;00m) \u001b[38;5;241m-\u001b[39m\u001b[38;5;241m>\u001b[39m Tuple[List[\u001b[38;5;28mstr\u001b[39m], List[\u001b[38;5;28mint\u001b[39m], List[\u001b[38;5;28mint\u001b[39m]]:\n\u001b[0;32m--> 192\u001b[0m     \u001b[38;5;28;01mreturn\u001b[39;00m \u001b[38;5;28;43mself\u001b[39;49m\u001b[38;5;241;43m.\u001b[39;49m\u001b[43msolve_adversary\u001b[49m\u001b[43m(\u001b[49m\u001b[38;5;28;43;01mlambda\u001b[39;49;00m\u001b[43m \u001b[49m\u001b[43mguess\u001b[49m\u001b[43m:\u001b[49m\u001b[43m \u001b[49m\u001b[43mscore_guess\u001b[49m\u001b[43m(\u001b[49m\u001b[38;5;28;43mstr\u001b[39;49m\u001b[43m(\u001b[49m\u001b[43mguess\u001b[49m\u001b[43m)\u001b[49m\u001b[43m,\u001b[49m\u001b[43m \u001b[49m\u001b[38;5;28;43mstr\u001b[39;49m\u001b[43m(\u001b[49m\u001b[43manswer\u001b[49m\u001b[43m)\u001b[49m\u001b[43m)\u001b[49m\u001b[43m,\u001b[49m\n\u001b[1;32m    193\u001b[0m \u001b[43m                                \u001b[49m\u001b[43mmax_guesses\u001b[49m\u001b[38;5;241;43m=\u001b[39;49m\u001b[43mmax_guesses\u001b[49m\u001b[43m,\u001b[49m\u001b[43m \u001b[49m\u001b[43minitial_guess\u001b[49m\u001b[38;5;241;43m=\u001b[39;49m\u001b[43minitial_guess\u001b[49m\u001b[43m,\u001b[49m\u001b[43m \u001b[49m\u001b[43mdebug\u001b[49m\u001b[38;5;241;43m=\u001b[39;49m\u001b[43mdebug\u001b[49m\u001b[43m)\u001b[49m\n",
      "File \u001b[0;32m~/oren/nerdle-solver/nerdle.py:214\u001b[0m, in \u001b[0;36mNerdleSolver.solve_adversary\u001b[0;34m(self, hint_generator, max_guesses, initial_guess, debug)\u001b[0m\n\u001b[1;32m    212\u001b[0m \u001b[38;5;28;01mif\u001b[39;00m score \u001b[38;5;241m==\u001b[39m \u001b[38;5;28mself\u001b[39m\u001b[38;5;241m.\u001b[39m_all_correct:\n\u001b[1;32m    213\u001b[0m     \u001b[38;5;28;01mreturn\u001b[39;00m guess_history, hint_history, answer_size_history\n\u001b[0;32m--> 214\u001b[0m guess_key \u001b[38;5;241m=\u001b[39m \u001b[38;5;28;43mself\u001b[39;49m\u001b[38;5;241;43m.\u001b[39;49m\u001b[43mmake_guess\u001b[49m\u001b[43m(\u001b[49m\u001b[43mguess_key\u001b[49m\u001b[43m,\u001b[49m\u001b[43m \u001b[49m\u001b[43mscore\u001b[49m\u001b[43m)\u001b[49m\n\u001b[1;32m    215\u001b[0m guess \u001b[38;5;241m=\u001b[39m \u001b[38;5;28mself\u001b[39m\u001b[38;5;241m.\u001b[39m_data\u001b[38;5;241m.\u001b[39mvalue(guess_key)\n\u001b[1;32m    216\u001b[0m \u001b[38;5;28;01mif\u001b[39;00m debug:\n",
      "File \u001b[0;32m~/oren/nerdle-solver/nerdle.py:239\u001b[0m, in \u001b[0;36mNerdleSolver.make_guess\u001b[0;34m(self, guess, score)\u001b[0m\n\u001b[1;32m    233\u001b[0m     \u001b[38;5;28;01mreturn\u001b[39;00m \u001b[38;5;28;01mNone\u001b[39;00m\n\u001b[1;32m    234\u001b[0m \u001b[38;5;66;03m# Make the next guess.\u001b[39;00m\n\u001b[1;32m    235\u001b[0m \u001b[38;5;66;03m# - Find how often a score appears in scores_by_answer_dict, get max (worst case).\u001b[39;00m\n\u001b[1;32m    236\u001b[0m \u001b[38;5;66;03m# Sort by score, then by guess possibility (prefer possible guesses over impossible ones.), get min (best case).\u001b[39;00m\n\u001b[1;32m    237\u001b[0m \u001b[38;5;66;03m# TODO: a possible improvement is to weight the counts by bigram conditional probabilities (how likely a\u001b[39;00m\n\u001b[1;32m    238\u001b[0m \u001b[38;5;66;03m#  character is to appear after another in the current answer set).\u001b[39;00m\n\u001b[0;32m--> 239\u001b[0m \u001b[38;5;28;01mreturn\u001b[39;00m \u001b[38;5;28;43mmin\u001b[39;49m\u001b[43m(\u001b[49m\n\u001b[1;32m    240\u001b[0m \u001b[43m    \u001b[49m\u001b[43m(\u001b[49m\u001b[38;5;28;43mmax\u001b[39;49m\u001b[43m(\u001b[49m\u001b[43mcollections\u001b[49m\u001b[38;5;241;43m.\u001b[39;49m\u001b[43mCounter\u001b[49m\u001b[43m(\u001b[49m\u001b[38;5;28;43mself\u001b[39;49m\u001b[38;5;241;43m.\u001b[39;49m\u001b[43m_data\u001b[49m\u001b[38;5;241;43m.\u001b[39;49m\u001b[43mscore_values\u001b[49m\u001b[43m(\u001b[49m\u001b[38;5;28;43mself\u001b[39;49m\u001b[38;5;241;43m.\u001b[39;49m\u001b[43m_score_db\u001b[49m\u001b[43m[\u001b[49m\u001b[43mguess_key\u001b[49m\u001b[43m]\u001b[49m\u001b[43m)\u001b[49m\u001b[43m)\u001b[49m\u001b[38;5;241;43m.\u001b[39;49m\u001b[43mvalues\u001b[49m\u001b[43m(\u001b[49m\u001b[43m)\u001b[49m\u001b[43m)\u001b[49m\u001b[43m,\u001b[49m\n\u001b[1;32m    241\u001b[0m \u001b[43m     \u001b[49m\u001b[43mguess_key\u001b[49m\u001b[43m \u001b[49m\u001b[38;5;129;43;01mnot\u001b[39;49;00m\u001b[43m \u001b[49m\u001b[38;5;129;43;01min\u001b[39;49;00m\u001b[43m \u001b[49m\u001b[38;5;28;43mself\u001b[39;49m\u001b[38;5;241;43m.\u001b[39;49m\u001b[43m_answer_keys\u001b[49m\u001b[43m,\u001b[49m\n\u001b[1;32m    242\u001b[0m \u001b[43m     \u001b[49m\u001b[43mguess_key\u001b[49m\u001b[43m)\u001b[49m\n\u001b[1;32m    243\u001b[0m \u001b[43m    \u001b[49m\u001b[38;5;28;43;01mfor\u001b[39;49;00m\u001b[43m \u001b[49m\u001b[43mguess_key\u001b[49m\u001b[43m \u001b[49m\u001b[38;5;129;43;01min\u001b[39;49;00m\u001b[43m \u001b[49m\u001b[38;5;28;43mself\u001b[39;49m\u001b[38;5;241;43m.\u001b[39;49m\u001b[43m_all_keys\u001b[49m\n\u001b[1;32m    244\u001b[0m \u001b[43m\u001b[49m\u001b[43m)\u001b[49m[\u001b[38;5;241m-\u001b[39m\u001b[38;5;241m1\u001b[39m]\n",
      "File \u001b[0;32m~/oren/nerdle-solver/nerdle.py:240\u001b[0m, in \u001b[0;36m<genexpr>\u001b[0;34m(.0)\u001b[0m\n\u001b[1;32m    233\u001b[0m     \u001b[38;5;28;01mreturn\u001b[39;00m \u001b[38;5;28;01mNone\u001b[39;00m\n\u001b[1;32m    234\u001b[0m \u001b[38;5;66;03m# Make the next guess.\u001b[39;00m\n\u001b[1;32m    235\u001b[0m \u001b[38;5;66;03m# - Find how often a score appears in scores_by_answer_dict, get max (worst case).\u001b[39;00m\n\u001b[1;32m    236\u001b[0m \u001b[38;5;66;03m# Sort by score, then by guess possibility (prefer possible guesses over impossible ones.), get min (best case).\u001b[39;00m\n\u001b[1;32m    237\u001b[0m \u001b[38;5;66;03m# TODO: a possible improvement is to weight the counts by bigram conditional probabilities (how likely a\u001b[39;00m\n\u001b[1;32m    238\u001b[0m \u001b[38;5;66;03m#  character is to appear after another in the current answer set).\u001b[39;00m\n\u001b[1;32m    239\u001b[0m \u001b[38;5;28;01mreturn\u001b[39;00m \u001b[38;5;28mmin\u001b[39m(\n\u001b[0;32m--> 240\u001b[0m     (\u001b[38;5;28mmax\u001b[39m(\u001b[43mcollections\u001b[49m\u001b[38;5;241;43m.\u001b[39;49m\u001b[43mCounter\u001b[49m\u001b[43m(\u001b[49m\u001b[38;5;28;43mself\u001b[39;49m\u001b[38;5;241;43m.\u001b[39;49m\u001b[43m_data\u001b[49m\u001b[38;5;241;43m.\u001b[39;49m\u001b[43mscore_values\u001b[49m\u001b[43m(\u001b[49m\u001b[38;5;28;43mself\u001b[39;49m\u001b[38;5;241;43m.\u001b[39;49m\u001b[43m_score_db\u001b[49m\u001b[43m[\u001b[49m\u001b[43mguess_key\u001b[49m\u001b[43m]\u001b[49m\u001b[43m)\u001b[49m\u001b[43m)\u001b[49m\u001b[38;5;241;43m.\u001b[39;49m\u001b[43mvalues\u001b[49m\u001b[43m(\u001b[49m\u001b[43m)\u001b[49m),\n\u001b[1;32m    241\u001b[0m      guess_key \u001b[38;5;129;01mnot\u001b[39;00m \u001b[38;5;129;01min\u001b[39;00m \u001b[38;5;28mself\u001b[39m\u001b[38;5;241m.\u001b[39m_answer_keys,\n\u001b[1;32m    242\u001b[0m      guess_key)\n\u001b[1;32m    243\u001b[0m     \u001b[38;5;28;01mfor\u001b[39;00m guess_key \u001b[38;5;129;01min\u001b[39;00m \u001b[38;5;28mself\u001b[39m\u001b[38;5;241m.\u001b[39m_all_keys\n\u001b[1;32m    244\u001b[0m )[\u001b[38;5;241m-\u001b[39m\u001b[38;5;241m1\u001b[39m]\n",
      "\u001b[0;31mKeyboardInterrupt\u001b[0m: "
     ]
    }
   ],
   "source": [
    "start = \"9*8-7=65\"\n",
    "solutions = [nerdle.NerdleSolver(solver_data).solve(answer, initial_guess=start) \n",
    "             for answer in solver_data.answers]               \n",
    "n = np.array([len(solution[0]) for solution in solutions])\n",
    "num_answers = len(solver_data.answers)\n",
    "compression_ratio = num_answers / np.array([solution[2][0] for solution in solutions])\n",
    "print(np.mean(compression_ratio), np.std(compression_ratio))\n",
    "\n",
    "fig, axs = plt.subplots(1, 2, figsize=(10, 4))\n",
    "\n",
    "ax = axs[0]\n",
    "ax.hist(n);\n",
    "ax.set_title(\"#Guesses for start {}\".format(start));\n",
    "\n",
    "ax = axs[1]\n",
    "ax.hist(compression_ratio);\n",
    "ax.set_title(\"Compression Ratio Distribution, start {}\".format(start));"
   ]
  },
  {
   "cell_type": "code",
   "execution_count": null,
   "id": "505da5d9-5055-496d-bb91-32d1c3fafe5e",
   "metadata": {},
   "outputs": [],
   "source": []
  }
 ],
 "metadata": {
  "kernelspec": {
   "display_name": "Python 3 (ipykernel)",
   "language": "python",
   "name": "python3"
  },
  "language_info": {
   "codemirror_mode": {
    "name": "ipython",
    "version": 3
   },
   "file_extension": ".py",
   "mimetype": "text/x-python",
   "name": "python",
   "nbconvert_exporter": "python",
   "pygments_lexer": "ipython3",
   "version": "3.10.6"
  }
 },
 "nbformat": 4,
 "nbformat_minor": 5
}
