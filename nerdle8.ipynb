{
 "cells": [
  {
   "cell_type": "markdown",
   "id": "50efce8c-517b-47ca-9d81-70d88cdb5a5c",
   "metadata": {},
   "source": [
    "# 8-Slot Full Nerdle Solver Test\n",
    "This is a much larger problem, so we don't optimize the initial guess and use instead the heuristic of having many different symbols. We stick to `9*8-7=65`which needs at most $X$ guesses and $X \\pm X$ guesses."
   ]
  },
  {
   "cell_type": "code",
   "execution_count": 1,
   "id": "1ce14177-17d6-4ba1-bdd4-74ae65e07847",
   "metadata": {},
   "outputs": [],
   "source": [
    "%load_ext autoreload\n",
    "%autoreload 2\n",
    "\n",
    "import collections\n",
    "import io\n",
    "import itertools\n",
    "import numpy as np\n",
    "import matplotlib.pyplot as plt\n",
    "import sys\n",
    "\n",
    "import nerdle\n",
    "import score as s\n",
    "import generator\n",
    "from nerdle import Hint, NerdleData"
   ]
  },
  {
   "cell_type": "code",
   "execution_count": 2,
   "id": "3e772c55-2cd9-4034-9a40-da234e49e783",
   "metadata": {},
   "outputs": [
    {
     "name": "stdout",
     "output_type": "stream",
     "text": [
      "CPU times: user 9.54 ms, sys: 1.64 s, total: 1.65 s\n",
      "Wall time: 2.15 s\n"
     ]
    }
   ],
   "source": [
    "# Mini-Nerdle.\n",
    "NUM_SLOTS = 8\n",
    "SCORE_DB_FILE = \"db/nerdle{}.db\".format(NUM_SLOTS) \n",
    "\n",
    "%time solver_data = nerdle.create_solver_data(NUM_SLOTS, SCORE_DB_FILE)"
   ]
  },
  {
   "cell_type": "code",
   "execution_count": 3,
   "id": "3afd369f-ec7b-4851-a58c-fcb9c0392625",
   "metadata": {},
   "outputs": [
    {
     "data": {
      "text/plain": [
       "(17723, 17723)"
      ]
     },
     "execution_count": 3,
     "metadata": {},
     "output_type": "execute_result"
    }
   ],
   "source": [
    "d = solver_data.score_db\n",
    "d.shape"
   ]
  },
  {
   "cell_type": "markdown",
   "id": "49778b3a-6809-4c49-8926-5b625833606c",
   "metadata": {},
   "source": [
    "## Example Usage"
   ]
  },
  {
   "cell_type": "code",
   "execution_count": 4,
   "id": "dc1fb9d8-2907-4eb3-8139-1fe65b874e17",
   "metadata": {},
   "outputs": [],
   "source": [
    "# score = nerdle.score_guess(\"10-43=66\", \"12+34=56\")\n",
    "# print(score, \n",
    "#       s.score_to_hint_string(score, NUM_SLOTS),\n",
    "#       s.score_to_hints(score, NUM_SLOTS) == [Hint.CORRECT, Hint.ABSENT, Hint.ABSENT, Hint.PRESENT,\n",
    "#                                Hint.PRESENT, Hint.CORRECT, Hint.ABSENT, Hint.CORRECT]\n",
    "#      )"
   ]
  },
  {
   "cell_type": "code",
   "execution_count": 5,
   "id": "07bb9112-773b-4de4-a876-bee818b125da",
   "metadata": {},
   "outputs": [
    {
     "name": "stdout",
     "output_type": "stream",
     "text": [
      "--> guess 9*8-7=65 guesses_left 5\n",
      "score ----?+?? 42496\n",
      "answers 71\n",
      "--> guess 11+46=57 guesses_left 4\n",
      "score ?-?-++?+ 25890\n",
      "answers 2\n",
      "--> guess 5+6+6=17 guesses_left 3\n",
      "score ++++++++ 21845\n"
     ]
    }
   ],
   "source": [
    "# A good initial guess significantly reduces the number of answers. In this case, from\n",
    "# 206 to 10.\n",
    "solver = nerdle.NerdleSolver(solver_data)\n",
    "guess_history, hint_history, answer_size_history = solver.solve(\"5+6+6=17\", initial_guess= \"9*8-7=65\", debug=True)"
   ]
  },
  {
   "cell_type": "code",
   "execution_count": 6,
   "id": "d773045c-c04c-4fcb-b5d3-857b70c64753",
   "metadata": {},
   "outputs": [
    {
     "name": "stdout",
     "output_type": "stream",
     "text": [
      "--> guess 9*8-7=65 guesses_left 5\n",
      "score -----++? 37888\n",
      "answers 70\n",
      "--> guess 11+23=34 guesses_left 4\n",
      "score +-+?-+-- 1169\n",
      "answers 2\n",
      "--> guess 10+52=62 guesses_left 3\n",
      "score ++++++++ 21845\n",
      "CPU times: user 554 ms, sys: 48.9 ms, total: 603 ms\n",
      "Wall time: 607 ms\n"
     ]
    }
   ],
   "source": [
    "# Nerdle of September 14, 2022.\n",
    "# A good initial guess significantly reduces the number of answers. In this case, from 20177236 to 70.\n",
    "solver = nerdle.NerdleSolver(solver_data)\n",
    "#hint_generator = s.FileHintGenerator(sys.stdin)\n",
    "hints = [\n",
    "    \"-----++?\", \n",
    "    \"+-+?-+--\",\n",
    "    \"++++++++\",\n",
    "]\n",
    "hint_generator = s.FileHintGenerator(io.StringIO(\"\\n\".join(hints)))\n",
    "%time guess_history, hint_history, answer_size_history = solver.solve_adversary(hint_generator.__call__, initial_guess= \"9*8-7=65\", debug=True)"
   ]
  },
  {
   "cell_type": "markdown",
   "id": "8b76723e-dedc-49a8-8287-ad95fc3ac621",
   "metadata": {},
   "source": [
    "## Benchmark\n",
    "This is a fast in-memory dict implementation."
   ]
  },
  {
   "cell_type": "code",
   "execution_count": 7,
   "id": "6179500f-b2fd-4115-8d22-1f41f3edae0d",
   "metadata": {},
   "outputs": [
    {
     "name": "stdout",
     "output_type": "stream",
     "text": [
      "CPU times: user 514 ms, sys: 1.49 ms, total: 515 ms\n",
      "Wall time: 515 ms\n"
     ]
    }
   ],
   "source": [
    "# Nerdle of September 14, 2022.\n",
    "solver = nerdle.NerdleSolver(solver_data)\n",
    "%time guess_history, hint_history, answer_size_history = solver.solve(\"10+52=62\", initial_guess=\"9*8-7=65\")"
   ]
  },
  {
   "cell_type": "markdown",
   "id": "7f5156fa-001e-4a9a-8969-b1a8038c6438",
   "metadata": {},
   "source": [
    "## Optimal Initial Guess\n",
    "After taking a look at https://github.com/starypatyk/nerdle-solver, I realized that there's no need to solve for all possible answers to get a good, if not optimal, initial guess. We just find the guess that minimizes the maximum answer bucket size, just like during the solution process.\n",
    "\n",
    "In fact, once we know the initial guess, we could run it for all possible answers to evaluate its performance. (Can we calculate the distribution of #guesses in advance without doing that?) Note that we can memoize the solutions as we go (dynamic programming).\n",
    "\n",
    "and build a lookup table of guesses vs. hints, and just use this static table; although recalculation takes just 0.5 seconds now, anyway, so there's no need to do that."
   ]
  },
  {
   "cell_type": "code",
   "execution_count": 11,
   "id": "8d6a4be1-cf52-408f-bf50-854f76032b0e",
   "metadata": {},
   "outputs": [
    {
     "ename": "IndexError",
     "evalue": "Replacement index 1 out of range for positional args tuple",
     "output_type": "error",
     "traceback": [
      "\u001b[0;31m---------------------------------------------------------------------------\u001b[0m",
      "\u001b[0;31mIndexError\u001b[0m                                Traceback (most recent call last)",
      "Cell \u001b[0;32mIn [11], line 5\u001b[0m\n\u001b[1;32m      3\u001b[0m v_opt, k_opt \u001b[38;5;241m=\u001b[39m \u001b[38;5;28mmin\u001b[39m((v[k], k) \u001b[38;5;28;01mfor\u001b[39;00m k \u001b[38;5;129;01min\u001b[39;00m \u001b[38;5;28mrange\u001b[39m(d\u001b[38;5;241m.\u001b[39mshape[\u001b[38;5;241m0\u001b[39m]))\n\u001b[1;32m      4\u001b[0m start \u001b[38;5;241m=\u001b[39m solver_data\u001b[38;5;241m.\u001b[39manswers[k_opt]\n\u001b[0;32m----> 5\u001b[0m \u001b[38;5;28mprint\u001b[39m(\u001b[38;5;124;43m\"\u001b[39;49m\u001b[38;5;124;43m#answers in largest bucket \u001b[39;49m\u001b[38;5;132;43;01m{}\u001b[39;49;00m\u001b[38;5;124;43m start \u001b[39;49m\u001b[38;5;132;43;01m{}\u001b[39;49;00m\u001b[38;5;124;43m\"\u001b[39;49m\u001b[38;5;241;43m.\u001b[39;49m\u001b[43mformat\u001b[49m\u001b[43m(\u001b[49m\u001b[43mstart\u001b[49m\u001b[43m)\u001b[49m)\n",
      "\u001b[0;31mIndexError\u001b[0m: Replacement index 1 out of range for positional args tuple"
     ]
    }
   ],
   "source": [
    "d = solver_data.score_db\n",
    "%time v = np.array([max(collections.Counter(d[k]).values()) for k in range(d.shape[0])])\n",
    "v_opt, k_opt = min((v[k], k) for k in range(d.shape[0]))\n",
    "start = solver_data.answers[k_opt]\n",
    "print(\"#answers in largest bucket {} start {}\".format(v_opt, start))"
   ]
  },
  {
   "cell_type": "code",
   "execution_count": 17,
   "id": "50e774eb-1ad1-42f7-acb9-ab47e1631184",
   "metadata": {},
   "outputs": [
    {
     "data": {
      "image/png": "[encoded data removed]",
      "text/plain": [
       "<Figure size 640x480 with 1 Axes>"
      ]
     },
     "metadata": {},
     "output_type": "display_data"
    }
   ],
   "source": [
    "plt.hist(v, 200)\n",
    "plt.title(\"Distribution of Largest Bucket Size Over Starts\");"
   ]
  },
  {
   "cell_type": "code",
   "execution_count": 21,
   "id": "ca894ec7-2eca-49db-88e8-237b160c5f5f",
   "metadata": {},
   "outputs": [
    {
     "data": {
      "text/plain": [
       "(443.0653952491113, 270.4826103028963, 365.0, 101, 3590)"
      ]
     },
     "execution_count": 21,
     "metadata": {},
     "output_type": "execute_result"
    }
   ],
   "source": [
    "v.mean(), v.std(), np.median(v), v.min(), v.max()"
   ]
  },
  {
   "cell_type": "code",
   "execution_count": 24,
   "id": "a69bc37f-3473-4aec-8dac-91393e19ed4f",
   "metadata": {},
   "outputs": [
    {
     "name": "stdout",
     "output_type": "stream",
     "text": [
      "Best initial guess 58-46=12\n",
      "Worst initial guess 8*86=688\n"
     ]
    }
   ],
   "source": [
    "print(\"Best initial guess {}\".format(solver_data.answers[v.argmin()]))\n",
    "print(\"Worst initial guess {}\".format(solver_data.answers[v.argmax()]))"
   ]
  },
  {
   "cell_type": "code",
   "execution_count": 8,
   "id": "1175cfca-137b-4755-a29c-2c5964fe8b89",
   "metadata": {},
   "outputs": [
    {
     "name": "stderr",
     "output_type": "stream",
     "text": [
      "\n",
      "KeyboardInterrupt\n",
      "\n"
     ]
    }
   ],
   "source": [
    "solutions = [nerdle.NerdleSolver(solver_data).solve(answer, initial_guess=start) \n",
    "             for answer in solver_data.answers]               \n",
    "n = np.array([len(solution[0]) for solution in solutions])\n",
    "num_answers = len(solver_data.answers)\n",
    "compression_ratio = num_answers / np.array([solution[2][0] for solution in solutions])\n",
    "print(np.mean(compression_ratio), np.std(compression_ratio))\n",
    "\n",
    "fig, axs = plt.subplots(1, 2, figsize=(10, 4))\n",
    "\n",
    "ax = axs[0]\n",
    "ax.hist(n);\n",
    "ax.set_title(\"#Guesses for start {}\".format(start));\n",
    "\n",
    "ax = axs[1]\n",
    "ax.hist(compression_ratio);\n",
    "ax.set_title(\"Compression Ratio Distribution, start {}\".format(start));"
   ]
  },
  {
   "cell_type": "code",
   "execution_count": null,
   "id": "505da5d9-5055-496d-bb91-32d1c3fafe5e",
   "metadata": {},
   "outputs": [],
   "source": []
  }
 ],
 "metadata": {
  "kernelspec": {
   "display_name": "Python 3 (ipykernel)",
   "language": "python",
   "name": "python3"
  },
  "language_info": {
   "codemirror_mode": {
    "name": "ipython",
    "version": 3
   },
   "file_extension": ".py",
   "mimetype": "text/x-python",
   "name": "python",
   "nbconvert_exporter": "python",
   "pygments_lexer": "ipython3",
   "version": "3.10.6"
  }
 },
 "nbformat": 4,
 "nbformat_minor": 5
}
