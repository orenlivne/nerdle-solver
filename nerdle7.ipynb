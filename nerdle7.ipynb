{
 "cells": [
  {
   "cell_type": "markdown",
   "id": "50efce8c-517b-47ca-9d81-70d88cdb5a5c",
   "metadata": {},
   "source": [
    "# Nerdle Solver Test\n",
    "This has a much larger answer space than mini nerdle ($17723$ vs $206$). We use shelve storage for the solver data."
   ]
  },
  {
   "cell_type": "code",
   "execution_count": 63,
   "id": "1ce14177-17d6-4ba1-bdd4-74ae65e07847",
   "metadata": {},
   "outputs": [
    {
     "name": "stdout",
     "output_type": "stream",
     "text": [
      "The autoreload extension is already loaded. To reload it, use:\n",
      "  %reload_ext autoreload\n"
     ]
    }
   ],
   "source": [
    "%load_ext autoreload\n",
    "%autoreload 2\n",
    "\n",
    "import collections\n",
    "import itertools\n",
    "import numpy as np\n",
    "import matplotlib.pyplot as plt\n",
    "\n",
    "import nerdle\n",
    "import score as s\n",
    "import generator\n",
    "from score import Hint\n",
    "from nerdle import NerdleData"
   ]
  },
  {
   "cell_type": "code",
   "execution_count": null,
   "id": "3e772c55-2cd9-4034-9a40-da234e49e783",
   "metadata": {},
   "outputs": [
    {
     "name": "stdout",
     "output_type": "stream",
     "text": [
      "0 / 6661 (0.0%) completed\n",
      "100 / 6661 (1.5%) completed\n",
      "200 / 6661 (3.0%) completed\n",
      "300 / 6661 (4.5%) completed\n",
      "400 / 6661 (6.0%) completed\n",
      "500 / 6661 (7.5%) completed\n",
      "600 / 6661 (9.0%) completed\n",
      "700 / 6661 (10.5%) completed\n",
      "800 / 6661 (12.0%) completed\n",
      "900 / 6661 (13.5%) completed\n",
      "1000 / 6661 (15.0%) completed\n",
      "1100 / 6661 (16.5%) completed\n",
      "1200 / 6661 (18.0%) completed\n",
      "1300 / 6661 (19.5%) completed\n",
      "1400 / 6661 (21.0%) completed\n",
      "1500 / 6661 (22.5%) completed\n",
      "1600 / 6661 (24.0%) completed\n",
      "1700 / 6661 (25.5%) completed\n",
      "1800 / 6661 (27.0%) completed\n",
      "1900 / 6661 (28.5%) completed\n",
      "2000 / 6661 (30.0%) completed\n",
      "2100 / 6661 (31.5%) completed\n",
      "2200 / 6661 (33.0%) completed\n",
      "2300 / 6661 (34.5%) completed\n",
      "2400 / 6661 (36.0%) completed\n",
      "2500 / 6661 (37.5%) completed\n",
      "2600 / 6661 (39.0%) completed\n",
      "2700 / 6661 (40.5%) completed\n",
      "2800 / 6661 (42.0%) completed\n",
      "2900 / 6661 (43.5%) completed\n",
      "3000 / 6661 (45.0%) completed\n",
      "3100 / 6661 (46.5%) completed\n",
      "3200 / 6661 (48.0%) completed\n",
      "3300 / 6661 (49.5%) completed\n",
      "3400 / 6661 (51.0%) completed\n",
      "3500 / 6661 (52.5%) completed\n",
      "3600 / 6661 (54.0%) completed\n",
      "3700 / 6661 (55.5%) completed\n",
      "3800 / 6661 (57.0%) completed\n",
      "3900 / 6661 (58.5%) completed\n",
      "4000 / 6661 (60.1%) completed\n",
      "4100 / 6661 (61.6%) completed\n",
      "4200 / 6661 (63.1%) completed\n",
      "4300 / 6661 (64.6%) completed\n",
      "4400 / 6661 (66.1%) completed\n",
      "4500 / 6661 (67.6%) completed\n",
      "4600 / 6661 (69.1%) completed\n",
      "4700 / 6661 (70.6%) completed\n",
      "4800 / 6661 (72.1%) completed\n",
      "4900 / 6661 (73.6%) completed\n",
      "5000 / 6661 (75.1%) completed\n",
      "5100 / 6661 (76.6%) completed\n",
      "5200 / 6661 (78.1%) completed\n",
      "5300 / 6661 (79.6%) completed\n",
      "5400 / 6661 (81.1%) completed\n",
      "5500 / 6661 (82.6%) completed\n",
      "5600 / 6661 (84.1%) completed\n",
      "5700 / 6661 (85.6%) completed\n",
      "5800 / 6661 (87.1%) completed\n",
      "5900 / 6661 (88.6%) completed\n",
      "6000 / 6661 (90.1%) completed\n",
      "6100 / 6661 (91.6%) completed\n",
      "6200 / 6661 (93.1%) completed\n",
      "6300 / 6661 (94.6%) completed\n"
     ]
    }
   ],
   "source": [
    "# Mini-Nerdle.\n",
    "NUM_SLOTS = 7\n",
    "SCORE_DICT_FILE = \"nerdle\"\n",
    "\n",
    "solver_data = nerdle.create_solver_data(NUM_SLOTS, SCORE_DICT_FILE)\n",
    "solver_data.open()"
   ]
  },
  {
   "cell_type": "code",
   "execution_count": 26,
   "id": "dc1fb9d8-2907-4eb3-8139-1fe65b874e17",
   "metadata": {},
   "outputs": [
    {
     "name": "stdout",
     "output_type": "stream",
     "text": [
      "10240\n",
      "-----?? True\n"
     ]
    }
   ],
   "source": [
    "score = nerdle.score_guess(\"45-36=9\", \"99/9=11\")\n",
    "print(score)\n",
    "print(\n",
    "      s.score_to_hint_string(score, NUM_SLOTS),\n",
    "      s.score_to_hints(score, NUM_SLOTS) == [\n",
    "    Hint.INCORRECT, Hint.INCORRECT, Hint.INCORRECT, Hint.INCORRECT,\n",
    "    Hint.INCORRECT, Hint.MISPLACED, Hint.MISPLACED]\n",
    ")"
   ]
  },
  {
   "cell_type": "code",
   "execution_count": null,
   "id": "8ea17f23-d0ab-4c7f-a417-eaad752b44b6",
   "metadata": {},
   "outputs": [],
   "source": []
  }
 ],
 "metadata": {
  "kernelspec": {
   "display_name": "Python 3 (ipykernel)",
   "language": "python",
   "name": "python3"
  },
  "language_info": {
   "codemirror_mode": {
    "name": "ipython",
    "version": 3
   },
   "file_extension": ".py",
   "mimetype": "text/x-python",
   "name": "python",
   "nbconvert_exporter": "python",
   "pygments_lexer": "ipython3",
   "version": "3.10.6"
  }
 },
 "nbformat": 4,
 "nbformat_minor": 5
}
