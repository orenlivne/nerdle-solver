{
 "cells": [
  {
   "cell_type": "markdown",
   "id": "50efce8c-517b-47ca-9d81-70d88cdb5a5c",
   "metadata": {},
   "source": [
    "# 7-Slot Nerdle Solver Test\n",
    "We prove (by brute-force) that you can always solve mini-Nerdle in at most $4$ guesses regardless of the starting expression, provided you use the optimal strategy. The worst start having repeating numbers and thus less information, e.g. `10-5=5`. The best start has all different numbers: `28/7=4`, which needs at most $3$ guesses and $2.65 \\pm 0.5$ guesses."
   ]
  },
  {
   "cell_type": "code",
   "execution_count": 2,
   "id": "1ce14177-17d6-4ba1-bdd4-74ae65e07847",
   "metadata": {},
   "outputs": [],
   "source": [
    "%load_ext autoreload\n",
    "%autoreload 2\n",
    "\n",
    "import collections\n",
    "import itertools\n",
    "import numpy as np\n",
    "import matplotlib.pyplot as plt\n",
    "\n",
    "import nerdle\n",
    "import score as s\n",
    "import generator\n",
    "from nerdle import Hint, NerdleData"
   ]
  },
  {
   "cell_type": "code",
   "execution_count": 27,
   "id": "3e772c55-2cd9-4034-9a40-da234e49e783",
   "metadata": {},
   "outputs": [],
   "source": [
    "# Mini-Nerdle.\n",
    "NUM_SLOTS = 7\n",
    "SCORE_DB_FILE = \"nerdle{}.db\".format(NUM_SLOTS) \n",
    "\n",
    "solver_data = nerdle.create_solver_data(NUM_SLOTS, SCORE_DB_FILE)"
   ]
  },
  {
   "cell_type": "code",
   "execution_count": 23,
   "id": "3afd369f-ec7b-4851-a58c-fcb9c0392625",
   "metadata": {},
   "outputs": [
    {
     "name": "stdout",
     "output_type": "stream",
     "text": [
      "6661 6661\n",
      "98-4=94 9=8 6661\n",
      "7-8+7=6 7=- 6661\n",
      "75-3=72 7=5 6661\n",
      "8-2*1=6 8=- 6661\n",
      "51+5=56 5=1 6661\n",
      "83-2=81 8=3 6661\n",
      "23-20=3 2=3 6661\n",
      "68/1=68 6=8 6661\n",
      "9+5-9=5 9=+ 6661\n",
      "94/47=2 9=4 6661\n"
     ]
    }
   ],
   "source": [
    "d = solver_data.score_db\n",
    "print(len(d), len(solver_data.answers))\n",
    "for key in list(d.keys())[:10]:\n",
    "    print(key, \"\".join(map(str, key[0])) + \"=\" + str(key[1]), len(d[key]))"
   ]
  },
  {
   "cell_type": "markdown",
   "id": "49778b3a-6809-4c49-8926-5b625833606c",
   "metadata": {},
   "source": [
    "## Example Usage"
   ]
  },
  {
   "cell_type": "code",
   "execution_count": 24,
   "id": "dc1fb9d8-2907-4eb3-8139-1fe65b874e17",
   "metadata": {},
   "outputs": [
    {
     "name": "stdout",
     "output_type": "stream",
     "text": [
      "2082 ?-?--?- True\n"
     ]
    }
   ],
   "source": [
    "score = nerdle.score_guess(\"1*1*6=6\", \"99/9=11\")\n",
    "print(score, \n",
    "      s.score_to_hint_string(score, NUM_SLOTS),\n",
    "      s.score_to_hints(score, NUM_SLOTS) == [Hint.MISPLACED, Hint.INCORRECT, Hint.MISPLACED, Hint.INCORRECT, Hint.INCORRECT, Hint.MISPLACED, Hint.INCORRECT]\n",
    "     )"
   ]
  },
  {
   "cell_type": "code",
   "execution_count": 25,
   "id": "07bb9112-773b-4de4-a876-bee818b125da",
   "metadata": {},
   "outputs": [
    {
     "name": "stdout",
     "output_type": "stream",
     "text": [
      "--> guess 1+6-7=0\n",
      "score ?----?- 2050 answers 128\n",
      "--> guess 2*19=38\n",
      "score --?++-- 352 answers 1\n",
      "--> guess 99/9=11\n",
      "score +++++++ 5461 answers 1\n"
     ]
    }
   ],
   "source": [
    "# A good initial guess significantly reduces the number of answers. In this case, from\n",
    "# 206 to 10.\n",
    "guess_history, hint_history, answer_size_history =  nerdle.NerdleSolver(solver_data).solve(\"99/9=11\", initial_guess= \"1+6-7=0\", debug=True)"
   ]
  },
  {
   "cell_type": "markdown",
   "id": "8b76723e-dedc-49a8-8287-ad95fc3ac621",
   "metadata": {},
   "source": [
    "## Benchmark\n",
    "This is a fast in-memory dict implementation."
   ]
  },
  {
   "cell_type": "code",
   "execution_count": 26,
   "id": "6179500f-b2fd-4115-8d22-1f41f3edae0d",
   "metadata": {},
   "outputs": [
    {
     "name": "stdout",
     "output_type": "stream",
     "text": [
      "CPU times: user 4.96 s, sys: 14.4 ms, total: 4.97 s\n",
      "Wall time: 4.98 s\n"
     ]
    }
   ],
   "source": [
    "%time guess_history, hint_history, answer_size_history = nerdle.NerdleSolver(solver_data).solve(\"99/9=11\", initial_guess=\"1+6-7=0\")"
   ]
  },
  {
   "cell_type": "code",
   "execution_count": null,
   "id": "f1298bec-fd16-46dd-8ddf-6571ee1c9c54",
   "metadata": {},
   "outputs": [],
   "source": [
    "answer = \"99/9=11\"\n",
    "solver = nerdle.NerdleSolver(solver_data)\n",
    "for start in list(solver_data.answers)[:5]:\n",
    "    print(start)\n",
    "    %time solver.solve(answer, initial_guess=start) "
   ]
  },
  {
   "cell_type": "markdown",
   "id": "7f5156fa-001e-4a9a-8969-b1a8038c6438",
   "metadata": {},
   "source": [
    "## Initial Guess Optimization\n",
    "Assuming something with a lot of different numbers and operators is best."
   ]
  },
  {
   "cell_type": "code",
   "execution_count": null,
   "id": "003cc0fe-b8fb-49c4-b950-b693f4f2af62",
   "metadata": {},
   "outputs": [],
   "source": [
    "# answer = \"99/9=11\"\n",
    "# solutions = [nerdle.NerdleSolver(solver_data).solve(answer, initial_guess=start) \n",
    "#              for start in solver_data.answers]\n",
    "# n = np.array([len(solution[0]) for solution in solutions])\n",
    "# num_answers = len(solver_data.answers)\n",
    "# compression_ratio = num_answers / np.array([solution[2][0] for solution in solutions])\n",
    "# print(np.mean(compression_ratio), np.std(compression_ratio))"
   ]
  },
  {
   "cell_type": "code",
   "execution_count": 17,
   "id": "1175cfca-137b-4755-a29c-2c5964fe8b89",
   "metadata": {},
   "outputs": [
    {
     "ename": "KeyboardInterrupt",
     "evalue": "",
     "output_type": "error",
     "traceback": [
      "\u001b[0;31m---------------------------------------------------------------------------\u001b[0m",
      "\u001b[0;31mKeyboardInterrupt\u001b[0m                         Traceback (most recent call last)",
      "Cell \u001b[0;32mIn [17], line 2\u001b[0m\n\u001b[1;32m      1\u001b[0m start \u001b[38;5;241m=\u001b[39m \u001b[38;5;124m\"\u001b[39m\u001b[38;5;124m1+6-7=0\u001b[39m\u001b[38;5;124m\"\u001b[39m\n\u001b[0;32m----> 2\u001b[0m solutions \u001b[38;5;241m=\u001b[39m [nerdle\u001b[38;5;241m.\u001b[39mNerdleSolver(solver_data)\u001b[38;5;241m.\u001b[39msolve(answer, initial_guess\u001b[38;5;241m=\u001b[39mstart) \n\u001b[1;32m      3\u001b[0m              \u001b[38;5;28;01mfor\u001b[39;00m answer \u001b[38;5;129;01min\u001b[39;00m solver_data\u001b[38;5;241m.\u001b[39manswers ]               \n\u001b[1;32m      4\u001b[0m n \u001b[38;5;241m=\u001b[39m np\u001b[38;5;241m.\u001b[39marray([\u001b[38;5;28mlen\u001b[39m(solution[\u001b[38;5;241m0\u001b[39m]) \u001b[38;5;28;01mfor\u001b[39;00m solution \u001b[38;5;129;01min\u001b[39;00m solutions])\n\u001b[1;32m      5\u001b[0m num_answers \u001b[38;5;241m=\u001b[39m \u001b[38;5;28mlen\u001b[39m(solver_data\u001b[38;5;241m.\u001b[39manswers)\n",
      "Cell \u001b[0;32mIn [17], line 2\u001b[0m, in \u001b[0;36m<listcomp>\u001b[0;34m(.0)\u001b[0m\n\u001b[1;32m      1\u001b[0m start \u001b[38;5;241m=\u001b[39m \u001b[38;5;124m\"\u001b[39m\u001b[38;5;124m1+6-7=0\u001b[39m\u001b[38;5;124m\"\u001b[39m\n\u001b[0;32m----> 2\u001b[0m solutions \u001b[38;5;241m=\u001b[39m [\u001b[43mnerdle\u001b[49m\u001b[38;5;241;43m.\u001b[39;49m\u001b[43mNerdleSolver\u001b[49m\u001b[43m(\u001b[49m\u001b[43msolver_data\u001b[49m\u001b[43m)\u001b[49m\u001b[38;5;241;43m.\u001b[39;49m\u001b[43msolve\u001b[49m\u001b[43m(\u001b[49m\u001b[43manswer\u001b[49m\u001b[43m,\u001b[49m\u001b[43m \u001b[49m\u001b[43minitial_guess\u001b[49m\u001b[38;5;241;43m=\u001b[39;49m\u001b[43mstart\u001b[49m\u001b[43m)\u001b[49m \n\u001b[1;32m      3\u001b[0m              \u001b[38;5;28;01mfor\u001b[39;00m answer \u001b[38;5;129;01min\u001b[39;00m solver_data\u001b[38;5;241m.\u001b[39manswers ]               \n\u001b[1;32m      4\u001b[0m n \u001b[38;5;241m=\u001b[39m np\u001b[38;5;241m.\u001b[39marray([\u001b[38;5;28mlen\u001b[39m(solution[\u001b[38;5;241m0\u001b[39m]) \u001b[38;5;28;01mfor\u001b[39;00m solution \u001b[38;5;129;01min\u001b[39;00m solutions])\n\u001b[1;32m      5\u001b[0m num_answers \u001b[38;5;241m=\u001b[39m \u001b[38;5;28mlen\u001b[39m(solver_data\u001b[38;5;241m.\u001b[39manswers)\n",
      "File \u001b[0;32m~/oren/nerdle-solver/nerdle.py:201\u001b[0m, in \u001b[0;36mNerdleSolver.solve\u001b[0;34m(self, answer, max_guesses, initial_guess, debug)\u001b[0m\n\u001b[1;32m    198\u001b[0m \u001b[38;5;28;01mif\u001b[39;00m score_db \u001b[38;5;129;01mis\u001b[39;00m \u001b[38;5;28;01mNone\u001b[39;00m:\n\u001b[1;32m    199\u001b[0m     \u001b[38;5;66;03m# First guess: fetch restricted dictionary using a query on data to create 'score_db'.\u001b[39;00m\n\u001b[1;32m    200\u001b[0m     answers \u001b[38;5;241m=\u001b[39m \u001b[38;5;28mself\u001b[39m\u001b[38;5;241m.\u001b[39m_data\u001b[38;5;241m.\u001b[39manswers_of_score(guess, answers, score)\n\u001b[0;32m--> 201\u001b[0m     score_db \u001b[38;5;241m=\u001b[39m \u001b[38;5;28;43mself\u001b[39;49m\u001b[38;5;241;43m.\u001b[39;49m\u001b[43m_data\u001b[49m\u001b[38;5;241;43m.\u001b[39;49m\u001b[43mrestrict_by_answers\u001b[49m\u001b[43m(\u001b[49m\u001b[43manswers\u001b[49m\u001b[43m)\u001b[49m\n\u001b[1;32m    202\u001b[0m \u001b[38;5;28;01melse\u001b[39;00m:\n\u001b[1;32m    203\u001b[0m     \u001b[38;5;66;03m# Subsequent guesses: simple query into the dictionary 'score_db' to make it smaller.\u001b[39;00m\n\u001b[1;32m    204\u001b[0m     answers \u001b[38;5;241m=\u001b[39m {a \u001b[38;5;28;01mfor\u001b[39;00m a \u001b[38;5;129;01min\u001b[39;00m answers \u001b[38;5;28;01mif\u001b[39;00m score_db[guess][a] \u001b[38;5;241m==\u001b[39m score}\n",
      "File \u001b[0;32m~/oren/nerdle-solver/nerdle.py:73\u001b[0m, in \u001b[0;36m_NerdleDataDict.restrict_by_answers\u001b[0;34m(self, answers)\u001b[0m\n\u001b[1;32m     72\u001b[0m \u001b[38;5;28;01mdef\u001b[39;00m \u001b[38;5;21mrestrict_by_answers\u001b[39m(\u001b[38;5;28mself\u001b[39m,  answers: Set[\u001b[38;5;28mstr\u001b[39m]) \u001b[38;5;241m-\u001b[39m\u001b[38;5;241m>\u001b[39m Dict[\u001b[38;5;28mstr\u001b[39m, Dict[\u001b[38;5;28mstr\u001b[39m, \u001b[38;5;28mint\u001b[39m]]:\n\u001b[0;32m---> 73\u001b[0m     \u001b[38;5;28;01mreturn\u001b[39;00m {\n\u001b[1;32m     74\u001b[0m         guess: \u001b[38;5;28mdict\u001b[39m((answer, score) \u001b[38;5;28;01mfor\u001b[39;00m answer, score \u001b[38;5;129;01min\u001b[39;00m scores_by_answer_dict\u001b[38;5;241m.\u001b[39mitems() \u001b[38;5;28;01mif\u001b[39;00m answer \u001b[38;5;129;01min\u001b[39;00m answers)\n\u001b[1;32m     75\u001b[0m         \u001b[38;5;28;01mfor\u001b[39;00m guess, scores_by_answer_dict \u001b[38;5;129;01min\u001b[39;00m \u001b[38;5;28mself\u001b[39m\u001b[38;5;241m.\u001b[39mscore_db\u001b[38;5;241m.\u001b[39mitems()\n\u001b[1;32m     76\u001b[0m     }\n",
      "File \u001b[0;32m~/oren/nerdle-solver/nerdle.py:74\u001b[0m, in \u001b[0;36m<dictcomp>\u001b[0;34m(.0)\u001b[0m\n\u001b[1;32m     72\u001b[0m \u001b[38;5;28;01mdef\u001b[39;00m \u001b[38;5;21mrestrict_by_answers\u001b[39m(\u001b[38;5;28mself\u001b[39m,  answers: Set[\u001b[38;5;28mstr\u001b[39m]) \u001b[38;5;241m-\u001b[39m\u001b[38;5;241m>\u001b[39m Dict[\u001b[38;5;28mstr\u001b[39m, Dict[\u001b[38;5;28mstr\u001b[39m, \u001b[38;5;28mint\u001b[39m]]:\n\u001b[1;32m     73\u001b[0m     \u001b[38;5;28;01mreturn\u001b[39;00m {\n\u001b[0;32m---> 74\u001b[0m         guess: \u001b[38;5;28;43mdict\u001b[39;49m\u001b[43m(\u001b[49m\u001b[43m(\u001b[49m\u001b[43manswer\u001b[49m\u001b[43m,\u001b[49m\u001b[43m \u001b[49m\u001b[43mscore\u001b[49m\u001b[43m)\u001b[49m\u001b[43m \u001b[49m\u001b[38;5;28;43;01mfor\u001b[39;49;00m\u001b[43m \u001b[49m\u001b[43manswer\u001b[49m\u001b[43m,\u001b[49m\u001b[43m \u001b[49m\u001b[43mscore\u001b[49m\u001b[43m \u001b[49m\u001b[38;5;129;43;01min\u001b[39;49;00m\u001b[43m \u001b[49m\u001b[43mscores_by_answer_dict\u001b[49m\u001b[38;5;241;43m.\u001b[39;49m\u001b[43mitems\u001b[49m\u001b[43m(\u001b[49m\u001b[43m)\u001b[49m\u001b[43m \u001b[49m\u001b[38;5;28;43;01mif\u001b[39;49;00m\u001b[43m \u001b[49m\u001b[43manswer\u001b[49m\u001b[43m \u001b[49m\u001b[38;5;129;43;01min\u001b[39;49;00m\u001b[43m \u001b[49m\u001b[43manswers\u001b[49m\u001b[43m)\u001b[49m\n\u001b[1;32m     75\u001b[0m         \u001b[38;5;28;01mfor\u001b[39;00m guess, scores_by_answer_dict \u001b[38;5;129;01min\u001b[39;00m \u001b[38;5;28mself\u001b[39m\u001b[38;5;241m.\u001b[39mscore_db\u001b[38;5;241m.\u001b[39mitems()\n\u001b[1;32m     76\u001b[0m     }\n",
      "File \u001b[0;32m~/oren/nerdle-solver/nerdle.py:74\u001b[0m, in \u001b[0;36m<genexpr>\u001b[0;34m(.0)\u001b[0m\n\u001b[1;32m     72\u001b[0m \u001b[38;5;28;01mdef\u001b[39;00m \u001b[38;5;21mrestrict_by_answers\u001b[39m(\u001b[38;5;28mself\u001b[39m,  answers: Set[\u001b[38;5;28mstr\u001b[39m]) \u001b[38;5;241m-\u001b[39m\u001b[38;5;241m>\u001b[39m Dict[\u001b[38;5;28mstr\u001b[39m, Dict[\u001b[38;5;28mstr\u001b[39m, \u001b[38;5;28mint\u001b[39m]]:\n\u001b[1;32m     73\u001b[0m     \u001b[38;5;28;01mreturn\u001b[39;00m {\n\u001b[0;32m---> 74\u001b[0m         guess: \u001b[38;5;28mdict\u001b[39m((answer, score) \u001b[38;5;28;01mfor\u001b[39;00m answer, score \u001b[38;5;129;01min\u001b[39;00m scores_by_answer_dict\u001b[38;5;241m.\u001b[39mitems() \u001b[38;5;28;01mif\u001b[39;00m answer \u001b[38;5;129;01min\u001b[39;00m answers)\n\u001b[1;32m     75\u001b[0m         \u001b[38;5;28;01mfor\u001b[39;00m guess, scores_by_answer_dict \u001b[38;5;129;01min\u001b[39;00m \u001b[38;5;28mself\u001b[39m\u001b[38;5;241m.\u001b[39mscore_db\u001b[38;5;241m.\u001b[39mitems()\n\u001b[1;32m     76\u001b[0m     }\n",
      "\u001b[0;31mKeyboardInterrupt\u001b[0m: "
     ]
    }
   ],
   "source": [
    "start = \"1+6-7=0\"\n",
    "solutions = [nerdle.NerdleSolver(solver_data).solve(answer, initial_guess=start) \n",
    "             for answer in solver_data.answers]               \n",
    "n = np.array([len(solution[0]) for solution in solutions])\n",
    "num_answers = len(solver_data.answers)\n",
    "compression_ratio = num_answers / np.array([solution[2][0] for solution in solutions])\n",
    "print(np.mean(compression_ratio), np.std(compression_ratio))\n",
    "\n",
    "fig, axs = plt.subplots(1, 2, figsize=(10, 4))\n",
    "\n",
    "ax = axs[0]\n",
    "ax.hist(n);\n",
    "ax.set_title(\"#Guesses for start {}\".format(start));\n",
    "\n",
    "ax = axs[1]\n",
    "ax.hist(compression_ratio);\n",
    "ax.set_title(\"Compression Ratio Distribution, start {}\".format(start));"
   ]
  },
  {
   "cell_type": "markdown",
   "id": "d8d55266-8f90-4f1b-b63a-4cec52596d5a",
   "metadata": {
    "tags": []
   },
   "source": [
    "## Profiling"
   ]
  },
  {
   "cell_type": "code",
   "execution_count": 21,
   "id": "3066f7fc-2942-4182-b01c-7f5287f2e880",
   "metadata": {},
   "outputs": [
    {
     "ename": "AttributeError",
     "evalue": "'_NerdleDataDict' object has no attribute 'score_db'",
     "output_type": "error",
     "traceback": [
      "\u001b[0;31m---------------------------------------------------------------------------\u001b[0m",
      "\u001b[0;31mAttributeError\u001b[0m                            Traceback (most recent call last)",
      "Cell \u001b[0;32mIn [21], line 5\u001b[0m\n\u001b[1;32m      2\u001b[0m \u001b[38;5;28;01mimport\u001b[39;00m \u001b[38;5;21;01mpstats\u001b[39;00m\n\u001b[1;32m      3\u001b[0m \u001b[38;5;28;01mfrom\u001b[39;00m \u001b[38;5;21;01mpstats\u001b[39;00m \u001b[38;5;28;01mimport\u001b[39;00m SortKey\n\u001b[0;32m----> 5\u001b[0m \u001b[43mcProfile\u001b[49m\u001b[38;5;241;43m.\u001b[39;49m\u001b[43mrun\u001b[49m\u001b[43m(\u001b[49m\u001b[38;5;124;43m'\u001b[39;49m\u001b[38;5;124;43mguess_history, hint_history, answer_size_history = nerdle.NerdleSolver(solver_data).solve(\u001b[39;49m\u001b[38;5;124;43m\"\u001b[39;49m\u001b[38;5;124;43m99/9=11\u001b[39;49m\u001b[38;5;124;43m\"\u001b[39;49m\u001b[38;5;124;43m, initial_guess=\u001b[39;49m\u001b[38;5;124;43m\"\u001b[39;49m\u001b[38;5;124;43m1+6-7=0\u001b[39;49m\u001b[38;5;124;43m\"\u001b[39;49m\u001b[38;5;124;43m, debug=True)\u001b[39;49m\u001b[38;5;124;43m'\u001b[39;49m\u001b[43m,\u001b[49m\u001b[43m \u001b[49m\u001b[38;5;124;43m'\u001b[39;49m\u001b[38;5;124;43mstats\u001b[39;49m\u001b[38;5;124;43m'\u001b[39;49m\u001b[43m)\u001b[49m\n\u001b[1;32m      6\u001b[0m p \u001b[38;5;241m=\u001b[39m pstats\u001b[38;5;241m.\u001b[39mStats(\u001b[38;5;124m'\u001b[39m\u001b[38;5;124mstats\u001b[39m\u001b[38;5;124m'\u001b[39m)\n\u001b[1;32m      7\u001b[0m p\u001b[38;5;241m.\u001b[39msort_stats(SortKey\u001b[38;5;241m.\u001b[39mCUMULATIVE)\u001b[38;5;241m.\u001b[39mprint_stats(\u001b[38;5;241m20\u001b[39m)\n",
      "File \u001b[0;32m~/opt/miniconda3/envs/nerdle/lib/python3.10/cProfile.py:16\u001b[0m, in \u001b[0;36mrun\u001b[0;34m(statement, filename, sort)\u001b[0m\n\u001b[1;32m     15\u001b[0m \u001b[38;5;28;01mdef\u001b[39;00m \u001b[38;5;21mrun\u001b[39m(statement, filename\u001b[38;5;241m=\u001b[39m\u001b[38;5;28;01mNone\u001b[39;00m, sort\u001b[38;5;241m=\u001b[39m\u001b[38;5;241m-\u001b[39m\u001b[38;5;241m1\u001b[39m):\n\u001b[0;32m---> 16\u001b[0m     \u001b[38;5;28;01mreturn\u001b[39;00m \u001b[43m_pyprofile\u001b[49m\u001b[38;5;241;43m.\u001b[39;49m\u001b[43m_Utils\u001b[49m\u001b[43m(\u001b[49m\u001b[43mProfile\u001b[49m\u001b[43m)\u001b[49m\u001b[38;5;241;43m.\u001b[39;49m\u001b[43mrun\u001b[49m\u001b[43m(\u001b[49m\u001b[43mstatement\u001b[49m\u001b[43m,\u001b[49m\u001b[43m \u001b[49m\u001b[43mfilename\u001b[49m\u001b[43m,\u001b[49m\u001b[43m \u001b[49m\u001b[43msort\u001b[49m\u001b[43m)\u001b[49m\n",
      "File \u001b[0;32m~/opt/miniconda3/envs/nerdle/lib/python3.10/profile.py:53\u001b[0m, in \u001b[0;36m_Utils.run\u001b[0;34m(self, statement, filename, sort)\u001b[0m\n\u001b[1;32m     51\u001b[0m prof \u001b[38;5;241m=\u001b[39m \u001b[38;5;28mself\u001b[39m\u001b[38;5;241m.\u001b[39mprofiler()\n\u001b[1;32m     52\u001b[0m \u001b[38;5;28;01mtry\u001b[39;00m:\n\u001b[0;32m---> 53\u001b[0m     \u001b[43mprof\u001b[49m\u001b[38;5;241;43m.\u001b[39;49m\u001b[43mrun\u001b[49m\u001b[43m(\u001b[49m\u001b[43mstatement\u001b[49m\u001b[43m)\u001b[49m\n\u001b[1;32m     54\u001b[0m \u001b[38;5;28;01mexcept\u001b[39;00m \u001b[38;5;167;01mSystemExit\u001b[39;00m:\n\u001b[1;32m     55\u001b[0m     \u001b[38;5;28;01mpass\u001b[39;00m\n",
      "File \u001b[0;32m~/opt/miniconda3/envs/nerdle/lib/python3.10/cProfile.py:95\u001b[0m, in \u001b[0;36mProfile.run\u001b[0;34m(self, cmd)\u001b[0m\n\u001b[1;32m     93\u001b[0m \u001b[38;5;28;01mimport\u001b[39;00m \u001b[38;5;21;01m__main__\u001b[39;00m\n\u001b[1;32m     94\u001b[0m \u001b[38;5;28mdict\u001b[39m \u001b[38;5;241m=\u001b[39m __main__\u001b[38;5;241m.\u001b[39m\u001b[38;5;18m__dict__\u001b[39m\n\u001b[0;32m---> 95\u001b[0m \u001b[38;5;28;01mreturn\u001b[39;00m \u001b[38;5;28;43mself\u001b[39;49m\u001b[38;5;241;43m.\u001b[39;49m\u001b[43mrunctx\u001b[49m\u001b[43m(\u001b[49m\u001b[43mcmd\u001b[49m\u001b[43m,\u001b[49m\u001b[43m \u001b[49m\u001b[38;5;28;43mdict\u001b[39;49m\u001b[43m,\u001b[49m\u001b[43m \u001b[49m\u001b[38;5;28;43mdict\u001b[39;49m\u001b[43m)\u001b[49m\n",
      "File \u001b[0;32m~/opt/miniconda3/envs/nerdle/lib/python3.10/cProfile.py:100\u001b[0m, in \u001b[0;36mProfile.runctx\u001b[0;34m(self, cmd, globals, locals)\u001b[0m\n\u001b[1;32m     98\u001b[0m \u001b[38;5;28mself\u001b[39m\u001b[38;5;241m.\u001b[39menable()\n\u001b[1;32m     99\u001b[0m \u001b[38;5;28;01mtry\u001b[39;00m:\n\u001b[0;32m--> 100\u001b[0m     \u001b[43mexec\u001b[49m\u001b[43m(\u001b[49m\u001b[43mcmd\u001b[49m\u001b[43m,\u001b[49m\u001b[43m \u001b[49m\u001b[38;5;28;43mglobals\u001b[39;49m\u001b[43m,\u001b[49m\u001b[43m \u001b[49m\u001b[38;5;28;43mlocals\u001b[39;49m\u001b[43m)\u001b[49m\n\u001b[1;32m    101\u001b[0m \u001b[38;5;28;01mfinally\u001b[39;00m:\n\u001b[1;32m    102\u001b[0m     \u001b[38;5;28mself\u001b[39m\u001b[38;5;241m.\u001b[39mdisable()\n",
      "File \u001b[0;32m<string>:1\u001b[0m\n",
      "File \u001b[0;32m~/oren/nerdle-solver/nerdle.py:134\u001b[0m, in \u001b[0;36mNerdleSolver.__init__\u001b[0;34m(self, data)\u001b[0m\n\u001b[1;32m    132\u001b[0m \u001b[38;5;28mself\u001b[39m\u001b[38;5;241m.\u001b[39m_data \u001b[38;5;241m=\u001b[39m data\n\u001b[1;32m    133\u001b[0m \u001b[38;5;66;03m# A working copy of data.score_db entries modified within solve().\u001b[39;00m\n\u001b[0;32m--> 134\u001b[0m \u001b[38;5;28mself\u001b[39m\u001b[38;5;241m.\u001b[39m_score_db \u001b[38;5;241m=\u001b[39m \u001b[43mdata\u001b[49m\u001b[38;5;241;43m.\u001b[39;49m\u001b[43mscore_db\u001b[49m\n\u001b[1;32m    135\u001b[0m \u001b[38;5;28mself\u001b[39m\u001b[38;5;241m.\u001b[39m_answers \u001b[38;5;241m=\u001b[39m \u001b[38;5;28mset\u001b[39m(\u001b[38;5;28mself\u001b[39m\u001b[38;5;241m.\u001b[39m_data\u001b[38;5;241m.\u001b[39manswers)\n\u001b[1;32m    136\u001b[0m \u001b[38;5;28mself\u001b[39m\u001b[38;5;241m.\u001b[39m_num_slots \u001b[38;5;241m=\u001b[39m \u001b[38;5;28mlen\u001b[39m(\u001b[38;5;28mnext\u001b[39m(\u001b[38;5;28miter\u001b[39m(\u001b[38;5;28mself\u001b[39m\u001b[38;5;241m.\u001b[39m_answers)))\n",
      "\u001b[0;31mAttributeError\u001b[0m: '_NerdleDataDict' object has no attribute 'score_db'"
     ]
    }
   ],
   "source": [
    "import cProfile\n",
    "import pstats\n",
    "from pstats import SortKey\n",
    "\n",
    "cProfile.run('guess_history, hint_history, answer_size_history = nerdle.NerdleSolver(solver_data).solve(\"99/9=11\", initial_guess=\"1+6-7=0\", debug=True)', 'stats')\n",
    "p = pstats.Stats('stats')\n",
    "p.sort_stats(SortKey.CUMULATIVE).print_stats(20)"
   ]
  },
  {
   "cell_type": "code",
   "execution_count": 17,
   "id": "4a8ab493-c27f-43f8-82c4-b52388ed3c68",
   "metadata": {},
   "outputs": [],
   "source": [
    "n = len(solver_data.answers)"
   ]
  },
  {
   "cell_type": "code",
   "execution_count": 19,
   "id": "1ba12b5a-6ba9-4540-9584-8edbc0b004cf",
   "metadata": {},
   "outputs": [
    {
     "name": "stdout",
     "output_type": "stream",
     "text": [
      "CPU times: user 151 µs, sys: 669 µs, total: 820 µs\n",
      "Wall time: 656 µs\n"
     ]
    }
   ],
   "source": [
    "%time a = np.zeros((n, n))"
   ]
  },
  {
   "cell_type": "code",
   "execution_count": 20,
   "id": "9df32ff8-f039-497e-ac89-5675e1496a24",
   "metadata": {},
   "outputs": [
    {
     "data": {
      "text/plain": [
       "(6661, 6661)"
      ]
     },
     "execution_count": 20,
     "metadata": {},
     "output_type": "execute_result"
    }
   ],
   "source": [
    "a.shape"
   ]
  },
  {
   "cell_type": "code",
   "execution_count": 34,
   "id": "cba035a9-16e1-4a13-bec3-5df0d55606b9",
   "metadata": {},
   "outputs": [
    {
     "ename": "NameError",
     "evalue": "name 'self' is not defined",
     "output_type": "error",
     "traceback": [
      "\u001b[0;31m---------------------------------------------------------------------------\u001b[0m",
      "\u001b[0;31mNameError\u001b[0m                                 Traceback (most recent call last)",
      "File \u001b[0;32m<timed exec>:1\u001b[0m\n",
      "File \u001b[0;32m~/oren/nerdle-solver/nerdle.py:207\u001b[0m, in \u001b[0;36mcreate_solver_data\u001b[0;34m(num_slots, file_name, strategy, overwrite)\u001b[0m\n\u001b[1;32m    204\u001b[0m \u001b[38;5;124;03m\"\"\"Creates/load solver data from existing database file. For small files, uses pickle. For large files, uses\u001b[39;00m\n\u001b[1;32m    205\u001b[0m \u001b[38;5;124;03mSQLite.\"\"\"\u001b[39;00m\n\u001b[1;32m    206\u001b[0m \u001b[38;5;28;01mif\u001b[39;00m strategy \u001b[38;5;241m==\u001b[39m \u001b[38;5;124m\"\u001b[39m\u001b[38;5;124mdict\u001b[39m\u001b[38;5;124m\"\u001b[39m:\n\u001b[0;32m--> 207\u001b[0m     \u001b[38;5;28;01mreturn\u001b[39;00m \u001b[43m_NerdleDataDict\u001b[49m\u001b[43m(\u001b[49m\u001b[43mnum_slots\u001b[49m\u001b[43m,\u001b[49m\u001b[43m \u001b[49m\u001b[43mfile_name\u001b[49m\u001b[43m,\u001b[49m\u001b[43m \u001b[49m\u001b[43moverwrite\u001b[49m\u001b[38;5;241;43m=\u001b[39;49m\u001b[43moverwrite\u001b[49m\u001b[43m)\u001b[49m\n\u001b[1;32m    208\u001b[0m \u001b[38;5;28;01melif\u001b[39;00m strategy \u001b[38;5;241m==\u001b[39m \u001b[38;5;124m\"\u001b[39m\u001b[38;5;124mmatrix\u001b[39m\u001b[38;5;124m\"\u001b[39m:\n\u001b[1;32m    209\u001b[0m     \u001b[38;5;28;01mreturn\u001b[39;00m _NerdleDataMatrix(num_slots, file_name, overwrite\u001b[38;5;241m=\u001b[39moverwrite)\n",
      "File \u001b[0;32m~/oren/nerdle-solver/nerdle.py:58\u001b[0m, in \u001b[0;36m_NerdleDataDict.__init__\u001b[0;34m(self, num_slots, file_name, overwrite)\u001b[0m\n\u001b[1;32m     56\u001b[0m \u001b[38;5;28;01mif\u001b[39;00m overwrite \u001b[38;5;129;01mor\u001b[39;00m \u001b[38;5;129;01mnot\u001b[39;00m os\u001b[38;5;241m.\u001b[39mpath\u001b[38;5;241m.\u001b[39mexists(\u001b[38;5;28mself\u001b[39m\u001b[38;5;241m.\u001b[39m_file_name):\n\u001b[1;32m     57\u001b[0m     \u001b[38;5;28;01mwith\u001b[39;00m \u001b[38;5;28mopen\u001b[39m(\u001b[38;5;28mself\u001b[39m\u001b[38;5;241m.\u001b[39m_file_name , \u001b[38;5;124m\"\u001b[39m\u001b[38;5;124mwb\u001b[39m\u001b[38;5;124m\"\u001b[39m) \u001b[38;5;28;01mas\u001b[39;00m f:\n\u001b[0;32m---> 58\u001b[0m         \u001b[38;5;28mself\u001b[39m\u001b[38;5;241m.\u001b[39mscore_db \u001b[38;5;241m=\u001b[39m \u001b[43m_NerdleDataDict\u001b[49m\u001b[38;5;241;43m.\u001b[39;49m\u001b[43m_create_score_database\u001b[49m\u001b[43m(\u001b[49m\u001b[38;5;28;43mset\u001b[39;49m\u001b[43m(\u001b[49m\u001b[43mgenerator\u001b[49m\u001b[38;5;241;43m.\u001b[39;49m\u001b[43mall_answers\u001b[49m\u001b[43m(\u001b[49m\u001b[38;5;28;43mself\u001b[39;49m\u001b[38;5;241;43m.\u001b[39;49m\u001b[43mnum_slots\u001b[49m\u001b[43m)\u001b[49m\u001b[43m)\u001b[49m\u001b[43m)\u001b[49m\n\u001b[1;32m     59\u001b[0m         pickle\u001b[38;5;241m.\u001b[39mdump(\u001b[38;5;28mself\u001b[39m\u001b[38;5;241m.\u001b[39mscore_db, f)\n\u001b[1;32m     60\u001b[0m \u001b[38;5;28;01melse\u001b[39;00m:\n",
      "File \u001b[0;32m~/oren/nerdle-solver/nerdle.py:70\u001b[0m, in \u001b[0;36m_NerdleDataDict._create_score_database\u001b[0;34m(answers)\u001b[0m\n\u001b[1;32m     68\u001b[0m print_frequency \u001b[38;5;241m=\u001b[39m n \u001b[38;5;241m/\u001b[39m\u001b[38;5;241m/\u001b[39m \u001b[38;5;241m20\u001b[39m\n\u001b[1;32m     69\u001b[0m score_db \u001b[38;5;241m=\u001b[39m {}\n\u001b[0;32m---> 70\u001b[0m scorer \u001b[38;5;241m=\u001b[39m Scorer(\u001b[38;5;28;43mself\u001b[39;49m\u001b[38;5;241m.\u001b[39mnum_slots)\n\u001b[1;32m     71\u001b[0m \u001b[38;5;28;01mfor\u001b[39;00m i, guess \u001b[38;5;129;01min\u001b[39;00m \u001b[38;5;28menumerate\u001b[39m(answers):\n\u001b[1;32m     72\u001b[0m     \u001b[38;5;28;01mif\u001b[39;00m print_frequency \u001b[38;5;241m>\u001b[39m \u001b[38;5;241m0\u001b[39m \u001b[38;5;129;01mand\u001b[39;00m i \u001b[38;5;241m%\u001b[39m print_frequency \u001b[38;5;241m==\u001b[39m \u001b[38;5;241m0\u001b[39m:\n",
      "\u001b[0;31mNameError\u001b[0m: name 'self' is not defined"
     ]
    }
   ],
   "source": [
    "%time solver_data = nerdle.create_solver_data(6, \"nerdle6.db\", overwrite=True)"
   ]
  },
  {
   "cell_type": "code",
   "execution_count": null,
   "id": "4658070b-abb4-4c46-942e-22c74dcaabc7",
   "metadata": {},
   "outputs": [],
   "source": []
  }
 ],
 "metadata": {
  "kernelspec": {
   "display_name": "Python 3 (ipykernel)",
   "language": "python",
   "name": "python3"
  },
  "language_info": {
   "codemirror_mode": {
    "name": "ipython",
    "version": 3
   },
   "file_extension": ".py",
   "mimetype": "text/x-python",
   "name": "python",
   "nbconvert_exporter": "python",
   "pygments_lexer": "ipython3",
   "version": "3.10.6"
  }
 },
 "nbformat": 4,
 "nbformat_minor": 5
}
