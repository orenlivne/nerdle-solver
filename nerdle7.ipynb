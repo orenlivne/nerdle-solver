{
 "cells": [
  {
   "cell_type": "markdown",
   "id": "50efce8c-517b-47ca-9d81-70d88cdb5a5c",
   "metadata": {},
   "source": [
    "# 7-Slot Nerdle Solver Test\n",
    "Nerdle game with intermediate problem size (between mini and full). The best start has all different numbers: `28/7=4`, which needs at most $X$ guesses and $X \\pm X$ guesses."
   ]
  },
  {
   "cell_type": "code",
   "execution_count": 60,
   "id": "1ce14177-17d6-4ba1-bdd4-74ae65e07847",
   "metadata": {},
   "outputs": [
    {
     "name": "stdout",
     "output_type": "stream",
     "text": [
      "The autoreload extension is already loaded. To reload it, use:\n",
      "  %reload_ext autoreload\n"
     ]
    }
   ],
   "source": [
    "%load_ext autoreload\n",
    "%autoreload 2\n",
    "\n",
    "import collections\n",
    "import itertools\n",
    "import numpy as np\n",
    "import matplotlib.pyplot as plt\n",
    "\n",
    "import nerdle\n",
    "import score as s\n",
    "import generator\n",
    "from nerdle import Hint, NerdleData"
   ]
  },
  {
   "cell_type": "code",
   "execution_count": 61,
   "id": "3e772c55-2cd9-4034-9a40-da234e49e783",
   "metadata": {},
   "outputs": [
    {
     "name": "stdout",
     "output_type": "stream",
     "text": [
      "0 / 6661 (0.0%) completed\n",
      "333 / 6661 (5.0%) completed\n",
      "666 / 6661 (10.0%) completed\n",
      "999 / 6661 (15.0%) completed\n",
      "1332 / 6661 (20.0%) completed\n",
      "1665 / 6661 (25.0%) completed\n",
      "1998 / 6661 (30.0%) completed\n",
      "2331 / 6661 (35.0%) completed\n",
      "2664 / 6661 (40.0%) completed\n",
      "2997 / 6661 (45.0%) completed\n",
      "3330 / 6661 (50.0%) completed\n",
      "3663 / 6661 (55.0%) completed\n",
      "3996 / 6661 (60.0%) completed\n",
      "4329 / 6661 (65.0%) completed\n",
      "4662 / 6661 (70.0%) completed\n",
      "4995 / 6661 (75.0%) completed\n",
      "5328 / 6661 (80.0%) completed\n",
      "5661 / 6661 (85.0%) completed\n",
      "5994 / 6661 (90.0%) completed\n",
      "6327 / 6661 (95.0%) completed\n",
      "6660 / 6661 (100.0%) completed\n"
     ]
    }
   ],
   "source": [
    "# Mini-Nerdle.\n",
    "NUM_SLOTS = 7\n",
    "SCORE_DB_FILE = \"db/nerdle{}_matrix.db\".format(NUM_SLOTS) \n",
    "\n",
    "solver_data = nerdle.create_solver_data(NUM_SLOTS, SCORE_DB_FILE, strategy=\"matrix\")"
   ]
  },
  {
   "cell_type": "code",
   "execution_count": 64,
   "id": "3afd369f-ec7b-4851-a58c-fcb9c0392625",
   "metadata": {},
   "outputs": [
    {
     "data": {
      "text/plain": [
       "(6661, 6661)"
      ]
     },
     "execution_count": 64,
     "metadata": {},
     "output_type": "execute_result"
    }
   ],
   "source": [
    "d = solver_data.score_db\n",
    "d.shape"
   ]
  },
  {
   "cell_type": "markdown",
   "id": "49778b3a-6809-4c49-8926-5b625833606c",
   "metadata": {},
   "source": [
    "## Example Usage"
   ]
  },
  {
   "cell_type": "code",
   "execution_count": 66,
   "id": "dc1fb9d8-2907-4eb3-8139-1fe65b874e17",
   "metadata": {},
   "outputs": [
    {
     "name": "stdout",
     "output_type": "stream",
     "text": [
      "2082 ?-?--?- True 2082\n"
     ]
    }
   ],
   "source": [
    "score = nerdle.score_guess(\"1*1*6=6\", \"99/9=11\")\n",
    "hints = [Hint.MISPLACED, Hint.INCORRECT, Hint.MISPLACED, Hint.INCORRECT, Hint.INCORRECT, Hint.MISPLACED, Hint.INCORRECT]\n",
    "print(score, \n",
    "      s.score_to_hint_string(score, NUM_SLOTS),\n",
    "      s.score_to_hints(score, NUM_SLOTS) == hints,\n",
    "      s.hint_string_to_score(s.score_to_hint_string(score, NUM_SLOTS))\n",
    "     )"
   ]
  },
  {
   "cell_type": "code",
   "execution_count": 67,
   "id": "07bb9112-773b-4de4-a876-bee818b125da",
   "metadata": {},
   "outputs": [
    {
     "name": "stdout",
     "output_type": "stream",
     "text": [
      "--> guess 1+6-7=0 guesses_left 5\n",
      "score ?----?- 2050\n",
      "answers 128\n",
      "--> guess 2*19=38 guesses_left 4\n",
      "score --?++-- 352\n",
      "answers 1\n",
      "--> guess 99/9=11 guesses_left 3\n",
      "score +++++++ 5461\n"
     ]
    }
   ],
   "source": [
    "# A good initial guess significantly reduces the number of answers. In this case, from\n",
    "# 206 to 10.\n",
    "guess_history, hint_history, answer_size_history =  nerdle.NerdleSolver(solver_data).solve(\"99/9=11\", initial_guess= \"1+6-7=0\", debug=True)"
   ]
  },
  {
   "cell_type": "markdown",
   "id": "8b76723e-dedc-49a8-8287-ad95fc3ac621",
   "metadata": {},
   "source": [
    "## Benchmark\n",
    "This is a fast in-memory numpy array implementation."
   ]
  },
  {
   "cell_type": "code",
   "execution_count": 70,
   "id": "6179500f-b2fd-4115-8d22-1f41f3edae0d",
   "metadata": {},
   "outputs": [
    {
     "name": "stdout",
     "output_type": "stream",
     "text": [
      "CPU times: user 259 ms, sys: 3.15 ms, total: 263 ms\n",
      "Wall time: 266 ms\n"
     ]
    }
   ],
   "source": [
    "%time guess_history, hint_history, answer_size_history = nerdle.NerdleSolver(solver_data).solve(\"99/9=11\", initial_guess=\"1+6-7=0\")"
   ]
  },
  {
   "cell_type": "code",
   "execution_count": 69,
   "id": "f1298bec-fd16-46dd-8ddf-6571ee1c9c54",
   "metadata": {},
   "outputs": [
    {
     "name": "stdout",
     "output_type": "stream",
     "text": [
      "1*1*1=1\n",
      "CPU times: user 136 ms, sys: 4.09 ms, total: 141 ms\n",
      "Wall time: 141 ms\n",
      "1*1*2=2\n",
      "CPU times: user 51.7 ms, sys: 202 µs, total: 51.9 ms\n",
      "Wall time: 52.1 ms\n",
      "1*1*3=3\n",
      "CPU times: user 57.3 ms, sys: 517 µs, total: 57.9 ms\n",
      "Wall time: 57.8 ms\n",
      "1*1*4=4\n",
      "CPU times: user 52.9 ms, sys: 469 µs, total: 53.3 ms\n",
      "Wall time: 53.8 ms\n",
      "1*1*5=5\n",
      "CPU times: user 48.4 ms, sys: 46 µs, total: 48.5 ms\n",
      "Wall time: 48.5 ms\n"
     ]
    }
   ],
   "source": [
    "answer = \"99/9=11\"\n",
    "solver = nerdle.NerdleSolver(solver_data)\n",
    "for start in list(solver_data.answers)[:5]:\n",
    "    print(start)\n",
    "    %time solver.solve(answer, initial_guess=start) "
   ]
  },
  {
   "cell_type": "markdown",
   "id": "7f5156fa-001e-4a9a-8969-b1a8038c6438",
   "metadata": {},
   "source": [
    "## Initial Guess Optimization\n",
    "Assuming an initial guess with a lot of different numbers and operators is best."
   ]
  },
  {
   "cell_type": "code",
   "execution_count": 77,
   "id": "1175cfca-137b-4755-a29c-2c5964fe8b89",
   "metadata": {},
   "outputs": [
    {
     "ename": "KeyboardInterrupt",
     "evalue": "",
     "output_type": "error",
     "traceback": [
      "\u001b[0;31m---------------------------------------------------------------------------\u001b[0m",
      "\u001b[0;31mKeyboardInterrupt\u001b[0m                         Traceback (most recent call last)",
      "Cell \u001b[0;32mIn [77], line 2\u001b[0m\n\u001b[1;32m      1\u001b[0m start \u001b[38;5;241m=\u001b[39m \u001b[38;5;124m\"\u001b[39m\u001b[38;5;124m1+6-7=0\u001b[39m\u001b[38;5;124m\"\u001b[39m\n\u001b[0;32m----> 2\u001b[0m solutions \u001b[38;5;241m=\u001b[39m [nerdle\u001b[38;5;241m.\u001b[39mNerdleSolver(solver_data)\u001b[38;5;241m.\u001b[39msolve(answer, initial_guess\u001b[38;5;241m=\u001b[39mstart) \n\u001b[1;32m      3\u001b[0m              \u001b[38;5;28;01mfor\u001b[39;00m answer \u001b[38;5;129;01min\u001b[39;00m solver_data\u001b[38;5;241m.\u001b[39manswers]\n\u001b[1;32m      4\u001b[0m n \u001b[38;5;241m=\u001b[39m np\u001b[38;5;241m.\u001b[39marray([\u001b[38;5;28mlen\u001b[39m(solution[\u001b[38;5;241m0\u001b[39m]) \u001b[38;5;28;01mfor\u001b[39;00m solution \u001b[38;5;129;01min\u001b[39;00m solutions])\n\u001b[1;32m      5\u001b[0m num_answers \u001b[38;5;241m=\u001b[39m \u001b[38;5;28mlen\u001b[39m(solver_data\u001b[38;5;241m.\u001b[39manswers)\n",
      "Cell \u001b[0;32mIn [77], line 2\u001b[0m, in \u001b[0;36m<listcomp>\u001b[0;34m(.0)\u001b[0m\n\u001b[1;32m      1\u001b[0m start \u001b[38;5;241m=\u001b[39m \u001b[38;5;124m\"\u001b[39m\u001b[38;5;124m1+6-7=0\u001b[39m\u001b[38;5;124m\"\u001b[39m\n\u001b[0;32m----> 2\u001b[0m solutions \u001b[38;5;241m=\u001b[39m [\u001b[43mnerdle\u001b[49m\u001b[38;5;241;43m.\u001b[39;49m\u001b[43mNerdleSolver\u001b[49m\u001b[43m(\u001b[49m\u001b[43msolver_data\u001b[49m\u001b[43m)\u001b[49m\u001b[38;5;241;43m.\u001b[39;49m\u001b[43msolve\u001b[49m\u001b[43m(\u001b[49m\u001b[43manswer\u001b[49m\u001b[43m,\u001b[49m\u001b[43m \u001b[49m\u001b[43minitial_guess\u001b[49m\u001b[38;5;241;43m=\u001b[39;49m\u001b[43mstart\u001b[49m\u001b[43m)\u001b[49m \n\u001b[1;32m      3\u001b[0m              \u001b[38;5;28;01mfor\u001b[39;00m answer \u001b[38;5;129;01min\u001b[39;00m solver_data\u001b[38;5;241m.\u001b[39manswers]\n\u001b[1;32m      4\u001b[0m n \u001b[38;5;241m=\u001b[39m np\u001b[38;5;241m.\u001b[39marray([\u001b[38;5;28mlen\u001b[39m(solution[\u001b[38;5;241m0\u001b[39m]) \u001b[38;5;28;01mfor\u001b[39;00m solution \u001b[38;5;129;01min\u001b[39;00m solutions])\n\u001b[1;32m      5\u001b[0m num_answers \u001b[38;5;241m=\u001b[39m \u001b[38;5;28mlen\u001b[39m(solver_data\u001b[38;5;241m.\u001b[39manswers)\n",
      "File \u001b[0;32m~/oren/nerdle-solver/nerdle.py:192\u001b[0m, in \u001b[0;36mNerdleSolver.solve\u001b[0;34m(self, answer, max_guesses, initial_guess, debug)\u001b[0m\n\u001b[1;32m    190\u001b[0m \u001b[38;5;28;01mdef\u001b[39;00m \u001b[38;5;21msolve\u001b[39m(\u001b[38;5;28mself\u001b[39m, answer: \u001b[38;5;28mstr\u001b[39m, max_guesses: \u001b[38;5;28mint\u001b[39m \u001b[38;5;241m=\u001b[39m \u001b[38;5;241m6\u001b[39m, initial_guess: \u001b[38;5;28mstr\u001b[39m \u001b[38;5;241m=\u001b[39m \u001b[38;5;124m\"\u001b[39m\u001b[38;5;124m0+12/3=4\u001b[39m\u001b[38;5;124m\"\u001b[39m,\n\u001b[1;32m    191\u001b[0m           debug: \u001b[38;5;28mbool\u001b[39m \u001b[38;5;241m=\u001b[39m \u001b[38;5;28;01mFalse\u001b[39;00m) \u001b[38;5;241m-\u001b[39m\u001b[38;5;241m>\u001b[39m Tuple[List[\u001b[38;5;28mstr\u001b[39m], List[\u001b[38;5;28mint\u001b[39m], List[\u001b[38;5;28mint\u001b[39m]]:\n\u001b[0;32m--> 192\u001b[0m     \u001b[38;5;28;01mreturn\u001b[39;00m \u001b[38;5;28;43mself\u001b[39;49m\u001b[38;5;241;43m.\u001b[39;49m\u001b[43msolve_adversary\u001b[49m\u001b[43m(\u001b[49m\u001b[38;5;28;43;01mlambda\u001b[39;49;00m\u001b[43m \u001b[49m\u001b[43mguess\u001b[49m\u001b[43m:\u001b[49m\u001b[43m \u001b[49m\u001b[43mscore_guess\u001b[49m\u001b[43m(\u001b[49m\u001b[38;5;28;43mstr\u001b[39;49m\u001b[43m(\u001b[49m\u001b[43mguess\u001b[49m\u001b[43m)\u001b[49m\u001b[43m,\u001b[49m\u001b[43m \u001b[49m\u001b[38;5;28;43mstr\u001b[39;49m\u001b[43m(\u001b[49m\u001b[43manswer\u001b[49m\u001b[43m)\u001b[49m\u001b[43m)\u001b[49m\u001b[43m,\u001b[49m\n\u001b[1;32m    193\u001b[0m \u001b[43m                                \u001b[49m\u001b[43mmax_guesses\u001b[49m\u001b[38;5;241;43m=\u001b[39;49m\u001b[43mmax_guesses\u001b[49m\u001b[43m,\u001b[49m\u001b[43m \u001b[49m\u001b[43minitial_guess\u001b[49m\u001b[38;5;241;43m=\u001b[39;49m\u001b[43minitial_guess\u001b[49m\u001b[43m,\u001b[49m\u001b[43m \u001b[49m\u001b[43mdebug\u001b[49m\u001b[38;5;241;43m=\u001b[39;49m\u001b[43mdebug\u001b[49m\u001b[43m)\u001b[49m\n",
      "File \u001b[0;32m~/oren/nerdle-solver/nerdle.py:214\u001b[0m, in \u001b[0;36mNerdleSolver.solve_adversary\u001b[0;34m(self, hint_generator, max_guesses, initial_guess, debug)\u001b[0m\n\u001b[1;32m    212\u001b[0m \u001b[38;5;28;01mif\u001b[39;00m score \u001b[38;5;241m==\u001b[39m \u001b[38;5;28mself\u001b[39m\u001b[38;5;241m.\u001b[39m_all_correct:\n\u001b[1;32m    213\u001b[0m     \u001b[38;5;28;01mreturn\u001b[39;00m guess_history, hint_history, answer_size_history\n\u001b[0;32m--> 214\u001b[0m guess_key \u001b[38;5;241m=\u001b[39m \u001b[38;5;28;43mself\u001b[39;49m\u001b[38;5;241;43m.\u001b[39;49m\u001b[43mmake_guess\u001b[49m\u001b[43m(\u001b[49m\u001b[43mguess_key\u001b[49m\u001b[43m,\u001b[49m\u001b[43m \u001b[49m\u001b[43mscore\u001b[49m\u001b[43m)\u001b[49m\n\u001b[1;32m    215\u001b[0m guess \u001b[38;5;241m=\u001b[39m \u001b[38;5;28mself\u001b[39m\u001b[38;5;241m.\u001b[39m_data\u001b[38;5;241m.\u001b[39mvalue(guess_key)\n\u001b[1;32m    216\u001b[0m \u001b[38;5;28;01mif\u001b[39;00m debug:\n",
      "File \u001b[0;32m~/oren/nerdle-solver/nerdle.py:239\u001b[0m, in \u001b[0;36mNerdleSolver.make_guess\u001b[0;34m(self, guess, score)\u001b[0m\n\u001b[1;32m    233\u001b[0m     \u001b[38;5;28;01mreturn\u001b[39;00m \u001b[38;5;28;01mNone\u001b[39;00m\n\u001b[1;32m    234\u001b[0m \u001b[38;5;66;03m# Make the next guess.\u001b[39;00m\n\u001b[1;32m    235\u001b[0m \u001b[38;5;66;03m# - Find how often a score appears in scores_by_answer_dict, get max (worst case).\u001b[39;00m\n\u001b[1;32m    236\u001b[0m \u001b[38;5;66;03m# Sort by score, then by guess possibility (prefer possible guesses over impossible ones.), get min (best case).\u001b[39;00m\n\u001b[1;32m    237\u001b[0m \u001b[38;5;66;03m# TODO: a possible improvement is to weight the counts by bigram conditional probabilities (how likely a\u001b[39;00m\n\u001b[1;32m    238\u001b[0m \u001b[38;5;66;03m#  character is to appear after another in the current answer set).\u001b[39;00m\n\u001b[0;32m--> 239\u001b[0m \u001b[38;5;28;01mreturn\u001b[39;00m \u001b[38;5;28;43mmin\u001b[39;49m\u001b[43m(\u001b[49m\n\u001b[1;32m    240\u001b[0m \u001b[43m    \u001b[49m\u001b[43m(\u001b[49m\u001b[38;5;28;43mmax\u001b[39;49m\u001b[43m(\u001b[49m\u001b[43mcollections\u001b[49m\u001b[38;5;241;43m.\u001b[39;49m\u001b[43mCounter\u001b[49m\u001b[43m(\u001b[49m\u001b[38;5;28;43mself\u001b[39;49m\u001b[38;5;241;43m.\u001b[39;49m\u001b[43m_data\u001b[49m\u001b[38;5;241;43m.\u001b[39;49m\u001b[43mscore_values\u001b[49m\u001b[43m(\u001b[49m\u001b[38;5;28;43mself\u001b[39;49m\u001b[38;5;241;43m.\u001b[39;49m\u001b[43m_score_db\u001b[49m\u001b[43m[\u001b[49m\u001b[43mguess_key\u001b[49m\u001b[43m]\u001b[49m\u001b[43m)\u001b[49m\u001b[43m)\u001b[49m\u001b[38;5;241;43m.\u001b[39;49m\u001b[43mvalues\u001b[49m\u001b[43m(\u001b[49m\u001b[43m)\u001b[49m\u001b[43m)\u001b[49m\u001b[43m,\u001b[49m\n\u001b[1;32m    241\u001b[0m \u001b[43m     \u001b[49m\u001b[43mguess_key\u001b[49m\u001b[43m \u001b[49m\u001b[38;5;129;43;01mnot\u001b[39;49;00m\u001b[43m \u001b[49m\u001b[38;5;129;43;01min\u001b[39;49;00m\u001b[43m \u001b[49m\u001b[38;5;28;43mself\u001b[39;49m\u001b[38;5;241;43m.\u001b[39;49m\u001b[43m_answer_keys\u001b[49m\u001b[43m,\u001b[49m\n\u001b[1;32m    242\u001b[0m \u001b[43m     \u001b[49m\u001b[43mguess_key\u001b[49m\u001b[43m)\u001b[49m\n\u001b[1;32m    243\u001b[0m \u001b[43m    \u001b[49m\u001b[38;5;28;43;01mfor\u001b[39;49;00m\u001b[43m \u001b[49m\u001b[43mguess_key\u001b[49m\u001b[43m \u001b[49m\u001b[38;5;129;43;01min\u001b[39;49;00m\u001b[43m \u001b[49m\u001b[38;5;28;43mself\u001b[39;49m\u001b[38;5;241;43m.\u001b[39;49m\u001b[43m_all_keys\u001b[49m\n\u001b[1;32m    244\u001b[0m \u001b[43m\u001b[49m\u001b[43m)\u001b[49m[\u001b[38;5;241m-\u001b[39m\u001b[38;5;241m1\u001b[39m]\n",
      "File \u001b[0;32m~/oren/nerdle-solver/nerdle.py:240\u001b[0m, in \u001b[0;36m<genexpr>\u001b[0;34m(.0)\u001b[0m\n\u001b[1;32m    233\u001b[0m     \u001b[38;5;28;01mreturn\u001b[39;00m \u001b[38;5;28;01mNone\u001b[39;00m\n\u001b[1;32m    234\u001b[0m \u001b[38;5;66;03m# Make the next guess.\u001b[39;00m\n\u001b[1;32m    235\u001b[0m \u001b[38;5;66;03m# - Find how often a score appears in scores_by_answer_dict, get max (worst case).\u001b[39;00m\n\u001b[1;32m    236\u001b[0m \u001b[38;5;66;03m# Sort by score, then by guess possibility (prefer possible guesses over impossible ones.), get min (best case).\u001b[39;00m\n\u001b[1;32m    237\u001b[0m \u001b[38;5;66;03m# TODO: a possible improvement is to weight the counts by bigram conditional probabilities (how likely a\u001b[39;00m\n\u001b[1;32m    238\u001b[0m \u001b[38;5;66;03m#  character is to appear after another in the current answer set).\u001b[39;00m\n\u001b[1;32m    239\u001b[0m \u001b[38;5;28;01mreturn\u001b[39;00m \u001b[38;5;28mmin\u001b[39m(\n\u001b[0;32m--> 240\u001b[0m     (\u001b[38;5;28mmax\u001b[39m(\u001b[43mcollections\u001b[49m\u001b[38;5;241;43m.\u001b[39;49m\u001b[43mCounter\u001b[49m\u001b[43m(\u001b[49m\u001b[38;5;28;43mself\u001b[39;49m\u001b[38;5;241;43m.\u001b[39;49m\u001b[43m_data\u001b[49m\u001b[38;5;241;43m.\u001b[39;49m\u001b[43mscore_values\u001b[49m\u001b[43m(\u001b[49m\u001b[38;5;28;43mself\u001b[39;49m\u001b[38;5;241;43m.\u001b[39;49m\u001b[43m_score_db\u001b[49m\u001b[43m[\u001b[49m\u001b[43mguess_key\u001b[49m\u001b[43m]\u001b[49m\u001b[43m)\u001b[49m\u001b[43m)\u001b[49m\u001b[38;5;241m.\u001b[39mvalues()),\n\u001b[1;32m    241\u001b[0m      guess_key \u001b[38;5;129;01mnot\u001b[39;00m \u001b[38;5;129;01min\u001b[39;00m \u001b[38;5;28mself\u001b[39m\u001b[38;5;241m.\u001b[39m_answer_keys,\n\u001b[1;32m    242\u001b[0m      guess_key)\n\u001b[1;32m    243\u001b[0m     \u001b[38;5;28;01mfor\u001b[39;00m guess_key \u001b[38;5;129;01min\u001b[39;00m \u001b[38;5;28mself\u001b[39m\u001b[38;5;241m.\u001b[39m_all_keys\n\u001b[1;32m    244\u001b[0m )[\u001b[38;5;241m-\u001b[39m\u001b[38;5;241m1\u001b[39m]\n",
      "File \u001b[0;32m~/opt/miniconda3/envs/nerdle/lib/python3.10/collections/__init__.py:576\u001b[0m, in \u001b[0;36mCounter.__init__\u001b[0;34m(self, iterable, **kwds)\u001b[0m\n\u001b[1;32m    565\u001b[0m \u001b[38;5;28;01mdef\u001b[39;00m \u001b[38;5;21m__init__\u001b[39m(\u001b[38;5;28mself\u001b[39m, iterable\u001b[38;5;241m=\u001b[39m\u001b[38;5;28;01mNone\u001b[39;00m, \u001b[38;5;241m/\u001b[39m, \u001b[38;5;241m*\u001b[39m\u001b[38;5;241m*\u001b[39mkwds):\n\u001b[1;32m    566\u001b[0m     \u001b[38;5;124;03m'''Create a new, empty Counter object.  And if given, count elements\u001b[39;00m\n\u001b[1;32m    567\u001b[0m \u001b[38;5;124;03m    from an input iterable.  Or, initialize the count from another mapping\u001b[39;00m\n\u001b[1;32m    568\u001b[0m \u001b[38;5;124;03m    of elements to their counts.\u001b[39;00m\n\u001b[0;32m   (...)\u001b[0m\n\u001b[1;32m    574\u001b[0m \n\u001b[1;32m    575\u001b[0m \u001b[38;5;124;03m    '''\u001b[39;00m\n\u001b[0;32m--> 576\u001b[0m     \u001b[38;5;28;43msuper\u001b[39;49m\u001b[43m(\u001b[49m\u001b[43m)\u001b[49m\u001b[38;5;241m.\u001b[39m\u001b[38;5;21m__init__\u001b[39m()\n\u001b[1;32m    577\u001b[0m     \u001b[38;5;28mself\u001b[39m\u001b[38;5;241m.\u001b[39mupdate(iterable, \u001b[38;5;241m*\u001b[39m\u001b[38;5;241m*\u001b[39mkwds)\n",
      "\u001b[0;31mKeyboardInterrupt\u001b[0m: "
     ]
    }
   ],
   "source": [
    "start = \"1+6-7=0\"\n",
    "solutions = [nerdle.NerdleSolver(solver_data).solve(answer, initial_guess=start) \n",
    "             for answer in solver_data.answers]\n",
    "n = np.array([len(solution[0]) for solution in solutions])\n",
    "num_answers = len(solver_data.answers)\n",
    "compression_ratio = num_answers / np.array([solution[2][0] for solution in solutions])\n",
    "print(np.mean(compression_ratio), np.std(compression_ratio))\n",
    "\n",
    "fig, axs = plt.subplots(1, 2, figsize=(10, 4))\n",
    "\n",
    "ax = axs[0]\n",
    "ax.hist(n);\n",
    "ax.set_title(\"#Guesses for start {}\".format(start));\n",
    "\n",
    "ax = axs[1]\n",
    "ax.hist(compression_ratio);\n",
    "ax.set_title(\"Compression Ratio Distribution, start {}\".format(start));"
   ]
  },
  {
   "cell_type": "markdown",
   "id": "d8d55266-8f90-4f1b-b63a-4cec52596d5a",
   "metadata": {
    "tags": []
   },
   "source": [
    "## Profiling"
   ]
  },
  {
   "cell_type": "code",
   "execution_count": 72,
   "id": "3066f7fc-2942-4182-b01c-7f5287f2e880",
   "metadata": {},
   "outputs": [],
   "source": [
    "import cProfile\n",
    "import pstats\n",
    "from pstats import SortKey"
   ]
  },
  {
   "cell_type": "code",
   "execution_count": 75,
   "id": "136422f3-02f5-45d8-ba29-66c2afd517b2",
   "metadata": {},
   "outputs": [
    {
     "name": "stdout",
     "output_type": "stream",
     "text": [
      "--> guess 1+6-7=0 guesses_left 5\n",
      "score ?----?- 2050\n",
      "answers 128\n",
      "--> guess 2*19=38 guesses_left 4\n",
      "score --?++-- 352\n",
      "answers 1\n",
      "--> guess 99/9=11 guesses_left 3\n",
      "score +++++++ 5461\n",
      "Wed Sep 14 13:59:59 2022    stats\n",
      "\n",
      "         133518 function calls (133497 primitive calls) in 0.280 seconds\n",
      "\n",
      "   Ordered by: cumulative time\n",
      "   List reduced from 60 to 20 due to restriction <20>\n",
      "\n",
      "   ncalls  tottime  percall  cumtime  percall filename:lineno(function)\n",
      "        1    0.000    0.000    0.280    0.280 {built-in method builtins.exec}\n",
      "        1    0.000    0.000    0.280    0.280 <string>:1(<module>)\n",
      "        1    0.000    0.000    0.280    0.280 /Users/olivne/oren/nerdle-solver/nerdle.py:190(solve)\n",
      "        1    0.000    0.000    0.280    0.280 /Users/olivne/oren/nerdle-solver/nerdle.py:195(solve_adversary)\n",
      "        2    0.000    0.000    0.279    0.140 /Users/olivne/oren/nerdle-solver/nerdle.py:226(make_guess)\n",
      "        2    0.004    0.002    0.266    0.133 {built-in method builtins.min}\n",
      "    13324    0.093    0.000    0.262    0.000 /Users/olivne/oren/nerdle-solver/nerdle.py:239(<genexpr>)\n",
      "    13322    0.013    0.000    0.160    0.000 /Users/olivne/opt/miniconda3/envs/nerdle/lib/python3.10/collections/__init__.py:565(__init__)\n",
      "    13322    0.009    0.000    0.147    0.000 /Users/olivne/opt/miniconda3/envs/nerdle/lib/python3.10/collections/__init__.py:640(update)\n",
      "    13322    0.125    0.000    0.125    0.000 {built-in method _collections._count_elements}\n",
      "    13338    0.005    0.000    0.013    0.000 {built-in method builtins.isinstance}\n",
      "        2    0.011    0.005    0.011    0.005 /Users/olivne/oren/nerdle-solver/nerdle.py:165(restrict_by_answers)\n",
      "    13322    0.003    0.000    0.008    0.000 /Users/olivne/opt/miniconda3/envs/nerdle/lib/python3.10/abc.py:117(__instancecheck__)\n",
      "    13322    0.006    0.000    0.006    0.000 {built-in method builtins.max}\n",
      "    13322    0.004    0.000    0.004    0.000 {built-in method _abc._abc_instancecheck}\n",
      "        2    0.003    0.001    0.003    0.001 /Users/olivne/oren/nerdle-solver/nerdle.py:161(answers_of_score)\n",
      "    13322    0.002    0.000    0.002    0.000 /Users/olivne/oren/nerdle-solver/nerdle.py:170(score_values)\n",
      "    13322    0.002    0.000    0.002    0.000 {method 'values' of 'dict' objects}\n",
      "        8    0.000    0.000    0.000    0.000 {built-in method builtins.print}\n",
      "       16    0.000    0.000    0.000    0.000 /Users/olivne/opt/miniconda3/envs/nerdle/lib/python3.10/site-packages/ipykernel/iostream.py:518(write)\n",
      "\n",
      "\n"
     ]
    }
   ],
   "source": [
    "cProfile.run('guess_history, hint_history, answer_size_history = nerdle.NerdleSolver(solver_data).solve(\"99/9=11\", initial_guess=\"1+6-7=0\", debug=True)', 'stats')\n",
    "p = pstats.Stats('stats')\n",
    "p.sort_stats(SortKey.CUMULATIVE).print_stats(20);"
   ]
  },
  {
   "cell_type": "markdown",
   "id": "028bf7ad-db41-46e6-b583-8cd47e30a01d",
   "metadata": {},
   "source": [
    "Looks like Cython gives 2x speedup for the core function `score_guess`:"
   ]
  },
  {
   "cell_type": "code",
   "execution_count": 76,
   "id": "4658070b-abb4-4c46-942e-22c74dcaabc7",
   "metadata": {},
   "outputs": [
    {
     "name": "stdout",
     "output_type": "stream",
     "text": [
      "Wed Sep 14 14:00:02 2022    stats\n",
      "\n",
      "         200003 function calls in 0.553 seconds\n",
      "\n",
      "   Ordered by: cumulative time\n",
      "\n",
      "   ncalls  tottime  percall  cumtime  percall filename:lineno(function)\n",
      "        1    0.000    0.000    0.553    0.553 {built-in method builtins.exec}\n",
      "        1    0.043    0.043    0.553    0.553 <string>:1(<module>)\n",
      "   200000    0.510    0.000    0.510    0.000 {score_guess.score_guess}\n",
      "        1    0.000    0.000    0.000    0.000 {method 'disable' of '_lsprof.Profiler' objects}\n",
      "\n",
      "\n"
     ]
    },
    {
     "data": {
      "text/plain": [
       "<pstats.Stats at 0x1cfb44880>"
      ]
     },
     "execution_count": 76,
     "metadata": {},
     "output_type": "execute_result"
    }
   ],
   "source": [
    "import score_guess as sg\n",
    "cProfile.run('for _ in range(200000): sg.score_guess(\"1*1*6=6\", \"99/9=11\")', 'stats')\n",
    "p = pstats.Stats('stats')\n",
    "p.sort_stats(SortKey.CUMULATIVE).print_stats(20)"
   ]
  }
 ],
 "metadata": {
  "kernelspec": {
   "display_name": "Python 3 (ipykernel)",
   "language": "python",
   "name": "python3"
  },
  "language_info": {
   "codemirror_mode": {
    "name": "ipython",
    "version": 3
   },
   "file_extension": ".py",
   "mimetype": "text/x-python",
   "name": "python",
   "nbconvert_exporter": "python",
   "pygments_lexer": "ipython3",
   "version": "3.10.6"
  }
 },
 "nbformat": 4,
 "nbformat_minor": 5
}
