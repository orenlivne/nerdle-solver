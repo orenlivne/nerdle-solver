{
 "cells": [
  {
   "cell_type": "markdown",
   "id": "50efce8c-517b-47ca-9d81-70d88cdb5a5c",
   "metadata": {},
   "source": [
    "# Mini-Nerdle Solver Test"
   ]
  },
  {
   "cell_type": "code",
   "execution_count": 2,
   "id": "1ce14177-17d6-4ba1-bdd4-74ae65e07847",
   "metadata": {},
   "outputs": [
    {
     "name": "stdout",
     "output_type": "stream",
     "text": [
      "The autoreload extension is already loaded. To reload it, use:\n",
      "  %reload_ext autoreload\n"
     ]
    }
   ],
   "source": [
    "%load_ext autoreload\n",
    "%autoreload 2\n",
    "\n",
    "import itertools\n",
    "\n",
    "import nerdle\n",
    "import util\n",
    "from nerdle import Hint, NerdleData"
   ]
  },
  {
   "cell_type": "code",
   "execution_count": 34,
   "id": "3e772c55-2cd9-4034-9a40-da234e49e783",
   "metadata": {},
   "outputs": [],
   "source": [
    "# Mini-Nerdle.\n",
    "NUM_SLOTS = 6\n",
    "SCORE_DICT_FILE = \"mini_nerdle.pickle\"\n",
    "\n",
    "solver_data = nerdle.get_solver_data(NUM_SLOTS, SCORE_DICT_FILE)"
   ]
  },
  {
   "cell_type": "code",
   "execution_count": 35,
   "id": "3afd369f-ec7b-4851-a58c-fcb9c0392625",
   "metadata": {},
   "outputs": [
    {
     "name": "stdout",
     "output_type": "stream",
     "text": [
      "206\n",
      "4*3=12 4=* 206\n",
      "8*4=32 8=* 206\n",
      "12/6=2 1=2 206\n",
      "15-6=9 1=5 206\n",
      "11-5=6 1=1 206\n",
      "4+7=11 4=+ 206\n",
      "6+6=12 6=+ 206\n",
      "10-3=7 1=0 206\n",
      "7+3=10 7=+ 206\n",
      "6*9=54 6=* 206\n",
      "9+7=16 9=+ 206\n",
      "7+9=16 7=+ 206\n",
      "15/3=5 1=5 206\n",
      "27/9=3 2=7 206\n",
      "14-9=5 1=4 206\n",
      "7*3=21 7=* 206\n",
      "8*9=72 8=* 206\n",
      "45/9=5 4=5 206\n",
      "20/5=4 2=0 206\n",
      "36/4=9 3=6 206\n",
      "9+9=18 9=+ 206\n",
      "13-4=9 1=3 206\n",
      "7+5=12 7=+ 206\n",
      "9+3=12 9=+ 206\n",
      "11-2=9 1=1 206\n",
      "11-9=2 1=1 206\n",
      "14/7=2 1=4 206\n",
      "25/5=5 2=5 206\n",
      "36/6=6 3=6 206\n",
      "54/6=9 5=4 206\n",
      "24/8=3 2=4 206\n",
      "8+5=13 8=+ 206\n",
      "8+4=12 8=+ 206\n",
      "15/5=3 1=5 206\n",
      "12-4=8 1=2 206\n",
      "13-9=4 1=3 206\n",
      "15-9=6 1=5 206\n",
      "5+8=13 5=+ 206\n",
      "5*2=10 5=* 206\n",
      "9+2=11 9=+ 206\n",
      "28/4=7 2=8 206\n",
      "2*7=14 2=* 206\n",
      "36/9=4 3=6 206\n",
      "7+7=14 7=+ 206\n",
      "8*8=64 8=* 206\n",
      "13-5=8 1=3 206\n",
      "7*8=56 7=* 206\n",
      "10-7=3 1=0 206\n",
      "63/7=9 6=3 206\n",
      "15-7=8 1=5 206\n",
      "9+4=13 9=+ 206\n",
      "81/9=9 8=1 206\n",
      "3+7=10 3=+ 206\n",
      "7*6=42 7=* 206\n",
      "8*6=48 8=* 206\n",
      "32/4=8 3=2 206\n",
      "8+8=16 8=+ 206\n",
      "40/8=5 4=0 206\n",
      "4+8=12 4=+ 206\n",
      "9*7=63 9=* 206\n",
      "4*5=20 4=* 206\n",
      "9+8=17 9=+ 206\n",
      "10-5=5 1=0 206\n",
      "18/2=9 1=8 206\n",
      "14-7=7 1=4 206\n",
      "24/6=4 2=4 206\n",
      "7*4=28 7=* 206\n",
      "6+9=15 6=+ 206\n",
      "7+4=11 7=+ 206\n",
      "8*3=24 8=* 206\n",
      "16/8=2 1=6 206\n",
      "3*5=15 3=* 206\n",
      "40/5=8 4=0 206\n",
      "5*8=40 5=* 206\n",
      "13-7=6 1=3 206\n",
      "6*2=12 6=* 206\n",
      "11-8=3 1=1 206\n",
      "21/7=3 2=1 206\n",
      "11-4=7 1=1 206\n",
      "11-7=4 1=1 206\n",
      "12/3=4 1=2 206\n",
      "1+9=10 1=+ 206\n",
      "17-9=8 1=7 206\n",
      "3*4=12 3=* 206\n",
      "49/7=7 4=9 206\n",
      "6*6=36 6=* 206\n",
      "14-8=6 1=4 206\n",
      "6*8=48 6=* 206\n",
      "10-1=9 1=0 206\n",
      "72/8=9 7=2 206\n",
      "28/7=4 2=8 206\n",
      "21/3=7 2=1 206\n",
      "7*5=35 7=* 206\n",
      "9+6=15 9=+ 206\n",
      "10-9=1 1=0 206\n",
      "5*9=45 5=* 206\n",
      "14-5=9 1=4 206\n",
      "30/5=6 3=0 206\n",
      "3+8=11 3=+ 206\n",
      "8+9=17 8=+ 206\n",
      "35/7=5 3=5 206\n",
      "7*2=14 7=* 206\n",
      "8+7=15 8=+ 206\n",
      "6+7=13 6=+ 206\n",
      "15-8=7 1=5 206\n",
      "12/2=6 1=2 206\n",
      "16/2=8 1=6 206\n",
      "16/4=4 1=6 206\n",
      "18/9=2 1=8 206\n",
      "12-9=3 1=2 206\n",
      "48/8=6 4=8 206\n",
      "7*7=49 7=* 206\n",
      "17-8=9 1=7 206\n",
      "5+9=14 5=+ 206\n",
      "42/6=7 4=2 206\n",
      "3*8=24 3=* 206\n",
      "27/3=9 2=7 206\n",
      "16-8=8 1=6 206\n",
      "4*4=16 4=* 206\n",
      "5+5=10 5=+ 206\n",
      "9+5=14 9=+ 206\n",
      "10-6=4 1=0 206\n",
      "9*3=27 9=* 206\n",
      "56/7=8 5=6 206\n",
      "16-9=7 1=6 206\n",
      "7+8=15 7=+ 206\n",
      "4+6=10 4=+ 206\n",
      "3*6=18 3=* 206\n",
      "6*3=18 6=* 206\n",
      "9*5=45 9=* 206\n",
      "11-3=8 1=1 206\n",
      "35/5=7 3=5 206\n",
      "54/9=6 5=4 206\n",
      "2+9=11 2=+ 206\n",
      "9*6=54 9=* 206\n",
      "63/9=7 6=3 206\n",
      "2*5=10 2=* 206\n",
      "12-8=4 1=2 206\n",
      "18/6=3 1=8 206\n",
      "8+3=11 8=+ 206\n",
      "32/8=4 3=2 206\n",
      "4*9=36 4=* 206\n",
      "4+9=13 4=+ 206\n",
      "10/2=5 1=0 206\n",
      "11-6=5 1=1 206\n",
      "12/4=3 1=2 206\n",
      "13-6=7 1=3 206\n",
      "6+8=14 6=+ 206\n",
      "5+6=11 5=+ 206\n",
      "12-7=5 1=2 206\n",
      "9+1=10 9=+ 206\n",
      "7+6=13 7=+ 206\n",
      "24/3=8 2=4 206\n",
      "6*4=24 6=* 206\n",
      "30/6=5 3=0 206\n",
      "2*8=16 2=* 206\n",
      "5*5=25 5=* 206\n",
      "20/4=5 2=0 206\n",
      "5*7=35 5=* 206\n",
      "8*5=40 8=* 206\n",
      "24/4=6 2=4 206\n",
      "42/7=6 4=2 206\n",
      "45/5=9 4=5 206\n",
      "3+9=12 3=+ 206\n",
      "4*6=24 4=* 206\n",
      "5*6=30 5=* 206\n",
      "12-3=9 1=2 206\n",
      "72/9=8 7=2 206\n",
      "4*7=28 4=* 206\n",
      "48/6=8 4=8 206\n",
      "14/2=7 1=4 206\n",
      "2*6=12 2=* 206\n",
      "6*5=30 6=* 206\n",
      "10/5=2 1=0 206\n",
      "18/3=6 1=8 206\n",
      "8+2=10 8=+ 206\n",
      "3*9=27 3=* 206\n",
      "8*7=56 8=* 206\n",
      "2+8=10 2=+ 206\n",
      "12-6=6 1=2 206\n",
      "3*7=21 3=* 206\n",
      "5*4=20 5=* 206\n",
      "7*9=63 7=* 206\n",
      "10-4=6 1=0 206\n",
      "10-8=2 1=0 206\n",
      "16-7=9 1=6 206\n",
      "9*2=18 9=* 206\n",
      "8+6=14 8=+ 206\n",
      "9*9=81 9=* 206\n",
      "5*3=15 5=* 206\n",
      "13-8=5 1=3 206\n",
      "18-9=9 1=8 206\n",
      "4*8=32 4=* 206\n",
      "8*2=16 8=* 206\n",
      "2*9=18 2=* 206\n",
      "6+4=10 6=+ 206\n",
      "5+7=12 5=+ 206\n",
      "12-5=7 1=2 206\n",
      "6+5=11 6=+ 206\n",
      "6*7=42 6=* 206\n",
      "14-6=8 1=4 206\n",
      "10-2=8 1=0 206\n",
      "9*8=72 9=* 206\n",
      "9*4=36 9=* 206\n",
      "64/8=8 6=4 206\n",
      "56/8=7 5=6 206\n"
     ]
    }
   ],
   "source": [
    "d = solver_data.score_dict\n",
    "print(len(d))\n",
    "for key in d.keys():\n",
    "    print(key, \"\".join(map(str, key[0])) + \"=\" + str(key[1]), len(d[key]))"
   ]
  },
  {
   "cell_type": "code",
   "execution_count": 11,
   "id": "dc1fb9d8-2907-4eb3-8139-1fe65b874e17",
   "metadata": {},
   "outputs": [
    {
     "name": "stdout",
     "output_type": "stream",
     "text": [
      "520\n",
      "True\n"
     ]
    }
   ],
   "source": [
    "def score_to_hints(score):\n",
    "    return [nerdle.Hint(int(\"\".join(x), 2)) for x in grouper(bin(score)[2:].zfill(2 * NUM_SLOTS), 2)][::-1]\n",
    "\n",
    "score = nerdle.score_guess(\"54/9=6\", \"4*7=28\")\n",
    "print(score)\n",
    "print(util.score_to_hints(score, NUM_SLOTS) == [Hint.INCORRECT, Hint.MISPLACED, Hint.INCORRECT, Hint.INCORRECT, Hint.MISPLACED, Hint.INCORRECT])"
   ]
  },
  {
   "cell_type": "code",
   "execution_count": 37,
   "id": "05d46946-797b-484e-bd4a-1e74dc49c81a",
   "metadata": {},
   "outputs": [],
   "source": [
    "solver = nerdle.NerdleSolver(solver_data)\n",
    "guess_history, hint_history = solver.solve(\"4*7=28\", initial_guess=\"54/9=6\")"
   ]
  },
  {
   "cell_type": "code",
   "execution_count": 38,
   "id": "e59177ad-7a54-4836-b286-1519d4af64ba",
   "metadata": {},
   "outputs": [
    {
     "data": {
      "text/plain": [
       "(['54/9=6', '2*7=14', '4*7=28'], [520, 2134, 1365])"
      ]
     },
     "execution_count": 38,
     "metadata": {},
     "output_type": "execute_result"
    }
   ],
   "source": [
    "guess_history, hint_history "
   ]
  },
  {
   "cell_type": "code",
   "execution_count": 13,
   "id": "9832f6a1-fd0c-40da-85f0-b3824ca5cbae",
   "metadata": {},
   "outputs": [
    {
     "data": {
      "text/plain": [
       "206"
      ]
     },
     "execution_count": 13,
     "metadata": {},
     "output_type": "execute_result"
    }
   ],
   "source": [
    "len(d[guess])"
   ]
  },
  {
   "cell_type": "code",
   "execution_count": 22,
   "id": "967c3fb1-bb72-4fb4-85b8-32239829339a",
   "metadata": {},
   "outputs": [
    {
     "data": {
      "text/plain": [
       "(['4*7'], 28)"
      ]
     },
     "execution_count": 22,
     "metadata": {},
     "output_type": "execute_result"
    }
   ],
   "source": [
    "x = \"4*7=28\".split(\"=\")\n",
    "x[0].split(\"+-\\*\\/\"), int(x[1])"
   ]
  },
  {
   "cell_type": "code",
   "execution_count": 23,
   "id": "aa24d70b-eaa7-48a7-ae7c-90ce90f463e1",
   "metadata": {},
   "outputs": [
    {
     "data": {
      "text/plain": [
       "['2', '3']"
      ]
     },
     "execution_count": 23,
     "metadata": {},
     "output_type": "execute_result"
    }
   ],
   "source": [
    "\"2*3\".split(\"*\")"
   ]
  },
  {
   "cell_type": "code",
   "execution_count": 31,
   "id": "752af02a-4ddd-423f-93b8-bc818966fb2f",
   "metadata": {},
   "outputs": [
    {
     "data": {
      "text/plain": [
       "[4, 7]"
      ]
     },
     "execution_count": 31,
     "metadata": {},
     "output_type": "execute_result"
    }
   ],
   "source": [
    "import re\n",
    "list(map(int, re.split('\\+|-|\\*|\\/', x[0])))"
   ]
  },
  {
   "cell_type": "code",
   "execution_count": 33,
   "id": "b2b7780d-0e7c-4bf4-9158-d4bc4ec6b985",
   "metadata": {},
   "outputs": [
    {
     "data": {
      "text/plain": [
       "['4', '7']"
      ]
     },
     "execution_count": 33,
     "metadata": {},
     "output_type": "execute_result"
    }
   ],
   "source": [
    "re.split('\\+|-|\\*|\\/', x[0])"
   ]
  },
  {
   "cell_type": "code",
   "execution_count": null,
   "id": "241af2d4-581a-46d7-b71f-f3db4ba1a48b",
   "metadata": {},
   "outputs": [],
   "source": []
  }
 ],
 "metadata": {
  "kernelspec": {
   "display_name": "Python 3 (ipykernel)",
   "language": "python",
   "name": "python3"
  },
  "language_info": {
   "codemirror_mode": {
    "name": "ipython",
    "version": 3
   },
   "file_extension": ".py",
   "mimetype": "text/x-python",
   "name": "python",
   "nbconvert_exporter": "python",
   "pygments_lexer": "ipython3",
   "version": "3.10.6"
  }
 },
 "nbformat": 4,
 "nbformat_minor": 5
}
