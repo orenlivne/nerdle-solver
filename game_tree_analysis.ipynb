{
 "cells": [
  {
   "cell_type": "markdown",
   "id": "50efce8c-517b-47ca-9d81-70d88cdb5a5c",
   "metadata": {},
   "source": [
    "# Nerdle Solver - Initial Guess Assessment Optimization\n",
    "We prove (by brute-force) that you can always solve mini-Nerdle in at most $4$ guesses regardless of the starting expression, provided you use the optimal strategy. The worst start having repeating numbers and thus less information, e.g. `10-5=5`. The best start has all different numbers: `28/7=4`, which needs at most $3$ guesses and $2.65 \\pm 0.5$ guesses.\n",
    "\n",
    "To find the best initial guess, we map out the game tree."
   ]
  },
  {
   "cell_type": "code",
   "execution_count": 300,
   "id": "1ce14177-17d6-4ba1-bdd4-74ae65e07847",
   "metadata": {},
   "outputs": [
    {
     "name": "stdout",
     "output_type": "stream",
     "text": [
      "The autoreload extension is already loaded. To reload it, use:\n",
      "  %reload_ext autoreload\n"
     ]
    }
   ],
   "source": [
    "%load_ext autoreload\n",
    "%autoreload 2\n",
    "\n",
    "import collections\n",
    "import ctypes\n",
    "import itertools\n",
    "import multiprocessing\n",
    "import numpy as np\n",
    "import matplotlib.pyplot as plt\n",
    "\n",
    "import analysis\n",
    "import nerdle\n",
    "import score as s\n",
    "import generator\n",
    "sgo = ctypes.CDLL(s.SCORE_GUESS_OPT_SO)\n",
    "from nerdle import Hint"
   ]
  },
  {
   "cell_type": "markdown",
   "id": "7f5156fa-001e-4a9a-8969-b1a8038c6438",
   "metadata": {},
   "source": [
    "## Initial Guess Optimization"
   ]
  },
  {
   "cell_type": "code",
   "execution_count": 345,
   "id": "667797cf-28cb-4127-a26c-66b2f92fb85e",
   "metadata": {},
   "outputs": [
    {
     "name": "stdout",
     "output_type": "stream",
     "text": [
      "num_slots 6\n",
      "Building tree\n",
      " Node[key=(87, '3*8=24', 10), answers=206, score=(206, 206), children=73]\n",
      "\t Node[key=(145, '6*9=54', 1), answers=9, score=(206, 9), children=9]\n",
      "\t Node[key=(44, '15-6=9', 1), answers=9, score=(206, 9), children=9]\n",
      "\t Node[key=(12, '11-2=9', 1), answers=8, score=(206, 8), children=8]\n",
      "\t Node[key=(3, '10-3=7', 1), answers=8, score=(206, 8), children=8]\n",
      "\t Node[key=(15, '11-5=6', 1), answers=10, score=(206, 10), children=10]\n",
      "\t Node[key=(0, '1+9=10', 1), answers=3, score=(206, 3), children=3]\n",
      "\t Node[key=(10, '10/2=5', 2), answers=10, score=(206, 10), children=9]\n",
      "\t Node[key=(13, '11-3=8', 1), answers=6, score=(206, 6), children=6]\n",
      "\t Node[key=(3, '10-3=7', 1), answers=6, score=(206, 6), children=6]\n",
      "\t Node[key=(0, '1+9=10', 1), answers=2, score=(206, 2), children=2]\n",
      "\t Node[key=(0, '1+9=10', 1), answers=2, score=(206, 2), children=2]\n",
      "\t Node[key=None, answers=1, score=(206, 1), children=0]\n",
      "\t Node[key=None, answers=1, score=(206, 1), children=0]\n",
      "\t Node[key=None, answers=1, score=(206, 1), children=0]\n",
      "\t Node[key=None, answers=1, score=(206, 1), children=0]\n",
      "\t Node[key=(38, '14-6=8', 1), answers=7, score=(206, 7), children=7]\n",
      "\t Node[key=(3, '10-3=7', 1), answers=6, score=(206, 6), children=6]\n",
      "\t Node[key=(45, '15-7=8', 1), answers=9, score=(206, 9), children=9]\n",
      "\t Node[key=(63, '2*5=10', 1), answers=4, score=(206, 4), children=4]\n",
      "\t Node[key=(63, '2*5=10', 1), answers=2, score=(206, 2), children=2]\n",
      "\t Node[key=(0, '1+9=10', 1), answers=2, score=(206, 2), children=2]\n",
      "\t Node[key=(0, '1+9=10', 1), answers=4, score=(206, 4), children=4]\n",
      "\t Node[key=None, answers=1, score=(206, 1), children=0]\n",
      "\t Node[key=(128, '5*9=45', 1), answers=5, score=(206, 5), children=5]\n",
      "\t Node[key=(0, '1+9=10', 1), answers=2, score=(206, 2), children=2]\n",
      "\t Node[key=(2, '10-2=8', 1), answers=2, score=(206, 2), children=2]\n",
      "\t Node[key=None, answers=1, score=(206, 1), children=0]\n",
      "\t Node[key=None, answers=1, score=(206, 1), children=0]\n",
      "\t Node[key=None, answers=1, score=(206, 1), children=0]\n",
      "\t Node[key=(0, '1+9=10', 1), answers=2, score=(206, 2), children=2]\n",
      "\t Node[key=None, answers=1, score=(206, 1), children=0]\n",
      "\t Node[key=None, answers=1, score=(206, 1), children=0]\n",
      "\t Node[key=None, answers=1, score=(206, 1), children=0]\n",
      "\t Node[key=None, answers=1, score=(206, 1), children=0]\n",
      "\t Node[key=(5, '10-5=5', 1), answers=5, score=(206, 5), children=5]\n",
      "\t Node[key=None, answers=1, score=(206, 1), children=0]\n",
      "\t Node[key=None, answers=1, score=(206, 1), children=0]\n",
      "\t Node[key=None, answers=1, score=(206, 1), children=0]\n",
      "\t Node[key=None, answers=1, score=(206, 1), children=0]\n",
      "\t Node[key=None, answers=1, score=(206, 1), children=0]\n",
      "\t Node[key=(63, '2*5=10', 1), answers=4, score=(206, 4), children=4]\n",
      "\t Node[key=(63, '2*5=10', 1), answers=2, score=(206, 2), children=2]\n",
      "\t Node[key=(64, '2*6=12', 1), answers=2, score=(206, 2), children=2]\n",
      "\t Node[key=(65, '2*7=14', 1), answers=2, score=(206, 2), children=2]\n",
      "\t Node[key=None, answers=1, score=(206, 1), children=0]\n",
      "\t Node[key=(0, '1+9=10', 1), answers=2, score=(206, 2), children=2]\n",
      "\t Node[key=(102, '4*4=16', 1), answers=4, score=(206, 4), children=4]\n",
      "\t Node[key=None, answers=1, score=(206, 1), children=0]\n",
      "\t Node[key=(0, '1+9=10', 1), answers=2, score=(206, 2), children=2]\n",
      "\t Node[key=(126, '5*7=35', 1), answers=8, score=(206, 8), children=8]\n",
      "\t Node[key=None, answers=1, score=(206, 1), children=0]\n",
      "\t Node[key=(0, '1+9=10', 1), answers=2, score=(206, 2), children=2]\n",
      "\t Node[key=None, answers=1, score=(206, 1), children=0]\n",
      "\t Node[key=(0, '1+9=10', 1), answers=3, score=(206, 3), children=3]\n",
      "\t Node[key=None, answers=1, score=(206, 1), children=0]\n",
      "\t Node[key=(64, '2*6=12', 1), answers=2, score=(206, 2), children=2]\n",
      "\t Node[key=(0, '1+9=10', 1), answers=2, score=(206, 2), children=2]\n",
      "\t Node[key=(64, '2*6=12', 1), answers=3, score=(206, 3), children=3]\n",
      "\t Node[key=None, answers=1, score=(206, 1), children=0]\n",
      "\t Node[key=(0, '1+9=10', 1), answers=2, score=(206, 2), children=2]\n",
      "\t Node[key=None, answers=1, score=(206, 1), children=0]\n",
      "\t Node[key=(3, '10-3=7', 1), answers=3, score=(206, 3), children=3]\n",
      "\t Node[key=None, answers=1, score=(206, 1), children=0]\n",
      "\t Node[key=None, answers=1, score=(206, 1), children=0]\n",
      "\t Node[key=(0, '1+9=10', 1), answers=2, score=(206, 2), children=2]\n",
      "\t Node[key=(0, '1+9=10', 1), answers=2, score=(206, 2), children=2]\n",
      "\t Node[key=None, answers=1, score=(206, 1), children=0]\n",
      "\t Node[key=None, answers=1, score=(206, 1), children=0]\n",
      "\t Node[key=(0, '1+9=10', 1), answers=2, score=(206, 2), children=2]\n",
      "\t Node[key=None, answers=1, score=(206, 1), children=0]\n",
      "\t Node[key=None, answers=1, score=(206, 1), children=0]\n",
      "\t Node[key=(3, '10-3=7', 1), answers=3, score=(206, 3), children=3]\n",
      "\t Node[key=None, answers=1, score=(206, 1), children=0]\n"
     ]
    },
    {
     "ename": "AssertionError",
     "evalue": "",
     "output_type": "error",
     "traceback": [
      "\u001b[0;31m---------------------------------------------------------------------------\u001b[0m",
      "\u001b[0;31mAssertionError\u001b[0m                            Traceback (most recent call last)",
      "Cell \u001b[0;32mIn [345], line 15\u001b[0m\n\u001b[1;32m     13\u001b[0m freq \u001b[38;5;241m=\u001b[39m collections\u001b[38;5;241m.\u001b[39mCounter(num_guesses)\n\u001b[1;32m     14\u001b[0m num_leaves \u001b[38;5;241m=\u001b[39m \u001b[38;5;28msum\u001b[39m(\u001b[38;5;241m1\u001b[39m \u001b[38;5;28;01mfor\u001b[39;00m node \u001b[38;5;129;01min\u001b[39;00m tdc\u001b[38;5;241m.\u001b[39mdepth \u001b[38;5;28;01mif\u001b[39;00m \u001b[38;5;129;01mnot\u001b[39;00m node\u001b[38;5;241m.\u001b[39mchildren)\n\u001b[0;32m---> 15\u001b[0m \u001b[38;5;28;01massert\u001b[39;00m num_nodes \u001b[38;5;241m==\u001b[39m \u001b[38;5;28mlen\u001b[39m(answers)\n\u001b[1;32m     17\u001b[0m \u001b[38;5;28mprint\u001b[39m(\u001b[38;5;124m\"\u001b[39m\u001b[38;5;124mBest initial guess\u001b[39m\u001b[38;5;124m\"\u001b[39m, solver_data\u001b[38;5;241m.\u001b[39manswers[tree\u001b[38;5;241m.\u001b[39mkey], \u001b[38;5;124m\"\u001b[39m\u001b[38;5;124m#distinct games\u001b[39m\u001b[38;5;124m\"\u001b[39m, \u001b[38;5;28mlen\u001b[39m(tdc\u001b[38;5;241m.\u001b[39mdepth), \u001b[38;5;124m\"\u001b[39m\u001b[38;5;124m#leaves\u001b[39m\u001b[38;5;124m\"\u001b[39m, num_leaves)\n\u001b[1;32m     18\u001b[0m \u001b[38;5;28;01mfor\u001b[39;00m k, v \u001b[38;5;129;01min\u001b[39;00m \u001b[38;5;28msorted\u001b[39m(freq\u001b[38;5;241m.\u001b[39mitems()):\n",
      "\u001b[0;31mAssertionError\u001b[0m: "
     ]
    }
   ],
   "source": [
    "for num_slots in range(6, 9):\n",
    "    print(\"num_slots\", num_slots)\n",
    "    db_file = \"db/nerdle{}.db\".format(num_slots) \n",
    "    solver_data = nerdle.create_solver_data(num_slots, db_file)\n",
    "    d = solver_data.score_db\n",
    "\n",
    "    print(\"Building tree\")\n",
    "    tree = analysis.GameTreeBuilder(solver_data).build(debug=True)\n",
    "    tdc = TreeDepthCalculator(tree)\n",
    "\n",
    "    # Distribution of #guesses for all answers.\n",
    "    num_guesses = np.array([depth for node, depth in tdc.depth.items() if not node.children]) + 1\n",
    "    freq = collections.Counter(num_guesses)\n",
    "    num_leaves = sum(1 for node in tdc.depth if not node.children)\n",
    "\n",
    "    print(\"Best initial guess\", solver_data.answers[tree.key], \"#distinct games\", len(tdc.depth), \"#leaves\", num_leaves)\n",
    "    for k, v in sorted(freq.items()):\n",
    "        print(\"{} guesses: {:6.2f}%\".format(k, 100 * v / num_leaves))\n",
    "    plt.hist(num_guesses);"
   ]
  },
  {
   "cell_type": "code",
   "execution_count": 330,
   "id": "06bfc235-6384-454d-ba27-6516477452e7",
   "metadata": {},
   "outputs": [
    {
     "name": "stdout",
     "output_type": "stream",
     "text": [
      "2 guesses:   1.44%\n",
      "3 guesses:  57.23%\n",
      "4 guesses:  41.33%\n"
     ]
    }
   ],
   "source": [
    "for k, v in sorted(freq.items()):\n",
    "    print(\"{} guesses: {:6.2f}%\".format(k, 100 * v / num_leaves))\n"
   ]
  },
  {
   "cell_type": "code",
   "execution_count": 329,
   "id": "22312a6e-9b12-419e-8742-11cd29150317",
   "metadata": {},
   "outputs": [
    {
     "data": {
      "text/plain": [
       "Counter({4: 3125, 3: 4327, 2: 109})"
      ]
     },
     "execution_count": 329,
     "metadata": {},
     "output_type": "execute_result"
    }
   ],
   "source": [
    "collections.Counter(num_guesses) / num_leaves"
   ]
  },
  {
   "cell_type": "code",
   "execution_count": 328,
   "id": "a4e7cde7-de15-4263-b325-220f0cd4b41a",
   "metadata": {},
   "outputs": [],
   "source": [
    "num_guesses = np.array([depth for node, depth in tdc.depth.items() if not node.children]) + 1"
   ]
  },
  {
   "cell_type": "code",
   "execution_count": 344,
   "id": "8e10b6bc-4168-4a51-ac60-36137880b5a4",
   "metadata": {},
   "outputs": [
    {
     "name": "stdout",
     "output_type": "stream",
     "text": [
      "num_slots 6\n",
      "CPU times: user 9.67 ms, sys: 67 µs, total: 9.74 ms\n",
      "Wall time: 9.81 ms\n",
      "3*8=24 bucket size 10 reduction factor 0.04854368932038835\n",
      "num_slots 7\n",
      "CPU times: user 7.34 s, sys: 18.5 ms, total: 7.36 s\n",
      "Wall time: 7.37 s\n",
      "24-16=8 bucket size 158 reduction factor 0.020896706784816824\n",
      "num_slots 8\n",
      "CPU times: user 42.6 s, sys: 160 ms, total: 42.8 s\n",
      "Wall time: 42.9 s\n",
      "58-46=12 bucket size 101 reduction factor 0.005698809456638266\n"
     ]
    }
   ],
   "source": [
    "for num_slots in range(6, 9):\n",
    "    print(\"num_slots\", num_slots)\n",
    "    db_file = \"db/nerdle{}.db\".format(num_slots) \n",
    "    solver_data = nerdle.create_solver_data(num_slots, db_file)\n",
    "    d = solver_data.score_db\n",
    "    answers = solver_data.all_keys\n",
    "    %time bucket_size, _, k = min((max(collections.Counter(d[k]).values()), k not in answers, k) for k in solver_data.all_keys)\n",
    "    print(solver_data.answers[k], \"bucket size\", bucket_size, \"reduction factor\", d.shape[1] / bucket_size)"
   ]
  },
  {
   "cell_type": "code",
   "execution_count": null,
   "id": "a6a1db50-c6b6-4aa6-85f5-0a5b4db9ad14",
   "metadata": {},
   "outputs": [],
   "source": []
  }
 ],
 "metadata": {
  "kernelspec": {
   "display_name": "Python 3 (ipykernel)",
   "language": "python",
   "name": "python3"
  },
  "language_info": {
   "codemirror_mode": {
    "name": "ipython",
    "version": 3
   },
   "file_extension": ".py",
   "mimetype": "text/x-python",
   "name": "python",
   "nbconvert_exporter": "python",
   "pygments_lexer": "ipython3",
   "version": "3.10.6"
  }
 },
 "nbformat": 4,
 "nbformat_minor": 5
}
