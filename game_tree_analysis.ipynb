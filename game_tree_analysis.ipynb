{
 "cells": [
  {
   "cell_type": "markdown",
   "id": "50efce8c-517b-47ca-9d81-70d88cdb5a5c",
   "metadata": {},
   "source": [
    "# Nerdle Solver - Initial Guess Assessment Optimization\n",
    "We prove (by brute-force) that you can always solve mini-Nerdle in at most $4$ guesses regardless of the starting expression, provided you use the optimal strategy. The worst start having repeating numbers and thus less information, e.g. `10-5=5`. The best start has all different numbers: `28/7=4`, which needs at most $3$ guesses and $2.65 \\pm 0.5$ guesses.\n",
    "\n",
    "To find the best initial guess, we map out the game tree."
   ]
  },
  {
   "cell_type": "code",
   "execution_count": 300,
   "id": "1ce14177-17d6-4ba1-bdd4-74ae65e07847",
   "metadata": {},
   "outputs": [
    {
     "name": "stdout",
     "output_type": "stream",
     "text": [
      "The autoreload extension is already loaded. To reload it, use:\n",
      "  %reload_ext autoreload\n"
     ]
    }
   ],
   "source": [
    "%load_ext autoreload\n",
    "%autoreload 2\n",
    "\n",
    "import collections\n",
    "import ctypes\n",
    "import itertools\n",
    "import multiprocessing\n",
    "import numpy as np\n",
    "import matplotlib.pyplot as plt\n",
    "\n",
    "import analysis\n",
    "import nerdle\n",
    "import score as s\n",
    "import generator\n",
    "sgo = ctypes.CDLL(s.SCORE_GUESS_OPT_SO)\n",
    "from nerdle import Hint"
   ]
  },
  {
   "cell_type": "markdown",
   "id": "7f5156fa-001e-4a9a-8969-b1a8038c6438",
   "metadata": {},
   "source": [
    "## Initial Guess Optimization"
   ]
  },
  {
   "cell_type": "code",
   "execution_count": null,
   "id": "667797cf-28cb-4127-a26c-66b2f92fb85e",
   "metadata": {},
   "outputs": [
    {
     "name": "stdout",
     "output_type": "stream",
     "text": [
      "num_slots 6\n",
      "Building tree\n",
      "Best initial guess 3*8=24 #distinct games 250 #leaves 206\n",
      "2 guesses:  15.05%\n",
      "3 guesses:  83.98%\n",
      "4 guesses:   0.97%\n",
      "num_slots 7\n",
      "Building tree\n",
      "Best initial guess 24-16=8 #distinct games 9363 #leaves 7561\n",
      "2 guesses:   1.44%\n",
      "3 guesses:  57.23%\n",
      "4 guesses:  41.33%\n",
      "num_slots 8\n",
      "Building tree\n"
     ]
    }
   ],
   "source": [
    "for num_slots in range(6, 9):\n",
    "    print(\"num_slots\", num_slots)\n",
    "    db_file = \"db/nerdle{}.db\".format(num_slots) \n",
    "    solver_data = nerdle.create_solver_data(num_slots, db_file)\n",
    "    d = solver_data.score_db\n",
    "\n",
    "    print(\"Building tree\")\n",
    "    tree = analysis.GameTreeBuilder(solver_data).build()\n",
    "    tdc = TreeDepthCalculator(tree)\n",
    "\n",
    "    # Distribution of #guesses for all answers.\n",
    "    num_guesses = np.array([depth for node, depth in tdc.depth.items() if not node.children]) + 1\n",
    "    freq = collections.Counter(num_guesses)\n",
    "    num_leaves = sum(1 for node in tdc.depth if not node.children)\n",
    "\n",
    "    print(\"Best initial guess\", tree.key[1], \"#distinct games\", len(tdc.depth), \"#leaves\", num_leaves)\n",
    "    for k, v in sorted(freq.items()):\n",
    "        print(\"{} guesses: {:6.2f}%\".format(k, 100 * v / num_leaves))\n",
    "    plt.hist(num_guesses);"
   ]
  },
  {
   "cell_type": "code",
   "execution_count": 350,
   "id": "8e10b6bc-4168-4a51-ac60-36137880b5a4",
   "metadata": {},
   "outputs": [
    {
     "name": "stdout",
     "output_type": "stream",
     "text": [
      "num_slots 6\n",
      "CPU times: user 12.7 ms, sys: 395 µs, total: 13.1 ms\n",
      "Wall time: 13.4 ms\n",
      "3*8=24 bucket size 10 reduction factor 20.6\n",
      "num_slots 7\n",
      "CPU times: user 7.3 s, sys: 12.8 ms, total: 7.31 s\n",
      "Wall time: 7.32 s\n",
      "24-16=8 bucket size 158 reduction factor 47.9\n",
      "num_slots 8\n",
      "CPU times: user 41.1 s, sys: 92.4 ms, total: 41.2 s\n",
      "Wall time: 41.3 s\n",
      "58-46=12 bucket size 101 reduction factor 175.5\n"
     ]
    }
   ],
   "source": [
    "for num_slots in range(6, 9):\n",
    "    print(\"num_slots\", num_slots)\n",
    "    db_file = \"db/nerdle{}.db\".format(num_slots) \n",
    "    solver_data = nerdle.create_solver_data(num_slots, db_file)\n",
    "    d = solver_data.score_db\n",
    "    answers = solver_data.all_keys\n",
    "    %time bucket_size, _, k = min((max(collections.Counter(d[k]).values()), k not in answers, k) for k in solver_data.all_keys)\n",
    "    print(\"{} bucket size {} reduction factor {:.1f}\".format(\n",
    "        solver_data.answers[k], bucket_size, d.shape[1] / bucket_size))"
   ]
  },
  {
   "cell_type": "code",
   "execution_count": 352,
   "id": "a6a1db50-c6b6-4aa6-85f5-0a5b4db9ad14",
   "metadata": {},
   "outputs": [],
   "source": [
    "b = analysis._score_dict(answers, d, k) "
   ]
  },
  {
   "cell_type": "code",
   "execution_count": 360,
   "id": "f937f312-9962-4294-a318-524d100a99f6",
   "metadata": {},
   "outputs": [
    {
     "data": {
      "text/plain": [
       "(1650, 101)"
      ]
     },
     "execution_count": 360,
     "metadata": {},
     "output_type": "execute_result"
    }
   ],
   "source": [
    "len(b), max(map(len, b.values()))"
   ]
  },
  {
   "cell_type": "code",
   "execution_count": 359,
   "id": "1614f6b7-fb26-43e9-abd3-40d670398dcb",
   "metadata": {},
   "outputs": [
    {
     "data": {
      "text/plain": [
       "'58-46=12'"
      ]
     },
     "execution_count": 359,
     "metadata": {},
     "output_type": "execute_result"
    }
   ],
   "source": [
    "solver_data.answers[k]"
   ]
  },
  {
   "cell_type": "code",
   "execution_count": null,
   "id": "f411221c-0ba7-49f9-b39d-a22de1ec5f62",
   "metadata": {},
   "outputs": [],
   "source": []
  }
 ],
 "metadata": {
  "kernelspec": {
   "display_name": "Python 3 (ipykernel)",
   "language": "python",
   "name": "python3"
  },
  "language_info": {
   "codemirror_mode": {
    "name": "ipython",
    "version": 3
   },
   "file_extension": ".py",
   "mimetype": "text/x-python",
   "name": "python",
   "nbconvert_exporter": "python",
   "pygments_lexer": "ipython3",
   "version": "3.10.6"
  }
 },
 "nbformat": 4,
 "nbformat_minor": 5
}
