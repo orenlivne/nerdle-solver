{
 "cells": [
  {
   "cell_type": "markdown",
   "id": "50efce8c-517b-47ca-9d81-70d88cdb5a5c",
   "metadata": {},
   "source": [
    "# Nerdle Solver - Initial Guess Assessment Optimization\n",
    "We prove (by brute-force) that you can always solve mini-Nerdle in at most $4$ guesses regardless of the starting expression, provided you use the optimal strategy. The worst start having repeating numbers and thus less information, e.g. `10-5=5`. The best start has all different numbers: `28/7=4`, which needs at most $3$ guesses and $2.65 \\pm 0.5$ guesses.\n",
    "\n",
    "To find the best initial guess, we map out the game tree."
   ]
  },
  {
   "cell_type": "code",
   "execution_count": 2,
   "id": "1ce14177-17d6-4ba1-bdd4-74ae65e07847",
   "metadata": {},
   "outputs": [],
   "source": [
    "%load_ext autoreload\n",
    "%autoreload 2\n",
    "\n",
    "import collections\n",
    "import ctypes\n",
    "import itertools\n",
    "import multiprocessing\n",
    "import numpy as np\n",
    "import matplotlib.pyplot as plt\n",
    "import pickle\n",
    "import scipy.stats\n",
    "import cProfile\n",
    "import pstats\n",
    "import os\n",
    "from pstats import SortKey\n",
    "\n",
    "import analysis\n",
    "import nerdle\n",
    "import score as s\n",
    "import generator\n",
    "sgo = ctypes.CDLL(s.SCORE_GUESS_OPT_SO)\n",
    "from nerdle import Hint"
   ]
  },
  {
   "cell_type": "markdown",
   "id": "7f5156fa-001e-4a9a-8969-b1a8038c6438",
   "metadata": {},
   "source": [
    "## Initial Guess Optimization"
   ]
  },
  {
   "cell_type": "code",
   "execution_count": 3,
   "id": "e7289edd-673d-4d83-85e8-7800e9eef7f3",
   "metadata": {},
   "outputs": [],
   "source": [
    "slot_values = np.arange(5, 9, dtype=int)"
   ]
  },
  {
   "cell_type": "code",
   "execution_count": 64,
   "id": "667797cf-28cb-4127-a26c-66b2f92fb85e",
   "metadata": {},
   "outputs": [
    {
     "name": "stdout",
     "output_type": "stream",
     "text": [
      "num_slots 5\n",
      "Building tree\n",
      "num_slots 6\n",
      "Building tree\n",
      "num_slots 7\n",
      "Building tree\n",
      "num_slots 8\n",
      "Building tree\n"
     ]
    }
   ],
   "source": [
    "tree_by_slots = {}\n",
    "for num_slots in slot_values:\n",
    "    print(\"num_slots\", num_slots)\n",
    "    db_file = \"db/nerdle{}.db\".format(num_slots) \n",
    "    solver_data = nerdle.create_solver_data(num_slots, db_file)\n",
    "    d = solver_data.score_db\n",
    "\n",
    "    tree_file = \"db/nerdle{}_tree.pkl\".format(num_slots) \n",
    "    if os.path.exists(tree_file):\n",
    "        print(\"Loading tree\")\n",
    "        with open(tree_file, 'rb') as f:\n",
    "            tree = pickle.load(f)\n",
    "    else:\n",
    "        print(\"Building tree\")\n",
    "        %time tree = analysis.GameTreeBuilder(solver_data).build()\n",
    "        with open(tree_file, 'wb') as f:\n",
    "            pickle.dump(tree, f)\n",
    "    tree_by_slots[num_slots] = tree"
   ]
  },
  {
   "cell_type": "code",
   "execution_count": 79,
   "id": "a878056a-0486-46da-a826-81ee214608ab",
   "metadata": {},
   "outputs": [
    {
     "name": "stdout",
     "output_type": "stream",
     "text": [
      "num_slots 5\n",
      "Building tree\n",
      "CPU times: user 130 ms, sys: 2.05 ms, total: 132 ms\n",
      "Wall time: 135 ms\n",
      "num_slots 6\n",
      "Building tree\n",
      "CPU times: user 128 ms, sys: 2.79 ms, total: 131 ms\n",
      "Wall time: 134 ms\n",
      "num_slots 7\n",
      "Building tree\n",
      "Unexpected exception formatting exception. Falling back to standard exception\n",
      "num_slots 8\n"
     ]
    },
    {
     "name": "stderr",
     "output_type": "stream",
     "text": [
      "Traceback (most recent call last):\n",
      "  File \"/Users/olivne/opt/miniconda3/envs/nerdle/lib/python3.10/site-packages/IPython/core/magics/execution.py\", line 1316, in time\n",
      "    exec(code, glob, local_ns)\n",
      "  File \"<timed exec>\", line 1, in <module>\n",
      "  File \"/Users/olivne/oren/nerdle-solver/analysis.py\", line 56, in build\n",
      "    pre_traversal(root, lambda node: self._process_node(node, quantity), debug=debug)\n",
      "  File \"/Users/olivne/oren/nerdle-solver/analysis.py\", line 153, in pre_traversal\n",
      "  File \"/Users/olivne/oren/nerdle-solver/analysis.py\", line 153, in pre_traversal\n",
      "  File \"/Users/olivne/oren/nerdle-solver/analysis.py\", line 149, in pre_traversal\n",
      "    print(\"\\t\" * depth, node)\n",
      "  File \"/Users/olivne/oren/nerdle-solver/analysis.py\", line 56, in <lambda>\n",
      "    pre_traversal(root, lambda node: self._process_node(node, quantity), debug=debug)\n",
      "  File \"/Users/olivne/oren/nerdle-solver/analysis.py\", line 68, in _process_node\n",
      "    bucket_sizes = bucket_size_functor(score)\n",
      "  File \"/Users/olivne/oren/nerdle-solver/analysis.py\", line 48, in <lambda>\n",
      "    quantity = lambda a: bucket_size_functor(a) / a.shape[1]\n",
      "  File \"/Users/olivne/oren/nerdle-solver/analysis.py\", line 45, in <lambda>\n",
      "    lambda a: min_biased_multilevel_sampling(a, max_bucket_sizes, sample_factor=sample_factor)\n",
      "  File \"/Users/olivne/oren/nerdle-solver/analysis.py\", line 98, in min_biased_multilevel_sampling\n",
      "    # need a high accuracy in small result values, so we keep halving 'rows' in the loop below while increasing\n",
      "  File \"/Users/olivne/oren/nerdle-solver/analysis.py\", line 85, in max_bucket_sizes\n",
      "    return scipy.stats.mode(score, axis=1, keepdims=False)[1]\n",
      "  File \"/Users/olivne/oren/nerdle-solver/analysis.py\", line 85, in <listcomp>\n",
      "    return scipy.stats.mode(score, axis=1, keepdims=False)[1]\n",
      "  File \"/Users/olivne/opt/miniconda3/envs/nerdle/lib/python3.10/collections/__init__.py\", line 602, in most_common\n",
      "    return heapq.nlargest(n, self.items(), key=_itemgetter(1))\n",
      "KeyboardInterrupt\n",
      "\n",
      "During handling of the above exception, another exception occurred:\n",
      "\n",
      "Traceback (most recent call last):\n",
      "  File \"/Users/olivne/opt/miniconda3/envs/nerdle/lib/python3.10/site-packages/IPython/core/interactiveshell.py\", line 1997, in showtraceback\n",
      "    stb = self.InteractiveTB.structured_traceback(\n",
      "  File \"/Users/olivne/opt/miniconda3/envs/nerdle/lib/python3.10/site-packages/IPython/core/ultratb.py\", line 1112, in structured_traceback\n",
      "    return FormattedTB.structured_traceback(\n",
      "  File \"/Users/olivne/opt/miniconda3/envs/nerdle/lib/python3.10/site-packages/IPython/core/ultratb.py\", line 1006, in structured_traceback\n",
      "    return VerboseTB.structured_traceback(\n",
      "  File \"/Users/olivne/opt/miniconda3/envs/nerdle/lib/python3.10/site-packages/IPython/core/ultratb.py\", line 859, in structured_traceback\n",
      "    formatted_exception = self.format_exception_as_a_whole(etype, evalue, etb, number_of_lines_of_context,\n",
      "  File \"/Users/olivne/opt/miniconda3/envs/nerdle/lib/python3.10/site-packages/IPython/core/ultratb.py\", line 812, in format_exception_as_a_whole\n",
      "    frames.append(self.format_record(r))\n",
      "  File \"/Users/olivne/opt/miniconda3/envs/nerdle/lib/python3.10/site-packages/IPython/core/ultratb.py\", line 730, in format_record\n",
      "    result += ''.join(_format_traceback_lines(frame_info.lines, Colors, self.has_colors, lvals))\n",
      "  File \"/Users/olivne/opt/miniconda3/envs/nerdle/lib/python3.10/site-packages/stack_data/utils.py\", line 145, in cached_property_wrapper\n",
      "    value = obj.__dict__[self.func.__name__] = self.func(obj)\n",
      "  File \"/Users/olivne/opt/miniconda3/envs/nerdle/lib/python3.10/site-packages/stack_data/core.py\", line 734, in lines\n",
      "    pieces = self.included_pieces\n",
      "  File \"/Users/olivne/opt/miniconda3/envs/nerdle/lib/python3.10/site-packages/stack_data/utils.py\", line 145, in cached_property_wrapper\n",
      "    value = obj.__dict__[self.func.__name__] = self.func(obj)\n",
      "  File \"/Users/olivne/opt/miniconda3/envs/nerdle/lib/python3.10/site-packages/stack_data/core.py\", line 681, in included_pieces\n",
      "    pos = scope_pieces.index(self.executing_piece)\n",
      "  File \"/Users/olivne/opt/miniconda3/envs/nerdle/lib/python3.10/site-packages/stack_data/utils.py\", line 145, in cached_property_wrapper\n",
      "    value = obj.__dict__[self.func.__name__] = self.func(obj)\n",
      "  File \"/Users/olivne/opt/miniconda3/envs/nerdle/lib/python3.10/site-packages/stack_data/core.py\", line 660, in executing_piece\n",
      "    return only(\n",
      "  File \"/Users/olivne/opt/miniconda3/envs/nerdle/lib/python3.10/site-packages/executing/executing.py\", line 164, in only\n",
      "    raise NotOneValueFound('Expected one value, found 0')\n",
      "executing.executing.NotOneValueFound: Expected one value, found 0\n"
     ]
    },
    {
     "name": "stdout",
     "output_type": "stream",
     "text": [
      "Building tree\n"
     ]
    },
    {
     "ename": "KeyboardInterrupt",
     "evalue": "",
     "output_type": "error",
     "traceback": [
      "\u001b[0;31m---------------------------------------------------------------------------\u001b[0m",
      "\u001b[0;31mKeyboardInterrupt\u001b[0m                         Traceback (most recent call last)",
      "File \u001b[0;32m<timed exec>:1\u001b[0m\n",
      "File \u001b[0;32m~/oren/nerdle-solver/analysis.py:56\u001b[0m, in \u001b[0;36mGameTreeBuilder.build\u001b[0;34m(self, debug, strategy, sample_factor)\u001b[0m\n\u001b[1;32m     48\u001b[0m quantity \u001b[38;5;241m=\u001b[39m \u001b[38;5;28;01mlambda\u001b[39;00m a: bucket_size_functor(a) \u001b[38;5;241m/\u001b[39m a\u001b[38;5;241m.\u001b[39mshape[\u001b[38;5;241m1\u001b[39m]\n\u001b[1;32m     49\u001b[0m root \u001b[38;5;241m=\u001b[39m Node(\n\u001b[1;32m     50\u001b[0m     \u001b[38;5;28;01mNone\u001b[39;00m,\n\u001b[1;32m     51\u001b[0m     np\u001b[38;5;241m.\u001b[39marange(\n\u001b[0;32m   (...)\u001b[0m\n\u001b[1;32m     54\u001b[0m     \u001b[38;5;28mself\u001b[39m\u001b[38;5;241m.\u001b[39m_score_db,\n\u001b[1;32m     55\u001b[0m     [])\n\u001b[0;32m---> 56\u001b[0m \u001b[43mpre_traversal\u001b[49m\u001b[43m(\u001b[49m\u001b[43mroot\u001b[49m\u001b[43m,\u001b[49m\u001b[43m \u001b[49m\u001b[38;5;28;43;01mlambda\u001b[39;49;00m\u001b[43m \u001b[49m\u001b[43mnode\u001b[49m\u001b[43m:\u001b[49m\u001b[43m \u001b[49m\u001b[38;5;28;43mself\u001b[39;49m\u001b[38;5;241;43m.\u001b[39;49m\u001b[43m_process_node\u001b[49m\u001b[43m(\u001b[49m\u001b[43mnode\u001b[49m\u001b[43m,\u001b[49m\u001b[43m \u001b[49m\u001b[43mquantity\u001b[49m\u001b[43m)\u001b[49m\u001b[43m,\u001b[49m\u001b[43m \u001b[49m\u001b[43mdebug\u001b[49m\u001b[38;5;241;43m=\u001b[39;49m\u001b[43mdebug\u001b[49m\u001b[43m)\u001b[49m\n\u001b[1;32m     57\u001b[0m \u001b[38;5;28;01mreturn\u001b[39;00m root\n",
      "File \u001b[0;32m~/oren/nerdle-solver/analysis.py:149\u001b[0m, in \u001b[0;36mpre_traversal\u001b[0;34m(node, process_node, depth, debug)\u001b[0m\n\u001b[1;32m    147\u001b[0m process_node(node)\n\u001b[1;32m    148\u001b[0m \u001b[38;5;28;01mif\u001b[39;00m debug \u001b[38;5;129;01mand\u001b[39;00m depth \u001b[38;5;241m<\u001b[39m\u001b[38;5;241m=\u001b[39m \u001b[38;5;241m1\u001b[39m:\n\u001b[0;32m--> 149\u001b[0m     \u001b[38;5;28mprint\u001b[39m(\u001b[38;5;124m\"\u001b[39m\u001b[38;5;130;01m\\t\u001b[39;00m\u001b[38;5;124m\"\u001b[39m \u001b[38;5;241m*\u001b[39m depth, node)\n\u001b[1;32m    150\u001b[0m \u001b[38;5;28;01mfor\u001b[39;00m child \u001b[38;5;129;01min\u001b[39;00m node\u001b[38;5;241m.\u001b[39mchildren:\n\u001b[1;32m    151\u001b[0m     pre_traversal(child, process_node, depth\u001b[38;5;241m=\u001b[39mdepth \u001b[38;5;241m+\u001b[39m \u001b[38;5;241m1\u001b[39m, debug\u001b[38;5;241m=\u001b[39mdebug)\n",
      "File \u001b[0;32m~/oren/nerdle-solver/analysis.py:56\u001b[0m, in \u001b[0;36mGameTreeBuilder.build.<locals>.<lambda>\u001b[0;34m(node)\u001b[0m\n\u001b[1;32m     48\u001b[0m quantity \u001b[38;5;241m=\u001b[39m \u001b[38;5;28;01mlambda\u001b[39;00m a: bucket_size_functor(a) \u001b[38;5;241m/\u001b[39m a\u001b[38;5;241m.\u001b[39mshape[\u001b[38;5;241m1\u001b[39m]\n\u001b[1;32m     49\u001b[0m root \u001b[38;5;241m=\u001b[39m Node(\n\u001b[1;32m     50\u001b[0m     \u001b[38;5;28;01mNone\u001b[39;00m,\n\u001b[1;32m     51\u001b[0m     np\u001b[38;5;241m.\u001b[39marange(\n\u001b[0;32m   (...)\u001b[0m\n\u001b[1;32m     54\u001b[0m     \u001b[38;5;28mself\u001b[39m\u001b[38;5;241m.\u001b[39m_score_db,\n\u001b[1;32m     55\u001b[0m     [])\n\u001b[0;32m---> 56\u001b[0m pre_traversal(root, \u001b[38;5;28;01mlambda\u001b[39;00m node: \u001b[38;5;28;43mself\u001b[39;49m\u001b[38;5;241;43m.\u001b[39;49m\u001b[43m_process_node\u001b[49m\u001b[43m(\u001b[49m\u001b[43mnode\u001b[49m\u001b[43m,\u001b[49m\u001b[43m \u001b[49m\u001b[43mquantity\u001b[49m\u001b[43m)\u001b[49m, debug\u001b[38;5;241m=\u001b[39mdebug)\n\u001b[1;32m     57\u001b[0m \u001b[38;5;28;01mreturn\u001b[39;00m root\n",
      "File \u001b[0;32m~/oren/nerdle-solver/analysis.py:68\u001b[0m, in \u001b[0;36mGameTreeBuilder._process_node\u001b[0;34m(self, node, bucket_size_functor)\u001b[0m\n\u001b[1;32m     66\u001b[0m score \u001b[38;5;241m=\u001b[39m node\u001b[38;5;241m.\u001b[39mscore\n\u001b[1;32m     67\u001b[0m \u001b[38;5;66;03m# Find best next guess.\u001b[39;00m\n\u001b[0;32m---> 68\u001b[0m bucket_sizes \u001b[38;5;241m=\u001b[39m bucket_size_functor(score)\n\u001b[1;32m     69\u001b[0m bucket_size, _, k_opt \u001b[38;5;241m=\u001b[39m \u001b[38;5;28mmin\u001b[39m((b, k \u001b[38;5;129;01mnot\u001b[39;00m \u001b[38;5;129;01min\u001b[39;00m answers, k) \u001b[38;5;28;01mfor\u001b[39;00m k, b \u001b[38;5;129;01min\u001b[39;00m \u001b[38;5;28menumerate\u001b[39m(bucket_sizes))\n\u001b[1;32m     71\u001b[0m \u001b[38;5;66;03m# TODO: use depth-first traversal and only keep leaf depth (=#guesses) and perhaps its solution path\u001b[39;00m\n\u001b[1;32m     72\u001b[0m \u001b[38;5;66;03m# to reduce memory of storing entire tree.\u001b[39;00m\n",
      "File \u001b[0;32m~/oren/nerdle-solver/analysis.py:48\u001b[0m, in \u001b[0;36mGameTreeBuilder.build.<locals>.<lambda>\u001b[0;34m(a)\u001b[0m\n\u001b[1;32m     46\u001b[0m \u001b[38;5;28;01melse\u001b[39;00m:\n\u001b[1;32m     47\u001b[0m     \u001b[38;5;28;01mraise\u001b[39;00m \u001b[38;5;167;01mValueError\u001b[39;00m(\u001b[38;5;124m\"\u001b[39m\u001b[38;5;124mUnknown max bucket calculation strategy \u001b[39m\u001b[38;5;132;01m{}\u001b[39;00m\u001b[38;5;124m\"\u001b[39m\u001b[38;5;241m.\u001b[39mformat(strategy))\n\u001b[0;32m---> 48\u001b[0m quantity \u001b[38;5;241m=\u001b[39m \u001b[38;5;28;01mlambda\u001b[39;00m a: \u001b[43mbucket_size_functor\u001b[49m\u001b[43m(\u001b[49m\u001b[43ma\u001b[49m\u001b[43m)\u001b[49m \u001b[38;5;241m/\u001b[39m a\u001b[38;5;241m.\u001b[39mshape[\u001b[38;5;241m1\u001b[39m]\n\u001b[1;32m     49\u001b[0m root \u001b[38;5;241m=\u001b[39m Node(\n\u001b[1;32m     50\u001b[0m     \u001b[38;5;28;01mNone\u001b[39;00m,\n\u001b[1;32m     51\u001b[0m     np\u001b[38;5;241m.\u001b[39marange(\n\u001b[0;32m   (...)\u001b[0m\n\u001b[1;32m     54\u001b[0m     \u001b[38;5;28mself\u001b[39m\u001b[38;5;241m.\u001b[39m_score_db,\n\u001b[1;32m     55\u001b[0m     [])\n\u001b[1;32m     56\u001b[0m pre_traversal(root, \u001b[38;5;28;01mlambda\u001b[39;00m node: \u001b[38;5;28mself\u001b[39m\u001b[38;5;241m.\u001b[39m_process_node(node, quantity), debug\u001b[38;5;241m=\u001b[39mdebug)\n",
      "File \u001b[0;32m~/oren/nerdle-solver/analysis.py:45\u001b[0m, in \u001b[0;36mGameTreeBuilder.build.<locals>.<lambda>\u001b[0;34m(a)\u001b[0m\n\u001b[1;32m     42\u001b[0m     bucket_size_functor \u001b[38;5;241m=\u001b[39m max_bucket_sizes\n\u001b[1;32m     43\u001b[0m \u001b[38;5;28;01melif\u001b[39;00m strategy \u001b[38;5;241m==\u001b[39m \u001b[38;5;124m\"\u001b[39m\u001b[38;5;124mmultilevel\u001b[39m\u001b[38;5;124m\"\u001b[39m:\n\u001b[1;32m     44\u001b[0m     bucket_size_functor \u001b[38;5;241m=\u001b[39m \\\n\u001b[0;32m---> 45\u001b[0m         \u001b[38;5;28;01mlambda\u001b[39;00m a: \u001b[43mmin_biased_multilevel_sampling\u001b[49m\u001b[43m(\u001b[49m\u001b[43ma\u001b[49m\u001b[43m,\u001b[49m\u001b[43m \u001b[49m\u001b[43mmax_bucket_sizes\u001b[49m\u001b[43m,\u001b[49m\u001b[43m \u001b[49m\u001b[43msample_factor\u001b[49m\u001b[38;5;241;43m=\u001b[39;49m\u001b[43msample_factor\u001b[49m\u001b[43m)\u001b[49m\n\u001b[1;32m     46\u001b[0m \u001b[38;5;28;01melse\u001b[39;00m:\n\u001b[1;32m     47\u001b[0m     \u001b[38;5;28;01mraise\u001b[39;00m \u001b[38;5;167;01mValueError\u001b[39;00m(\u001b[38;5;124m\"\u001b[39m\u001b[38;5;124mUnknown max bucket calculation strategy \u001b[39m\u001b[38;5;132;01m{}\u001b[39;00m\u001b[38;5;124m\"\u001b[39m\u001b[38;5;241m.\u001b[39mformat(strategy))\n",
      "File \u001b[0;32m~/oren/nerdle-solver/analysis.py:111\u001b[0m, in \u001b[0;36mmin_biased_multilevel_sampling\u001b[0;34m(score, quantity, min_sample_size, sample_factor)\u001b[0m\n\u001b[1;32m    109\u001b[0m quantities \u001b[38;5;241m=\u001b[39m quantity(score[rows][:, col_sample])\n\u001b[1;32m    110\u001b[0m result[rows] \u001b[38;5;241m=\u001b[39m quantities\n\u001b[0;32m--> 111\u001b[0m \u001b[38;5;28;01mif\u001b[39;00m sample_size \u001b[38;5;241m==\u001b[39m n:\n\u001b[1;32m    112\u001b[0m     \u001b[38;5;28;01mbreak\u001b[39;00m\n\u001b[1;32m    113\u001b[0m \u001b[38;5;66;03m# Restrict rows to the smaller half of quantity value.\u001b[39;00m\n\u001b[1;32m    114\u001b[0m \u001b[38;5;66;03m#  If the quantity distribution is sufficiently spread so that the median is not repeated many times, the\u001b[39;00m\n\u001b[1;32m    115\u001b[0m \u001b[38;5;66;03m# loop halves len(rows), so there ~ log2(m) repeats. But what happens when the median is repeated?\u001b[39;00m\n\u001b[1;32m    116\u001b[0m \u001b[38;5;66;03m# Truncate the list 'i' to half the size of rows, filling it with values < median and some values = median.\u001b[39;00m\n",
      "File \u001b[0;32m~/oren/nerdle-solver/analysis.py:83\u001b[0m, in \u001b[0;36mmax_bucket_sizes\u001b[0;34m(score)\u001b[0m\n\u001b[1;32m     81\u001b[0m \u001b[38;5;28;01mdef\u001b[39;00m \u001b[38;5;21mmax_bucket_sizes\u001b[39m(score) \u001b[38;5;241m-\u001b[39m\u001b[38;5;241m>\u001b[39m np\u001b[38;5;241m.\u001b[39mndarray:\n\u001b[1;32m     82\u001b[0m     \u001b[38;5;28;01mif\u001b[39;00m score\u001b[38;5;241m.\u001b[39mshape[\u001b[38;5;241m1\u001b[39m] \u001b[38;5;241m<\u001b[39m\u001b[38;5;241m=\u001b[39m \u001b[38;5;241m300\u001b[39m:\n\u001b[0;32m---> 83\u001b[0m         \u001b[38;5;28;01mreturn\u001b[39;00m np\u001b[38;5;241m.\u001b[39marray([collections\u001b[38;5;241m.\u001b[39mCounter(row)\u001b[38;5;241m.\u001b[39mmost_common(\u001b[38;5;241m1\u001b[39m)[\u001b[38;5;241m0\u001b[39m][\u001b[38;5;241m1\u001b[39m] \u001b[38;5;28;01mfor\u001b[39;00m row \u001b[38;5;129;01min\u001b[39;00m score])\n\u001b[1;32m     84\u001b[0m     \u001b[38;5;28;01melse\u001b[39;00m:\n\u001b[1;32m     85\u001b[0m         \u001b[38;5;28;01mreturn\u001b[39;00m scipy\u001b[38;5;241m.\u001b[39mstats\u001b[38;5;241m.\u001b[39mmode(score, axis\u001b[38;5;241m=\u001b[39m\u001b[38;5;241m1\u001b[39m, keepdims\u001b[38;5;241m=\u001b[39m\u001b[38;5;28;01mFalse\u001b[39;00m)[\u001b[38;5;241m1\u001b[39m]\n",
      "\u001b[0;31mKeyboardInterrupt\u001b[0m: "
     ]
    }
   ],
   "source": [
    "# Multilevel max bucket estimation.\n",
    "tree_by_slots_ml = {}\n",
    "for num_slots in slot_values:\n",
    "    print(\"num_slots\", num_slots)\n",
    "    db_file = \"db/nerdle{}.db\".format(num_slots) \n",
    "    solver_data = nerdle.create_solver_data(num_slots, db_file)\n",
    "    d = solver_data.score_db\n",
    "\n",
    "    print(\"Building tree\")\n",
    "    tree_file = \"db/nerdle{}_tree_ml.pkl\".format(num_slots) \n",
    "    if os.path.exists(tree_file):\n",
    "        with open(tree_file, 'rb') as f:\n",
    "            tree = pickle.load(f)\n",
    "    else:\n",
    "        %time tree = analysis.GameTreeBuilder(solver_data).build(strategy=\"multilevel\")\n",
    "        with open(tree_file, 'wb') as f:\n",
    "            pickle.dump(tree, f)\n",
    "    tree_by_slots_ml[num_slots] = tree"
   ]
  },
  {
   "cell_type": "code",
   "execution_count": 67,
   "id": "251d886f-192f-4d9d-8635-dffb72b0dc07",
   "metadata": {},
   "outputs": [
    {
     "name": "stdout",
     "output_type": "stream",
     "text": [
      "#slots 5 Avg 3.62 +- 0.93 Best initial guess 1+2=3 #nodes 286 #leaves 217\n",
      "2 guesses:   8.76%\n",
      "3 guesses:  43.78%\n",
      "4 guesses:  24.42%\n",
      "5 guesses:  23.04%\n",
      "#slots 6 Avg 2.86 +- 0.37 Best initial guess 3*8=24 #nodes 250 #leaves 206\n",
      "2 guesses:  15.05%\n",
      "3 guesses:  83.98%\n",
      "4 guesses:   0.97%\n",
      "5 guesses:   0.00%\n",
      "#slots 7 Avg 3.40 +- 0.52 Best initial guess 24-16=8 #nodes 9363 #leaves 7561\n",
      "2 guesses:   1.44%\n",
      "3 guesses:  57.23%\n",
      "4 guesses:  41.33%\n",
      "5 guesses:   0.00%\n",
      "#slots 8 Avg 3.29 +- 0.49 Best initial guess 58-46=12 #nodes 21593 #leaves 17723\n",
      "2 guesses:   1.68%\n",
      "3 guesses:  67.70%\n",
      "4 guesses:  30.62%\n",
      "5 guesses:   0.00%\n"
     ]
    }
   ],
   "source": [
    "freq_by_slots = {}\n",
    "min_num_guesses, max_num_guesses = 2, 5\n",
    "for num_slots in slot_values:\n",
    "    tree = tree_by_slots[num_slots]\n",
    "    tdc = analysis.TreeDepthCalculator(tree)\n",
    "    # Distribution of #guesses for all answers.\n",
    "    num_guesses = np.array([depth for node, depth in tdc.depth.items() if not node.children]) + 1\n",
    "    freq = collections.Counter(num_guesses)\n",
    "    num_leaves = sum(1 for node in tdc.depth if not node.children)\n",
    "\n",
    "    print(\"#slots {} Avg {:.2f} +- {:.2f} Best initial guess {} #nodes {} #leaves {}\".format(\n",
    "        num_slots, np.mean(num_guesses), np.std(num_guesses), tree.key[1], len(tdc.depth), num_leaves))\n",
    "    freq_by_slots[num_slots] = [100 * freq[k] / num_leaves if k in freq else 0 for k in range(min_num_guesses, max_num_guesses+1)]\n",
    "    for k, v in zip(range(min_num_guesses, max_num_guesses+1), freq_by_slots[num_slots]):\n",
    "        print(\"{} guesses: {:6.2f}%\".format(k, v))"
   ]
  },
  {
   "cell_type": "code",
   "execution_count": 604,
   "id": "779b4fd0-9f41-4016-a6b0-9b7379dbb1c0",
   "metadata": {},
   "outputs": [
    {
     "data": {
      "image/png": "[encoded data removed]",
      "text/plain": [
       "<Figure size 640x480 with 1 Axes>"
      ]
     },
     "metadata": {},
     "output_type": "display_data"
    }
   ],
   "source": [
    "labels = list(map(str, range(min_num_guesses, max_num_guesses+1)))\n",
    "\n",
    "x = np.arange(len(labels))  # the label locations\n",
    "width = 0.15  # the width of the bars\n",
    "\n",
    "fig, ax = plt.subplots()\n",
    "rects = [None] * num_slots\n",
    "for i, num_slots in enumerate(slot_values):\n",
    "    rects[i] = ax.bar(x + (i - 0.5 * len(slot_values)) * width, freq_by_slots[num_slots], width, label='{} Slots'.format(num_slots))\n",
    "\n",
    "# Add some text for labels, title and custom x-axis tick labels, etc.\n",
    "ax.set_xlabel('# Guesses')\n",
    "ax.set_ylabel('Frequency')\n",
    "ax.set_title('#Guesses Distribution by Problem Size')\n",
    "ax.set_xticks(x, labels)\n",
    "ax.legend()\n",
    "for i in range(len(slot_values)):\n",
    "    ax.bar_label(rects[i], labels=[\"{:.0f}\".format(x) for x in freq_by_slots[slot_values[i]]], padding=3)\n",
    "#for rect in rects:\n",
    "#    ax.bar_label(rect, padding=3)\n",
    "fig.tight_layout()\n",
    "plt.show()"
   ]
  },
  {
   "cell_type": "code",
   "execution_count": 377,
   "id": "8e10b6bc-4168-4a51-ac60-36137880b5a4",
   "metadata": {},
   "outputs": [
    {
     "name": "stdout",
     "output_type": "stream",
     "text": [
      "num_slots 5\n",
      "CPU times: user 10.6 ms, sys: 125 µs, total: 10.7 ms\n",
      "Wall time: 10.9 ms\n",
      "1+2=3 bucket size 42 reduction factor 5.2 # buckets 43\n",
      "num_slots 6\n",
      "CPU times: user 9.94 ms, sys: 106 µs, total: 10 ms\n",
      "Wall time: 10.2 ms\n",
      "3*8=24 bucket size 10 reduction factor 20.6 # buckets 73\n",
      "num_slots 7\n",
      "CPU times: user 7.29 s, sys: 14.6 ms, total: 7.31 s\n",
      "Wall time: 7.32 s\n",
      "24-16=8 bucket size 158 reduction factor 47.9 # buckets 543\n",
      "num_slots 8\n",
      "CPU times: user 40.6 s, sys: 85.1 ms, total: 40.7 s\n",
      "Wall time: 40.8 s\n",
      "58-46=12 bucket size 101 reduction factor 175.5 # buckets 1650\n"
     ]
    }
   ],
   "source": [
    "for num_slots in slot_values:\n",
    "    print(\"num_slots\", num_slots)\n",
    "    db_file = \"db/nerdle{}.db\".format(num_slots) \n",
    "    solver_data = nerdle.create_solver_data(num_slots, db_file)\n",
    "    d = solver_data.score_db\n",
    "    answers = solver_data.all_keys\n",
    "    %time bucket_size, _, k = min((max(collections.Counter(d[k]).values()), k not in answers, k) for k in solver_data.all_keys)\n",
    "    b = collections.Counter(d[k]).values()\n",
    "    print(\"{} bucket size {} reduction factor {:.1f} # buckets {}\".format(\n",
    "        solver_data.answers[k], bucket_size, d.shape[1] / bucket_size, len(b)))"
   ]
  },
  {
   "cell_type": "markdown",
   "id": "4a68ea06-c329-4ac5-9dec-a48f14783a81",
   "metadata": {},
   "source": [
    "* It seems like odd-size Nerdle is harder than even-size! Larger average #guesses.\n",
    "* Diversifying symbols of initial guess is a generally good criterion."
   ]
  },
  {
   "cell_type": "code",
   "execution_count": 124,
   "id": "843605fc-c050-4cf0-84c3-929ddcb35010",
   "metadata": {},
   "outputs": [
    {
     "name": "stdout",
     "output_type": "stream",
     "text": [
      "num_slots 8\n"
     ]
    }
   ],
   "source": [
    "num_slots = 8\n",
    "print(\"num_slots\", num_slots)\n",
    "db_file = \"db/nerdle{}.db\".format(num_slots) \n",
    "solver_data = nerdle.create_solver_data(num_slots, db_file)\n",
    "d = solver_data.score_db"
   ]
  },
  {
   "cell_type": "code",
   "execution_count": 123,
   "id": "f411221c-0ba7-49f9-b39d-a22de1ec5f62",
   "metadata": {},
   "outputs": [],
   "source": [
    "# cProfile.run('tree = analysis.GameTreeBuilder(solver_data, max_answers=2000).build()', 'stats')\n",
    "# p = pstats.Stats('stats')\n",
    "# p.sort_stats(SortKey.CUMULATIVE).print_stats(10)"
   ]
  },
  {
   "cell_type": "code",
   "execution_count": 125,
   "id": "b03b2aaf-6ac0-4096-9ad0-b497afd34a12",
   "metadata": {},
   "outputs": [
    {
     "name": "stdout",
     "output_type": "stream",
     "text": [
      "(17723, 17723) min_biased_multilevel_sampling\n"
     ]
    },
    {
     "ename": "KeyboardInterrupt",
     "evalue": "",
     "output_type": "error",
     "traceback": [
      "\u001b[0;31m---------------------------------------------------------------------------\u001b[0m",
      "\u001b[0;31mKeyboardInterrupt\u001b[0m                         Traceback (most recent call last)",
      "Cell \u001b[0;32mIn [125], line 1\u001b[0m\n\u001b[0;32m----> 1\u001b[0m \u001b[43mcProfile\u001b[49m\u001b[38;5;241;43m.\u001b[39;49m\u001b[43mrun\u001b[49m\u001b[43m(\u001b[49m\u001b[38;5;124;43m'\u001b[39;49m\u001b[38;5;124;43mtree = analysis.GameTreeBuilder(solver_data).build(strategy=\u001b[39;49m\u001b[38;5;124;43m\"\u001b[39;49m\u001b[38;5;124;43mmultilevel\u001b[39;49m\u001b[38;5;124;43m\"\u001b[39;49m\u001b[38;5;124;43m, sample_factor=1.5)\u001b[39;49m\u001b[38;5;124;43m'\u001b[39;49m\u001b[43m,\u001b[49m\u001b[43m \u001b[49m\u001b[38;5;124;43m'\u001b[39;49m\u001b[38;5;124;43mstats\u001b[39;49m\u001b[38;5;124;43m'\u001b[39;49m\u001b[43m)\u001b[49m\n\u001b[1;32m      2\u001b[0m p \u001b[38;5;241m=\u001b[39m pstats\u001b[38;5;241m.\u001b[39mStats(\u001b[38;5;124m'\u001b[39m\u001b[38;5;124mstats\u001b[39m\u001b[38;5;124m'\u001b[39m)\n\u001b[1;32m      3\u001b[0m p\u001b[38;5;241m.\u001b[39msort_stats(SortKey\u001b[38;5;241m.\u001b[39mCUMULATIVE)\u001b[38;5;241m.\u001b[39mprint_stats(\u001b[38;5;241m20\u001b[39m)\n",
      "File \u001b[0;32m~/opt/miniconda3/envs/nerdle/lib/python3.10/cProfile.py:16\u001b[0m, in \u001b[0;36mrun\u001b[0;34m(statement, filename, sort)\u001b[0m\n\u001b[1;32m     15\u001b[0m \u001b[38;5;28;01mdef\u001b[39;00m \u001b[38;5;21mrun\u001b[39m(statement, filename\u001b[38;5;241m=\u001b[39m\u001b[38;5;28;01mNone\u001b[39;00m, sort\u001b[38;5;241m=\u001b[39m\u001b[38;5;241m-\u001b[39m\u001b[38;5;241m1\u001b[39m):\n\u001b[0;32m---> 16\u001b[0m     \u001b[38;5;28;01mreturn\u001b[39;00m \u001b[43m_pyprofile\u001b[49m\u001b[38;5;241;43m.\u001b[39;49m\u001b[43m_Utils\u001b[49m\u001b[43m(\u001b[49m\u001b[43mProfile\u001b[49m\u001b[43m)\u001b[49m\u001b[38;5;241;43m.\u001b[39;49m\u001b[43mrun\u001b[49m\u001b[43m(\u001b[49m\u001b[43mstatement\u001b[49m\u001b[43m,\u001b[49m\u001b[43m \u001b[49m\u001b[43mfilename\u001b[49m\u001b[43m,\u001b[49m\u001b[43m \u001b[49m\u001b[43msort\u001b[49m\u001b[43m)\u001b[49m\n",
      "File \u001b[0;32m~/opt/miniconda3/envs/nerdle/lib/python3.10/profile.py:53\u001b[0m, in \u001b[0;36m_Utils.run\u001b[0;34m(self, statement, filename, sort)\u001b[0m\n\u001b[1;32m     51\u001b[0m prof \u001b[38;5;241m=\u001b[39m \u001b[38;5;28mself\u001b[39m\u001b[38;5;241m.\u001b[39mprofiler()\n\u001b[1;32m     52\u001b[0m \u001b[38;5;28;01mtry\u001b[39;00m:\n\u001b[0;32m---> 53\u001b[0m     \u001b[43mprof\u001b[49m\u001b[38;5;241;43m.\u001b[39;49m\u001b[43mrun\u001b[49m\u001b[43m(\u001b[49m\u001b[43mstatement\u001b[49m\u001b[43m)\u001b[49m\n\u001b[1;32m     54\u001b[0m \u001b[38;5;28;01mexcept\u001b[39;00m \u001b[38;5;167;01mSystemExit\u001b[39;00m:\n\u001b[1;32m     55\u001b[0m     \u001b[38;5;28;01mpass\u001b[39;00m\n",
      "File \u001b[0;32m~/opt/miniconda3/envs/nerdle/lib/python3.10/cProfile.py:95\u001b[0m, in \u001b[0;36mProfile.run\u001b[0;34m(self, cmd)\u001b[0m\n\u001b[1;32m     93\u001b[0m \u001b[38;5;28;01mimport\u001b[39;00m \u001b[38;5;21;01m__main__\u001b[39;00m\n\u001b[1;32m     94\u001b[0m \u001b[38;5;28mdict\u001b[39m \u001b[38;5;241m=\u001b[39m __main__\u001b[38;5;241m.\u001b[39m\u001b[38;5;18m__dict__\u001b[39m\n\u001b[0;32m---> 95\u001b[0m \u001b[38;5;28;01mreturn\u001b[39;00m \u001b[38;5;28;43mself\u001b[39;49m\u001b[38;5;241;43m.\u001b[39;49m\u001b[43mrunctx\u001b[49m\u001b[43m(\u001b[49m\u001b[43mcmd\u001b[49m\u001b[43m,\u001b[49m\u001b[43m \u001b[49m\u001b[38;5;28;43mdict\u001b[39;49m\u001b[43m,\u001b[49m\u001b[43m \u001b[49m\u001b[38;5;28;43mdict\u001b[39;49m\u001b[43m)\u001b[49m\n",
      "File \u001b[0;32m~/opt/miniconda3/envs/nerdle/lib/python3.10/cProfile.py:100\u001b[0m, in \u001b[0;36mProfile.runctx\u001b[0;34m(self, cmd, globals, locals)\u001b[0m\n\u001b[1;32m     98\u001b[0m \u001b[38;5;28mself\u001b[39m\u001b[38;5;241m.\u001b[39menable()\n\u001b[1;32m     99\u001b[0m \u001b[38;5;28;01mtry\u001b[39;00m:\n\u001b[0;32m--> 100\u001b[0m     \u001b[43mexec\u001b[49m\u001b[43m(\u001b[49m\u001b[43mcmd\u001b[49m\u001b[43m,\u001b[49m\u001b[43m \u001b[49m\u001b[38;5;28;43mglobals\u001b[39;49m\u001b[43m,\u001b[49m\u001b[43m \u001b[49m\u001b[38;5;28;43mlocals\u001b[39;49m\u001b[43m)\u001b[49m\n\u001b[1;32m    101\u001b[0m \u001b[38;5;28;01mfinally\u001b[39;00m:\n\u001b[1;32m    102\u001b[0m     \u001b[38;5;28mself\u001b[39m\u001b[38;5;241m.\u001b[39mdisable()\n",
      "File \u001b[0;32m<string>:1\u001b[0m\n",
      "File \u001b[0;32m~/oren/nerdle-solver/analysis.py:63\u001b[0m, in \u001b[0;36mGameTreeBuilder.build\u001b[0;34m(self, debug, strategy, min_sample_size, sample_factor)\u001b[0m\n\u001b[1;32m     55\u001b[0m quantity \u001b[38;5;241m=\u001b[39m \u001b[38;5;28;01mlambda\u001b[39;00m a: bucket_size_functor(a) \u001b[38;5;241m/\u001b[39m a\u001b[38;5;241m.\u001b[39mshape[\u001b[38;5;241m1\u001b[39m]\n\u001b[1;32m     56\u001b[0m root \u001b[38;5;241m=\u001b[39m Node(\n\u001b[1;32m     57\u001b[0m     \u001b[38;5;28;01mNone\u001b[39;00m,\n\u001b[1;32m     58\u001b[0m     np\u001b[38;5;241m.\u001b[39marange(\n\u001b[0;32m   (...)\u001b[0m\n\u001b[1;32m     61\u001b[0m     \u001b[38;5;28mself\u001b[39m\u001b[38;5;241m.\u001b[39m_score_db,\n\u001b[1;32m     62\u001b[0m     [])\n\u001b[0;32m---> 63\u001b[0m \u001b[43mpre_traversal\u001b[49m\u001b[43m(\u001b[49m\u001b[43mroot\u001b[49m\u001b[43m,\u001b[49m\u001b[43m \u001b[49m\u001b[38;5;28;43;01mlambda\u001b[39;49;00m\u001b[43m \u001b[49m\u001b[43mnode\u001b[49m\u001b[43m:\u001b[49m\u001b[43m \u001b[49m\u001b[38;5;28;43mself\u001b[39;49m\u001b[38;5;241;43m.\u001b[39;49m\u001b[43m_process_node\u001b[49m\u001b[43m(\u001b[49m\u001b[43mnode\u001b[49m\u001b[43m,\u001b[49m\u001b[43m \u001b[49m\u001b[43mquantity\u001b[49m\u001b[43m)\u001b[49m\u001b[43m,\u001b[49m\u001b[43m \u001b[49m\u001b[43mdebug\u001b[49m\u001b[38;5;241;43m=\u001b[39;49m\u001b[43mdebug\u001b[49m\u001b[43m)\u001b[49m\n\u001b[1;32m     64\u001b[0m \u001b[38;5;28;01mreturn\u001b[39;00m root\n",
      "File \u001b[0;32m~/oren/nerdle-solver/analysis.py:157\u001b[0m, in \u001b[0;36mpre_traversal\u001b[0;34m(node, process_node, depth, debug)\u001b[0m\n\u001b[1;32m    155\u001b[0m     \u001b[38;5;28mprint\u001b[39m(\u001b[38;5;124m\"\u001b[39m\u001b[38;5;130;01m\\t\u001b[39;00m\u001b[38;5;124m\"\u001b[39m \u001b[38;5;241m*\u001b[39m depth, node)\n\u001b[1;32m    156\u001b[0m \u001b[38;5;28;01mfor\u001b[39;00m child \u001b[38;5;129;01min\u001b[39;00m node\u001b[38;5;241m.\u001b[39mchildren:\n\u001b[0;32m--> 157\u001b[0m     \u001b[43mpre_traversal\u001b[49m\u001b[43m(\u001b[49m\u001b[43mchild\u001b[49m\u001b[43m,\u001b[49m\u001b[43m \u001b[49m\u001b[43mprocess_node\u001b[49m\u001b[43m,\u001b[49m\u001b[43m \u001b[49m\u001b[43mdepth\u001b[49m\u001b[38;5;241;43m=\u001b[39;49m\u001b[43mdepth\u001b[49m\u001b[43m \u001b[49m\u001b[38;5;241;43m+\u001b[39;49m\u001b[43m \u001b[49m\u001b[38;5;241;43m1\u001b[39;49m\u001b[43m,\u001b[49m\u001b[43m \u001b[49m\u001b[43mdebug\u001b[49m\u001b[38;5;241;43m=\u001b[39;49m\u001b[43mdebug\u001b[49m\u001b[43m)\u001b[49m\n",
      "File \u001b[0;32m~/oren/nerdle-solver/analysis.py:157\u001b[0m, in \u001b[0;36mpre_traversal\u001b[0;34m(node, process_node, depth, debug)\u001b[0m\n\u001b[1;32m    155\u001b[0m     \u001b[38;5;28mprint\u001b[39m(\u001b[38;5;124m\"\u001b[39m\u001b[38;5;130;01m\\t\u001b[39;00m\u001b[38;5;124m\"\u001b[39m \u001b[38;5;241m*\u001b[39m depth, node)\n\u001b[1;32m    156\u001b[0m \u001b[38;5;28;01mfor\u001b[39;00m child \u001b[38;5;129;01min\u001b[39;00m node\u001b[38;5;241m.\u001b[39mchildren:\n\u001b[0;32m--> 157\u001b[0m     \u001b[43mpre_traversal\u001b[49m\u001b[43m(\u001b[49m\u001b[43mchild\u001b[49m\u001b[43m,\u001b[49m\u001b[43m \u001b[49m\u001b[43mprocess_node\u001b[49m\u001b[43m,\u001b[49m\u001b[43m \u001b[49m\u001b[43mdepth\u001b[49m\u001b[38;5;241;43m=\u001b[39;49m\u001b[43mdepth\u001b[49m\u001b[43m \u001b[49m\u001b[38;5;241;43m+\u001b[39;49m\u001b[43m \u001b[49m\u001b[38;5;241;43m1\u001b[39;49m\u001b[43m,\u001b[49m\u001b[43m \u001b[49m\u001b[43mdebug\u001b[49m\u001b[38;5;241;43m=\u001b[39;49m\u001b[43mdebug\u001b[49m\u001b[43m)\u001b[49m\n",
      "File \u001b[0;32m~/oren/nerdle-solver/analysis.py:153\u001b[0m, in \u001b[0;36mpre_traversal\u001b[0;34m(node, process_node, depth, debug)\u001b[0m\n\u001b[1;32m    148\u001b[0m \u001b[38;5;28;01mdef\u001b[39;00m \u001b[38;5;21mpre_traversal\u001b[39m(\n\u001b[1;32m    149\u001b[0m         node: Node,\n\u001b[1;32m    150\u001b[0m         process_node,\n\u001b[1;32m    151\u001b[0m         depth: \u001b[38;5;28mint\u001b[39m \u001b[38;5;241m=\u001b[39m \u001b[38;5;241m0\u001b[39m,\n\u001b[1;32m    152\u001b[0m         debug: \u001b[38;5;28mbool\u001b[39m \u001b[38;5;241m=\u001b[39m \u001b[38;5;28;01mFalse\u001b[39;00m):\n\u001b[0;32m--> 153\u001b[0m     \u001b[43mprocess_node\u001b[49m\u001b[43m(\u001b[49m\u001b[43mnode\u001b[49m\u001b[43m)\u001b[49m\n\u001b[1;32m    154\u001b[0m     \u001b[38;5;28;01mif\u001b[39;00m debug \u001b[38;5;129;01mand\u001b[39;00m depth \u001b[38;5;241m<\u001b[39m\u001b[38;5;241m=\u001b[39m \u001b[38;5;241m1\u001b[39m:\n\u001b[1;32m    155\u001b[0m         \u001b[38;5;28mprint\u001b[39m(\u001b[38;5;124m\"\u001b[39m\u001b[38;5;130;01m\\t\u001b[39;00m\u001b[38;5;124m\"\u001b[39m \u001b[38;5;241m*\u001b[39m depth, node)\n",
      "File \u001b[0;32m~/oren/nerdle-solver/analysis.py:63\u001b[0m, in \u001b[0;36mGameTreeBuilder.build.<locals>.<lambda>\u001b[0;34m(node)\u001b[0m\n\u001b[1;32m     55\u001b[0m quantity \u001b[38;5;241m=\u001b[39m \u001b[38;5;28;01mlambda\u001b[39;00m a: bucket_size_functor(a) \u001b[38;5;241m/\u001b[39m a\u001b[38;5;241m.\u001b[39mshape[\u001b[38;5;241m1\u001b[39m]\n\u001b[1;32m     56\u001b[0m root \u001b[38;5;241m=\u001b[39m Node(\n\u001b[1;32m     57\u001b[0m     \u001b[38;5;28;01mNone\u001b[39;00m,\n\u001b[1;32m     58\u001b[0m     np\u001b[38;5;241m.\u001b[39marange(\n\u001b[0;32m   (...)\u001b[0m\n\u001b[1;32m     61\u001b[0m     \u001b[38;5;28mself\u001b[39m\u001b[38;5;241m.\u001b[39m_score_db,\n\u001b[1;32m     62\u001b[0m     [])\n\u001b[0;32m---> 63\u001b[0m pre_traversal(root, \u001b[38;5;28;01mlambda\u001b[39;00m node: \u001b[38;5;28;43mself\u001b[39;49m\u001b[38;5;241;43m.\u001b[39;49m\u001b[43m_process_node\u001b[49m\u001b[43m(\u001b[49m\u001b[43mnode\u001b[49m\u001b[43m,\u001b[49m\u001b[43m \u001b[49m\u001b[43mquantity\u001b[49m\u001b[43m)\u001b[49m, debug\u001b[38;5;241m=\u001b[39mdebug)\n\u001b[1;32m     64\u001b[0m \u001b[38;5;28;01mreturn\u001b[39;00m root\n",
      "File \u001b[0;32m~/oren/nerdle-solver/analysis.py:75\u001b[0m, in \u001b[0;36mGameTreeBuilder._process_node\u001b[0;34m(self, node, bucket_size_functor)\u001b[0m\n\u001b[1;32m     73\u001b[0m score \u001b[38;5;241m=\u001b[39m node\u001b[38;5;241m.\u001b[39mscore\n\u001b[1;32m     74\u001b[0m \u001b[38;5;66;03m# Find best next guess.\u001b[39;00m\n\u001b[0;32m---> 75\u001b[0m bucket_sizes \u001b[38;5;241m=\u001b[39m \u001b[43mbucket_size_functor\u001b[49m\u001b[43m(\u001b[49m\u001b[43mscore\u001b[49m\u001b[43m)\u001b[49m\n\u001b[1;32m     76\u001b[0m bucket_size, _, k_opt \u001b[38;5;241m=\u001b[39m \u001b[38;5;28mmin\u001b[39m((b, k \u001b[38;5;129;01mnot\u001b[39;00m \u001b[38;5;129;01min\u001b[39;00m answers, k) \u001b[38;5;28;01mfor\u001b[39;00m k, b \u001b[38;5;129;01min\u001b[39;00m \u001b[38;5;28menumerate\u001b[39m(bucket_sizes))\n\u001b[1;32m     78\u001b[0m \u001b[38;5;66;03m# TODO: use depth-first traversal and only keep leaf depth (=#guesses) and perhaps its solution path\u001b[39;00m\n\u001b[1;32m     79\u001b[0m \u001b[38;5;66;03m# to reduce memory of storing entire tree.\u001b[39;00m\n",
      "File \u001b[0;32m~/oren/nerdle-solver/analysis.py:55\u001b[0m, in \u001b[0;36mGameTreeBuilder.build.<locals>.<lambda>\u001b[0;34m(a)\u001b[0m\n\u001b[1;32m     53\u001b[0m \u001b[38;5;28;01melse\u001b[39;00m:\n\u001b[1;32m     54\u001b[0m     \u001b[38;5;28;01mraise\u001b[39;00m \u001b[38;5;167;01mValueError\u001b[39;00m(\u001b[38;5;124m\"\u001b[39m\u001b[38;5;124mUnknown max bucket calculation strategy \u001b[39m\u001b[38;5;132;01m{}\u001b[39;00m\u001b[38;5;124m\"\u001b[39m\u001b[38;5;241m.\u001b[39mformat(strategy))\n\u001b[0;32m---> 55\u001b[0m quantity \u001b[38;5;241m=\u001b[39m \u001b[38;5;28;01mlambda\u001b[39;00m a: \u001b[43mbucket_size_functor\u001b[49m\u001b[43m(\u001b[49m\u001b[43ma\u001b[49m\u001b[43m)\u001b[49m \u001b[38;5;241m/\u001b[39m a\u001b[38;5;241m.\u001b[39mshape[\u001b[38;5;241m1\u001b[39m]\n\u001b[1;32m     56\u001b[0m root \u001b[38;5;241m=\u001b[39m Node(\n\u001b[1;32m     57\u001b[0m     \u001b[38;5;28;01mNone\u001b[39;00m,\n\u001b[1;32m     58\u001b[0m     np\u001b[38;5;241m.\u001b[39marange(\n\u001b[0;32m   (...)\u001b[0m\n\u001b[1;32m     61\u001b[0m     \u001b[38;5;28mself\u001b[39m\u001b[38;5;241m.\u001b[39m_score_db,\n\u001b[1;32m     62\u001b[0m     [])\n\u001b[1;32m     63\u001b[0m pre_traversal(root, \u001b[38;5;28;01mlambda\u001b[39;00m node: \u001b[38;5;28mself\u001b[39m\u001b[38;5;241m.\u001b[39m_process_node(node, quantity), debug\u001b[38;5;241m=\u001b[39mdebug)\n",
      "File \u001b[0;32m~/oren/nerdle-solver/analysis.py:47\u001b[0m, in \u001b[0;36mGameTreeBuilder.build.<locals>.bucket_size_functor\u001b[0;34m(a)\u001b[0m\n\u001b[1;32m     44\u001b[0m \u001b[38;5;28;01mdef\u001b[39;00m \u001b[38;5;21mbucket_size_functor\u001b[39m(a):\n\u001b[1;32m     45\u001b[0m     \u001b[38;5;28;01mif\u001b[39;00m a\u001b[38;5;241m.\u001b[39mshape[\u001b[38;5;241m1\u001b[39m] \u001b[38;5;241m<\u001b[39m\u001b[38;5;241m=\u001b[39m min_sample_size:\n\u001b[1;32m     46\u001b[0m         \u001b[38;5;66;03m#print(a.shape, \"max_bucket_sizes\")\u001b[39;00m\n\u001b[0;32m---> 47\u001b[0m         \u001b[38;5;28;01mreturn\u001b[39;00m \u001b[43mmax_bucket_sizes\u001b[49m\u001b[43m(\u001b[49m\u001b[43ma\u001b[49m\u001b[43m)\u001b[49m\n\u001b[1;32m     48\u001b[0m     \u001b[38;5;28;01melse\u001b[39;00m:\n\u001b[1;32m     49\u001b[0m         \u001b[38;5;28mprint\u001b[39m(a\u001b[38;5;241m.\u001b[39mshape, \u001b[38;5;124m\"\u001b[39m\u001b[38;5;124mmin_biased_multilevel_sampling\u001b[39m\u001b[38;5;124m\"\u001b[39m)\n",
      "File \u001b[0;32m~/oren/nerdle-solver/analysis.py:90\u001b[0m, in \u001b[0;36mmax_bucket_sizes\u001b[0;34m(score)\u001b[0m\n\u001b[1;32m     88\u001b[0m \u001b[38;5;28;01mdef\u001b[39;00m \u001b[38;5;21mmax_bucket_sizes\u001b[39m(score) \u001b[38;5;241m-\u001b[39m\u001b[38;5;241m>\u001b[39m np\u001b[38;5;241m.\u001b[39mndarray:\n\u001b[1;32m     89\u001b[0m     \u001b[38;5;28;01mif\u001b[39;00m score\u001b[38;5;241m.\u001b[39mshape[\u001b[38;5;241m1\u001b[39m] \u001b[38;5;241m<\u001b[39m\u001b[38;5;241m=\u001b[39m \u001b[38;5;241m300\u001b[39m:\n\u001b[0;32m---> 90\u001b[0m         \u001b[38;5;28;01mreturn\u001b[39;00m np\u001b[38;5;241m.\u001b[39marray([collections\u001b[38;5;241m.\u001b[39mCounter(row)\u001b[38;5;241m.\u001b[39mmost_common(\u001b[38;5;241m1\u001b[39m)[\u001b[38;5;241m0\u001b[39m][\u001b[38;5;241m1\u001b[39m] \u001b[38;5;28;01mfor\u001b[39;00m row \u001b[38;5;129;01min\u001b[39;00m score])\n\u001b[1;32m     91\u001b[0m     \u001b[38;5;28;01melse\u001b[39;00m:\n\u001b[1;32m     92\u001b[0m         \u001b[38;5;28;01mreturn\u001b[39;00m scipy\u001b[38;5;241m.\u001b[39mstats\u001b[38;5;241m.\u001b[39mmode(score, axis\u001b[38;5;241m=\u001b[39m\u001b[38;5;241m1\u001b[39m, keepdims\u001b[38;5;241m=\u001b[39m\u001b[38;5;28;01mFalse\u001b[39;00m)[\u001b[38;5;241m1\u001b[39m]\n",
      "File \u001b[0;32m~/oren/nerdle-solver/analysis.py:90\u001b[0m, in \u001b[0;36m<listcomp>\u001b[0;34m(.0)\u001b[0m\n\u001b[1;32m     88\u001b[0m \u001b[38;5;28;01mdef\u001b[39;00m \u001b[38;5;21mmax_bucket_sizes\u001b[39m(score) \u001b[38;5;241m-\u001b[39m\u001b[38;5;241m>\u001b[39m np\u001b[38;5;241m.\u001b[39mndarray:\n\u001b[1;32m     89\u001b[0m     \u001b[38;5;28;01mif\u001b[39;00m score\u001b[38;5;241m.\u001b[39mshape[\u001b[38;5;241m1\u001b[39m] \u001b[38;5;241m<\u001b[39m\u001b[38;5;241m=\u001b[39m \u001b[38;5;241m300\u001b[39m:\n\u001b[0;32m---> 90\u001b[0m         \u001b[38;5;28;01mreturn\u001b[39;00m np\u001b[38;5;241m.\u001b[39marray([\u001b[43mcollections\u001b[49m\u001b[38;5;241;43m.\u001b[39;49m\u001b[43mCounter\u001b[49m\u001b[43m(\u001b[49m\u001b[43mrow\u001b[49m\u001b[43m)\u001b[49m\u001b[38;5;241m.\u001b[39mmost_common(\u001b[38;5;241m1\u001b[39m)[\u001b[38;5;241m0\u001b[39m][\u001b[38;5;241m1\u001b[39m] \u001b[38;5;28;01mfor\u001b[39;00m row \u001b[38;5;129;01min\u001b[39;00m score])\n\u001b[1;32m     91\u001b[0m     \u001b[38;5;28;01melse\u001b[39;00m:\n\u001b[1;32m     92\u001b[0m         \u001b[38;5;28;01mreturn\u001b[39;00m scipy\u001b[38;5;241m.\u001b[39mstats\u001b[38;5;241m.\u001b[39mmode(score, axis\u001b[38;5;241m=\u001b[39m\u001b[38;5;241m1\u001b[39m, keepdims\u001b[38;5;241m=\u001b[39m\u001b[38;5;28;01mFalse\u001b[39;00m)[\u001b[38;5;241m1\u001b[39m]\n",
      "File \u001b[0;32m~/opt/miniconda3/envs/nerdle/lib/python3.10/collections/__init__.py:577\u001b[0m, in \u001b[0;36mCounter.__init__\u001b[0;34m(self, iterable, **kwds)\u001b[0m\n\u001b[1;32m    566\u001b[0m \u001b[38;5;124;03m'''Create a new, empty Counter object.  And if given, count elements\u001b[39;00m\n\u001b[1;32m    567\u001b[0m \u001b[38;5;124;03mfrom an input iterable.  Or, initialize the count from another mapping\u001b[39;00m\n\u001b[1;32m    568\u001b[0m \u001b[38;5;124;03mof elements to their counts.\u001b[39;00m\n\u001b[0;32m   (...)\u001b[0m\n\u001b[1;32m    574\u001b[0m \n\u001b[1;32m    575\u001b[0m \u001b[38;5;124;03m'''\u001b[39;00m\n\u001b[1;32m    576\u001b[0m \u001b[38;5;28msuper\u001b[39m()\u001b[38;5;241m.\u001b[39m\u001b[38;5;21m__init__\u001b[39m()\n\u001b[0;32m--> 577\u001b[0m \u001b[38;5;28;43mself\u001b[39;49m\u001b[38;5;241;43m.\u001b[39;49m\u001b[43mupdate\u001b[49m\u001b[43m(\u001b[49m\u001b[43miterable\u001b[49m\u001b[43m,\u001b[49m\u001b[43m \u001b[49m\u001b[38;5;241;43m*\u001b[39;49m\u001b[38;5;241;43m*\u001b[39;49m\u001b[43mkwds\u001b[49m\u001b[43m)\u001b[49m\n",
      "File \u001b[0;32m~/opt/miniconda3/envs/nerdle/lib/python3.10/collections/__init__.py:661\u001b[0m, in \u001b[0;36mCounter.update\u001b[0;34m(self, iterable, **kwds)\u001b[0m\n\u001b[1;32m    653\u001b[0m \u001b[38;5;66;03m# The regular dict.update() operation makes no sense here because the\u001b[39;00m\n\u001b[1;32m    654\u001b[0m \u001b[38;5;66;03m# replace behavior results in the some of original untouched counts\u001b[39;00m\n\u001b[1;32m    655\u001b[0m \u001b[38;5;66;03m# being mixed-in with all of the other counts for a mismash that\u001b[39;00m\n\u001b[1;32m    656\u001b[0m \u001b[38;5;66;03m# doesn't have a straight-forward interpretation in most counting\u001b[39;00m\n\u001b[1;32m    657\u001b[0m \u001b[38;5;66;03m# contexts.  Instead, we implement straight-addition.  Both the inputs\u001b[39;00m\n\u001b[1;32m    658\u001b[0m \u001b[38;5;66;03m# and outputs are allowed to contain zero and negative counts.\u001b[39;00m\n\u001b[1;32m    660\u001b[0m \u001b[38;5;28;01mif\u001b[39;00m iterable \u001b[38;5;129;01mis\u001b[39;00m \u001b[38;5;129;01mnot\u001b[39;00m \u001b[38;5;28;01mNone\u001b[39;00m:\n\u001b[0;32m--> 661\u001b[0m     \u001b[38;5;28;01mif\u001b[39;00m \u001b[38;5;28;43misinstance\u001b[39;49m\u001b[43m(\u001b[49m\u001b[43miterable\u001b[49m\u001b[43m,\u001b[49m\u001b[43m \u001b[49m\u001b[43m_collections_abc\u001b[49m\u001b[38;5;241;43m.\u001b[39;49m\u001b[43mMapping\u001b[49m\u001b[43m)\u001b[49m:\n\u001b[1;32m    662\u001b[0m         \u001b[38;5;28;01mif\u001b[39;00m \u001b[38;5;28mself\u001b[39m:\n\u001b[1;32m    663\u001b[0m             self_get \u001b[38;5;241m=\u001b[39m \u001b[38;5;28mself\u001b[39m\u001b[38;5;241m.\u001b[39mget\n",
      "File \u001b[0;32m~/opt/miniconda3/envs/nerdle/lib/python3.10/abc.py:117\u001b[0m, in \u001b[0;36mABCMeta.__instancecheck__\u001b[0;34m(cls, instance)\u001b[0m\n\u001b[1;32m    111\u001b[0m     \u001b[38;5;124;03m\"\"\"Register a virtual subclass of an ABC.\u001b[39;00m\n\u001b[1;32m    112\u001b[0m \n\u001b[1;32m    113\u001b[0m \u001b[38;5;124;03m    Returns the subclass, to allow usage as a class decorator.\u001b[39;00m\n\u001b[1;32m    114\u001b[0m \u001b[38;5;124;03m    \"\"\"\u001b[39;00m\n\u001b[1;32m    115\u001b[0m     \u001b[38;5;28;01mreturn\u001b[39;00m _abc_register(\u001b[38;5;28mcls\u001b[39m, subclass)\n\u001b[0;32m--> 117\u001b[0m \u001b[38;5;28;01mdef\u001b[39;00m \u001b[38;5;21m__instancecheck__\u001b[39m(\u001b[38;5;28mcls\u001b[39m, instance):\n\u001b[1;32m    118\u001b[0m     \u001b[38;5;124;03m\"\"\"Override for isinstance(instance, cls).\"\"\"\u001b[39;00m\n\u001b[1;32m    119\u001b[0m     \u001b[38;5;28;01mreturn\u001b[39;00m _abc_instancecheck(\u001b[38;5;28mcls\u001b[39m, instance)\n",
      "\u001b[0;31mKeyboardInterrupt\u001b[0m: "
     ]
    }
   ],
   "source": [
    "cProfile.run('tree = analysis.GameTreeBuilder(solver_data).build(strategy=\"multilevel\", sample_factor=1.5)', 'stats')\n",
    "p = pstats.Stats('stats')\n",
    "p.sort_stats(SortKey.CUMULATIVE).print_stats(20)"
   ]
  },
  {
   "cell_type": "code",
   "execution_count": 9,
   "id": "f496079a-7abb-4479-8163-186d4678bd61",
   "metadata": {},
   "outputs": [
    {
     "name": "stdout",
     "output_type": "stream",
     "text": [
      "1000 5 0.3496340000128839 0.20788274297956377\n",
      "1000 250 0.294898482010467 0.2633685609907843\n",
      "1000 500 0.5520167700015008 0.3147114369785413\n",
      "10000 5 0.36427297300542705 0.20441173799918033\n",
      "10000 250 0.2902718990226276 0.26729287300258875\n",
      "10000 500 0.5486853229813278 0.3630345569981728\n"
     ]
    }
   ],
   "source": [
    "# scipy.stats.mode has a larger overhead than Counter.most_common(), but is faster for large arrays.\n",
    "for rows in (1000, 10000):\n",
    "    for cols in (5, 250, 500):\n",
    "        a = np.random.randint(10, size=(rows, cols))\n",
    "        r1 = %timeit -r 1 -o -q min(collections.Counter(row).most_common(1)[0][1] for row in a);\n",
    "        r2 = %timeit -r 1 -o -q min(scipy.stats.mode(a, axis=1, keepdims=False)[1]);\n",
    "        print(rows, cols, r1.all_runs[0], r2.all_runs[0])"
   ]
  },
  {
   "cell_type": "code",
   "execution_count": 131,
   "id": "d5bed220-3ea5-43b2-84f7-713a768ced4d",
   "metadata": {},
   "outputs": [
    {
     "name": "stdout",
     "output_type": "stream",
     "text": [
      "17723\n",
      "0.020285714285714285 1563 time 11.021933993004495\n",
      "#rows 17723 x sample_size 2000 = 35446000\n",
      "#rows 8861 x sample_size 3000 = 26583000\n",
      "#rows 4430 x sample_size 4500 = 19935000\n",
      "#rows 2215 x sample_size 6750 = 14951250\n",
      "#rows 1107 x sample_size 10125 = 11208375\n",
      "#rows 553 x sample_size 15187 = 8398411\n",
      "#rows 276 x sample_size 17723 = 4891548\n",
      "#rows 17723 x sample_size 2000 = 35446000\n",
      "#rows 8861 x sample_size 3000 = 26583000\n",
      "#rows 4430 x sample_size 4500 = 19935000\n",
      "#rows 2215 x sample_size 6750 = 14951250\n",
      "#rows 1107 x sample_size 10125 = 11208375\n",
      "#rows 553 x sample_size 15187 = 8398411\n",
      "#rows 276 x sample_size 17723 = 4891548\n",
      "0.020285714285714285 1563 13.709664375986904\n"
     ]
    }
   ],
   "source": [
    "# Multilevel starts spaying off around n = 2000 columns.\n",
    "quantity = lambda a: analysis.max_bucket_sizes(a) / a.shape[1]\n",
    "\n",
    "for n in ( d.shape[1], ): # 2000, 4000, 6400, 12800,\n",
    "    print(n)\n",
    "    a = d[:, :n]\n",
    "\n",
    "    r = %timeit -o -r 1 -q b = analysis.max_bucket_sizes(a) / a.shape[1]\n",
    "    print(min(b), np.argmin(b), \"time\", r.timings[0])\n",
    "\n",
    "    r = %timeit -o -r 1 -q approx = analysis.min_biased_multilevel_sampling(a, quantity, sample_factor=1.5, debug=True)\n",
    "    print(min(approx), np.argmin(approx), r.timings[0])"
   ]
  },
  {
   "cell_type": "code",
   "execution_count": 129,
   "id": "0879bca8-f6ec-41d3-8cf3-3b155c6ecad1",
   "metadata": {},
   "outputs": [
    {
     "name": "stdout",
     "output_type": "stream",
     "text": [
      "#rows 17723 x sample_size 2000 = 35446000\n",
      "#rows 8861 x sample_size 3000 = 26583000\n",
      "#rows 4430 x sample_size 4500 = 19935000\n",
      "#rows 2215 x sample_size 6000 = 13290000\n",
      "Wed Sep 21 10:33:37 2022    stats\n",
      "\n",
      "         1230483 function calls (1130779 primitive calls) in 9.473 seconds\n",
      "\n",
      "   Ordered by: cumulative time\n",
      "   List reduced from 131 to 30 due to restriction <30>\n",
      "\n",
      "   ncalls  tottime  percall  cumtime  percall filename:lineno(function)\n",
      "        1    0.000    0.000    9.473    9.473 {built-in method builtins.exec}\n",
      "        1    0.000    0.000    9.472    9.472 <string>:1(<module>)\n",
      "        1    2.956    2.956    9.472    9.472 /Users/olivne/oren/nerdle-solver/analysis.py:95(min_biased_multilevel_sampling)\n",
      "        4    0.000    0.000    6.514    1.628 /var/folders/3k/z6rf4cwj2b1bs57qshd9j_k4fbwv1r/T/ipykernel_94409/384655824.py:2(<lambda>)\n",
      "        4    0.000    0.000    6.514    1.628 /Users/olivne/oren/nerdle-solver/analysis.py:88(max_bucket_sizes)\n",
      "        4    0.079    0.020    6.513    1.628 /Users/olivne/opt/miniconda3/envs/nerdle/lib/python3.10/site-packages/scipy/stats/_stats_py.py:539(mode)\n",
      "    33229    0.083    0.000    6.291    0.000 /Users/olivne/opt/miniconda3/envs/nerdle/lib/python3.10/site-packages/scipy/stats/_stats_py.py:661(_mode1D)\n",
      "132961/33257    0.225    0.000    6.009    0.000 {built-in method numpy.core._multiarray_umath.implement_array_function}\n",
      "    33229    0.037    0.000    5.953    0.000 <__array_function__ internals>:177(unique)\n",
      "    33229    0.081    0.000    5.874    0.000 /Users/olivne/opt/miniconda3/envs/nerdle/lib/python3.10/site-packages/numpy/lib/arraysetops.py:138(unique)\n",
      "    33229    0.816    0.000    5.767    0.000 /Users/olivne/opt/miniconda3/envs/nerdle/lib/python3.10/site-packages/numpy/lib/arraysetops.py:320(_unique1d)\n",
      "    33229    3.202    0.000    3.202    0.000 {method 'sort' of 'numpy.ndarray' objects}\n",
      "    33232    0.846    0.000    0.846    0.000 {method 'flatten' of 'numpy.ndarray' objects}\n",
      "    33229    0.032    0.000    0.357    0.000 <__array_function__ internals>:177(nonzero)\n",
      "    33229    0.025    0.000    0.329    0.000 <__array_function__ internals>:177(diff)\n",
      "    33229    0.021    0.000    0.293    0.000 /Users/olivne/opt/miniconda3/envs/nerdle/lib/python3.10/site-packages/numpy/core/fromnumeric.py:1866(nonzero)\n",
      "    33229    0.031    0.000    0.272    0.000 /Users/olivne/opt/miniconda3/envs/nerdle/lib/python3.10/site-packages/numpy/core/fromnumeric.py:51(_wrapfunc)\n",
      "    33229    0.237    0.000    0.267    0.000 /Users/olivne/opt/miniconda3/envs/nerdle/lib/python3.10/site-packages/numpy/lib/function_base.py:1295(diff)\n",
      "    33240    0.260    0.000    0.260    0.000 {method 'reduce' of 'numpy.ufunc' objects}\n",
      "    33229    0.231    0.000    0.231    0.000 {method 'nonzero' of 'numpy.ndarray' objects}\n",
      "    33229    0.023    0.000    0.204    0.000 {method 'max' of 'numpy.ndarray' objects}\n",
      "    33229    0.018    0.000    0.181    0.000 /Users/olivne/opt/miniconda3/envs/nerdle/lib/python3.10/site-packages/numpy/core/_methods.py:38(_amax)\n",
      "    33232    0.029    0.000    0.173    0.000 <__array_function__ internals>:177(concatenate)\n",
      "        4    0.000    0.000    0.097    0.024 /Users/olivne/opt/miniconda3/envs/nerdle/lib/python3.10/site-packages/scipy/stats/_stats_py.py:86(_contains_nan)\n",
      "        8    0.000    0.000    0.097    0.012 /Users/olivne/opt/miniconda3/envs/nerdle/lib/python3.10/site-packages/numpy/core/fromnumeric.py:69(_wrapreduction)\n",
      "        4    0.000    0.000    0.097    0.024 <__array_function__ internals>:177(sum)\n",
      "        4    0.000    0.000    0.097    0.024 /Users/olivne/opt/miniconda3/envs/nerdle/lib/python3.10/site-packages/numpy/core/fromnumeric.py:2160(sum)\n",
      "    33229    0.052    0.000    0.052    0.000 {method 'argmax' of 'numpy.ndarray' objects}\n",
      "    33233    0.028    0.000    0.045    0.000 /Users/olivne/opt/miniconda3/envs/nerdle/lib/python3.10/site-packages/numpy/lib/index_tricks.py:684(__next__)\n",
      "    33237    0.041    0.000    0.041    0.000 {built-in method numpy.empty}\n",
      "\n",
      "\n"
     ]
    },
    {
     "data": {
      "text/plain": [
       "<pstats.Stats at 0x17a4a9660>"
      ]
     },
     "execution_count": 129,
     "metadata": {},
     "output_type": "execute_result"
    }
   ],
   "source": [
    "a = d[:, :6000]\n",
    "cProfile.run('analysis.min_biased_multilevel_sampling(a, quantity, sample_factor=1.5, debug=True)', 'stats')\n",
    "p = pstats.Stats('stats')\n",
    "p.sort_stats(SortKey.CUMULATIVE).print_stats(30)"
   ]
  },
  {
   "cell_type": "code",
   "execution_count": 51,
   "id": "104ee6c1-6595-4ff8-8d8a-dc73ba990127",
   "metadata": {},
   "outputs": [
    {
     "name": "stdout",
     "output_type": "stream",
     "text": [
      "0.07419653484988759 7561 3786 969\n"
     ]
    },
    {
     "data": {
      "image/png": "[encoded data removed]",
      "text/plain": [
       "<Figure size 640x480 with 1 Axes>"
      ]
     },
     "metadata": {},
     "output_type": "display_data"
    }
   ],
   "source": [
    "b_median = np.median(b)\n",
    "print(b_median, len(b), len(np.where(b <= b_median)[0]), len(np.unique(b)))\n",
    "plt.hist(b, bins=100);"
   ]
  },
  {
   "cell_type": "code",
   "execution_count": 97,
   "id": "4802d750-28f6-4028-849a-47f389a11b07",
   "metadata": {},
   "outputs": [],
   "source": [
    "# num_slots = 7\n",
    "# print(\"num_slots\", num_slots)\n",
    "# db_file = \"db/nerdle{}.db\".format(num_slots) \n",
    "# solver_data = nerdle.create_solver_data(num_slots, db_file)\n",
    "# d = solver_data.score_db\n",
    "\n",
    "# %time tree = analysis.GameTreeBuilder(solver_data).build(strategy=\"multilevel\")"
   ]
  },
  {
   "cell_type": "code",
   "execution_count": null,
   "id": "fb770d91-f32a-45ac-b042-7ac55d1981bc",
   "metadata": {},
   "outputs": [],
   "source": []
  }
 ],
 "metadata": {
  "kernelspec": {
   "display_name": "Python 3 (ipykernel)",
   "language": "python",
   "name": "python3"
  },
  "language_info": {
   "codemirror_mode": {
    "name": "ipython",
    "version": 3
   },
   "file_extension": ".py",
   "mimetype": "text/x-python",
   "name": "python",
   "nbconvert_exporter": "python",
   "pygments_lexer": "ipython3",
   "version": "3.10.6"
  }
 },
 "nbformat": 4,
 "nbformat_minor": 5
}
