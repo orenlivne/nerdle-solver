{
 "cells": [
  {
   "cell_type": "markdown",
   "id": "50efce8c-517b-47ca-9d81-70d88cdb5a5c",
   "metadata": {},
   "source": [
    "# Nerdle Solver - Initial Guess Assessment Optimization\n",
    "We prove (by brute-force) that you can always solve mini-Nerdle in at most $4$ guesses regardless of the starting expression, provided you use the optimal strategy. The worst start having repeating numbers and thus less information, e.g. `10-5=5`. The best start has all different numbers: `28/7=4`, which needs at most $3$ guesses and $2.65 \\pm 0.5$ guesses.\n",
    "\n",
    "To find the best initial guess, we map out the game tree."
   ]
  },
  {
   "cell_type": "code",
   "execution_count": 1,
   "id": "1ce14177-17d6-4ba1-bdd4-74ae65e07847",
   "metadata": {},
   "outputs": [],
   "source": [
    "%load_ext autoreload\n",
    "%autoreload 2\n",
    "\n",
    "import collections\n",
    "import ctypes\n",
    "import itertools\n",
    "import multiprocessing\n",
    "import numpy as np\n",
    "import matplotlib.pyplot as plt\n",
    "import pickle\n",
    "import scipy.stats\n",
    "import cProfile\n",
    "import pstats\n",
    "import os\n",
    "from pstats import SortKey\n",
    "\n",
    "import analysis\n",
    "import nerdle\n",
    "import score as s\n",
    "import generator\n",
    "sgo = ctypes.CDLL(s.SCORE_GUESS_OPT_SO)\n",
    "from nerdle import Hint"
   ]
  },
  {
   "cell_type": "markdown",
   "id": "7f5156fa-001e-4a9a-8969-b1a8038c6438",
   "metadata": {},
   "source": [
    "## Initial Guess Optimization"
   ]
  },
  {
   "cell_type": "code",
   "execution_count": 2,
   "id": "667797cf-28cb-4127-a26c-66b2f92fb85e",
   "metadata": {},
   "outputs": [
    {
     "name": "stdout",
     "output_type": "stream",
     "text": [
      "num_slots 5\n",
      "Building tree\n",
      "num_slots 6\n",
      "Building tree\n",
      "num_slots 7\n",
      "Building tree\n",
      "num_slots 8\n",
      "Building tree\n"
     ]
    }
   ],
   "source": [
    "tree_by_slots = {}\n",
    "slot_values = np.arange(5, 9, dtype=int)\n",
    "for num_slots in slot_values:\n",
    "    print(\"num_slots\", num_slots)\n",
    "    db_file = \"db/nerdle{}.db\".format(num_slots) \n",
    "    solver_data = nerdle.create_solver_data(num_slots, db_file)\n",
    "    d = solver_data.score_db\n",
    "\n",
    "    print(\"Building tree\")\n",
    "    tree_file = \"db/nerdle{}_tree.pkl\".format(num_slots) \n",
    "    if os.path.exists(tree_file):\n",
    "        with open(tree_file, 'rb') as f:\n",
    "            tree = pickle.load(f)\n",
    "    else:\n",
    "        %time tree = analysis.GameTreeBuilder(solver_data).build()\n",
    "        with open(tree_file, 'wb') as f:\n",
    "            pickle.dump(tree, f)\n",
    "    tree_by_slots[num_slots] = tree"
   ]
  },
  {
   "cell_type": "code",
   "execution_count": 3,
   "id": "5bea0431-d10e-4794-84af-188126865d3a",
   "metadata": {},
   "outputs": [
    {
     "ename": "NameError",
     "evalue": "name 'TreeDepthCalculator' is not defined",
     "output_type": "error",
     "traceback": [
      "\u001b[0;31m---------------------------------------------------------------------------\u001b[0m",
      "\u001b[0;31mNameError\u001b[0m                                 Traceback (most recent call last)",
      "Cell \u001b[0;32mIn [3], line 5\u001b[0m\n\u001b[1;32m      3\u001b[0m \u001b[38;5;28;01mfor\u001b[39;00m num_slots \u001b[38;5;129;01min\u001b[39;00m slot_values:\n\u001b[1;32m      4\u001b[0m     tree \u001b[38;5;241m=\u001b[39m tree_by_slots[num_slots]\n\u001b[0;32m----> 5\u001b[0m     tdc \u001b[38;5;241m=\u001b[39m \u001b[43mTreeDepthCalculator\u001b[49m(tree)\n\u001b[1;32m      6\u001b[0m     \u001b[38;5;66;03m# Distribution of #guesses for all answers.\u001b[39;00m\n\u001b[1;32m      7\u001b[0m     num_guesses \u001b[38;5;241m=\u001b[39m np\u001b[38;5;241m.\u001b[39marray([depth \u001b[38;5;28;01mfor\u001b[39;00m node, depth \u001b[38;5;129;01min\u001b[39;00m tdc\u001b[38;5;241m.\u001b[39mdepth\u001b[38;5;241m.\u001b[39mitems() \u001b[38;5;28;01mif\u001b[39;00m \u001b[38;5;129;01mnot\u001b[39;00m node\u001b[38;5;241m.\u001b[39mchildren]) \u001b[38;5;241m+\u001b[39m \u001b[38;5;241m1\u001b[39m\n",
      "\u001b[0;31mNameError\u001b[0m: name 'TreeDepthCalculator' is not defined"
     ]
    }
   ],
   "source": [
    "freq_by_slots = {}\n",
    "min_num_guesses, max_num_guesses = 2, 5\n",
    "for num_slots in slot_values:\n",
    "    tree = tree_by_slots[num_slots]\n",
    "    tdc = TreeDepthCalculator(tree)\n",
    "    # Distribution of #guesses for all answers.\n",
    "    num_guesses = np.array([depth for node, depth in tdc.depth.items() if not node.children]) + 1\n",
    "    freq = collections.Counter(num_guesses)\n",
    "    num_leaves = sum(1 for node in tdc.depth if not node.children)\n",
    "\n",
    "    print(\"#slots {} Avg {:.2f} +- {:.2f} Best initial guess {} #nodes {} #leaves {}\".format(\n",
    "        num_slots, np.mean(num_guesses), np.std(num_guesses), tree.key[1], len(tdc.depth), num_leaves))\n",
    "    freq_by_slots[num_slots] = [100 * freq[k] / num_leaves if k in freq else 0 for k in range(min_num_guesses, max_num_guesses+1)]\n",
    "    for k, v in zip(range(min_num_guesses, max_num_guesses+1), freq_by_slots[num_slots]):\n",
    "        print(\"{} guesses: {:6.2f}%\".format(k, v))"
   ]
  },
  {
   "cell_type": "code",
   "execution_count": null,
   "id": "779b4fd0-9f41-4016-a6b0-9b7379dbb1c0",
   "metadata": {},
   "outputs": [],
   "source": [
    "labels = list(map(str, range(min_num_guesses, max_num_guesses+1)))\n",
    "\n",
    "x = np.arange(len(labels))  # the label locations\n",
    "width = 0.15  # the width of the bars\n",
    "\n",
    "fig, ax = plt.subplots()\n",
    "rects = [None] * num_slots\n",
    "for i, num_slots in enumerate(slot_values):\n",
    "    rects[i] = ax.bar(x + (i - 0.5 * len(slot_values)) * width, freq_by_slots[num_slots], width, label='{} Slots'.format(num_slots))\n",
    "\n",
    "# Add some text for labels, title and custom x-axis tick labels, etc.\n",
    "ax.set_xlabel('# Guesses')\n",
    "ax.set_ylabel('Frequency')\n",
    "ax.set_title('#Guesses Distribution by Problem Size')\n",
    "ax.set_xticks(x, labels)\n",
    "ax.legend()\n",
    "for i in range(len(slot_values)):\n",
    "    ax.bar_label(rects[i], labels=[\"{:.0f}\".format(x) for x in freq_by_slots[slot_values[i]]], padding=3)\n",
    "#for rect in rects:\n",
    "#    ax.bar_label(rect, padding=3)\n",
    "fig.tight_layout()\n",
    "plt.show()"
   ]
  },
  {
   "cell_type": "code",
   "execution_count": null,
   "id": "8e10b6bc-4168-4a51-ac60-36137880b5a4",
   "metadata": {},
   "outputs": [],
   "source": [
    "for num_slots in range(5, 9):\n",
    "    print(\"num_slots\", num_slots)\n",
    "    db_file = \"db/nerdle{}.db\".format(num_slots) \n",
    "    solver_data = nerdle.create_solver_data(num_slots, db_file)\n",
    "    d = solver_data.score_db\n",
    "    answers = solver_data.all_keys\n",
    "    %time bucket_size, _, k = min((max(collections.Counter(d[k]).values()), k not in answers, k) for k in solver_data.all_keys)\n",
    "    b = collections.Counter(d[k]).values()\n",
    "    print(\"{} bucket size {} reduction factor {:.1f} # buckets {}\".format(\n",
    "        solver_data.answers[k], bucket_size, d.shape[1] / bucket_size, len(b)))"
   ]
  },
  {
   "cell_type": "markdown",
   "id": "4a68ea06-c329-4ac5-9dec-a48f14783a81",
   "metadata": {},
   "source": [
    "* It seems like odd-size Nerdle is harder than even-size! Larger average #guesses.\n",
    "* Diversifying symbols of initial guess is a generally good criterion."
   ]
  },
  {
   "cell_type": "code",
   "execution_count": 4,
   "id": "843605fc-c050-4cf0-84c3-929ddcb35010",
   "metadata": {},
   "outputs": [
    {
     "name": "stdout",
     "output_type": "stream",
     "text": [
      "num_slots 7\n"
     ]
    }
   ],
   "source": [
    "num_slots = 7\n",
    "print(\"num_slots\", num_slots)\n",
    "db_file = \"db/nerdle{}.db\".format(num_slots) \n",
    "solver_data = nerdle.create_solver_data(num_slots, db_file)\n",
    "d = solver_data.score_db"
   ]
  },
  {
   "cell_type": "code",
   "execution_count": 5,
   "id": "f411221c-0ba7-49f9-b39d-a22de1ec5f62",
   "metadata": {},
   "outputs": [
    {
     "name": "stdout",
     "output_type": "stream",
     "text": [
      "Wed Sep 21 07:03:33 2022    stats\n",
      "\n",
      "         8731404 function calls (8708058 primitive calls) in 7.695 seconds\n",
      "\n",
      "   Ordered by: cumulative time\n",
      "   List reduced from 115 to 10 due to restriction <10>\n",
      "\n",
      "   ncalls  tottime  percall  cumtime  percall filename:lineno(function)\n",
      "        1    0.000    0.000    7.695    7.695 {built-in method builtins.exec}\n",
      "        1    0.000    0.000    7.695    7.695 <string>:1(<module>)\n",
      "        1    0.000    0.000    7.410    7.410 /Users/olivne/oren/nerdle-solver/analysis.py:40(build)\n",
      "    594/1    0.002    0.000    7.410    7.410 /Users/olivne/oren/nerdle-solver/analysis.py:124(pre_traversal)\n",
      "      594    0.003    0.000    7.408    0.012 /Users/olivne/oren/nerdle-solver/analysis.py:51(_process_node)\n",
      "       94    0.000    0.000    4.844    0.052 /Users/olivne/oren/nerdle-solver/analysis.py:75(max_bucket_sizes)\n",
      "       93    0.579    0.006    4.467    0.048 /Users/olivne/oren/nerdle-solver/analysis.py:77(<listcomp>)\n",
      "       94    0.104    0.001    2.483    0.026 {built-in method builtins.min}\n",
      "   710828    2.379    0.000    2.379    0.000 /Users/olivne/oren/nerdle-solver/analysis.py:61(<genexpr>)\n",
      "   703173    0.482    0.000    2.324    0.000 /Users/olivne/opt/miniconda3/envs/nerdle/lib/python3.10/collections/__init__.py:565(__init__)\n",
      "\n",
      "\n"
     ]
    },
    {
     "data": {
      "text/plain": [
       "<pstats.Stats at 0x17e10d7b0>"
      ]
     },
     "execution_count": 5,
     "metadata": {},
     "output_type": "execute_result"
    }
   ],
   "source": [
    "cProfile.run('tree = analysis.GameTreeBuilder(solver_data, max_answers=500).build()', 'stats')\n",
    "p = pstats.Stats('stats')\n",
    "p.sort_stats(SortKey.CUMULATIVE).print_stats(10)"
   ]
  },
  {
   "cell_type": "code",
   "execution_count": 460,
   "id": "2d17d5b2-5fe3-4476-9a14-5e9e7733de64",
   "metadata": {},
   "outputs": [
    {
     "name": "stdout",
     "output_type": "stream",
     "text": [
      "num_slots 7\n",
      "CPU times: user 7.32 s, sys: 11 ms, total: 7.33 s\n",
      "Wall time: 7.33 s\n",
      "24-16=8 bucket size 158 reduction factor 47.9 # buckets 543\n"
     ]
    }
   ],
   "source": [
    "# Basically, scipy.stats.mode() is called only for the root node (the one below for the full answers set).\n",
    "# Smaller answer sets use counter.most_common().\n",
    "num_slots = 7\n",
    "print(\"num_slots\", num_slots)\n",
    "db_file = \"db/nerdle{}.db\".format(num_slots) \n",
    "solver_data = nerdle.create_solver_data(num_slots, db_file)\n",
    "d = solver_data.score_db\n",
    "answers = solver_data.all_keys\n",
    "%time bucket_size, _, k = min((max(collections.Counter(d[k]).values()), k not in answers, k) for k in solver_data.all_keys)\n",
    "b = collections.Counter(d[k]).values()\n",
    "print(\"{} bucket size {} reduction factor {:.1f} # buckets {}\".format(\n",
    "    solver_data.answers[k], bucket_size, d.shape[1] / bucket_size, len(b)))\n",
    "%time min((max(collections.Counter(d[k]).values()), k not in answers, k) for k in solver_data.all_keys)\n",
    "%time min((b, k not in answers, k) for k, b in enumerate(scipy.stats.mode(d, axis=1, keepdims=False)[1]))"
   ]
  },
  {
   "cell_type": "code",
   "execution_count": 13,
   "id": "f496079a-7abb-4479-8163-186d4678bd61",
   "metadata": {},
   "outputs": [
    {
     "name": "stdout",
     "output_type": "stream",
     "text": [
      "1000 5 0.33697586998459883 0.21129024101537652\n",
      "1000 250 0.2921382329950575 0.2661638960125856\n",
      "1000 500 0.544565500022145 0.32072310100193135\n",
      "10000 5 0.34937840298516676 0.20208339000237174\n",
      "10000 250 0.28885839000577107 0.2567758679797407\n",
      "10000 500 0.5438710229936987 0.30307714198715985\n"
     ]
    }
   ],
   "source": [
    "# scipy.stats.mode has a larger overhead than Counter.most_common(), but is faster for large arrays.\n",
    "for rows in (1000, 10000):\n",
    "    for cols in (5, 250, 500):\n",
    "        a = np.random.randint(10, size=(rows, cols))\n",
    "        r1 = %timeit -r 1 -o -q min(collections.Counter(row).most_common(1)[0][1] for row in a);\n",
    "        r2 = %timeit -r 1 -o -q min(scipy.stats.mode(a, axis=1, keepdims=False)[1]);\n",
    "        print(rows, cols, r1.all_runs[0], r2.all_runs[0])"
   ]
  },
  {
   "cell_type": "code",
   "execution_count": 17,
   "id": "1bb6dc80-ee82-4d09-8f40-d7443909d6f0",
   "metadata": {},
   "outputs": [
    {
     "ename": "AttributeError",
     "evalue": "'numpy.ndarray' object has no attribute 'median'",
     "output_type": "error",
     "traceback": [
      "\u001b[0;31m---------------------------------------------------------------------------\u001b[0m",
      "\u001b[0;31mAttributeError\u001b[0m                            Traceback (most recent call last)",
      "Cell \u001b[0;32mIn [17], line 2\u001b[0m\n\u001b[1;32m      1\u001b[0m b \u001b[38;5;241m=\u001b[39m analysis\u001b[38;5;241m.\u001b[39mmax_bucket_sizes(d)\n\u001b[0;32m----> 2\u001b[0m \u001b[38;5;28mprint\u001b[39m(\u001b[43mb\u001b[49m\u001b[38;5;241;43m.\u001b[39;49m\u001b[43mmedian\u001b[49m())\n\u001b[1;32m      3\u001b[0m plt\u001b[38;5;241m.\u001b[39mhist(b, bins\u001b[38;5;241m=\u001b[39m\u001b[38;5;241m100\u001b[39m)\n",
      "\u001b[0;31mAttributeError\u001b[0m: 'numpy.ndarray' object has no attribute 'median'"
     ]
    }
   ],
   "source": [
    "b = analysis.max_bucket_sizes(d)"
   ]
  },
  {
   "cell_type": "code",
   "execution_count": 25,
   "id": "7024b06b-85be-482c-9cfd-c1a77548b82b",
   "metadata": {},
   "outputs": [
    {
     "name": "stdout",
     "output_type": "stream",
     "text": [
      "561.0 7561 3786 969\n"
     ]
    },
    {
     "data": {
      "image/png": "[encoded data removed]",
      "text/plain": [
       "<Figure size 640x480 with 1 Axes>"
      ]
     },
     "metadata": {},
     "output_type": "display_data"
    }
   ],
   "source": [
    "b_median = np.median(b)\n",
    "print(b_median, len(b), len(np.where(b <= b_median)[0]), len(np.unique(b)))\n",
    "plt.hist(b, bins=100);"
   ]
  },
  {
   "cell_type": "code",
   "execution_count": 24,
   "id": "3f490c50-4bbb-4e47-9036-99504ec3b0ca",
   "metadata": {},
   "outputs": [
    {
     "data": {
      "text/plain": [
       "969"
      ]
     },
     "execution_count": 24,
     "metadata": {},
     "output_type": "execute_result"
    }
   ],
   "source": [
    "len(np.unique(b))"
   ]
  },
  {
   "cell_type": "code",
   "execution_count": null,
   "id": "8e015628-59c1-4ce8-bb84-273acadb675e",
   "metadata": {},
   "outputs": [],
   "source": []
  }
 ],
 "metadata": {
  "kernelspec": {
   "display_name": "Python 3 (ipykernel)",
   "language": "python",
   "name": "python3"
  },
  "language_info": {
   "codemirror_mode": {
    "name": "ipython",
    "version": 3
   },
   "file_extension": ".py",
   "mimetype": "text/x-python",
   "name": "python",
   "nbconvert_exporter": "python",
   "pygments_lexer": "ipython3",
   "version": "3.10.6"
  }
 },
 "nbformat": 4,
 "nbformat_minor": 5
}
