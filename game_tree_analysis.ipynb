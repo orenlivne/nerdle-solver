{
 "cells": [
  {
   "cell_type": "markdown",
   "id": "50efce8c-517b-47ca-9d81-70d88cdb5a5c",
   "metadata": {},
   "source": [
    "# Nerdle Solver - Initial Guess Assessment Optimization\n",
    "We prove (by brute-force) that you can always solve mini-Nerdle in at most $4$ guesses regardless of the starting expression, provided you use the optimal strategy. The worst start having repeating numbers and thus less information, e.g. `10-5=5`. The best start has all different numbers: `28/7=4`, which needs at most $3$ guesses and $2.65 \\pm 0.5$ guesses.\n",
    "\n",
    "To find the best initial guess, we map out the game tree."
   ]
  },
  {
   "cell_type": "code",
   "execution_count": 373,
   "id": "1ce14177-17d6-4ba1-bdd4-74ae65e07847",
   "metadata": {},
   "outputs": [
    {
     "name": "stdout",
     "output_type": "stream",
     "text": [
      "The autoreload extension is already loaded. To reload it, use:\n",
      "  %reload_ext autoreload\n"
     ]
    }
   ],
   "source": [
    "%load_ext autoreload\n",
    "%autoreload 2\n",
    "\n",
    "import collections\n",
    "import ctypes\n",
    "import itertools\n",
    "import multiprocessing\n",
    "import numpy as np\n",
    "import matplotlib.pyplot as plt\n",
    "import pickle\n",
    "\n",
    "import analysis\n",
    "import nerdle\n",
    "import score as s\n",
    "import generator\n",
    "sgo = ctypes.CDLL(s.SCORE_GUESS_OPT_SO)\n",
    "from nerdle import Hint"
   ]
  },
  {
   "cell_type": "markdown",
   "id": "7f5156fa-001e-4a9a-8969-b1a8038c6438",
   "metadata": {},
   "source": [
    "## Initial Guess Optimization"
   ]
  },
  {
   "cell_type": "code",
   "execution_count": 378,
   "id": "667797cf-28cb-4127-a26c-66b2f92fb85e",
   "metadata": {},
   "outputs": [
    {
     "name": "stdout",
     "output_type": "stream",
     "text": [
      "num_slots 5\n",
      "Building tree\n",
      "CPU times: user 149 ms, sys: 3.19 ms, total: 152 ms\n",
      "Wall time: 154 ms\n",
      "Best initial guess 1+2=3 #nodes 286 #leaves 217\n",
      "2 guesses:   8.76%\n",
      "3 guesses:  43.78%\n",
      "4 guesses:  24.42%\n",
      "5 guesses:  23.04%\n",
      "num_slots 6\n",
      "Building tree\n",
      "CPU times: user 88 ms, sys: 1.01 ms, total: 89 ms\n",
      "Wall time: 90.7 ms\n",
      "Best initial guess 3*8=24 #nodes 250 #leaves 206\n",
      "2 guesses:  15.05%\n",
      "3 guesses:  83.98%\n",
      "4 guesses:   0.97%\n",
      "num_slots 7\n",
      "Building tree\n",
      "CPU times: user 2min 6s, sys: 941 ms, total: 2min 7s\n",
      "Wall time: 2min 7s\n",
      "Best initial guess 24-16=8 #nodes 9363 #leaves 7561\n",
      "2 guesses:   1.44%\n",
      "3 guesses:  57.23%\n",
      "4 guesses:  41.33%\n",
      "num_slots 8\n",
      "Building tree\n"
     ]
    },
    {
     "ename": "KeyboardInterrupt",
     "evalue": "",
     "output_type": "error",
     "traceback": [
      "\u001b[0;31m---------------------------------------------------------------------------\u001b[0m",
      "\u001b[0;31mKeyboardInterrupt\u001b[0m                         Traceback (most recent call last)",
      "File \u001b[0;32m<timed exec>:1\u001b[0m\n",
      "File \u001b[0;32m~/oren/nerdle-solver/analysis.py:47\u001b[0m, in \u001b[0;36mGameTreeBuilder.build\u001b[0;34m(self, debug)\u001b[0m\n\u001b[1;32m     39\u001b[0m \u001b[38;5;28;01mdef\u001b[39;00m \u001b[38;5;21mbuild\u001b[39m(\u001b[38;5;28mself\u001b[39m, debug: \u001b[38;5;28mbool\u001b[39m \u001b[38;5;241m=\u001b[39m \u001b[38;5;28;01mFalse\u001b[39;00m) \u001b[38;5;241m-\u001b[39m\u001b[38;5;241m>\u001b[39m Node:\n\u001b[1;32m     40\u001b[0m     root \u001b[38;5;241m=\u001b[39m Node(\n\u001b[1;32m     41\u001b[0m         \u001b[38;5;28;01mNone\u001b[39;00m,\n\u001b[1;32m     42\u001b[0m         np\u001b[38;5;241m.\u001b[39marange(\n\u001b[0;32m   (...)\u001b[0m\n\u001b[1;32m     45\u001b[0m         \u001b[38;5;28mself\u001b[39m\u001b[38;5;241m.\u001b[39m_score_db,\n\u001b[1;32m     46\u001b[0m         [])\n\u001b[0;32m---> 47\u001b[0m     \u001b[43mpre_traversal\u001b[49m\u001b[43m(\u001b[49m\u001b[43mroot\u001b[49m\u001b[43m,\u001b[49m\u001b[43m \u001b[49m\u001b[38;5;28;43mself\u001b[39;49m\u001b[38;5;241;43m.\u001b[39;49m\u001b[43m_process_node\u001b[49m\u001b[43m,\u001b[49m\u001b[43m \u001b[49m\u001b[43mdebug\u001b[49m\u001b[38;5;241;43m=\u001b[39;49m\u001b[43mdebug\u001b[49m\u001b[43m)\u001b[49m\n\u001b[1;32m     48\u001b[0m     \u001b[38;5;28;01mreturn\u001b[39;00m root\n",
      "File \u001b[0;32m~/oren/nerdle-solver/analysis.py:100\u001b[0m, in \u001b[0;36mpre_traversal\u001b[0;34m(node, process_node, depth, debug)\u001b[0m\n\u001b[1;32m     98\u001b[0m     \u001b[38;5;28mprint\u001b[39m(\u001b[38;5;124m\"\u001b[39m\u001b[38;5;130;01m\\t\u001b[39;00m\u001b[38;5;124m\"\u001b[39m \u001b[38;5;241m*\u001b[39m depth, node)\n\u001b[1;32m     99\u001b[0m \u001b[38;5;28;01mfor\u001b[39;00m child \u001b[38;5;129;01min\u001b[39;00m node\u001b[38;5;241m.\u001b[39mchildren:\n\u001b[0;32m--> 100\u001b[0m     \u001b[43mpre_traversal\u001b[49m\u001b[43m(\u001b[49m\u001b[43mchild\u001b[49m\u001b[43m,\u001b[49m\u001b[43m \u001b[49m\u001b[43mprocess_node\u001b[49m\u001b[43m,\u001b[49m\u001b[43m \u001b[49m\u001b[43mdepth\u001b[49m\u001b[38;5;241;43m=\u001b[39;49m\u001b[43mdepth\u001b[49m\u001b[43m \u001b[49m\u001b[38;5;241;43m+\u001b[39;49m\u001b[43m \u001b[49m\u001b[38;5;241;43m1\u001b[39;49m\u001b[43m,\u001b[49m\u001b[43m \u001b[49m\u001b[43mdebug\u001b[49m\u001b[38;5;241;43m=\u001b[39;49m\u001b[43mdebug\u001b[49m\u001b[43m)\u001b[49m\n",
      "File \u001b[0;32m~/oren/nerdle-solver/analysis.py:100\u001b[0m, in \u001b[0;36mpre_traversal\u001b[0;34m(node, process_node, depth, debug)\u001b[0m\n\u001b[1;32m     98\u001b[0m     \u001b[38;5;28mprint\u001b[39m(\u001b[38;5;124m\"\u001b[39m\u001b[38;5;130;01m\\t\u001b[39;00m\u001b[38;5;124m\"\u001b[39m \u001b[38;5;241m*\u001b[39m depth, node)\n\u001b[1;32m     99\u001b[0m \u001b[38;5;28;01mfor\u001b[39;00m child \u001b[38;5;129;01min\u001b[39;00m node\u001b[38;5;241m.\u001b[39mchildren:\n\u001b[0;32m--> 100\u001b[0m     \u001b[43mpre_traversal\u001b[49m\u001b[43m(\u001b[49m\u001b[43mchild\u001b[49m\u001b[43m,\u001b[49m\u001b[43m \u001b[49m\u001b[43mprocess_node\u001b[49m\u001b[43m,\u001b[49m\u001b[43m \u001b[49m\u001b[43mdepth\u001b[49m\u001b[38;5;241;43m=\u001b[39;49m\u001b[43mdepth\u001b[49m\u001b[43m \u001b[49m\u001b[38;5;241;43m+\u001b[39;49m\u001b[43m \u001b[49m\u001b[38;5;241;43m1\u001b[39;49m\u001b[43m,\u001b[49m\u001b[43m \u001b[49m\u001b[43mdebug\u001b[49m\u001b[38;5;241;43m=\u001b[39;49m\u001b[43mdebug\u001b[49m\u001b[43m)\u001b[49m\n",
      "File \u001b[0;32m~/oren/nerdle-solver/analysis.py:96\u001b[0m, in \u001b[0;36mpre_traversal\u001b[0;34m(node, process_node, depth, debug)\u001b[0m\n\u001b[1;32m     91\u001b[0m \u001b[38;5;28;01mdef\u001b[39;00m \u001b[38;5;21mpre_traversal\u001b[39m(\n\u001b[1;32m     92\u001b[0m         node: Node,\n\u001b[1;32m     93\u001b[0m         process_node,\n\u001b[1;32m     94\u001b[0m         depth: \u001b[38;5;28mint\u001b[39m \u001b[38;5;241m=\u001b[39m \u001b[38;5;241m0\u001b[39m,\n\u001b[1;32m     95\u001b[0m         debug: \u001b[38;5;28mbool\u001b[39m \u001b[38;5;241m=\u001b[39m \u001b[38;5;28;01mFalse\u001b[39;00m):\n\u001b[0;32m---> 96\u001b[0m     \u001b[43mprocess_node\u001b[49m\u001b[43m(\u001b[49m\u001b[43mnode\u001b[49m\u001b[43m)\u001b[49m\n\u001b[1;32m     97\u001b[0m     \u001b[38;5;28;01mif\u001b[39;00m debug \u001b[38;5;129;01mand\u001b[39;00m depth \u001b[38;5;241m<\u001b[39m\u001b[38;5;241m=\u001b[39m \u001b[38;5;241m1\u001b[39m:\n\u001b[1;32m     98\u001b[0m         \u001b[38;5;28mprint\u001b[39m(\u001b[38;5;124m\"\u001b[39m\u001b[38;5;130;01m\\t\u001b[39;00m\u001b[38;5;124m\"\u001b[39m \u001b[38;5;241m*\u001b[39m depth, node)\n",
      "File \u001b[0;32m~/oren/nerdle-solver/analysis.py:59\u001b[0m, in \u001b[0;36mGameTreeBuilder._process_node\u001b[0;34m(self, node)\u001b[0m\n\u001b[1;32m     57\u001b[0m score \u001b[38;5;241m=\u001b[39m node\u001b[38;5;241m.\u001b[39mscore\n\u001b[1;32m     58\u001b[0m \u001b[38;5;66;03m# Find bestr initial gues.\u001b[39;00m\n\u001b[0;32m---> 59\u001b[0m bucket_size, _, k_opt \u001b[38;5;241m=\u001b[39m \u001b[38;5;28;43mmin\u001b[39;49m\u001b[43m(\u001b[49m\n\u001b[1;32m     60\u001b[0m \u001b[43m    \u001b[49m\u001b[43m(\u001b[49m\u001b[38;5;28;43mmax\u001b[39;49m\u001b[43m(\u001b[49m\u001b[43mcollections\u001b[49m\u001b[38;5;241;43m.\u001b[39;49m\u001b[43mCounter\u001b[49m\u001b[43m(\u001b[49m\u001b[43mscore\u001b[49m\u001b[43m[\u001b[49m\u001b[43mk\u001b[49m\u001b[43m]\u001b[49m\u001b[43m)\u001b[49m\u001b[38;5;241;43m.\u001b[39;49m\u001b[43mvalues\u001b[49m\u001b[43m(\u001b[49m\u001b[43m)\u001b[49m\u001b[43m)\u001b[49m\u001b[43m,\u001b[49m\u001b[43m \u001b[49m\u001b[43mk\u001b[49m\u001b[43m \u001b[49m\u001b[38;5;129;43;01mnot\u001b[39;49;00m\u001b[43m \u001b[49m\u001b[38;5;129;43;01min\u001b[39;49;00m\u001b[43m \u001b[49m\u001b[43manswers\u001b[49m\u001b[43m,\u001b[49m\u001b[43m \u001b[49m\u001b[43mk\u001b[49m\u001b[43m)\u001b[49m\u001b[43m \u001b[49m\u001b[38;5;28;43;01mfor\u001b[39;49;00m\u001b[43m \u001b[49m\u001b[43mk\u001b[49m\u001b[43m \u001b[49m\u001b[38;5;129;43;01min\u001b[39;49;00m\u001b[43m \u001b[49m\u001b[38;5;28;43mself\u001b[39;49m\u001b[38;5;241;43m.\u001b[39;49m\u001b[43m_solver_data\u001b[49m\u001b[38;5;241;43m.\u001b[39;49m\u001b[43mall_keys\u001b[49m\u001b[43m)\u001b[49m\n\u001b[1;32m     62\u001b[0m \u001b[38;5;66;03m# TODO: use depth-first traversal and only keep leaf depth (=#guesses) and perhaps its solution path\u001b[39;00m\n\u001b[1;32m     63\u001b[0m \u001b[38;5;66;03m# to reduce memory of storing entire tree.\u001b[39;00m\n\u001b[1;32m     64\u001b[0m info_k \u001b[38;5;241m=\u001b[39m _score_dict(answers, score, k_opt)\n",
      "File \u001b[0;32m~/oren/nerdle-solver/analysis.py:60\u001b[0m, in \u001b[0;36m<genexpr>\u001b[0;34m(.0)\u001b[0m\n\u001b[1;32m     57\u001b[0m score \u001b[38;5;241m=\u001b[39m node\u001b[38;5;241m.\u001b[39mscore\n\u001b[1;32m     58\u001b[0m \u001b[38;5;66;03m# Find best next guess.\u001b[39;00m\n\u001b[1;32m     59\u001b[0m bucket_size, _, k_opt \u001b[38;5;241m=\u001b[39m \u001b[38;5;28mmin\u001b[39m(\n\u001b[0;32m---> 60\u001b[0m     (\u001b[38;5;28mmax\u001b[39m(\u001b[43mcollections\u001b[49m\u001b[38;5;241;43m.\u001b[39;49m\u001b[43mCounter\u001b[49m\u001b[43m(\u001b[49m\u001b[43mscore\u001b[49m\u001b[43m[\u001b[49m\u001b[43mk\u001b[49m\u001b[43m]\u001b[49m\u001b[43m)\u001b[49m\u001b[38;5;241m.\u001b[39mvalues()), k \u001b[38;5;129;01mnot\u001b[39;00m \u001b[38;5;129;01min\u001b[39;00m answers, k) \u001b[38;5;28;01mfor\u001b[39;00m k \u001b[38;5;129;01min\u001b[39;00m \u001b[38;5;28mself\u001b[39m\u001b[38;5;241m.\u001b[39m_solver_data\u001b[38;5;241m.\u001b[39mall_keys)\n\u001b[1;32m     61\u001b[0m \u001b[38;5;66;03m# TODO: use depth-first traversal and only keep leaf depth (=#guesses) and perhaps its solution path\u001b[39;00m\n\u001b[1;32m     62\u001b[0m \u001b[38;5;66;03m# to reduce memory of storing entire tree.\u001b[39;00m\n\u001b[1;32m     63\u001b[0m info_k \u001b[38;5;241m=\u001b[39m _score_dict(answers, score, k_opt)\n",
      "File \u001b[0;32m~/opt/miniconda3/envs/nerdle/lib/python3.10/collections/__init__.py:577\u001b[0m, in \u001b[0;36mCounter.__init__\u001b[0;34m(self, iterable, **kwds)\u001b[0m\n\u001b[1;32m    566\u001b[0m \u001b[38;5;124;03m'''Create a new, empty Counter object.  And if given, count elements\u001b[39;00m\n\u001b[1;32m    567\u001b[0m \u001b[38;5;124;03mfrom an input iterable.  Or, initialize the count from another mapping\u001b[39;00m\n\u001b[1;32m    568\u001b[0m \u001b[38;5;124;03mof elements to their counts.\u001b[39;00m\n\u001b[0;32m   (...)\u001b[0m\n\u001b[1;32m    574\u001b[0m \n\u001b[1;32m    575\u001b[0m \u001b[38;5;124;03m'''\u001b[39;00m\n\u001b[1;32m    576\u001b[0m \u001b[38;5;28msuper\u001b[39m()\u001b[38;5;241m.\u001b[39m\u001b[38;5;21m__init__\u001b[39m()\n\u001b[0;32m--> 577\u001b[0m \u001b[38;5;28;43mself\u001b[39;49m\u001b[38;5;241;43m.\u001b[39;49m\u001b[43mupdate\u001b[49m\u001b[43m(\u001b[49m\u001b[43miterable\u001b[49m\u001b[43m,\u001b[49m\u001b[43m \u001b[49m\u001b[38;5;241;43m*\u001b[39;49m\u001b[38;5;241;43m*\u001b[39;49m\u001b[43mkwds\u001b[49m\u001b[43m)\u001b[49m\n",
      "\u001b[0;31mKeyboardInterrupt\u001b[0m: "
     ]
    },
    {
     "name": "stderr",
     "output_type": "stream",
     "text": [
      "\n",
      "KeyboardInterrupt\n",
      "\n"
     ]
    },
    {
     "data": {
      "image/png": "[encoded data removed]",
      "text/plain": [
       "<Figure size 640x480 with 1 Axes>"
      ]
     },
     "metadata": {},
     "output_type": "display_data"
    }
   ],
   "source": [
    "for num_slots in range(5, 9):\n",
    "    print(\"num_slots\", num_slots)\n",
    "    db_file = \"db/nerdle{}.db\".format(num_slots) \n",
    "    solver_data = nerdle.create_solver_data(num_slots, db_file)\n",
    "    d = solver_data.score_db\n",
    "\n",
    "    print(\"Building tree\")\n",
    "    %time tree = analysis.GameTreeBuilder(solver_data).build()\n",
    "    tdc = TreeDepthCalculator(tree)\n",
    "    tree_file = \"db/nerdle{}_tree.pkl\".format(num_slots) \n",
    "    with open(tree_file, 'wb') as f:\n",
    "        pickle.dump(tree, f)\n",
    "\n",
    "    # Distribution of #guesses for all answers.\n",
    "    num_guesses = np.array([depth for node, depth in tdc.depth.items() if not node.children]) + 1\n",
    "    freq = collections.Counter(num_guesses)\n",
    "    num_leaves = sum(1 for node in tdc.depth if not node.children)\n",
    "\n",
    "    print(\"Best initial guess\", tree.key[1], \"#nodes\", len(tdc.depth), \"#leaves\", num_leaves)\n",
    "    for k, v in sorted(freq.items()):\n",
    "        print(\"{} guesses: {:6.2f}%\".format(k, 100 * v / num_leaves))\n",
    "    plt.hist(num_guesses);"
   ]
  },
  {
   "cell_type": "code",
   "execution_count": 377,
   "id": "8e10b6bc-4168-4a51-ac60-36137880b5a4",
   "metadata": {},
   "outputs": [
    {
     "name": "stdout",
     "output_type": "stream",
     "text": [
      "num_slots 5\n",
      "CPU times: user 10.6 ms, sys: 125 µs, total: 10.7 ms\n",
      "Wall time: 10.9 ms\n",
      "1+2=3 bucket size 42 reduction factor 5.2 # buckets 43\n",
      "num_slots 6\n",
      "CPU times: user 9.94 ms, sys: 106 µs, total: 10 ms\n",
      "Wall time: 10.2 ms\n",
      "3*8=24 bucket size 10 reduction factor 20.6 # buckets 73\n",
      "num_slots 7\n",
      "CPU times: user 7.29 s, sys: 14.6 ms, total: 7.31 s\n",
      "Wall time: 7.32 s\n",
      "24-16=8 bucket size 158 reduction factor 47.9 # buckets 543\n",
      "num_slots 8\n",
      "CPU times: user 40.6 s, sys: 85.1 ms, total: 40.7 s\n",
      "Wall time: 40.8 s\n",
      "58-46=12 bucket size 101 reduction factor 175.5 # buckets 1650\n"
     ]
    }
   ],
   "source": [
    "for num_slots in range(5, 9):\n",
    "    print(\"num_slots\", num_slots)\n",
    "    db_file = \"db/nerdle{}.db\".format(num_slots) \n",
    "    solver_data = nerdle.create_solver_data(num_slots, db_file)\n",
    "    d = solver_data.score_db\n",
    "    answers = solver_data.all_keys\n",
    "    %time bucket_size, _, k = min((max(collections.Counter(d[k]).values()), k not in answers, k) for k in solver_data.all_keys)\n",
    "    b = collections.Counter(d[k]).values()\n",
    "    print(\"{} bucket size {} reduction factor {:.1f} # buckets {}\".format(\n",
    "        solver_data.answers[k], bucket_size, d.shape[1] / bucket_size, len(b)))"
   ]
  },
  {
   "cell_type": "markdown",
   "id": "4a68ea06-c329-4ac5-9dec-a48f14783a81",
   "metadata": {},
   "source": [
    "* It seems like odd-size Nerdle is harder than even-size! Larger average #guesses.\n",
    "* Diversifying symbols of initial guess is a generally good criterion."
   ]
  },
  {
   "cell_type": "code",
   "execution_count": 411,
   "id": "f411221c-0ba7-49f9-b39d-a22de1ec5f62",
   "metadata": {},
   "outputs": [
    {
     "name": "stdout",
     "output_type": "stream",
     "text": [
      "num_slots 7\n",
      "Tue Sep 20 07:35:20 2022    stats\n",
      "\n",
      "         122722432 function calls (122713070 primitive calls) in 171.127 seconds\n",
      "\n",
      "   Ordered by: cumulative time\n",
      "   List reduced from 37 to 20 due to restriction <20>\n",
      "\n",
      "   ncalls  tottime  percall  cumtime  percall filename:lineno(function)\n",
      "        1    0.000    0.000  171.127  171.127 {built-in method builtins.exec}\n",
      "        1    0.001    0.001  171.127  171.127 <string>:1(<module>)\n",
      "        1    0.001    0.001  170.851  170.851 /Users/olivne/oren/nerdle-solver/analysis.py:39(build)\n",
      "   9363/1    0.018    0.000  170.849  170.849 /Users/olivne/oren/nerdle-solver/analysis.py:90(pre_traversal)\n",
      "     9363    0.046    0.000  170.832    0.018 /Users/olivne/oren/nerdle-solver/analysis.py:50(_process_node)\n",
      "     1802    3.356    0.002  169.093    0.094 {built-in method builtins.min}\n",
      " 13626724   94.301    0.000  165.738    0.000 /Users/olivne/oren/nerdle-solver/analysis.py:59(<genexpr>)\n",
      " 13624922   12.999    0.000   65.684    0.000 /Users/olivne/opt/miniconda3/envs/nerdle/lib/python3.10/collections/__init__.py:565(__init__)\n",
      " 13624922    8.593    0.000   52.686    0.000 /Users/olivne/opt/miniconda3/envs/nerdle/lib/python3.10/collections/__init__.py:640(update)\n",
      " 13624922   31.617    0.000   31.617    0.000 {built-in method _collections._count_elements}\n",
      " 13624922    5.027    0.000   12.476    0.000 {built-in method builtins.isinstance}\n",
      " 13624922    3.483    0.000    7.450    0.000 /Users/olivne/opt/miniconda3/envs/nerdle/lib/python3.10/abc.py:117(__instancecheck__)\n",
      " 13624922    3.967    0.000    3.967    0.000 {built-in method _abc._abc_instancecheck}\n",
      " 13624922    3.958    0.000    3.958    0.000 {built-in method builtins.max}\n",
      " 13624922    1.795    0.000    1.795    0.000 {method 'values' of 'dict' objects}\n",
      "     1802    1.532    0.001    1.561    0.001 /Users/olivne/oren/nerdle-solver/analysis.py:69(<listcomp>)\n",
      "        1    0.004    0.004    0.276    0.276 /Users/olivne/oren/nerdle-solver/analysis.py:33(__init__)\n",
      "        1    0.267    0.267    0.267    0.267 {method 'copy' of 'numpy.ndarray' objects}\n",
      "     3609    0.086    0.000    0.086    0.000 {built-in method numpy.arange}\n",
      "     1805    0.004    0.000    0.083    0.000 /Users/olivne/oren/nerdle-solver/nerdle.py:115(all_keys)\n",
      "\n",
      "\n"
     ]
    },
    {
     "data": {
      "text/plain": [
       "<pstats.Stats at 0x209121930>"
      ]
     },
     "execution_count": 411,
     "metadata": {},
     "output_type": "execute_result"
    }
   ],
   "source": [
    "import cProfile\n",
    "import pstats\n",
    "from pstats import SortKey\n",
    "\n",
    "num_slots = 7\n",
    "print(\"num_slots\", num_slots)\n",
    "db_file = \"db/nerdle{}.db\".format(num_slots) \n",
    "solver_data = nerdle.create_solver_data(num_slots, db_file)\n",
    "d = solver_data.score_db\n",
    "\n",
    "cProfile.run('tree = analysis.GameTreeBuilder(solver_data).build()', 'stats')\n",
    "p = pstats.Stats('stats')\n",
    "p.sort_stats(SortKey.CUMULATIVE).print_stats(20)"
   ]
  },
  {
   "cell_type": "code",
   "execution_count": 425,
   "id": "2d17d5b2-5fe3-4476-9a14-5e9e7733de64",
   "metadata": {},
   "outputs": [
    {
     "name": "stdout",
     "output_type": "stream",
     "text": [
      "num_slots 7\n",
      "CPU times: user 7.34 s, sys: 12 ms, total: 7.35 s\n",
      "Wall time: 7.36 s\n",
      "24-16=8 bucket size 158 reduction factor 47.9 # buckets 543\n"
     ]
    }
   ],
   "source": [
    "import scipy.stats\n",
    "\n",
    "num_slots = 7\n",
    "print(\"num_slots\", num_slots)\n",
    "db_file = \"db/nerdle{}.db\".format(num_slots) \n",
    "solver_data = nerdle.create_solver_data(num_slots, db_file)\n",
    "d = solver_data.score_db\n",
    "answers = solver_data.all_keys\n",
    "%time bucket_size, _, k = min((max(collections.Counter(d[k]).values()), k not in answers, k) for k in solver_data.all_keys)\n",
    "b = collections.Counter(d[k]).values()\n",
    "print(\"{} bucket size {} reduction factor {:.1f} # buckets {}\".format(\n",
    "    solver_data.answers[k], bucket_size, d.shape[1] / bucket_size, len(b)))"
   ]
  },
  {
   "cell_type": "code",
   "execution_count": 432,
   "id": "c62b822d-2cbe-4124-a512-5e4d65940893",
   "metadata": {},
   "outputs": [
    {
     "name": "stdout",
     "output_type": "stream",
     "text": [
      "CPU times: user 1.89 s, sys: 10.3 ms, total: 1.9 s\n",
      "Wall time: 1.9 s\n"
     ]
    },
    {
     "data": {
      "text/plain": [
       "(158, False, 1563)"
      ]
     },
     "execution_count": 432,
     "metadata": {},
     "output_type": "execute_result"
    }
   ],
   "source": [
    "%time min((b, k not in answers, k) for k, b in enumerate(scipy.stats.mode(d, axis=1, keepdims=False)[1]))"
   ]
  },
  {
   "cell_type": "code",
   "execution_count": 426,
   "id": "dec7d96a-09de-47fe-8130-1a0b3cacc1b2",
   "metadata": {},
   "outputs": [
    {
     "name": "stdout",
     "output_type": "stream",
     "text": [
      "CPU times: user 7.36 s, sys: 18.7 ms, total: 7.38 s\n",
      "Wall time: 7.39 s\n"
     ]
    },
    {
     "data": {
      "text/plain": [
       "(158, False, 1563)"
      ]
     },
     "execution_count": 426,
     "metadata": {},
     "output_type": "execute_result"
    }
   ],
   "source": [
    "%time min((max(collections.Counter(d[k]).values()), k not in answers, k) for k in solver_data.all_keys)"
   ]
  },
  {
   "cell_type": "code",
   "execution_count": null,
   "id": "4a7d6498-9e1c-47a2-b1dd-53921754f0e8",
   "metadata": {},
   "outputs": [],
   "source": []
  }
 ],
 "metadata": {
  "kernelspec": {
   "display_name": "Python 3 (ipykernel)",
   "language": "python",
   "name": "python3"
  },
  "language_info": {
   "codemirror_mode": {
    "name": "ipython",
    "version": 3
   },
   "file_extension": ".py",
   "mimetype": "text/x-python",
   "name": "python",
   "nbconvert_exporter": "python",
   "pygments_lexer": "ipython3",
   "version": "3.10.6"
  }
 },
 "nbformat": 4,
 "nbformat_minor": 5
}
