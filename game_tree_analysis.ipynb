{
 "cells": [
  {
   "cell_type": "markdown",
   "id": "50efce8c-517b-47ca-9d81-70d88cdb5a5c",
   "metadata": {},
   "source": [
    "# Nerdle Solver - Initial Guess Assessment Optimization\n",
    "We prove (by brute-force) that you can always solve mini-Nerdle in at most $4$ guesses regardless of the starting expression, provided you use the optimal strategy. The worst start having repeating numbers and thus less information, e.g. `10-5=5`. The best start has all different numbers: `28/7=4`, which needs at most $3$ guesses and $2.65 \\pm 0.5$ guesses.\n",
    "\n",
    "To find the best initial guess, we map out the game tree."
   ]
  },
  {
   "cell_type": "code",
   "execution_count": 373,
   "id": "1ce14177-17d6-4ba1-bdd4-74ae65e07847",
   "metadata": {},
   "outputs": [
    {
     "name": "stdout",
     "output_type": "stream",
     "text": [
      "The autoreload extension is already loaded. To reload it, use:\n",
      "  %reload_ext autoreload\n"
     ]
    }
   ],
   "source": [
    "%load_ext autoreload\n",
    "%autoreload 2\n",
    "\n",
    "import collections\n",
    "import ctypes\n",
    "import itertools\n",
    "import multiprocessing\n",
    "import numpy as np\n",
    "import matplotlib.pyplot as plt\n",
    "import pickle\n",
    "import scipy.stats\n",
    "import cProfile\n",
    "import pstats\n",
    "from pstats import SortKey\n",
    "\n",
    "import analysis\n",
    "import nerdle\n",
    "import score as s\n",
    "import generator\n",
    "sgo = ctypes.CDLL(s.SCORE_GUESS_OPT_SO)\n",
    "from nerdle import Hint"
   ]
  },
  {
   "cell_type": "markdown",
   "id": "7f5156fa-001e-4a9a-8969-b1a8038c6438",
   "metadata": {},
   "source": [
    "## Initial Guess Optimization"
   ]
  },
  {
   "cell_type": "code",
   "execution_count": 555,
   "id": "667797cf-28cb-4127-a26c-66b2f92fb85e",
   "metadata": {},
   "outputs": [
    {
     "name": "stdout",
     "output_type": "stream",
     "text": [
      "num_slots 5\n",
      "Building tree\n",
      "CPU times: user 165 ms, sys: 2.32 ms, total: 167 ms\n",
      "Wall time: 170 ms\n",
      "Best initial guess 1+2=3 #nodes 286 #leaves 217\n",
      "2 guesses:   8.76%\n",
      "3 guesses:  43.78%\n",
      "4 guesses:  24.42%\n",
      "5 guesses:  23.04%\n",
      "num_slots 6\n",
      "Building tree\n",
      "CPU times: user 104 ms, sys: 1.82 ms, total: 106 ms\n",
      "Wall time: 108 ms\n",
      "Best initial guess 3*8=24 #nodes 250 #leaves 206\n",
      "2 guesses:  15.05%\n",
      "3 guesses:  83.98%\n",
      "4 guesses:   0.97%\n",
      "num_slots 7\n",
      "Building tree\n",
      "CPU times: user 2min 21s, sys: 1.22 s, total: 2min 23s\n",
      "Wall time: 2min 24s\n",
      "Best initial guess 24-16=8 #nodes 9363 #leaves 7561\n",
      "2 guesses:   1.44%\n",
      "3 guesses:  57.23%\n",
      "4 guesses:  41.33%\n",
      "num_slots 8\n",
      "Building tree\n",
      "CPU times: user 12min 11s, sys: 15.8 s, total: 12min 27s\n",
      "Wall time: 12min 34s\n",
      "Best initial guess 58-46=12 #nodes 21593 #leaves 17723\n",
      "2 guesses:   1.68%\n",
      "3 guesses:  67.70%\n",
      "4 guesses:  30.62%\n"
     ]
    },
    {
     "data": {
      "image/png": "[encoded data removed]",
      "text/plain": [
       "<Figure size 640x480 with 1 Axes>"
      ]
     },
     "metadata": {},
     "output_type": "display_data"
    }
   ],
   "source": [
    "for num_slots in range(5, 9):\n",
    "    print(\"num_slots\", num_slots)\n",
    "    db_file = \"db/nerdle{}.db\".format(num_slots) \n",
    "    solver_data = nerdle.create_solver_data(num_slots, db_file)\n",
    "    d = solver_data.score_db\n",
    "\n",
    "    print(\"Building tree\")\n",
    "    %time tree = analysis.GameTreeBuilder(solver_data).build()\n",
    "    tdc = TreeDepthCalculator(tree)\n",
    "    tree_file = \"db/nerdle{}_tree.pkl\".format(num_slots) \n",
    "    with open(tree_file, 'wb') as f:\n",
    "        pickle.dump(tree, f)\n",
    "\n",
    "    # Distribution of #guesses for all answers.\n",
    "    num_guesses = np.array([depth for node, depth in tdc.depth.items() if not node.children]) + 1\n",
    "    freq = collections.Counter(num_guesses)\n",
    "    num_leaves = sum(1 for node in tdc.depth if not node.children)\n",
    "\n",
    "    print(\"Best initial guess\", tree.key[1], \"#nodes\", len(tdc.depth), \"#leaves\", num_leaves)\n",
    "    for k, v in sorted(freq.items()):\n",
    "        print(\"{} guesses: {:6.2f}%\".format(k, 100 * v / num_leaves))\n",
    "    plt.hist(num_guesses);"
   ]
  },
  {
   "cell_type": "code",
   "execution_count": 377,
   "id": "8e10b6bc-4168-4a51-ac60-36137880b5a4",
   "metadata": {},
   "outputs": [
    {
     "name": "stdout",
     "output_type": "stream",
     "text": [
      "num_slots 5\n",
      "CPU times: user 10.6 ms, sys: 125 µs, total: 10.7 ms\n",
      "Wall time: 10.9 ms\n",
      "1+2=3 bucket size 42 reduction factor 5.2 # buckets 43\n",
      "num_slots 6\n",
      "CPU times: user 9.94 ms, sys: 106 µs, total: 10 ms\n",
      "Wall time: 10.2 ms\n",
      "3*8=24 bucket size 10 reduction factor 20.6 # buckets 73\n",
      "num_slots 7\n",
      "CPU times: user 7.29 s, sys: 14.6 ms, total: 7.31 s\n",
      "Wall time: 7.32 s\n",
      "24-16=8 bucket size 158 reduction factor 47.9 # buckets 543\n",
      "num_slots 8\n",
      "CPU times: user 40.6 s, sys: 85.1 ms, total: 40.7 s\n",
      "Wall time: 40.8 s\n",
      "58-46=12 bucket size 101 reduction factor 175.5 # buckets 1650\n"
     ]
    }
   ],
   "source": [
    "for num_slots in range(5, 9):\n",
    "    print(\"num_slots\", num_slots)\n",
    "    db_file = \"db/nerdle{}.db\".format(num_slots) \n",
    "    solver_data = nerdle.create_solver_data(num_slots, db_file)\n",
    "    d = solver_data.score_db\n",
    "    answers = solver_data.all_keys\n",
    "    %time bucket_size, _, k = min((max(collections.Counter(d[k]).values()), k not in answers, k) for k in solver_data.all_keys)\n",
    "    b = collections.Counter(d[k]).values()\n",
    "    print(\"{} bucket size {} reduction factor {:.1f} # buckets {}\".format(\n",
    "        solver_data.answers[k], bucket_size, d.shape[1] / bucket_size, len(b)))"
   ]
  },
  {
   "cell_type": "markdown",
   "id": "4a68ea06-c329-4ac5-9dec-a48f14783a81",
   "metadata": {},
   "source": [
    "* It seems like odd-size Nerdle is harder than even-size! Larger average #guesses.\n",
    "* Diversifying symbols of initial guess is a generally good criterion."
   ]
  },
  {
   "cell_type": "code",
   "execution_count": 502,
   "id": "843605fc-c050-4cf0-84c3-929ddcb35010",
   "metadata": {},
   "outputs": [
    {
     "name": "stdout",
     "output_type": "stream",
     "text": [
      "num_slots 7\n"
     ]
    }
   ],
   "source": [
    "num_slots = 7\n",
    "print(\"num_slots\", num_slots)\n",
    "db_file = \"db/nerdle{}.db\".format(num_slots) \n",
    "solver_data = nerdle.create_solver_data(num_slots, db_file)\n",
    "d = solver_data.score_db"
   ]
  },
  {
   "cell_type": "code",
   "execution_count": 554,
   "id": "f411221c-0ba7-49f9-b39d-a22de1ec5f62",
   "metadata": {},
   "outputs": [
    {
     "name": "stdout",
     "output_type": "stream",
     "text": [
      "Tue Sep 20 09:18:41 2022    stats\n",
      "\n",
      "         163788460 function calls (163756413 primitive calls) in 204.590 seconds\n",
      "\n",
      "   Ordered by: cumulative time\n",
      "   List reduced from 111 to 10 due to restriction <10>\n",
      "\n",
      "   ncalls  tottime  percall  cumtime  percall filename:lineno(function)\n",
      "        1    0.000    0.000  204.590  204.590 {built-in method builtins.exec}\n",
      "        1    0.000    0.000  204.590  204.590 <string>:1(<module>)\n",
      "        1    0.000    0.000  204.263  204.263 /Users/olivne/oren/nerdle-solver/analysis.py:40(build)\n",
      "   9363/1    0.017    0.000  204.262  204.262 /Users/olivne/oren/nerdle-solver/analysis.py:97(pre_traversal)\n",
      "     9363    0.048    0.000  204.245    0.022 /Users/olivne/oren/nerdle-solver/analysis.py:51(_process_node)\n",
      "     1802    3.487    0.002  200.558    0.111 {built-in method builtins.min}\n",
      " 13619162   92.828    0.000  197.019    0.000 /Users/olivne/oren/nerdle-solver/analysis.py:61(<genexpr>)\n",
      " 13617361   14.262    0.000   64.075    0.000 /Users/olivne/opt/miniconda3/envs/nerdle/lib/python3.10/collections/__init__.py:565(__init__)\n",
      " 13617361    9.287    0.000   49.813    0.000 /Users/olivne/opt/miniconda3/envs/nerdle/lib/python3.10/collections/__init__.py:640(update)\n",
      " 13617361   17.482    0.000   40.115    0.000 /Users/olivne/opt/miniconda3/envs/nerdle/lib/python3.10/collections/__init__.py:588(most_common)\n",
      "\n",
      "\n"
     ]
    },
    {
     "data": {
      "text/plain": [
       "<pstats.Stats at 0x184a0fe50>"
      ]
     },
     "execution_count": 554,
     "metadata": {},
     "output_type": "execute_result"
    }
   ],
   "source": [
    "cProfile.run('tree = analysis.GameTreeBuilder(solver_data).build()', 'stats')\n",
    "p = pstats.Stats('stats')\n",
    "p.sort_stats(SortKey.CUMULATIVE).print_stats(10)"
   ]
  },
  {
   "cell_type": "code",
   "execution_count": 460,
   "id": "2d17d5b2-5fe3-4476-9a14-5e9e7733de64",
   "metadata": {},
   "outputs": [
    {
     "name": "stdout",
     "output_type": "stream",
     "text": [
      "num_slots 7\n",
      "CPU times: user 7.32 s, sys: 11 ms, total: 7.33 s\n",
      "Wall time: 7.33 s\n",
      "24-16=8 bucket size 158 reduction factor 47.9 # buckets 543\n"
     ]
    }
   ],
   "source": [
    "# Basically, scipy.stats.mode() is called only for the root node (the one below for the full answers set).\n",
    "# Smaller answer sets use counter.most_common().\n",
    "num_slots = 7\n",
    "print(\"num_slots\", num_slots)\n",
    "db_file = \"db/nerdle{}.db\".format(num_slots) \n",
    "solver_data = nerdle.create_solver_data(num_slots, db_file)\n",
    "d = solver_data.score_db\n",
    "answers = solver_data.all_keys\n",
    "%time bucket_size, _, k = min((max(collections.Counter(d[k]).values()), k not in answers, k) for k in solver_data.all_keys)\n",
    "b = collections.Counter(d[k]).values()\n",
    "print(\"{} bucket size {} reduction factor {:.1f} # buckets {}\".format(\n",
    "    solver_data.answers[k], bucket_size, d.shape[1] / bucket_size, len(b)))\n",
    "%time min((max(collections.Counter(d[k]).values()), k not in answers, k) for k in solver_data.all_keys)\n",
    "%time min((b, k not in answers, k) for k, b in enumerate(scipy.stats.mode(d, axis=1, keepdims=False)[1]))"
   ]
  },
  {
   "cell_type": "code",
   "execution_count": 549,
   "id": "f496079a-7abb-4479-8163-186d4678bd61",
   "metadata": {},
   "outputs": [
    {
     "name": "stdout",
     "output_type": "stream",
     "text": [
      "1000\n",
      "5\n",
      "CPU times: user 5.13 ms, sys: 114 µs, total: 5.24 ms\n",
      "Wall time: 5.37 ms\n",
      "CPU times: user 30.9 ms, sys: 4.35 ms, total: 35.2 ms\n",
      "Wall time: 32 ms\n",
      "250\n",
      "CPU times: user 34.9 ms, sys: 175 µs, total: 35 ms\n",
      "Wall time: 35.2 ms\n",
      "CPU times: user 28.5 ms, sys: 59 µs, total: 28.6 ms\n",
      "Wall time: 28.7 ms\n",
      "500\n",
      "CPU times: user 54.8 ms, sys: 132 µs, total: 55 ms\n",
      "Wall time: 55.1 ms\n",
      "CPU times: user 31.5 ms, sys: 141 µs, total: 31.6 ms\n",
      "Wall time: 31.7 ms\n",
      "10000\n",
      "5\n",
      "CPU times: user 37.1 ms, sys: 108 µs, total: 37.2 ms\n",
      "Wall time: 37.3 ms\n",
      "CPU times: user 203 ms, sys: 1.69 ms, total: 205 ms\n",
      "Wall time: 204 ms\n",
      "250\n",
      "CPU times: user 291 ms, sys: 581 µs, total: 291 ms\n",
      "Wall time: 292 ms\n",
      "CPU times: user 267 ms, sys: 930 µs, total: 268 ms\n",
      "Wall time: 268 ms\n",
      "500\n",
      "CPU times: user 545 ms, sys: 839 µs, total: 546 ms\n",
      "Wall time: 546 ms\n",
      "CPU times: user 307 ms, sys: 649 µs, total: 307 ms\n",
      "Wall time: 307 ms\n"
     ]
    }
   ],
   "source": [
    "# scipy.stats.mode has a larger overhead than Counter.most_common(), but is faster for large arrays.\n",
    "for rows in (1000, 10000):\n",
    "    print(rows)\n",
    "    for cols in (5, 250, 500):\n",
    "        print(cols)\n",
    "        a = np.random.randint(10, size=(rows, cols))\n",
    "        %time min(collections.Counter(row).most_common(1)[0][1] for row in a);\n",
    "        %time min(scipy.stats.mode(a, axis=1, keepdims=False)[1]);"
   ]
  },
  {
   "cell_type": "code",
   "execution_count": null,
   "id": "1bb6dc80-ee82-4d09-8f40-d7443909d6f0",
   "metadata": {},
   "outputs": [],
   "source": []
  }
 ],
 "metadata": {
  "kernelspec": {
   "display_name": "Python 3 (ipykernel)",
   "language": "python",
   "name": "python3"
  },
  "language_info": {
   "codemirror_mode": {
    "name": "ipython",
    "version": 3
   },
   "file_extension": ".py",
   "mimetype": "text/x-python",
   "name": "python",
   "nbconvert_exporter": "python",
   "pygments_lexer": "ipython3",
   "version": "3.10.6"
  }
 },
 "nbformat": 4,
 "nbformat_minor": 5
}
