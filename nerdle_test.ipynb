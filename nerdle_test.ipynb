{
 "cells": [
  {
   "cell_type": "markdown",
   "id": "50efce8c-517b-47ca-9d81-70d88cdb5a5c",
   "metadata": {},
   "source": [
    "# Nerdle Solver Test\n",
    "This has a much larger answer space than mini nerdle ($17723$ vs $206$)."
   ]
  },
  {
   "cell_type": "code",
   "execution_count": null,
   "id": "1ce14177-17d6-4ba1-bdd4-74ae65e07847",
   "metadata": {},
   "outputs": [],
   "source": [
    "%load_ext autoreload\n",
    "%autoreload 2\n",
    "\n",
    "import collections\n",
    "import itertools\n",
    "import numpy as np\n",
    "import matplotlib.pyplot as plt\n",
    "\n",
    "import nerdle\n",
    "import util\n",
    "from nerdle import Hint, NerdleData"
   ]
  },
  {
   "cell_type": "code",
   "execution_count": 15,
   "id": "3e772c55-2cd9-4034-9a40-da234e49e783",
   "metadata": {},
   "outputs": [],
   "source": [
    "# Mini-Nerdle.\n",
    "NUM_SLOTS = 8\n",
    "SCORE_DICT_FILE = \"nerdle.pickle\"\n",
    "\n",
    "solver_data = nerdle.get_solver_data(NUM_SLOTS, SCORE_DICT_FILE)\n",
    "solver_data.open()"
   ]
  },
  {
   "cell_type": "code",
   "execution_count": 16,
   "id": "3afd369f-ec7b-4851-a58c-fcb9c0392625",
   "metadata": {},
   "outputs": [
    {
     "name": "stdout",
     "output_type": "stream",
     "text": [
      "17723 17723\n",
      "((86, '-', 10), 76) 86-10=76 17723\n",
      "((8, '*', 9, '-', 1), 71) 8*9-1=71 17723\n",
      "((36, '/', 3, '/', 6), 2) 36/3/6=2 17723\n",
      "((21, '-', 9, '-', 9), 3) 21-9-9=3 17723\n",
      "((15, '+', 48), 63) 15+48=63 17723\n",
      "((71, '+', 20), 91) 71+20=91 17723\n",
      "((9, '/', 12, '*', 8), 6) 9/12*8=6 17723\n",
      "((20, '*', 2, '/', 8), 5) 20*2/8=5 17723\n",
      "((32, '+', 27), 59) 32+27=59 17723\n",
      "((32, '-', 5, '*', 6), 2) 32-5*6=2 17723\n"
     ]
    }
   ],
   "source": [
    "d = solver_data.score_dict\n",
    "print(len(d), len(solver_data.answers))\n",
    "for key in list(d.keys())[:10]:\n",
    "    print(key, \"\".join(map(str, key[0])) + \"=\" + str(key[1]), len(d[key]))"
   ]
  },
  {
   "cell_type": "code",
   "execution_count": 13,
   "id": "dc1fb9d8-2907-4eb3-8139-1fe65b874e17",
   "metadata": {},
   "outputs": [
    {
     "name": "stdout",
     "output_type": "stream",
     "text": [
      "18049\n"
     ]
    },
    {
     "ename": "KeyError",
     "evalue": "<Hint.CORRECT: 1>",
     "output_type": "error",
     "traceback": [
      "\u001b[0;31m---------------------------------------------------------------------------\u001b[0m",
      "\u001b[0;31mKeyError\u001b[0m                                  Traceback (most recent call last)",
      "Cell \u001b[0;32mIn [13], line 4\u001b[0m\n\u001b[1;32m      1\u001b[0m score \u001b[38;5;241m=\u001b[39m nerdle\u001b[38;5;241m.\u001b[39mscore_guess(\u001b[38;5;124m\"\u001b[39m\u001b[38;5;124m10-43=46\u001b[39m\u001b[38;5;124m\"\u001b[39m, \u001b[38;5;124m\"\u001b[39m\u001b[38;5;124m12+34=56\u001b[39m\u001b[38;5;124m\"\u001b[39m)\n\u001b[1;32m      2\u001b[0m \u001b[38;5;28mprint\u001b[39m(score)\n\u001b[1;32m      3\u001b[0m \u001b[38;5;28mprint\u001b[39m(\n\u001b[0;32m----> 4\u001b[0m       \u001b[43mutil\u001b[49m\u001b[38;5;241;43m.\u001b[39;49m\u001b[43mscore_to_hint_string\u001b[49m\u001b[43m(\u001b[49m\u001b[43mscore\u001b[49m\u001b[43m,\u001b[49m\u001b[43m \u001b[49m\u001b[43mNUM_SLOTS\u001b[49m\u001b[43m)\u001b[49m,\n\u001b[1;32m      5\u001b[0m       util\u001b[38;5;241m.\u001b[39mscore_to_hints(score, NUM_SLOTS) \u001b[38;5;241m==\u001b[39m [\n\u001b[1;32m      6\u001b[0m     Hint\u001b[38;5;241m.\u001b[39mCORRECT, Hint\u001b[38;5;241m.\u001b[39mINCORRECT, Hint\u001b[38;5;241m.\u001b[39mINCORRECT, Hint\u001b[38;5;241m.\u001b[39mMISPLACED,\n\u001b[1;32m      7\u001b[0m     Hint\u001b[38;5;241m.\u001b[39mMISPLACED, Hint\u001b[38;5;241m.\u001b[39mCORRECT, Hint\u001b[38;5;241m.\u001b[39mINCORRECT, Hint\u001b[38;5;241m.\u001b[39mCORRECT]\n\u001b[1;32m      8\u001b[0m )\n",
      "File \u001b[0;32m~/oren/nerdle-solver/util.py:20\u001b[0m, in \u001b[0;36mscore_to_hint_string\u001b[0;34m(score, num_slots)\u001b[0m\n\u001b[1;32m     19\u001b[0m \u001b[38;5;28;01mdef\u001b[39;00m \u001b[38;5;21mscore_to_hint_string\u001b[39m(score, num_slots):\n\u001b[0;32m---> 20\u001b[0m     \u001b[38;5;28;01mreturn\u001b[39;00m \u001b[38;5;124;43m\"\u001b[39;49m\u001b[38;5;124;43m\"\u001b[39;49m\u001b[38;5;241;43m.\u001b[39;49m\u001b[43mjoin\u001b[49m\u001b[43m(\u001b[49m\u001b[43mHINT_STRING\u001b[49m\u001b[43m[\u001b[49m\u001b[43mHint\u001b[49m\u001b[43m(\u001b[49m\u001b[38;5;28;43mint\u001b[39;49m\u001b[43m(\u001b[49m\u001b[38;5;124;43m\"\u001b[39;49m\u001b[38;5;124;43m\"\u001b[39;49m\u001b[38;5;241;43m.\u001b[39;49m\u001b[43mjoin\u001b[49m\u001b[43m(\u001b[49m\u001b[43mx\u001b[49m\u001b[43m)\u001b[49m\u001b[43m,\u001b[49m\u001b[43m \u001b[49m\u001b[38;5;241;43m2\u001b[39;49m\u001b[43m)\u001b[49m\u001b[43m)\u001b[49m\u001b[43m]\u001b[49m\u001b[43m \u001b[49m\u001b[38;5;28;43;01mfor\u001b[39;49;00m\u001b[43m \u001b[49m\u001b[43mx\u001b[49m\u001b[43m \u001b[49m\u001b[38;5;129;43;01min\u001b[39;49;00m\u001b[43m \u001b[49m\u001b[43mgrouper\u001b[49m\u001b[43m(\u001b[49m\u001b[38;5;28;43mbin\u001b[39;49m\u001b[43m(\u001b[49m\u001b[43mscore\u001b[49m\u001b[43m)\u001b[49m\u001b[43m[\u001b[49m\u001b[38;5;241;43m2\u001b[39;49m\u001b[43m:\u001b[49m\u001b[43m]\u001b[49m\u001b[38;5;241;43m.\u001b[39;49m\u001b[43mzfill\u001b[49m\u001b[43m(\u001b[49m\u001b[38;5;241;43m2\u001b[39;49m\u001b[43m \u001b[49m\u001b[38;5;241;43m*\u001b[39;49m\u001b[43m \u001b[49m\u001b[43mnum_slots\u001b[49m\u001b[43m)\u001b[49m\u001b[43m,\u001b[49m\u001b[43m \u001b[49m\u001b[38;5;241;43m2\u001b[39;49m\u001b[43m)\u001b[49m\u001b[43m)\u001b[49m[::\u001b[38;5;241m-\u001b[39m\u001b[38;5;241m1\u001b[39m]\n",
      "File \u001b[0;32m~/oren/nerdle-solver/util.py:20\u001b[0m, in \u001b[0;36m<genexpr>\u001b[0;34m(.0)\u001b[0m\n\u001b[1;32m     19\u001b[0m \u001b[38;5;28;01mdef\u001b[39;00m \u001b[38;5;21mscore_to_hint_string\u001b[39m(score, num_slots):\n\u001b[0;32m---> 20\u001b[0m     \u001b[38;5;28;01mreturn\u001b[39;00m \u001b[38;5;124m\"\u001b[39m\u001b[38;5;124m\"\u001b[39m\u001b[38;5;241m.\u001b[39mjoin(\u001b[43mHINT_STRING\u001b[49m\u001b[43m[\u001b[49m\u001b[43mHint\u001b[49m\u001b[43m(\u001b[49m\u001b[38;5;28;43mint\u001b[39;49m\u001b[43m(\u001b[49m\u001b[38;5;124;43m\"\u001b[39;49m\u001b[38;5;124;43m\"\u001b[39;49m\u001b[38;5;241;43m.\u001b[39;49m\u001b[43mjoin\u001b[49m\u001b[43m(\u001b[49m\u001b[43mx\u001b[49m\u001b[43m)\u001b[49m\u001b[43m,\u001b[49m\u001b[43m \u001b[49m\u001b[38;5;241;43m2\u001b[39;49m\u001b[43m)\u001b[49m\u001b[43m)\u001b[49m\u001b[43m]\u001b[49m \u001b[38;5;28;01mfor\u001b[39;00m x \u001b[38;5;129;01min\u001b[39;00m grouper(\u001b[38;5;28mbin\u001b[39m(score)[\u001b[38;5;241m2\u001b[39m:]\u001b[38;5;241m.\u001b[39mzfill(\u001b[38;5;241m2\u001b[39m \u001b[38;5;241m*\u001b[39m num_slots), \u001b[38;5;241m2\u001b[39m))[::\u001b[38;5;241m-\u001b[39m\u001b[38;5;241m1\u001b[39m]\n",
      "\u001b[0;31mKeyError\u001b[0m: <Hint.CORRECT: 1>"
     ]
    }
   ],
   "source": [
    "score = nerdle.score_guess(\"10-43=46\", \"12+34=56\")\n",
    "print(score)\n",
    "print(\n",
    "      util.score_to_hint_string(score, NUM_SLOTS),\n",
    "      util.score_to_hints(score, NUM_SLOTS) == [\n",
    "    Hint.CORRECT, Hint.INCORRECT, Hint.INCORRECT, Hint.MISPLACED,\n",
    "    Hint.MISPLACED, Hint.CORRECT, Hint.INCORRECT, Hint.CORRECT]\n",
    ")"
   ]
  },
  {
   "cell_type": "code",
   "execution_count": 9,
   "id": "8f7c91f7-4ff7-4fca-a7cb-721312ae0bbb",
   "metadata": {},
   "outputs": [
    {
     "ename": "KeyError",
     "evalue": "((3, '+', 13, '-', 8), 8)",
     "output_type": "error",
     "traceback": [
      "\u001b[0;31m---------------------------------------------------------------------------\u001b[0m",
      "\u001b[0;31mKeyError\u001b[0m                                  Traceback (most recent call last)",
      "File \u001b[0;32m<timed exec>:2\u001b[0m\n",
      "File \u001b[0;32m~/oren/nerdle-solver/nerdle.py:118\u001b[0m, in \u001b[0;36mNerdleSolver.solve\u001b[0;34m(self, answer, max_guesses, initial_guess, debug)\u001b[0m\n\u001b[1;32m    116\u001b[0m score \u001b[38;5;241m=\u001b[39m score_guess(guess, answer)\n\u001b[1;32m    117\u001b[0m hint_history\u001b[38;5;241m.\u001b[39mappend(score)\n\u001b[0;32m--> 118\u001b[0m answers \u001b[38;5;241m=\u001b[39m {a \u001b[38;5;28;01mfor\u001b[39;00m a \u001b[38;5;129;01min\u001b[39;00m answers \u001b[38;5;28;01mif\u001b[39;00m score_dict[guess][a] \u001b[38;5;241m==\u001b[39m score}\n\u001b[1;32m    120\u001b[0m guesses_left \u001b[38;5;241m-\u001b[39m\u001b[38;5;241m=\u001b[39m \u001b[38;5;241m1\u001b[39m\n\u001b[1;32m    121\u001b[0m \u001b[38;5;28;01mif\u001b[39;00m guess \u001b[38;5;241m==\u001b[39m answer:\n",
      "File \u001b[0;32m~/oren/nerdle-solver/nerdle.py:118\u001b[0m, in \u001b[0;36m<setcomp>\u001b[0;34m(.0)\u001b[0m\n\u001b[1;32m    116\u001b[0m score \u001b[38;5;241m=\u001b[39m score_guess(guess, answer)\n\u001b[1;32m    117\u001b[0m hint_history\u001b[38;5;241m.\u001b[39mappend(score)\n\u001b[0;32m--> 118\u001b[0m answers \u001b[38;5;241m=\u001b[39m {a \u001b[38;5;28;01mfor\u001b[39;00m a \u001b[38;5;129;01min\u001b[39;00m answers \u001b[38;5;28;01mif\u001b[39;00m \u001b[43mscore_dict\u001b[49m\u001b[43m[\u001b[49m\u001b[43mguess\u001b[49m\u001b[43m]\u001b[49m\u001b[43m[\u001b[49m\u001b[43ma\u001b[49m\u001b[43m]\u001b[49m \u001b[38;5;241m==\u001b[39m score}\n\u001b[1;32m    120\u001b[0m guesses_left \u001b[38;5;241m-\u001b[39m\u001b[38;5;241m=\u001b[39m \u001b[38;5;241m1\u001b[39m\n\u001b[1;32m    121\u001b[0m \u001b[38;5;28;01mif\u001b[39;00m guess \u001b[38;5;241m==\u001b[39m answer:\n",
      "\u001b[0;31mKeyError\u001b[0m: ((3, '+', 13, '-', 8), 8)"
     ]
    }
   ],
   "source": [
    "%%time\n",
    "solver = nerdle.NerdleSolver(solver_data)\n",
    "guess_history, hint_history = solver.solve(\"12+34=56\", initial_guess=\"10-43=46\")"
   ]
  },
  {
   "cell_type": "code",
   "execution_count": 8,
   "id": "94833d60-deb1-4c91-ba36-33dc7c6a2cbc",
   "metadata": {},
   "outputs": [],
   "source": [
    "solver = nerdle.NerdleSolver(solver_data)"
   ]
  },
  {
   "cell_type": "code",
   "execution_count": 17,
   "id": "8cb538e3-6f0b-4493-9e3d-7fc0249a65c7",
   "metadata": {},
   "outputs": [],
   "source": [
    "import shelve"
   ]
  },
  {
   "cell_type": "code",
   "execution_count": 19,
   "id": "5ef15e6d-817c-4afc-8d6b-3da5dd4f0843",
   "metadata": {},
   "outputs": [],
   "source": [
    "d = shelve.open(\"dict.shelve\")"
   ]
  },
  {
   "cell_type": "code",
   "execution_count": null,
   "id": "bc039797-baa9-4824-872d-5b85a0c36c82",
   "metadata": {},
   "outputs": [],
   "source": []
  }
 ],
 "metadata": {
  "kernelspec": {
   "display_name": "Python 3 (ipykernel)",
   "language": "python",
   "name": "python3"
  },
  "language_info": {
   "codemirror_mode": {
    "name": "ipython",
    "version": 3
   },
   "file_extension": ".py",
   "mimetype": "text/x-python",
   "name": "python",
   "nbconvert_exporter": "python",
   "pygments_lexer": "ipython3",
   "version": "3.10.6"
  }
 },
 "nbformat": 4,
 "nbformat_minor": 5
}
