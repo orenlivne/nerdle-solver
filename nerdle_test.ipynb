{
 "cells": [
  {
   "cell_type": "markdown",
   "id": "50efce8c-517b-47ca-9d81-70d88cdb5a5c",
   "metadata": {},
   "source": [
    "# Nerdle Solver Test\n",
    "This has a much larger answer space than mini nerdle ($17723$ vs $206$). We use shelve storage for the solver data."
   ]
  },
  {
   "cell_type": "code",
   "execution_count": 1,
   "id": "1ce14177-17d6-4ba1-bdd4-74ae65e07847",
   "metadata": {},
   "outputs": [],
   "source": [
    "%load_ext autoreload\n",
    "%autoreload 2\n",
    "\n",
    "import collections\n",
    "import itertools\n",
    "import numpy as np\n",
    "import matplotlib.pyplot as plt\n",
    "\n",
    "import nerdle\n",
    "import score\n",
    "import generator\n",
    "from nerdle import Hint, NerdleData"
   ]
  },
  {
   "cell_type": "code",
   "execution_count": 120,
   "id": "a0cfcb79-180e-498f-895a-00f36fc9cb05",
   "metadata": {},
   "outputs": [],
   "source": [
    "# answers = list(generator.all_answers(7))[:1000]"
   ]
  },
  {
   "cell_type": "code",
   "execution_count": 119,
   "id": "6c47ffcd-92a2-4351-b38d-ea561eb92a29",
   "metadata": {},
   "outputs": [],
   "source": [
    "# import pstats\n",
    "# from pstats import SortKey\n",
    "# import cProfile\n",
    "\n",
    "# score_dict = {}\n",
    "# cProfile.run('nerdle.create_score_dictionary(answers, score_dict, print_frequency=100)', 'stats')\n",
    "\n",
    "# p = pstats.Stats('stats')\n",
    "# p.sort_stats(SortKey.CUMULATIVE).print_stats(10)"
   ]
  },
  {
   "cell_type": "code",
   "execution_count": 55,
   "id": "3e772c55-2cd9-4034-9a40-da234e49e783",
   "metadata": {},
   "outputs": [
    {
     "name": "stdout",
     "output_type": "stream",
     "text": [
      "0 / 17723 (0.0%) completed\n",
      "100 / 17723 (0.6%) completed\n",
      "200 / 17723 (1.1%) completed\n",
      "300 / 17723 (1.7%) completed\n",
      "400 / 17723 (2.3%) completed\n",
      "500 / 17723 (2.8%) completed\n",
      "600 / 17723 (3.4%) completed\n",
      "700 / 17723 (3.9%) completed\n",
      "800 / 17723 (4.5%) completed\n",
      "900 / 17723 (5.1%) completed\n",
      "1000 / 17723 (5.6%) completed\n",
      "1100 / 17723 (6.2%) completed\n",
      "1200 / 17723 (6.8%) completed\n",
      "1300 / 17723 (7.3%) completed\n",
      "1400 / 17723 (7.9%) completed\n",
      "1500 / 17723 (8.5%) completed\n",
      "1600 / 17723 (9.0%) completed\n",
      "1700 / 17723 (9.6%) completed\n",
      "1800 / 17723 (10.2%) completed\n",
      "1900 / 17723 (10.7%) completed\n",
      "2000 / 17723 (11.3%) completed\n",
      "2100 / 17723 (11.8%) completed\n",
      "2200 / 17723 (12.4%) completed\n",
      "2300 / 17723 (13.0%) completed\n",
      "2400 / 17723 (13.5%) completed\n",
      "2500 / 17723 (14.1%) completed\n",
      "2600 / 17723 (14.7%) completed\n",
      "2700 / 17723 (15.2%) completed\n",
      "2800 / 17723 (15.8%) completed\n",
      "2900 / 17723 (16.4%) completed\n",
      "3000 / 17723 (16.9%) completed\n",
      "3100 / 17723 (17.5%) completed\n",
      "3200 / 17723 (18.1%) completed\n",
      "3300 / 17723 (18.6%) completed\n",
      "3400 / 17723 (19.2%) completed\n",
      "3500 / 17723 (19.7%) completed\n",
      "3600 / 17723 (20.3%) completed\n",
      "3700 / 17723 (20.9%) completed\n",
      "3800 / 17723 (21.4%) completed\n",
      "3900 / 17723 (22.0%) completed\n",
      "4000 / 17723 (22.6%) completed\n",
      "4100 / 17723 (23.1%) completed\n",
      "4200 / 17723 (23.7%) completed\n",
      "4300 / 17723 (24.3%) completed\n",
      "4400 / 17723 (24.8%) completed\n",
      "4500 / 17723 (25.4%) completed\n",
      "4600 / 17723 (26.0%) completed\n",
      "4700 / 17723 (26.5%) completed\n",
      "4800 / 17723 (27.1%) completed\n",
      "4900 / 17723 (27.6%) completed\n",
      "5000 / 17723 (28.2%) completed\n",
      "5100 / 17723 (28.8%) completed\n",
      "5200 / 17723 (29.3%) completed\n",
      "5300 / 17723 (29.9%) completed\n",
      "5400 / 17723 (30.5%) completed\n",
      "5500 / 17723 (31.0%) completed\n",
      "5600 / 17723 (31.6%) completed\n",
      "5700 / 17723 (32.2%) completed\n",
      "5800 / 17723 (32.7%) completed\n",
      "5900 / 17723 (33.3%) completed\n",
      "6000 / 17723 (33.9%) completed\n",
      "6100 / 17723 (34.4%) completed\n",
      "6200 / 17723 (35.0%) completed\n",
      "6300 / 17723 (35.5%) completed\n",
      "6400 / 17723 (36.1%) completed\n",
      "6500 / 17723 (36.7%) completed\n",
      "6600 / 17723 (37.2%) completed\n",
      "6700 / 17723 (37.8%) completed\n",
      "6800 / 17723 (38.4%) completed\n",
      "6900 / 17723 (38.9%) completed\n",
      "7000 / 17723 (39.5%) completed\n",
      "7100 / 17723 (40.1%) completed\n",
      "7200 / 17723 (40.6%) completed\n",
      "7300 / 17723 (41.2%) completed\n",
      "7400 / 17723 (41.8%) completed\n",
      "7500 / 17723 (42.3%) completed\n",
      "7600 / 17723 (42.9%) completed\n",
      "7700 / 17723 (43.4%) completed\n",
      "7800 / 17723 (44.0%) completed\n",
      "7900 / 17723 (44.6%) completed\n",
      "8000 / 17723 (45.1%) completed\n",
      "8100 / 17723 (45.7%) completed\n",
      "8200 / 17723 (46.3%) completed\n",
      "8300 / 17723 (46.8%) completed\n",
      "8400 / 17723 (47.4%) completed\n",
      "8500 / 17723 (48.0%) completed\n",
      "8600 / 17723 (48.5%) completed\n",
      "8700 / 17723 (49.1%) completed\n",
      "8800 / 17723 (49.7%) completed\n",
      "8900 / 17723 (50.2%) completed\n",
      "9000 / 17723 (50.8%) completed\n",
      "9100 / 17723 (51.3%) completed\n",
      "9200 / 17723 (51.9%) completed\n",
      "9300 / 17723 (52.5%) completed\n",
      "9400 / 17723 (53.0%) completed\n",
      "9500 / 17723 (53.6%) completed\n",
      "9600 / 17723 (54.2%) completed\n",
      "9700 / 17723 (54.7%) completed\n",
      "9800 / 17723 (55.3%) completed\n",
      "9900 / 17723 (55.9%) completed\n",
      "10000 / 17723 (56.4%) completed\n",
      "10100 / 17723 (57.0%) completed\n",
      "10200 / 17723 (57.6%) completed\n",
      "10300 / 17723 (58.1%) completed\n",
      "10400 / 17723 (58.7%) completed\n",
      "10500 / 17723 (59.2%) completed\n",
      "10600 / 17723 (59.8%) completed\n",
      "10700 / 17723 (60.4%) completed\n",
      "10800 / 17723 (60.9%) completed\n",
      "10900 / 17723 (61.5%) completed\n",
      "11000 / 17723 (62.1%) completed\n",
      "11100 / 17723 (62.6%) completed\n",
      "11200 / 17723 (63.2%) completed\n",
      "11300 / 17723 (63.8%) completed\n",
      "11400 / 17723 (64.3%) completed\n",
      "11500 / 17723 (64.9%) completed\n",
      "11600 / 17723 (65.5%) completed\n",
      "11700 / 17723 (66.0%) completed\n",
      "11800 / 17723 (66.6%) completed\n",
      "11900 / 17723 (67.1%) completed\n",
      "12000 / 17723 (67.7%) completed\n",
      "12100 / 17723 (68.3%) completed\n",
      "12200 / 17723 (68.8%) completed\n",
      "12300 / 17723 (69.4%) completed\n",
      "12400 / 17723 (70.0%) completed\n",
      "12500 / 17723 (70.5%) completed\n",
      "12600 / 17723 (71.1%) completed\n",
      "12700 / 17723 (71.7%) completed\n",
      "12800 / 17723 (72.2%) completed\n",
      "12900 / 17723 (72.8%) completed\n",
      "13000 / 17723 (73.4%) completed\n",
      "13100 / 17723 (73.9%) completed\n",
      "13200 / 17723 (74.5%) completed\n",
      "13300 / 17723 (75.0%) completed\n",
      "13400 / 17723 (75.6%) completed\n",
      "13500 / 17723 (76.2%) completed\n",
      "13600 / 17723 (76.7%) completed\n",
      "13700 / 17723 (77.3%) completed\n",
      "13800 / 17723 (77.9%) completed\n",
      "13900 / 17723 (78.4%) completed\n",
      "14000 / 17723 (79.0%) completed\n",
      "14100 / 17723 (79.6%) completed\n",
      "14200 / 17723 (80.1%) completed\n",
      "14300 / 17723 (80.7%) completed\n",
      "14400 / 17723 (81.3%) completed\n",
      "14500 / 17723 (81.8%) completed\n",
      "14600 / 17723 (82.4%) completed\n",
      "14700 / 17723 (82.9%) completed\n",
      "14800 / 17723 (83.5%) completed\n",
      "14900 / 17723 (84.1%) completed\n",
      "15000 / 17723 (84.6%) completed\n",
      "15100 / 17723 (85.2%) completed\n",
      "15200 / 17723 (85.8%) completed\n",
      "15300 / 17723 (86.3%) completed\n",
      "15400 / 17723 (86.9%) completed\n",
      "15500 / 17723 (87.5%) completed\n",
      "15600 / 17723 (88.0%) completed\n",
      "15700 / 17723 (88.6%) completed\n",
      "15800 / 17723 (89.1%) completed\n",
      "15900 / 17723 (89.7%) completed\n",
      "16000 / 17723 (90.3%) completed\n",
      "16100 / 17723 (90.8%) completed\n",
      "16200 / 17723 (91.4%) completed\n",
      "16300 / 17723 (92.0%) completed\n",
      "16400 / 17723 (92.5%) completed\n",
      "16500 / 17723 (93.1%) completed\n",
      "16600 / 17723 (93.7%) completed\n",
      "16700 / 17723 (94.2%) completed\n",
      "16800 / 17723 (94.8%) completed\n",
      "16900 / 17723 (95.4%) completed\n",
      "17000 / 17723 (95.9%) completed\n",
      "17100 / 17723 (96.5%) completed\n",
      "17200 / 17723 (97.0%) completed\n",
      "17300 / 17723 (97.6%) completed\n",
      "17400 / 17723 (98.2%) completed\n",
      "17500 / 17723 (98.7%) completed\n",
      "17600 / 17723 (99.3%) completed\n",
      "17700 / 17723 (99.9%) completed\n"
     ]
    },
    {
     "data": {
      "text/plain": [
       "<nerdle._NerdleDataDict at 0x17e3abee0>"
      ]
     },
     "execution_count": 55,
     "metadata": {},
     "output_type": "execute_result"
    }
   ],
   "source": [
    "# Mini-Nerdle.\n",
    "NUM_SLOTS = 8\n",
    "SCORE_DICT_FILE = \"nerdle\"\n",
    "\n",
    "solver_data = nerdle.create_solver_data(NUM_SLOTS, SCORE_DICT_FILE, strategy=\"dict\")\n",
    "solver_data.open()"
   ]
  },
  {
   "cell_type": "code",
   "execution_count": 58,
   "id": "3afd369f-ec7b-4851-a58c-fcb9c0392625",
   "metadata": {},
   "outputs": [
    {
     "name": "stdout",
     "output_type": "stream",
     "text": [
      "17723 17723\n",
      "84-65=19 8=4 17723\n",
      "19*9=171 1=9 17723\n",
      "85-25=60 8=5 17723\n",
      "2*4*3=24 2=* 17723\n",
      "64-31=33 6=4 17723\n",
      "59-47=12 5=9 17723\n",
      "47+44=91 4=7 17723\n",
      "70/7-2=8 7=0 17723\n",
      "23+66=89 2=3 17723\n",
      "97-19=78 9=7 17723\n"
     ]
    }
   ],
   "source": [
    "d = solver_data.score_dict\n",
    "print(len(d), len(solver_data.answers))\n",
    "for key in list(d.keys())[:10]:\n",
    "    print(key, \"\".join(map(str, key[0])) + \"=\" + str(key[1]), len(d[key]))"
   ]
  },
  {
   "cell_type": "code",
   "execution_count": 121,
   "id": "dc1fb9d8-2907-4eb3-8139-1fe65b874e17",
   "metadata": {},
   "outputs": [
    {
     "name": "stdout",
     "output_type": "stream",
     "text": [
      "18049\n"
     ]
    },
    {
     "ename": "TypeError",
     "evalue": "object.__new__() takes exactly one argument (the type to instantiate)",
     "output_type": "error",
     "traceback": [
      "\u001b[0;31m---------------------------------------------------------------------------\u001b[0m",
      "\u001b[0;31mTypeError\u001b[0m                                 Traceback (most recent call last)",
      "Cell \u001b[0;32mIn [121], line 4\u001b[0m\n\u001b[1;32m      1\u001b[0m score \u001b[38;5;241m=\u001b[39m nerdle\u001b[38;5;241m.\u001b[39mscore_guess(\u001b[38;5;124m\"\u001b[39m\u001b[38;5;124m10-43=46\u001b[39m\u001b[38;5;124m\"\u001b[39m, \u001b[38;5;124m\"\u001b[39m\u001b[38;5;124m12+34=56\u001b[39m\u001b[38;5;124m\"\u001b[39m)\n\u001b[1;32m      2\u001b[0m \u001b[38;5;28mprint\u001b[39m(score)\n\u001b[1;32m      3\u001b[0m \u001b[38;5;28mprint\u001b[39m(\n\u001b[0;32m----> 4\u001b[0m       \u001b[43mutil\u001b[49m\u001b[38;5;241;43m.\u001b[39;49m\u001b[43mscore_to_hint_string\u001b[49m\u001b[43m(\u001b[49m\u001b[43mscore\u001b[49m\u001b[43m,\u001b[49m\u001b[43m \u001b[49m\u001b[43mNUM_SLOTS\u001b[49m\u001b[43m)\u001b[49m,\n\u001b[1;32m      5\u001b[0m       util\u001b[38;5;241m.\u001b[39mscore_to_hints(score, NUM_SLOTS) \u001b[38;5;241m==\u001b[39m [\n\u001b[1;32m      6\u001b[0m     Hint\u001b[38;5;241m.\u001b[39mCORRECT, Hint\u001b[38;5;241m.\u001b[39mINCORRECT, Hint\u001b[38;5;241m.\u001b[39mINCORRECT, Hint\u001b[38;5;241m.\u001b[39mMISPLACED,\n\u001b[1;32m      7\u001b[0m     Hint\u001b[38;5;241m.\u001b[39mMISPLACED, Hint\u001b[38;5;241m.\u001b[39mCORRECT, Hint\u001b[38;5;241m.\u001b[39mINCORRECT, Hint\u001b[38;5;241m.\u001b[39mCORRECT]\n\u001b[1;32m      8\u001b[0m )\n",
      "File \u001b[0;32m~/oren/nerdle-solver/util.py:20\u001b[0m, in \u001b[0;36mscore_to_hint_string\u001b[0;34m(score, num_slots)\u001b[0m\n\u001b[1;32m     19\u001b[0m \u001b[38;5;28;01mdef\u001b[39;00m \u001b[38;5;21mscore_to_hint_string\u001b[39m(score, num_slots):\n\u001b[0;32m---> 20\u001b[0m     \u001b[38;5;28;01mreturn\u001b[39;00m \u001b[38;5;124;43m\"\u001b[39;49m\u001b[38;5;124;43m\"\u001b[39;49m\u001b[38;5;241;43m.\u001b[39;49m\u001b[43mjoin\u001b[49m\u001b[43m(\u001b[49m\u001b[43mHINT_STRING\u001b[49m\u001b[43m[\u001b[49m\u001b[43mHint\u001b[49m\u001b[43m(\u001b[49m\u001b[38;5;28;43mint\u001b[39;49m\u001b[43m(\u001b[49m\u001b[38;5;124;43m\"\u001b[39;49m\u001b[38;5;124;43m\"\u001b[39;49m\u001b[38;5;241;43m.\u001b[39;49m\u001b[43mjoin\u001b[49m\u001b[43m(\u001b[49m\u001b[43mx\u001b[49m\u001b[43m)\u001b[49m\u001b[43m,\u001b[49m\u001b[43m \u001b[49m\u001b[38;5;241;43m2\u001b[39;49m\u001b[43m)\u001b[49m\u001b[43m)\u001b[49m\u001b[43m]\u001b[49m\u001b[43m \u001b[49m\u001b[38;5;28;43;01mfor\u001b[39;49;00m\u001b[43m \u001b[49m\u001b[43mx\u001b[49m\u001b[43m \u001b[49m\u001b[38;5;129;43;01min\u001b[39;49;00m\u001b[43m \u001b[49m\u001b[43mgrouper\u001b[49m\u001b[43m(\u001b[49m\u001b[38;5;28;43mbin\u001b[39;49m\u001b[43m(\u001b[49m\u001b[43mscore\u001b[49m\u001b[43m)\u001b[49m\u001b[43m[\u001b[49m\u001b[38;5;241;43m2\u001b[39;49m\u001b[43m:\u001b[49m\u001b[43m]\u001b[49m\u001b[38;5;241;43m.\u001b[39;49m\u001b[43mzfill\u001b[49m\u001b[43m(\u001b[49m\u001b[38;5;241;43m2\u001b[39;49m\u001b[43m \u001b[49m\u001b[38;5;241;43m*\u001b[39;49m\u001b[43m \u001b[49m\u001b[43mnum_slots\u001b[49m\u001b[43m)\u001b[49m\u001b[43m,\u001b[49m\u001b[43m \u001b[49m\u001b[38;5;241;43m2\u001b[39;49m\u001b[43m)\u001b[49m\u001b[43m)\u001b[49m[::\u001b[38;5;241m-\u001b[39m\u001b[38;5;241m1\u001b[39m]\n",
      "File \u001b[0;32m~/oren/nerdle-solver/util.py:20\u001b[0m, in \u001b[0;36m<genexpr>\u001b[0;34m(.0)\u001b[0m\n\u001b[1;32m     19\u001b[0m \u001b[38;5;28;01mdef\u001b[39;00m \u001b[38;5;21mscore_to_hint_string\u001b[39m(score, num_slots):\n\u001b[0;32m---> 20\u001b[0m     \u001b[38;5;28;01mreturn\u001b[39;00m \u001b[38;5;124m\"\u001b[39m\u001b[38;5;124m\"\u001b[39m\u001b[38;5;241m.\u001b[39mjoin(HINT_STRING[\u001b[43mHint\u001b[49m\u001b[43m(\u001b[49m\u001b[38;5;28;43mint\u001b[39;49m\u001b[43m(\u001b[49m\u001b[38;5;124;43m\"\u001b[39;49m\u001b[38;5;124;43m\"\u001b[39;49m\u001b[38;5;241;43m.\u001b[39;49m\u001b[43mjoin\u001b[49m\u001b[43m(\u001b[49m\u001b[43mx\u001b[49m\u001b[43m)\u001b[49m\u001b[43m,\u001b[49m\u001b[43m \u001b[49m\u001b[38;5;241;43m2\u001b[39;49m\u001b[43m)\u001b[49m\u001b[43m)\u001b[49m] \u001b[38;5;28;01mfor\u001b[39;00m x \u001b[38;5;129;01min\u001b[39;00m grouper(\u001b[38;5;28mbin\u001b[39m(score)[\u001b[38;5;241m2\u001b[39m:]\u001b[38;5;241m.\u001b[39mzfill(\u001b[38;5;241m2\u001b[39m \u001b[38;5;241m*\u001b[39m num_slots), \u001b[38;5;241m2\u001b[39m))[::\u001b[38;5;241m-\u001b[39m\u001b[38;5;241m1\u001b[39m]\n",
      "File \u001b[0;32m~/opt/miniconda3/envs/nerdle/lib/python3.10/enum.py:385\u001b[0m, in \u001b[0;36mEnumMeta.__call__\u001b[0;34m(cls, value, names, module, qualname, type, start)\u001b[0m\n\u001b[1;32m    360\u001b[0m \u001b[38;5;124;03m\"\"\"\u001b[39;00m\n\u001b[1;32m    361\u001b[0m \u001b[38;5;124;03mEither returns an existing member, or creates a new enum class.\u001b[39;00m\n\u001b[1;32m    362\u001b[0m \n\u001b[0;32m   (...)\u001b[0m\n\u001b[1;32m    382\u001b[0m \u001b[38;5;124;03m`type`, if set, will be mixed in as the first base class.\u001b[39;00m\n\u001b[1;32m    383\u001b[0m \u001b[38;5;124;03m\"\"\"\u001b[39;00m\n\u001b[1;32m    384\u001b[0m \u001b[38;5;28;01mif\u001b[39;00m names \u001b[38;5;129;01mis\u001b[39;00m \u001b[38;5;28;01mNone\u001b[39;00m:  \u001b[38;5;66;03m# simple value lookup\u001b[39;00m\n\u001b[0;32m--> 385\u001b[0m     \u001b[38;5;28;01mreturn\u001b[39;00m \u001b[38;5;28;43mcls\u001b[39;49m\u001b[38;5;241;43m.\u001b[39;49m\u001b[38;5;21;43m__new__\u001b[39;49m\u001b[43m(\u001b[49m\u001b[38;5;28;43mcls\u001b[39;49m\u001b[43m,\u001b[49m\u001b[43m \u001b[49m\u001b[43mvalue\u001b[49m\u001b[43m)\u001b[49m\n\u001b[1;32m    386\u001b[0m \u001b[38;5;66;03m# otherwise, functional API: we're creating a new Enum type\u001b[39;00m\n\u001b[1;32m    387\u001b[0m \u001b[38;5;28;01mreturn\u001b[39;00m \u001b[38;5;28mcls\u001b[39m\u001b[38;5;241m.\u001b[39m_create_(\n\u001b[1;32m    388\u001b[0m         value,\n\u001b[1;32m    389\u001b[0m         names,\n\u001b[0;32m   (...)\u001b[0m\n\u001b[1;32m    393\u001b[0m         start\u001b[38;5;241m=\u001b[39mstart,\n\u001b[1;32m    394\u001b[0m         )\n",
      "\u001b[0;31mTypeError\u001b[0m: object.__new__() takes exactly one argument (the type to instantiate)"
     ]
    }
   ],
   "source": [
    "score = nerdle.score_guess(\"10-43=46\", \"12+34=56\")\n",
    "print(score)\n",
    "print(\n",
    "      util.score_to_hint_string(score, NUM_SLOTS),\n",
    "      util.score_to_hints(score, NUM_SLOTS) == [\n",
    "    Hint.CORRECT, Hint.INCORRECT, Hint.INCORRECT, Hint.MISPLACED,\n",
    "    Hint.MISPLACED, Hint.CORRECT, Hint.INCORRECT, Hint.CORRECT]\n",
    ")"
   ]
  },
  {
   "cell_type": "code",
   "execution_count": 66,
   "id": "f12c35c6-fd3c-442f-be9f-421b6d7e2f0d",
   "metadata": {},
   "outputs": [
    {
     "ename": "error",
     "evalue": "cannot add item to database",
     "output_type": "error",
     "traceback": [
      "\u001b[0;31m---------------------------------------------------------------------------\u001b[0m",
      "\u001b[0;31merror\u001b[0m                                     Traceback (most recent call last)",
      "Cell \u001b[0;32mIn [66], line 3\u001b[0m\n\u001b[1;32m      1\u001b[0m \u001b[38;5;28;01mwith\u001b[39;00m shelve\u001b[38;5;241m.\u001b[39mopen(\u001b[38;5;124m\"\u001b[39m\u001b[38;5;124mtest\u001b[39m\u001b[38;5;124m\"\u001b[39m) \u001b[38;5;28;01mas\u001b[39;00m f:\n\u001b[1;32m      2\u001b[0m     \u001b[38;5;28;01mfor\u001b[39;00m k \u001b[38;5;129;01min\u001b[39;00m solver_data\u001b[38;5;241m.\u001b[39mscore_dict:\n\u001b[0;32m----> 3\u001b[0m         \u001b[43mf\u001b[49m\u001b[43m[\u001b[49m\u001b[43mk\u001b[49m\u001b[43m]\u001b[49m \u001b[38;5;241m=\u001b[39m solver_data\u001b[38;5;241m.\u001b[39mscore_dict[k]\n",
      "File \u001b[0;32m~/opt/miniconda3/envs/nerdle/lib/python3.10/shelve.py:125\u001b[0m, in \u001b[0;36mShelf.__setitem__\u001b[0;34m(self, key, value)\u001b[0m\n\u001b[1;32m    123\u001b[0m p \u001b[38;5;241m=\u001b[39m Pickler(f, \u001b[38;5;28mself\u001b[39m\u001b[38;5;241m.\u001b[39m_protocol)\n\u001b[1;32m    124\u001b[0m p\u001b[38;5;241m.\u001b[39mdump(value)\n\u001b[0;32m--> 125\u001b[0m \u001b[38;5;28;43mself\u001b[39;49m\u001b[38;5;241;43m.\u001b[39;49m\u001b[43mdict\u001b[49m\u001b[43m[\u001b[49m\u001b[43mkey\u001b[49m\u001b[38;5;241;43m.\u001b[39;49m\u001b[43mencode\u001b[49m\u001b[43m(\u001b[49m\u001b[38;5;28;43mself\u001b[39;49m\u001b[38;5;241;43m.\u001b[39;49m\u001b[43mkeyencoding\u001b[49m\u001b[43m)\u001b[49m\u001b[43m]\u001b[49m \u001b[38;5;241m=\u001b[39m f\u001b[38;5;241m.\u001b[39mgetvalue()\n",
      "\u001b[0;31merror\u001b[0m: cannot add item to database"
     ]
    }
   ],
   "source": [
    "with shelve.open(\"test\") as f:\n",
    "    for k in solver_data.score_dict:\n",
    "        f[k] = solver_data.score_dict[k]"
   ]
  },
  {
   "cell_type": "code",
   "execution_count": 64,
   "id": "9cdfae40-fd14-4b73-a097-89b39e268bbe",
   "metadata": {},
   "outputs": [
    {
     "data": {
      "text/plain": [
       "dict_keys(['num_slots', '_file_name', '_answers', 'score_dict'])"
      ]
     },
     "execution_count": 64,
     "metadata": {},
     "output_type": "execute_result"
    }
   ],
   "source": [
    "solver_data.__dict__.keys()"
   ]
  },
  {
   "cell_type": "code",
   "execution_count": 9,
   "id": "8f7c91f7-4ff7-4fca-a7cb-721312ae0bbb",
   "metadata": {},
   "outputs": [
    {
     "ename": "KeyError",
     "evalue": "((3, '+', 13, '-', 8), 8)",
     "output_type": "error",
     "traceback": [
      "\u001b[0;31m---------------------------------------------------------------------------\u001b[0m",
      "\u001b[0;31mKeyError\u001b[0m                                  Traceback (most recent call last)",
      "File \u001b[0;32m<timed exec>:2\u001b[0m\n",
      "File \u001b[0;32m~/oren/nerdle-solver/nerdle.py:118\u001b[0m, in \u001b[0;36mNerdleSolver.solve\u001b[0;34m(self, answer, max_guesses, initial_guess, debug)\u001b[0m\n\u001b[1;32m    116\u001b[0m score \u001b[38;5;241m=\u001b[39m score_guess(guess, answer)\n\u001b[1;32m    117\u001b[0m hint_history\u001b[38;5;241m.\u001b[39mappend(score)\n\u001b[0;32m--> 118\u001b[0m answers \u001b[38;5;241m=\u001b[39m {a \u001b[38;5;28;01mfor\u001b[39;00m a \u001b[38;5;129;01min\u001b[39;00m answers \u001b[38;5;28;01mif\u001b[39;00m score_dict[guess][a] \u001b[38;5;241m==\u001b[39m score}\n\u001b[1;32m    120\u001b[0m guesses_left \u001b[38;5;241m-\u001b[39m\u001b[38;5;241m=\u001b[39m \u001b[38;5;241m1\u001b[39m\n\u001b[1;32m    121\u001b[0m \u001b[38;5;28;01mif\u001b[39;00m guess \u001b[38;5;241m==\u001b[39m answer:\n",
      "File \u001b[0;32m~/oren/nerdle-solver/nerdle.py:118\u001b[0m, in \u001b[0;36m<setcomp>\u001b[0;34m(.0)\u001b[0m\n\u001b[1;32m    116\u001b[0m score \u001b[38;5;241m=\u001b[39m score_guess(guess, answer)\n\u001b[1;32m    117\u001b[0m hint_history\u001b[38;5;241m.\u001b[39mappend(score)\n\u001b[0;32m--> 118\u001b[0m answers \u001b[38;5;241m=\u001b[39m {a \u001b[38;5;28;01mfor\u001b[39;00m a \u001b[38;5;129;01min\u001b[39;00m answers \u001b[38;5;28;01mif\u001b[39;00m \u001b[43mscore_dict\u001b[49m\u001b[43m[\u001b[49m\u001b[43mguess\u001b[49m\u001b[43m]\u001b[49m\u001b[43m[\u001b[49m\u001b[43ma\u001b[49m\u001b[43m]\u001b[49m \u001b[38;5;241m==\u001b[39m score}\n\u001b[1;32m    120\u001b[0m guesses_left \u001b[38;5;241m-\u001b[39m\u001b[38;5;241m=\u001b[39m \u001b[38;5;241m1\u001b[39m\n\u001b[1;32m    121\u001b[0m \u001b[38;5;28;01mif\u001b[39;00m guess \u001b[38;5;241m==\u001b[39m answer:\n",
      "\u001b[0;31mKeyError\u001b[0m: ((3, '+', 13, '-', 8), 8)"
     ]
    }
   ],
   "source": [
    "%%time\n",
    "solver = nerdle.NerdleSolver(solver_data)\n",
    "guess_history, hint_history = solver.solve(\"12+34=56\", initial_guess=\"10-43=46\")"
   ]
  },
  {
   "cell_type": "code",
   "execution_count": 8,
   "id": "94833d60-deb1-4c91-ba36-33dc7c6a2cbc",
   "metadata": {},
   "outputs": [],
   "source": [
    "solver = nerdle.NerdleSolver(solver_data)"
   ]
  },
  {
   "cell_type": "code",
   "execution_count": 8,
   "id": "9f126cd3-9edf-4642-989e-ea90997b4220",
   "metadata": {},
   "outputs": [
    {
     "name": "stdout",
     "output_type": "stream",
     "text": [
      "0 / 6661 (0.0%) completed\n",
      "333 / 6661 (5.0%) completed\n",
      "666 / 6661 (10.0%) completed\n",
      "999 / 6661 (15.0%) completed\n",
      "1332 / 6661 (20.0%) completed\n",
      "1665 / 6661 (25.0%) completed\n",
      "1998 / 6661 (30.0%) completed\n",
      "2331 / 6661 (35.0%) completed\n",
      "2664 / 6661 (40.0%) completed\n",
      "2997 / 6661 (45.0%) completed\n",
      "3330 / 6661 (50.0%) completed\n",
      "3663 / 6661 (55.0%) completed\n",
      "3996 / 6661 (60.0%) completed\n",
      "4329 / 6661 (65.0%) completed\n",
      "4662 / 6661 (70.0%) completed\n",
      "4995 / 6661 (75.0%) completed\n",
      "5328 / 6661 (80.0%) completed\n",
      "5661 / 6661 (85.0%) completed\n",
      "5994 / 6661 (90.0%) completed\n",
      "6327 / 6661 (95.0%) completed\n",
      "6660 / 6661 (100.0%) completed\n",
      "CPU times: user 2.26 s, sys: 1.38 s, total: 3.64 s\n",
      "Wall time: 10.3 s\n"
     ]
    }
   ],
   "source": [
    "# Mini-Nerdle.\n",
    "NUM_SLOTS = 7\n",
    "SCORE_DICT_FILE = \"nerdle7\"\n",
    "solver_data = nerdle.create_solver_data(NUM_SLOTS, SCORE_DICT_FILE)\n",
    "solver_data.open()\n",
    "%time answers = solver_data.answers"
   ]
  },
  {
   "cell_type": "code",
   "execution_count": 13,
   "id": "465a8d52-5d04-4abc-b5f8-802e0d5ce7ae",
   "metadata": {},
   "outputs": [
    {
     "name": "stdout",
     "output_type": "stream",
     "text": [
      "answers_of_score\n",
      "restrict_by_answers\n",
      "{'91-1=90', '55/5=11', '71-1=70', '33/3=11', '51-1=50', '31-1=30', '44/4=11', '99/9=11', '41-1=40', '81-1=80', '51/3=17', '91/7=13', '88/8=11', '61-1=60', '66/6=11', '77/7=11'}\n",
      "select guess, score, answer from score where answer in (?,?,?,?,?,?,?,?,?,?,?,?,?,?,?,?) ('91-1=90', '55/5=11', '71-1=70', '33/3=11', '51-1=50', '31-1=30', '44/4=11', '99/9=11', '41-1=40', '81-1=80', '51/3=17', '91/7=13', '88/8=11', '61-1=60', '66/6=11', '77/7=11')\n",
      "guess 1*1+1=2 score ?-?--?- answers 16\n"
     ]
    },
    {
     "ename": "KeyError",
     "evalue": "'91-1=90'",
     "output_type": "error",
     "traceback": [
      "\u001b[0;31m---------------------------------------------------------------------------\u001b[0m",
      "\u001b[0;31mKeyError\u001b[0m                                  Traceback (most recent call last)",
      "Cell \u001b[0;32mIn [13], line 1\u001b[0m\n\u001b[0;32m----> 1\u001b[0m guess_history, hint_history, answer_size_history \u001b[38;5;241m=\u001b[39m  \u001b[43mnerdle\u001b[49m\u001b[38;5;241;43m.\u001b[39;49m\u001b[43mNerdleSolver\u001b[49m\u001b[43m(\u001b[49m\u001b[43msolver_data\u001b[49m\u001b[43m)\u001b[49m\u001b[38;5;241;43m.\u001b[39;49m\u001b[43msolve\u001b[49m\u001b[43m(\u001b[49m\u001b[38;5;124;43m\"\u001b[39;49m\u001b[38;5;124;43m99/9=11\u001b[39;49m\u001b[38;5;124;43m\"\u001b[39;49m\u001b[43m,\u001b[49m\u001b[43m \u001b[49m\u001b[43minitial_guess\u001b[49m\u001b[38;5;241;43m=\u001b[39;49m\u001b[38;5;124;43m\"\u001b[39;49m\u001b[38;5;124;43m1*1+1=2\u001b[39;49m\u001b[38;5;124;43m\"\u001b[39;49m\u001b[43m,\u001b[49m\u001b[43m \u001b[49m\u001b[43mdebug\u001b[49m\u001b[38;5;241;43m=\u001b[39;49m\u001b[38;5;28;43;01mTrue\u001b[39;49;00m\u001b[43m)\u001b[49m\n",
      "File \u001b[0;32m~/oren/nerdle-solver/nerdle.py:204\u001b[0m, in \u001b[0;36mNerdleSolver.solve\u001b[0;34m(self, answer, max_guesses, initial_guess, debug)\u001b[0m\n\u001b[1;32m    201\u001b[0m     score_dict \u001b[38;5;241m=\u001b[39m \u001b[38;5;28mself\u001b[39m\u001b[38;5;241m.\u001b[39m_data\u001b[38;5;241m.\u001b[39mrestrict_by_answers(answers)\n\u001b[1;32m    202\u001b[0m \u001b[38;5;28;01melse\u001b[39;00m:\n\u001b[1;32m    203\u001b[0m     \u001b[38;5;66;03m# Subsequent guesses: simple query into the dictionary 'score_dict' to make it smaller.\u001b[39;00m\n\u001b[0;32m--> 204\u001b[0m     answers \u001b[38;5;241m=\u001b[39m {a \u001b[38;5;28;01mfor\u001b[39;00m a \u001b[38;5;129;01min\u001b[39;00m answers \u001b[38;5;28;01mif\u001b[39;00m score_dict[guess][a] \u001b[38;5;241m==\u001b[39m score}\n\u001b[1;32m    205\u001b[0m     score_dict \u001b[38;5;241m=\u001b[39m {\n\u001b[1;32m    206\u001b[0m         guess: \u001b[38;5;28mdict\u001b[39m((answer, score) \u001b[38;5;28;01mfor\u001b[39;00m answer, score \u001b[38;5;129;01min\u001b[39;00m scores_by_answer_dict\u001b[38;5;241m.\u001b[39mitems() \u001b[38;5;28;01mif\u001b[39;00m answer \u001b[38;5;129;01min\u001b[39;00m answers)\n\u001b[1;32m    207\u001b[0m         \u001b[38;5;28;01mfor\u001b[39;00m guess, scores_by_answer_dict \u001b[38;5;129;01min\u001b[39;00m score_dict\u001b[38;5;241m.\u001b[39mitems()\n\u001b[1;32m    208\u001b[0m     }\n\u001b[1;32m    209\u001b[0m \u001b[38;5;28;01mif\u001b[39;00m debug:\n",
      "File \u001b[0;32m~/oren/nerdle-solver/nerdle.py:204\u001b[0m, in \u001b[0;36m<setcomp>\u001b[0;34m(.0)\u001b[0m\n\u001b[1;32m    201\u001b[0m     score_dict \u001b[38;5;241m=\u001b[39m \u001b[38;5;28mself\u001b[39m\u001b[38;5;241m.\u001b[39m_data\u001b[38;5;241m.\u001b[39mrestrict_by_answers(answers)\n\u001b[1;32m    202\u001b[0m \u001b[38;5;28;01melse\u001b[39;00m:\n\u001b[1;32m    203\u001b[0m     \u001b[38;5;66;03m# Subsequent guesses: simple query into the dictionary 'score_dict' to make it smaller.\u001b[39;00m\n\u001b[0;32m--> 204\u001b[0m     answers \u001b[38;5;241m=\u001b[39m {a \u001b[38;5;28;01mfor\u001b[39;00m a \u001b[38;5;129;01min\u001b[39;00m answers \u001b[38;5;28;01mif\u001b[39;00m \u001b[43mscore_dict\u001b[49m\u001b[43m[\u001b[49m\u001b[43mguess\u001b[49m\u001b[43m]\u001b[49m\u001b[43m[\u001b[49m\u001b[43ma\u001b[49m\u001b[43m]\u001b[49m \u001b[38;5;241m==\u001b[39m score}\n\u001b[1;32m    205\u001b[0m     score_dict \u001b[38;5;241m=\u001b[39m {\n\u001b[1;32m    206\u001b[0m         guess: \u001b[38;5;28mdict\u001b[39m((answer, score) \u001b[38;5;28;01mfor\u001b[39;00m answer, score \u001b[38;5;129;01min\u001b[39;00m scores_by_answer_dict\u001b[38;5;241m.\u001b[39mitems() \u001b[38;5;28;01mif\u001b[39;00m answer \u001b[38;5;129;01min\u001b[39;00m answers)\n\u001b[1;32m    207\u001b[0m         \u001b[38;5;28;01mfor\u001b[39;00m guess, scores_by_answer_dict \u001b[38;5;129;01min\u001b[39;00m score_dict\u001b[38;5;241m.\u001b[39mitems()\n\u001b[1;32m    208\u001b[0m     }\n\u001b[1;32m    209\u001b[0m \u001b[38;5;28;01mif\u001b[39;00m debug:\n",
      "\u001b[0;31mKeyError\u001b[0m: '91-1=90'"
     ]
    }
   ],
   "source": [
    "guess_history, hint_history, answer_size_history =  nerdle.NerdleSolver(solver_data).solve(\"99/9=11\", initial_guess=\"1*1+1=2\", debug=True)"
   ]
  },
  {
   "cell_type": "code",
   "execution_count": null,
   "id": "186b1eb3-1995-4c7f-b1f5-6b11c5e97ef5",
   "metadata": {},
   "outputs": [],
   "source": []
  }
 ],
 "metadata": {
  "kernelspec": {
   "display_name": "Python 3 (ipykernel)",
   "language": "python",
   "name": "python3"
  },
  "language_info": {
   "codemirror_mode": {
    "name": "ipython",
    "version": 3
   },
   "file_extension": ".py",
   "mimetype": "text/x-python",
   "name": "python",
   "nbconvert_exporter": "python",
   "pygments_lexer": "ipython3",
   "version": "3.10.6"
  }
 },
 "nbformat": 4,
 "nbformat_minor": 5
}
