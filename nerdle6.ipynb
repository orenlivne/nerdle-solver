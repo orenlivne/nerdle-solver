{
 "cells": [
  {
   "cell_type": "markdown",
   "id": "50efce8c-517b-47ca-9d81-70d88cdb5a5c",
   "metadata": {},
   "source": [
    "# 6-Slot Mini-Nerdle Solver Test\n",
    "We prove (by brute-force) that you can always solve mini-Nerdle in at most $4$ guesses regardless of the starting expression, provided you use the optimal strategy. The worst start having repeating numbers and thus less information, e.g. `10-5=5`. The best start has all different numbers: `28/7=4`, which needs at most $3$ guesses and $2.65 \\pm 0.5$ guesses."
   ]
  },
  {
   "cell_type": "code",
   "execution_count": 1,
   "id": "1ce14177-17d6-4ba1-bdd4-74ae65e07847",
   "metadata": {},
   "outputs": [],
   "source": [
    "%load_ext autoreload\n",
    "%autoreload 2\n",
    "\n",
    "import collections\n",
    "import ctypes\n",
    "import itertools\n",
    "import multiprocessing\n",
    "import numpy as np\n",
    "import matplotlib.pyplot as plt\n",
    "\n",
    "import nerdle\n",
    "import score as s\n",
    "import generator\n",
    "sgo = ctypes.CDLL(s.SCORE_GUESS_OPT_SO)\n",
    "from nerdle import Hint"
   ]
  },
  {
   "cell_type": "code",
   "execution_count": 3,
   "id": "3e772c55-2cd9-4034-9a40-da234e49e783",
   "metadata": {},
   "outputs": [
    {
     "name": "stdout",
     "output_type": "stream",
     "text": [
      "(206, 206)\n"
     ]
    }
   ],
   "source": [
    "# Mini-Nerdle.\n",
    "NUM_SLOTS = 6\n",
    "SCORE_DB_FILE = \"db/nerdle{}.db\".format(NUM_SLOTS) \n",
    "solver_data = nerdle.create_solver_data(NUM_SLOTS, SCORE_DB_FILE)\n",
    "d = solver_data.score_db\n",
    "print(d.shape)"
   ]
  },
  {
   "cell_type": "markdown",
   "id": "49778b3a-6809-4c49-8926-5b625833606c",
   "metadata": {},
   "source": [
    "## Example Usage"
   ]
  },
  {
   "cell_type": "code",
   "execution_count": 4,
   "id": "dc1fb9d8-2907-4eb3-8139-1fe65b874e17",
   "metadata": {},
   "outputs": [
    {
     "name": "stdout",
     "output_type": "stream",
     "text": [
      "520 -?--?- True 520\n"
     ]
    }
   ],
   "source": [
    "score = sgo.score_guess(b\"54/9=6\", b\"4*7=28\")\n",
    "hints = [Hint.ABSENT, Hint.PRESENT, Hint.ABSENT, Hint.ABSENT, Hint.PRESENT, Hint.ABSENT]\n",
    "print(score, \n",
    "      s.score_to_hint_string(score, NUM_SLOTS),\n",
    "      s.score_to_hints(score, NUM_SLOTS) == hints,\n",
    "      s.hint_string_to_score(s.score_to_hint_string(score, NUM_SLOTS))\n",
    "     )"
   ]
  },
  {
   "cell_type": "code",
   "execution_count": 5,
   "id": "07bb9112-773b-4de4-a876-bee818b125da",
   "metadata": {},
   "outputs": [
    {
     "name": "stdout",
     "output_type": "stream",
     "text": [
      "--> guess 56/7=8 guesses_left 5\n",
      "score ----?- 512\n",
      "answers 10\n",
      "--> guess 3+9=12 guesses_left 4\n",
      "score ?--+++ 1346\n",
      "answers 1\n",
      "--> guess 4*3=12 guesses_left 3\n",
      "score ++++++ 1365\n"
     ]
    }
   ],
   "source": [
    "# A good initial guess significantly reduces the number of answers. In this case, from\n",
    "# 206 to 10.\n",
    "guess_history, hint_history, answer_size_history =  nerdle.NerdleSolver(solver_data).solve(\"4*3=12\", initial_guess=\"56/7=8\", debug=True)"
   ]
  },
  {
   "cell_type": "markdown",
   "id": "7f5156fa-001e-4a9a-8969-b1a8038c6438",
   "metadata": {},
   "source": [
    "## Initial Guess Optimization"
   ]
  },
  {
   "cell_type": "code",
   "execution_count": 6,
   "id": "05d46946-797b-484e-bd4a-1e74dc49c81a",
   "metadata": {},
   "outputs": [],
   "source": [
    "# # For each initial guess, calculate the distribution of #guesses required to get the answer, over all answers.\n",
    "# # This takes ~1.3s / initial guess = 4.5 min total.\n",
    "# num_guesses = np.array([\n",
    "#     [len(nerdle.NerdleSolver(solver_data).solve(answer, initial_guess=start)[1]) for answer in solver_data.answers]\n",
    "#     for start in solver_data.answers\n",
    "# ])"
   ]
  },
  {
   "cell_type": "code",
   "execution_count": 7,
   "id": "1315b2bc-1774-4cc9-bdcf-5e0fff28742b",
   "metadata": {},
   "outputs": [],
   "source": [
    "# fig, axs = plt.subplots(1, 3, figsize=(10, 4))\n",
    "\n",
    "# ax = axs[0]\n",
    "# ax.hist(np.max(num_guesses, axis=1))\n",
    "# ax.set_title(\"Max # Guesses\")\n",
    "\n",
    "# ax = axs[1]\n",
    "# ax.hist(np.mean(num_guesses, axis=1), 30)\n",
    "# ax.set_title(\"Mean # Guesses\")\n",
    "\n",
    "# ax = axs[2]\n",
    "# ax.hist(np.std(num_guesses, axis=1), 30)\n",
    "# ax.set_title(\"Stddev of # Guesses\");"
   ]
  },
  {
   "cell_type": "code",
   "execution_count": 8,
   "id": "95a34915-0fac-4c43-b00f-8ad8d4cbd20f",
   "metadata": {},
   "outputs": [],
   "source": [
    "# # Best starts.\n",
    "# worst_num_guesses = np.max(num_guesses, axis=1)\n",
    "# print(\"Min (max # guesses)\", min(worst_num_guesses))\n",
    "# idx = np.where(worst_num_guesses == min(worst_num_guesses))[0]\n",
    "# print(idx)\n",
    "# best_starts = np.array(solver_data.answers)[idx]\n",
    "\n",
    "# print(\"Best starts\", best_starts)\n",
    "# mean_best = np.mean(num_guesses[idx], axis=1)\n",
    "# mean_best_argmin = np.argmin(mean_best)\n",
    "# print(\"Best mean # guesses among those {} mean # guesses {:.2f} +- {:.2f} idx {}\".format(\n",
    "#     solver_data.answers[idx[mean_best_argmin]], mean_best[mean_best_argmin], np.std(num_guesses[idx[mean_best_argmin]]),\n",
    "#     idx[mean_best_argmin]))\n",
    "\n",
    "# # Worst starts.\n",
    "# print(\"Max (max # guesses)\", max(worst_num_guesses))\n",
    "# idx = np.where(worst_num_guesses == max(worst_num_guesses))[0]\n",
    "# print(idx)\n",
    "# worst_starts = np.array(solver_data.answers)[idx]\n",
    "\n",
    "# print(\"Worst starts\", worst_starts)"
   ]
  },
  {
   "cell_type": "code",
   "execution_count": 9,
   "id": "1175cfca-137b-4755-a29c-2c5964fe8b89",
   "metadata": {},
   "outputs": [],
   "source": [
    "# # Every initial guess' distribution of #guesses has to have a single \"1\" value.\n",
    "# start = best_starts[0]\n",
    "# solutions = [nerdle.NerdleSolver(solver_data).solve(answer, initial_guess=str(start)) \n",
    "#              for answer in solver_data.answers ]               \n",
    "# n = np.array([len(solution[0]) for solution in solutions])\n",
    "# num_answers = len(solver_data.answers)\n",
    "# compression_ratio = num_answers / np.array([solution[2][0] for solution in solutions])\n",
    "# print(np.mean(compression_ratio), np.std(compression_ratio))\n",
    "\n",
    "# fig, axs = plt.subplots(1, 2, figsize=(10, 4))\n",
    "\n",
    "# ax = axs[0]\n",
    "# ax.hist(n);\n",
    "# ax.set_title(\"#Guesses for start {}\".format(start));\n",
    "\n",
    "# ax = axs[1]\n",
    "# ax.hist(compression_ratio);\n",
    "# ax.set_title(\"Compression Ratio Distribution, start {}\".format(start));"
   ]
  },
  {
   "cell_type": "markdown",
   "id": "61554cd3-be50-4f0f-8ee6-739fddcc17e6",
   "metadata": {},
   "source": [
    "## #Answers vs. #Slots\n",
    "As expected, this rises very quickly (expontentially?) with #answers."
   ]
  },
  {
   "cell_type": "code",
   "execution_count": 10,
   "id": "a8339174-5a35-4d42-aed7-10f23505b6ad",
   "metadata": {},
   "outputs": [
    {
     "name": "stdout",
     "output_type": "stream",
     "text": [
      "[  217   206  7561 17723]\n"
     ]
    }
   ],
   "source": [
    "slots = np.arange(5, 9)\n",
    "num_answers = np.array([len(list(generator.all_answers(s))) for s in slots])\n",
    "print(num_answers)"
   ]
  },
  {
   "cell_type": "code",
   "execution_count": 11,
   "id": "cc00442d-0b10-4bb3-bf3a-30e92d919dab",
   "metadata": {},
   "outputs": [
    {
     "data": {
      "image/png": "[encoded data removed]",
      "text/plain": [
       "<Figure size 640x480 with 1 Axes>"
      ]
     },
     "metadata": {},
     "output_type": "display_data"
    }
   ],
   "source": [
    "plt.plot(slots, num_answers, 'o-')\n",
    "plt.xlabel(\"#Slots\");\n",
    "plt.grid(True);\n",
    "plt.xticks(slots);"
   ]
  },
  {
   "cell_type": "markdown",
   "id": "4be3071e-e3c9-4a3c-b364-12a0798b4629",
   "metadata": {},
   "source": [
    "## Benchmarks"
   ]
  },
  {
   "cell_type": "code",
   "execution_count": 12,
   "id": "d216b712-c81a-494b-8cec-3afd932403a8",
   "metadata": {},
   "outputs": [
    {
     "name": "stdout",
     "output_type": "stream",
     "text": [
      "3.93 ms ± 58.4 µs per loop (mean ± std. dev. of 7 runs, 100 loops each)\n"
     ]
    }
   ],
   "source": [
    "%timeit guess_history, hint_history, answer_size_history =  nerdle.NerdleSolver(solver_data).solve(\"4*3=12\", initial_guess=\"56/7=8\")"
   ]
  },
  {
   "cell_type": "code",
   "execution_count": 13,
   "id": "d5ad3e49-f628-4c9b-8a39-33baa4269864",
   "metadata": {},
   "outputs": [
    {
     "name": "stdout",
     "output_type": "stream",
     "text": [
      "5\n",
      "CPU times: user 2.28 ms, sys: 6 µs, total: 2.28 ms\n",
      "Wall time: 2.29 ms\n",
      "217\n",
      "6\n",
      "CPU times: user 45.8 ms, sys: 1.33 ms, total: 47.1 ms\n",
      "Wall time: 46.4 ms\n",
      "206\n",
      "7\n",
      "CPU times: user 675 ms, sys: 1.84 ms, total: 676 ms\n",
      "Wall time: 677 ms\n",
      "7561\n",
      "8\n",
      "CPU times: user 10.5 s, sys: 18.7 ms, total: 10.5 s\n",
      "Wall time: 10.5 s\n",
      "17723\n"
     ]
    }
   ],
   "source": [
    "for num_slots in range(5, 9):\n",
    "    print(num_slots)\n",
    "    %time a = list(generator.all_answers(num_slots));\n",
    "    print(len(a))"
   ]
  },
  {
   "cell_type": "markdown",
   "id": "37ff72e9-e4ed-4a35-bfa9-2342d1d845eb",
   "metadata": {},
   "source": [
    "### Parallel Score Matrix Row Construction"
   ]
  },
  {
   "cell_type": "code",
   "execution_count": 8,
   "id": "3c0df356-24b8-448b-9886-ef01b83b855a",
   "metadata": {},
   "outputs": [],
   "source": [
    "answers = list(generator.all_answers(8))"
   ]
  },
  {
   "cell_type": "code",
   "execution_count": 57,
   "id": "8cc4b0ad-1741-45da-b919-29c0d4582fe9",
   "metadata": {},
   "outputs": [
    {
     "name": "stdout",
     "output_type": "stream",
     "text": [
      "CPU times: user 2.54 s, sys: 40.2 ms, total: 2.58 s\n",
      "Wall time: 2.59 s\n"
     ]
    }
   ],
   "source": [
    "n = 2000\n",
    "a = answers[:n]\n",
    "%time result = [nerdle._score_guess(guess, answer) for guess in a for answer in a]"
   ]
  },
  {
   "cell_type": "code",
   "execution_count": 58,
   "id": "e2421bf2-068b-441f-9534-2ea3610093c4",
   "metadata": {},
   "outputs": [
    {
     "name": "stdout",
     "output_type": "stream",
     "text": [
      "CPU times: user 1.35 s, sys: 234 ms, total: 1.58 s\n",
      "Wall time: 1.76 s\n"
     ]
    }
   ],
   "source": [
    "with multiprocessing.Pool(8) as pool:\n",
    "    %time result1 = pool.starmap(nerdle._score_guess, itertools.product(a, repeat=2))"
   ]
  },
  {
   "cell_type": "code",
   "execution_count": 59,
   "id": "14a668d4-70ef-4841-9b45-3021e555fa2e",
   "metadata": {},
   "outputs": [],
   "source": [
    "# with multiprocessing.Pool(multiprocessing.cpu_count() // 2) as pool:\n",
    "#     %time result2 = [pool.apply_async(nerdle._score_guess, t).get() for t in itertools.product(a, repeat=2)]"
   ]
  },
  {
   "cell_type": "code",
   "execution_count": 60,
   "id": "75687439-8cc6-4de7-9653-e48f5c5d2e1e",
   "metadata": {},
   "outputs": [],
   "source": [
    "from concurrent.futures import ThreadPoolExecutor, ProcessPoolExecutor"
   ]
  },
  {
   "cell_type": "code",
   "execution_count": null,
   "id": "7f1510d2-d7fe-426f-8b19-3483bf6476f8",
   "metadata": {},
   "outputs": [],
   "source": [
    "# with ProcessPoolExecutor(max_workers=4) as pool:\n",
    "#     %time result1 = pool.map(nerdle._score_guess, itertools.product(a, repeat=2))"
   ]
  },
  {
   "cell_type": "code",
   "execution_count": 74,
   "id": "465d5f2b-5338-4c26-9377-68b1b11f826d",
   "metadata": {},
   "outputs": [
    {
     "name": "stdout",
     "output_type": "stream",
     "text": [
      "CPU times: user 589 ms, sys: 227 ms, total: 816 ms\n",
      "Wall time: 1.1 s\n"
     ]
    }
   ],
   "source": [
    "from test_parallel import square\n",
    "\n",
    "n = 10000000\n",
    "with multiprocessing.Pool(processes=4) as pool:\n",
    "    %time results = pool.map(square, itertools.repeat(3, n))"
   ]
  },
  {
   "cell_type": "code",
   "execution_count": 94,
   "id": "18559693-79ae-4a26-9db9-da15c68787dd",
   "metadata": {},
   "outputs": [
    {
     "name": "stdout",
     "output_type": "stream",
     "text": [
      "30000000 5477.2255750516615\n",
      "CPU times: user 15.5 s, sys: 411 ms, total: 15.9 s\n",
      "Wall time: 15.9 s\n",
      "CPU times: user 3.46 s, sys: 1.25 s, total: 4.71 s\n",
      "Wall time: 5.62 s\n"
     ]
    }
   ],
   "source": [
    "from test_parallel import process_one_arg\n",
    "\n",
    "n = 30000000\n",
    "print(n, n ** 0.5)\n",
    "%time results = [process_one_arg(\"54/9=6\") for _ in range(n)]\n",
    "with multiprocessing.Pool(processes=multiprocessing.cpu_count()) as pool:\n",
    "    %time results = pool.map(process_one_arg, itertools.repeat(\"54/9=6\", n))"
   ]
  },
  {
   "cell_type": "code",
   "execution_count": 130,
   "id": "fd4fbbff-aca5-45ce-a422-70a159e0f2b6",
   "metadata": {},
   "outputs": [
    {
     "name": "stdout",
     "output_type": "stream",
     "text": [
      "CPU times: user 2.74 s, sys: 112 ms, total: 2.85 s\n",
      "Wall time: 2.86 s\n",
      "CPU times: user 1.53 s, sys: 271 ms, total: 1.8 s\n",
      "Wall time: 2.3 s\n"
     ]
    },
    {
     "data": {
      "text/plain": [
       "False"
      ]
     },
     "execution_count": 130,
     "metadata": {},
     "output_type": "execute_result"
    }
   ],
   "source": [
    "from test_parallel import process_args\n",
    "\n",
    "n = 2000\n",
    "a = answers[:n]\n",
    "%time result = [[nerdle._score_guess(guess, answer) for answer in a] for guess in a]\n",
    "\n",
    "with multiprocessing.Pool(processes=multiprocessing.cpu_count()) as pool:\n",
    "    %time result2 = pool.map(process_args, itertools.product(a, repeat=2))\n",
    "result == result2"
   ]
  },
  {
   "cell_type": "code",
   "execution_count": 129,
   "id": "18e6f32c-f95a-4b8e-a98a-38f699d25a1d",
   "metadata": {},
   "outputs": [
    {
     "data": {
      "text/plain": [
       "True"
      ]
     },
     "execution_count": 129,
     "metadata": {},
     "output_type": "execute_result"
    }
   ],
   "source": [
    "np.array_equal(np.array(result2).reshape(n, n), np.array(result))"
   ]
  },
  {
   "cell_type": "code",
   "execution_count": null,
   "id": "494d11b1-3fac-4768-a56f-9960dccd1e6c",
   "metadata": {},
   "outputs": [],
   "source": []
  }
 ],
 "metadata": {
  "kernelspec": {
   "display_name": "Python 3 (ipykernel)",
   "language": "python",
   "name": "python3"
  },
  "language_info": {
   "codemirror_mode": {
    "name": "ipython",
    "version": 3
   },
   "file_extension": ".py",
   "mimetype": "text/x-python",
   "name": "python",
   "nbconvert_exporter": "python",
   "pygments_lexer": "ipython3",
   "version": "3.10.6"
  }
 },
 "nbformat": 4,
 "nbformat_minor": 5
}
