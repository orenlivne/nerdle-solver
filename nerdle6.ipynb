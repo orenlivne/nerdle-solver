{
 "cells": [
  {
   "cell_type": "markdown",
   "id": "50efce8c-517b-47ca-9d81-70d88cdb5a5c",
   "metadata": {},
   "source": [
    "# 6-Slot Mini-Nerdle Solver Test\n",
    "We prove (by brute-force) that you can always solve mini-Nerdle in at most $4$ guesses regardless of the starting expression, provided you use the optimal strategy. The worst start having repeating numbers and thus less information, e.g. `10-5=5`. The best start has all different numbers: `28/7=4`, which needs at most $3$ guesses and $2.65 \\pm 0.5$ guesses."
   ]
  },
  {
   "cell_type": "code",
   "execution_count": 18,
   "id": "1ce14177-17d6-4ba1-bdd4-74ae65e07847",
   "metadata": {},
   "outputs": [
    {
     "name": "stdout",
     "output_type": "stream",
     "text": [
      "The autoreload extension is already loaded. To reload it, use:\n",
      "  %reload_ext autoreload\n"
     ]
    }
   ],
   "source": [
    "%load_ext autoreload\n",
    "%autoreload 2\n",
    "\n",
    "import collections\n",
    "import itertools\n",
    "import numpy as np\n",
    "import matplotlib.pyplot as plt\n",
    "\n",
    "import nerdle\n",
    "import score as s\n",
    "import generator\n",
    "from nerdle import Hint, NerdleData"
   ]
  },
  {
   "cell_type": "code",
   "execution_count": 28,
   "id": "3e772c55-2cd9-4034-9a40-da234e49e783",
   "metadata": {},
   "outputs": [
    {
     "name": "stdout",
     "output_type": "stream",
     "text": [
      "0 / 206 (0.0%) completed\n",
      "10 / 206 (4.9%) completed\n",
      "20 / 206 (9.7%) completed\n",
      "30 / 206 (14.6%) completed\n",
      "40 / 206 (19.4%) completed\n",
      "50 / 206 (24.3%) completed\n",
      "60 / 206 (29.1%) completed\n",
      "70 / 206 (34.0%) completed\n",
      "80 / 206 (38.8%) completed\n",
      "90 / 206 (43.7%) completed\n",
      "100 / 206 (48.5%) completed\n",
      "110 / 206 (53.4%) completed\n",
      "120 / 206 (58.3%) completed\n",
      "130 / 206 (63.1%) completed\n",
      "140 / 206 (68.0%) completed\n",
      "150 / 206 (72.8%) completed\n",
      "160 / 206 (77.7%) completed\n",
      "170 / 206 (82.5%) completed\n",
      "180 / 206 (87.4%) completed\n",
      "190 / 206 (92.2%) completed\n",
      "200 / 206 (97.1%) completed\n"
     ]
    }
   ],
   "source": [
    "# Mini-Nerdle.\n",
    "NUM_SLOTS = 6\n",
    "SCORE_DB_FILE = \"db/nerdle{}_matrix.db\".format(NUM_SLOTS) \n",
    "\n",
    "solver_data = nerdle.create_solver_data(NUM_SLOTS, SCORE_DB_FILE, strategy=\"matrix\")"
   ]
  },
  {
   "cell_type": "code",
   "execution_count": 30,
   "id": "3afd369f-ec7b-4851-a58c-fcb9c0392625",
   "metadata": {},
   "outputs": [
    {
     "name": "stdout",
     "output_type": "stream",
     "text": [
      "(206, 206)\n"
     ]
    }
   ],
   "source": [
    "d = solver_data.score_db\n",
    "print(d.shape)"
   ]
  },
  {
   "cell_type": "markdown",
   "id": "49778b3a-6809-4c49-8926-5b625833606c",
   "metadata": {},
   "source": [
    "## Example Usage"
   ]
  },
  {
   "cell_type": "code",
   "execution_count": 31,
   "id": "dc1fb9d8-2907-4eb3-8139-1fe65b874e17",
   "metadata": {},
   "outputs": [
    {
     "name": "stdout",
     "output_type": "stream",
     "text": [
      "520 -?--?- True 520\n"
     ]
    }
   ],
   "source": [
    "score = nerdle.score_guess(\"54/9=6\", \"4*7=28\")\n",
    "hints = [Hint.ABSENT, Hint.PRESENT, Hint.ABSENT, Hint.ABSENT, Hint.PRESENT, Hint.ABSENT]\n",
    "print(score, \n",
    "      s.score_to_hint_string(score, NUM_SLOTS),\n",
    "      s.score_to_hints(score, NUM_SLOTS) == hints,\n",
    "      s.hint_string_to_score(s.score_to_hint_string(score, NUM_SLOTS))\n",
    "     )"
   ]
  },
  {
   "cell_type": "code",
   "execution_count": 32,
   "id": "07bb9112-773b-4de4-a876-bee818b125da",
   "metadata": {},
   "outputs": [
    {
     "name": "stdout",
     "output_type": "stream",
     "text": [
      "--> guess 56/7=8 guesses_left 5\n",
      "score ----?- 512\n",
      "answers 10\n",
      "--> guess 3+9=12 guesses_left 4\n",
      "score ?--+++ 1346\n",
      "answers 1\n",
      "--> guess 4*3=12 guesses_left 3\n",
      "score ++++++ 1365\n"
     ]
    }
   ],
   "source": [
    "# A good initial guess significantly reduces the number of answers. In this case, from\n",
    "# 206 to 10.\n",
    "guess_history, hint_history, answer_size_history =  nerdle.NerdleSolver(solver_data).solve(\"4*3=12\", initial_guess=\"56/7=8\", debug=True)"
   ]
  },
  {
   "cell_type": "markdown",
   "id": "8b76723e-dedc-49a8-8287-ad95fc3ac621",
   "metadata": {},
   "source": [
    "## Benchmark\n",
    "This is a fast in-memory dict implementation."
   ]
  },
  {
   "cell_type": "code",
   "execution_count": 34,
   "id": "6179500f-b2fd-4115-8d22-1f41f3edae0d",
   "metadata": {},
   "outputs": [
    {
     "name": "stdout",
     "output_type": "stream",
     "text": [
      "3.52 ms ± 42 µs per loop (mean ± std. dev. of 7 runs, 100 loops each)\n"
     ]
    }
   ],
   "source": [
    "%timeit guess_history, hint_history, answer_size_history =  nerdle.NerdleSolver(solver_data).solve(\"4*3=12\", initial_guess=\"56/7=8\")"
   ]
  },
  {
   "cell_type": "markdown",
   "id": "7f5156fa-001e-4a9a-8969-b1a8038c6438",
   "metadata": {},
   "source": [
    "## Initial Guess Optimization"
   ]
  },
  {
   "cell_type": "code",
   "execution_count": 20,
   "id": "05d46946-797b-484e-bd4a-1e74dc49c81a",
   "metadata": {},
   "outputs": [],
   "source": [
    "# For each initial guess, calculate the distribution of #guesses required to get the answer, over all answers.\n",
    "# This takes ~1.3s / initial guess = 4.5 min total.\n",
    "num_guesses = np.array([\n",
    "    [len(nerdle.NerdleSolver(solver_data).solve(answer, initial_guess=start)[1]) for answer in solver_data.answers]\n",
    "    for start in solver_data.answers\n",
    "])"
   ]
  },
  {
   "cell_type": "code",
   "execution_count": 21,
   "id": "1315b2bc-1774-4cc9-bdcf-5e0fff28742b",
   "metadata": {},
   "outputs": [
    {
     "data": {
      "image/png": "[encoded data removed]",
      "text/plain": [
       "<Figure size 1000x400 with 3 Axes>"
      ]
     },
     "metadata": {},
     "output_type": "display_data"
    }
   ],
   "source": [
    "fig, axs = plt.subplots(1, 3, figsize=(10, 4))\n",
    "\n",
    "ax = axs[0]\n",
    "ax.hist(np.max(num_guesses, axis=1))\n",
    "ax.set_title(\"Max # Guesses\")\n",
    "\n",
    "ax = axs[1]\n",
    "ax.hist(np.mean(num_guesses, axis=1), 30)\n",
    "ax.set_title(\"Mean # Guesses\")\n",
    "\n",
    "ax = axs[2]\n",
    "ax.hist(np.std(num_guesses, axis=1), 30)\n",
    "ax.set_title(\"Stddev of # Guesses\");"
   ]
  },
  {
   "cell_type": "code",
   "execution_count": 22,
   "id": "95a34915-0fac-4c43-b00f-8ad8d4cbd20f",
   "metadata": {},
   "outputs": [
    {
     "name": "stdout",
     "output_type": "stream",
     "text": [
      "Min (max # guesses) 3\n",
      "[ 81  82 136 137 161 177]\n",
      "Best starts ['28/4=7' '28/7=4' '56/7=8' '56/8=7' '7*8=56' '8*7=56']\n",
      "Best mean # guesses among those 28/7=4 mean # guesses 2.65 +- 0.49 idx 82\n",
      "Max (max # guesses) 4\n",
      "[  0   1   2   3   4   5   6   7   8   9  10  11  12  13  14  15  16  17\n",
      "  18  19  20  21  22  23  24  25  26  27  28  29  30  31  32  33  34  35\n",
      "  36  37  38  39  40  41  42  43  44  45  46  47  48  49  50  51  52  53\n",
      "  54  55  56  57  58  59  60  61  62  63  64  65  66  67  68  69  70  71\n",
      "  72  73  74  75  76  77  78  79  80  83  84  85  86  87  88  89  90  91\n",
      "  92  93  94  95  96  97  98  99 100 101 102 103 104 105 106 107 108 109\n",
      " 110 111 112 113 114 115 116 117 118 119 120 121 122 123 124 125 126 127\n",
      " 128 129 130 131 132 133 134 135 138 139 140 141 142 143 144 145 146 147\n",
      " 148 149 150 151 152 153 154 155 156 157 158 159 160 162 163 164 165 166\n",
      " 167 168 169 170 171 172 173 174 175 176 178 179 180 181 182 183 184 185\n",
      " 186 187 188 189 190 191 192 193 194 195 196 197 198 199 200 201 202 203\n",
      " 204 205]\n",
      "Worst starts ['1+9=10' '10-1=9' '10-2=8' '10-3=7' '10-4=6' '10-5=5' '10-6=4' '10-7=3'\n",
      " '10-8=2' '10-9=1' '10/2=5' '10/5=2' '11-2=9' '11-3=8' '11-4=7' '11-5=6'\n",
      " '11-6=5' '11-7=4' '11-8=3' '11-9=2' '12-3=9' '12-4=8' '12-5=7' '12-6=6'\n",
      " '12-7=5' '12-8=4' '12-9=3' '12/2=6' '12/3=4' '12/4=3' '12/6=2' '13-4=9'\n",
      " '13-5=8' '13-6=7' '13-7=6' '13-8=5' '13-9=4' '14-5=9' '14-6=8' '14-7=7'\n",
      " '14-8=6' '14-9=5' '14/2=7' '14/7=2' '15-6=9' '15-7=8' '15-8=7' '15-9=6'\n",
      " '15/3=5' '15/5=3' '16-7=9' '16-8=8' '16-9=7' '16/2=8' '16/4=4' '16/8=2'\n",
      " '17-8=9' '17-9=8' '18-9=9' '18/2=9' '18/3=6' '18/6=3' '18/9=2' '2*5=10'\n",
      " '2*6=12' '2*7=14' '2*8=16' '2*9=18' '2+8=10' '2+9=11' '20/4=5' '20/5=4'\n",
      " '21/3=7' '21/7=3' '24/3=8' '24/4=6' '24/6=4' '24/8=3' '25/5=5' '27/3=9'\n",
      " '27/9=3' '3*4=12' '3*5=15' '3*6=18' '3*7=21' '3*8=24' '3*9=27' '3+7=10'\n",
      " '3+8=11' '3+9=12' '30/5=6' '30/6=5' '32/4=8' '32/8=4' '35/5=7' '35/7=5'\n",
      " '36/4=9' '36/6=6' '36/9=4' '4*3=12' '4*4=16' '4*5=20' '4*6=24' '4*7=28'\n",
      " '4*8=32' '4*9=36' '4+6=10' '4+7=11' '4+8=12' '4+9=13' '40/5=8' '40/8=5'\n",
      " '42/6=7' '42/7=6' '45/5=9' '45/9=5' '48/6=8' '48/8=6' '49/7=7' '5*2=10'\n",
      " '5*3=15' '5*4=20' '5*5=25' '5*6=30' '5*7=35' '5*8=40' '5*9=45' '5+5=10'\n",
      " '5+6=11' '5+7=12' '5+8=13' '5+9=14' '54/6=9' '54/9=6' '6*2=12' '6*3=18'\n",
      " '6*4=24' '6*5=30' '6*6=36' '6*7=42' '6*8=48' '6*9=54' '6+4=10' '6+5=11'\n",
      " '6+6=12' '6+7=13' '6+8=14' '6+9=15' '63/7=9' '63/9=7' '64/8=8' '7*2=14'\n",
      " '7*3=21' '7*4=28' '7*5=35' '7*6=42' '7*7=49' '7*9=63' '7+3=10' '7+4=11'\n",
      " '7+5=12' '7+6=13' '7+7=14' '7+8=15' '7+9=16' '72/8=9' '72/9=8' '8*2=16'\n",
      " '8*3=24' '8*4=32' '8*5=40' '8*6=48' '8*8=64' '8*9=72' '8+2=10' '8+3=11'\n",
      " '8+4=12' '8+5=13' '8+6=14' '8+7=15' '8+8=16' '8+9=17' '81/9=9' '9*2=18'\n",
      " '9*3=27' '9*4=36' '9*5=45' '9*6=54' '9*7=63' '9*8=72' '9*9=81' '9+1=10'\n",
      " '9+2=11' '9+3=12' '9+4=13' '9+5=14' '9+6=15' '9+7=16' '9+8=17' '9+9=18']\n"
     ]
    }
   ],
   "source": [
    "# Best starts.\n",
    "worst_num_guesses = np.max(num_guesses, axis=1)\n",
    "print(\"Min (max # guesses)\", min(worst_num_guesses))\n",
    "idx = np.where(worst_num_guesses == min(worst_num_guesses))[0]\n",
    "print(idx)\n",
    "best_starts = np.array(solver_data.answers)[idx]\n",
    "\n",
    "print(\"Best starts\", best_starts)\n",
    "mean_best = np.mean(num_guesses[idx], axis=1)\n",
    "mean_best_argmin = np.argmin(mean_best)\n",
    "print(\"Best mean # guesses among those {} mean # guesses {:.2f} +- {:.2f} idx {}\".format(\n",
    "    solver_data.answers[idx[mean_best_argmin]], mean_best[mean_best_argmin], np.std(num_guesses[idx[mean_best_argmin]]),\n",
    "    idx[mean_best_argmin]))\n",
    "\n",
    "# Worst starts.\n",
    "print(\"Max (max # guesses)\", max(worst_num_guesses))\n",
    "idx = np.where(worst_num_guesses == max(worst_num_guesses))[0]\n",
    "print(idx)\n",
    "worst_starts = np.array(solver_data.answers)[idx]\n",
    "\n",
    "print(\"Worst starts\", worst_starts)"
   ]
  },
  {
   "cell_type": "code",
   "execution_count": 26,
   "id": "1175cfca-137b-4755-a29c-2c5964fe8b89",
   "metadata": {},
   "outputs": [
    {
     "name": "stdout",
     "output_type": "stream",
     "text": [
      "69.0 55.72032026428142\n"
     ]
    },
    {
     "data": {
      "image/png": "[encoded data removed]",
      "text/plain": [
       "<Figure size 1000x400 with 2 Axes>"
      ]
     },
     "metadata": {},
     "output_type": "display_data"
    }
   ],
   "source": [
    "# Every initial guess' distribution of #guesses has to have a single \"1\" value.\n",
    "start = best_starts[0]\n",
    "solutions = [nerdle.NerdleSolver(solver_data).solve(answer, initial_guess=str(start)) \n",
    "             for answer in solver_data.answers ]               \n",
    "n = np.array([len(solution[0]) for solution in solutions])\n",
    "num_answers = len(solver_data.answers)\n",
    "compression_ratio = num_answers / np.array([solution[2][0] for solution in solutions])\n",
    "print(np.mean(compression_ratio), np.std(compression_ratio))\n",
    "\n",
    "fig, axs = plt.subplots(1, 2, figsize=(10, 4))\n",
    "\n",
    "ax = axs[0]\n",
    "ax.hist(n);\n",
    "ax.set_title(\"#Guesses for start {}\".format(start));\n",
    "\n",
    "ax = axs[1]\n",
    "ax.hist(compression_ratio);\n",
    "ax.set_title(\"Compression Ratio Distribution, start {}\".format(start));"
   ]
  },
  {
   "cell_type": "markdown",
   "id": "61554cd3-be50-4f0f-8ee6-739fddcc17e6",
   "metadata": {},
   "source": [
    "## #Answers vs. #Slots\n",
    "As expected, this rises very quickly (expontentially?) with #answers."
   ]
  },
  {
   "cell_type": "code",
   "execution_count": 197,
   "id": "a8339174-5a35-4d42-aed7-10f23505b6ad",
   "metadata": {},
   "outputs": [
    {
     "name": "stdout",
     "output_type": "stream",
     "text": [
      "[  127   206  6661 17723]\n"
     ]
    }
   ],
   "source": [
    "slots = np.arange(5, 9)\n",
    "num_answers = np.array([len(list(nerdle.all_answers(s))) for s in slots])\n",
    "print(num_answers)"
   ]
  },
  {
   "cell_type": "code",
   "execution_count": null,
   "id": "cc00442d-0b10-4bb3-bf3a-30e92d919dab",
   "metadata": {},
   "outputs": [],
   "source": [
    "plt.plot(slots, num_answers, 'o-')\n",
    "plt.xlabel(\"#Slots\");\n",
    "plt.grid(True);\n",
    "plt.xticks(slots);"
   ]
  },
  {
   "cell_type": "code",
   "execution_count": 66,
   "id": "4e011ad1-53ff-450c-b46b-d17bd47a5a12",
   "metadata": {},
   "outputs": [
    {
     "name": "stdout",
     "output_type": "stream",
     "text": [
      "0 / 206 (0.0%) completed\n"
     ]
    },
    {
     "ename": "BrokenPipeError",
     "evalue": "[Errno 32] Broken pipe",
     "output_type": "error",
     "traceback": [
      "\u001b[0;31m---------------------------------------------------------------------------\u001b[0m",
      "\u001b[0;31mBrokenPipeError\u001b[0m                           Traceback (most recent call last)",
      "Cell \u001b[0;32mIn [66], line 2\u001b[0m\n\u001b[1;32m      1\u001b[0m \u001b[38;5;66;03m# Mini-Nerdle.\u001b[39;00m\n\u001b[0;32m----> 2\u001b[0m solver_data_cy \u001b[38;5;241m=\u001b[39m \u001b[43mnerdle\u001b[49m\u001b[38;5;241;43m.\u001b[39;49m\u001b[43mcreate_solver_data\u001b[49m\u001b[43m(\u001b[49m\u001b[38;5;241;43m6\u001b[39;49m\u001b[43m,\u001b[49m\u001b[43m \u001b[49m\u001b[38;5;124;43m\"\u001b[39;49m\u001b[38;5;124;43mdb/nerdle6.cython.db\u001b[39;49m\u001b[38;5;124;43m\"\u001b[39;49m\u001b[43m,\u001b[49m\u001b[43m \u001b[49m\u001b[43moverwrite\u001b[49m\u001b[38;5;241;43m=\u001b[39;49m\u001b[38;5;28;43;01mTrue\u001b[39;49;00m\u001b[43m)\u001b[49m\n",
      "File \u001b[0;32m~/oren/nerdle-solver/nerdle.py:208\u001b[0m, in \u001b[0;36mcreate_solver_data\u001b[0;34m(num_slots, file_name, overwrite, max_answers, n_jobs)\u001b[0m\n\u001b[1;32m    205\u001b[0m \u001b[38;5;28;01mdef\u001b[39;00m \u001b[38;5;21mcreate_solver_data\u001b[39m(num_slots: \u001b[38;5;28mint\u001b[39m, file_name: \u001b[38;5;28mstr\u001b[39m, overwrite: \u001b[38;5;28mbool\u001b[39m \u001b[38;5;241m=\u001b[39m \u001b[38;5;28;01mFalse\u001b[39;00m,\n\u001b[1;32m    206\u001b[0m                        max_answers: Optional[\u001b[38;5;28mint\u001b[39m] \u001b[38;5;241m=\u001b[39m \u001b[38;5;28;01mNone\u001b[39;00m, n_jobs: \u001b[38;5;28mint\u001b[39m \u001b[38;5;241m=\u001b[39m \u001b[38;5;241m2\u001b[39m) \u001b[38;5;241m-\u001b[39m\u001b[38;5;241m>\u001b[39m NerdleData:\n\u001b[1;32m    207\u001b[0m     \u001b[38;5;124;03m\"\"\"Creates/load solver data from existing h5py database file.\"\"\"\u001b[39;00m\n\u001b[0;32m--> 208\u001b[0m     \u001b[38;5;28;01mreturn\u001b[39;00m \u001b[43m_NerdleDataMatrix\u001b[49m\u001b[43m(\u001b[49m\u001b[43mnum_slots\u001b[49m\u001b[43m,\u001b[49m\u001b[43m \u001b[49m\u001b[43mfile_name\u001b[49m\u001b[43m,\u001b[49m\u001b[43m \u001b[49m\u001b[43moverwrite\u001b[49m\u001b[38;5;241;43m=\u001b[39;49m\u001b[43moverwrite\u001b[49m\u001b[43m,\u001b[49m\u001b[43m \u001b[49m\u001b[43mmax_answers\u001b[49m\u001b[38;5;241;43m=\u001b[39;49m\u001b[43mmax_answers\u001b[49m\u001b[43m,\u001b[49m\n\u001b[1;32m    209\u001b[0m \u001b[43m                             \u001b[49m\u001b[43mn_jobs\u001b[49m\u001b[38;5;241;43m=\u001b[39;49m\u001b[43mn_jobs\u001b[49m\u001b[43m)\u001b[49m\n",
      "File \u001b[0;32m~/oren/nerdle-solver/nerdle.py:67\u001b[0m, in \u001b[0;36m_NerdleDataMatrix.__init__\u001b[0;34m(self, num_slots, file_name, overwrite, max_answers, n_jobs)\u001b[0m\n\u001b[1;32m     65\u001b[0m \u001b[38;5;28;01mif\u001b[39;00m max_answers \u001b[38;5;129;01mis\u001b[39;00m \u001b[38;5;129;01mnot\u001b[39;00m \u001b[38;5;28;01mNone\u001b[39;00m:\n\u001b[1;32m     66\u001b[0m     \u001b[38;5;28mself\u001b[39m\u001b[38;5;241m.\u001b[39manswers \u001b[38;5;241m=\u001b[39m \u001b[38;5;28mself\u001b[39m\u001b[38;5;241m.\u001b[39manswers[:max_answers]\n\u001b[0;32m---> 67\u001b[0m \u001b[38;5;28mself\u001b[39m\u001b[38;5;241m.\u001b[39mscore_db \u001b[38;5;241m=\u001b[39m \u001b[43m_NerdleDataMatrix\u001b[49m\u001b[38;5;241;43m.\u001b[39;49m\u001b[43m_create_score_database\u001b[49m\u001b[43m(\u001b[49m\u001b[38;5;28;43mself\u001b[39;49m\u001b[38;5;241;43m.\u001b[39;49m\u001b[43manswers\u001b[49m\u001b[43m,\u001b[49m\u001b[43m \u001b[49m\u001b[43mn_jobs\u001b[49m\u001b[38;5;241;43m=\u001b[39;49m\u001b[43mn_jobs\u001b[49m\u001b[43m)\u001b[49m\n\u001b[1;32m     68\u001b[0m \u001b[38;5;66;03m# Storing answers as bytearray since h5py does not support numpy strings.\u001b[39;00m\n\u001b[1;32m     69\u001b[0m \u001b[38;5;66;03m# TODO: just work with bytearrays instead of strings everywhere.\u001b[39;00m\n\u001b[1;32m     70\u001b[0m f\u001b[38;5;241m.\u001b[39mcreate_dataset(\u001b[38;5;124m\"\u001b[39m\u001b[38;5;124manswers\u001b[39m\u001b[38;5;124m\"\u001b[39m, data\u001b[38;5;241m=\u001b[39mnp\u001b[38;5;241m.\u001b[39marray([x\u001b[38;5;241m.\u001b[39mencode() \u001b[38;5;28;01mfor\u001b[39;00m x \u001b[38;5;129;01min\u001b[39;00m \u001b[38;5;28mself\u001b[39m\u001b[38;5;241m.\u001b[39manswers]))\n",
      "File \u001b[0;32m~/oren/nerdle-solver/nerdle.py:93\u001b[0m, in \u001b[0;36m_NerdleDataMatrix._create_score_database\u001b[0;34m(answers, n_jobs)\u001b[0m\n\u001b[1;32m     90\u001b[0m         score_db[i] \u001b[38;5;241m=\u001b[39m [sgo\u001b[38;5;241m.\u001b[39mscore_guess(guess_encoded, \u001b[38;5;28mstr\u001b[39m(answer)) \u001b[38;5;28;01mfor\u001b[39;00m answer \u001b[38;5;129;01min\u001b[39;00m answers]\n\u001b[1;32m     91\u001b[0m     \u001b[38;5;28;01melse\u001b[39;00m:\n\u001b[1;32m     92\u001b[0m         \u001b[38;5;66;03m# Parallel version with joblib:\u001b[39;00m\n\u001b[0;32m---> 93\u001b[0m         score_db[i] \u001b[38;5;241m=\u001b[39m \u001b[43mParallel\u001b[49m\u001b[43m(\u001b[49m\u001b[43mn_jobs\u001b[49m\u001b[38;5;241;43m=\u001b[39;49m\u001b[43mn_jobs\u001b[49m\u001b[43m)\u001b[49m\u001b[43m(\u001b[49m\u001b[43mdelayed\u001b[49m\u001b[43m(\u001b[49m\u001b[43m_score_guess\u001b[49m\u001b[43m)\u001b[49m\u001b[43m(\u001b[49m\u001b[38;5;28;43mstr\u001b[39;49m\u001b[43m(\u001b[49m\u001b[43mguess_encoded\u001b[49m\u001b[43m)\u001b[49m\u001b[43m,\u001b[49m\u001b[43m \u001b[49m\u001b[38;5;28;43mstr\u001b[39;49m\u001b[43m(\u001b[49m\u001b[43manswer\u001b[49m\u001b[43m)\u001b[49m\u001b[43m)\u001b[49m\n\u001b[1;32m     94\u001b[0m \u001b[43m                                              \u001b[49m\u001b[38;5;28;43;01mfor\u001b[39;49;00m\u001b[43m \u001b[49m\u001b[43manswer\u001b[49m\u001b[43m \u001b[49m\u001b[38;5;129;43;01min\u001b[39;49;00m\u001b[43m \u001b[49m\u001b[43manswers\u001b[49m\u001b[43m)\u001b[49m\n\u001b[1;32m     95\u001b[0m \u001b[38;5;28;01mreturn\u001b[39;00m score_db\n",
      "File \u001b[0;32m~/opt/miniconda3/envs/nerdle/lib/python3.10/site-packages/joblib/parallel.py:968\u001b[0m, in \u001b[0;36mParallel.__call__\u001b[0;34m(self, iterable)\u001b[0m\n\u001b[1;32m    965\u001b[0m \u001b[38;5;28mself\u001b[39m\u001b[38;5;241m.\u001b[39m_aborting \u001b[38;5;241m=\u001b[39m \u001b[38;5;28;01mFalse\u001b[39;00m\n\u001b[1;32m    967\u001b[0m \u001b[38;5;28;01mif\u001b[39;00m \u001b[38;5;129;01mnot\u001b[39;00m \u001b[38;5;28mself\u001b[39m\u001b[38;5;241m.\u001b[39m_managed_backend:\n\u001b[0;32m--> 968\u001b[0m     n_jobs \u001b[38;5;241m=\u001b[39m \u001b[38;5;28;43mself\u001b[39;49m\u001b[38;5;241;43m.\u001b[39;49m\u001b[43m_initialize_backend\u001b[49m\u001b[43m(\u001b[49m\u001b[43m)\u001b[49m\n\u001b[1;32m    969\u001b[0m \u001b[38;5;28;01melse\u001b[39;00m:\n\u001b[1;32m    970\u001b[0m     n_jobs \u001b[38;5;241m=\u001b[39m \u001b[38;5;28mself\u001b[39m\u001b[38;5;241m.\u001b[39m_effective_n_jobs()\n",
      "File \u001b[0;32m~/opt/miniconda3/envs/nerdle/lib/python3.10/site-packages/joblib/parallel.py:735\u001b[0m, in \u001b[0;36mParallel._initialize_backend\u001b[0;34m(self)\u001b[0m\n\u001b[1;32m    733\u001b[0m \u001b[38;5;124;03m\"\"\"Build a process or thread pool and return the number of workers\"\"\"\u001b[39;00m\n\u001b[1;32m    734\u001b[0m \u001b[38;5;28;01mtry\u001b[39;00m:\n\u001b[0;32m--> 735\u001b[0m     n_jobs \u001b[38;5;241m=\u001b[39m \u001b[38;5;28;43mself\u001b[39;49m\u001b[38;5;241;43m.\u001b[39;49m\u001b[43m_backend\u001b[49m\u001b[38;5;241;43m.\u001b[39;49m\u001b[43mconfigure\u001b[49m\u001b[43m(\u001b[49m\u001b[43mn_jobs\u001b[49m\u001b[38;5;241;43m=\u001b[39;49m\u001b[38;5;28;43mself\u001b[39;49m\u001b[38;5;241;43m.\u001b[39;49m\u001b[43mn_jobs\u001b[49m\u001b[43m,\u001b[49m\u001b[43m \u001b[49m\u001b[43mparallel\u001b[49m\u001b[38;5;241;43m=\u001b[39;49m\u001b[38;5;28;43mself\u001b[39;49m\u001b[43m,\u001b[49m\n\u001b[1;32m    736\u001b[0m \u001b[43m                                     \u001b[49m\u001b[38;5;241;43m*\u001b[39;49m\u001b[38;5;241;43m*\u001b[39;49m\u001b[38;5;28;43mself\u001b[39;49m\u001b[38;5;241;43m.\u001b[39;49m\u001b[43m_backend_args\u001b[49m\u001b[43m)\u001b[49m\n\u001b[1;32m    737\u001b[0m     \u001b[38;5;28;01mif\u001b[39;00m \u001b[38;5;28mself\u001b[39m\u001b[38;5;241m.\u001b[39mtimeout \u001b[38;5;129;01mis\u001b[39;00m \u001b[38;5;129;01mnot\u001b[39;00m \u001b[38;5;28;01mNone\u001b[39;00m \u001b[38;5;129;01mand\u001b[39;00m \u001b[38;5;129;01mnot\u001b[39;00m \u001b[38;5;28mself\u001b[39m\u001b[38;5;241m.\u001b[39m_backend\u001b[38;5;241m.\u001b[39msupports_timeout:\n\u001b[1;32m    738\u001b[0m         warnings\u001b[38;5;241m.\u001b[39mwarn(\n\u001b[1;32m    739\u001b[0m             \u001b[38;5;124m'\u001b[39m\u001b[38;5;124mThe backend class \u001b[39m\u001b[38;5;132;01m{!r}\u001b[39;00m\u001b[38;5;124m does not support timeout. \u001b[39m\u001b[38;5;124m'\u001b[39m\n\u001b[1;32m    740\u001b[0m             \u001b[38;5;124m\"\u001b[39m\u001b[38;5;124mYou have set \u001b[39m\u001b[38;5;124m'\u001b[39m\u001b[38;5;124mtimeout=\u001b[39m\u001b[38;5;132;01m{}\u001b[39;00m\u001b[38;5;124m'\u001b[39m\u001b[38;5;124m in Parallel but \u001b[39m\u001b[38;5;124m\"\u001b[39m\n\u001b[1;32m    741\u001b[0m             \u001b[38;5;124m\"\u001b[39m\u001b[38;5;124mthe \u001b[39m\u001b[38;5;124m'\u001b[39m\u001b[38;5;124mtimeout\u001b[39m\u001b[38;5;124m'\u001b[39m\u001b[38;5;124m parameter will not be used.\u001b[39m\u001b[38;5;124m\"\u001b[39m\u001b[38;5;241m.\u001b[39mformat(\n\u001b[1;32m    742\u001b[0m                 \u001b[38;5;28mself\u001b[39m\u001b[38;5;241m.\u001b[39m_backend\u001b[38;5;241m.\u001b[39m\u001b[38;5;18m__class__\u001b[39m\u001b[38;5;241m.\u001b[39m\u001b[38;5;18m__name__\u001b[39m,\n\u001b[1;32m    743\u001b[0m                 \u001b[38;5;28mself\u001b[39m\u001b[38;5;241m.\u001b[39mtimeout))\n",
      "File \u001b[0;32m~/opt/miniconda3/envs/nerdle/lib/python3.10/site-packages/joblib/_parallel_backends.py:494\u001b[0m, in \u001b[0;36mLokyBackend.configure\u001b[0;34m(self, n_jobs, parallel, prefer, require, idle_worker_timeout, **memmappingexecutor_args)\u001b[0m\n\u001b[1;32m    490\u001b[0m \u001b[38;5;28;01mif\u001b[39;00m n_jobs \u001b[38;5;241m==\u001b[39m \u001b[38;5;241m1\u001b[39m:\n\u001b[1;32m    491\u001b[0m     \u001b[38;5;28;01mraise\u001b[39;00m FallbackToBackend(\n\u001b[1;32m    492\u001b[0m         SequentialBackend(nesting_level\u001b[38;5;241m=\u001b[39m\u001b[38;5;28mself\u001b[39m\u001b[38;5;241m.\u001b[39mnesting_level))\n\u001b[0;32m--> 494\u001b[0m \u001b[38;5;28mself\u001b[39m\u001b[38;5;241m.\u001b[39m_workers \u001b[38;5;241m=\u001b[39m \u001b[43mget_memmapping_executor\u001b[49m\u001b[43m(\u001b[49m\n\u001b[1;32m    495\u001b[0m \u001b[43m    \u001b[49m\u001b[43mn_jobs\u001b[49m\u001b[43m,\u001b[49m\u001b[43m \u001b[49m\u001b[43mtimeout\u001b[49m\u001b[38;5;241;43m=\u001b[39;49m\u001b[43midle_worker_timeout\u001b[49m\u001b[43m,\u001b[49m\n\u001b[1;32m    496\u001b[0m \u001b[43m    \u001b[49m\u001b[43menv\u001b[49m\u001b[38;5;241;43m=\u001b[39;49m\u001b[38;5;28;43mself\u001b[39;49m\u001b[38;5;241;43m.\u001b[39;49m\u001b[43m_prepare_worker_env\u001b[49m\u001b[43m(\u001b[49m\u001b[43mn_jobs\u001b[49m\u001b[38;5;241;43m=\u001b[39;49m\u001b[43mn_jobs\u001b[49m\u001b[43m)\u001b[49m\u001b[43m,\u001b[49m\n\u001b[1;32m    497\u001b[0m \u001b[43m    \u001b[49m\u001b[43mcontext_id\u001b[49m\u001b[38;5;241;43m=\u001b[39;49m\u001b[43mparallel\u001b[49m\u001b[38;5;241;43m.\u001b[39;49m\u001b[43m_id\u001b[49m\u001b[43m,\u001b[49m\u001b[43m \u001b[49m\u001b[38;5;241;43m*\u001b[39;49m\u001b[38;5;241;43m*\u001b[39;49m\u001b[43mmemmappingexecutor_args\u001b[49m\u001b[43m)\u001b[49m\n\u001b[1;32m    498\u001b[0m \u001b[38;5;28mself\u001b[39m\u001b[38;5;241m.\u001b[39mparallel \u001b[38;5;241m=\u001b[39m parallel\n\u001b[1;32m    499\u001b[0m \u001b[38;5;28;01mreturn\u001b[39;00m n_jobs\n",
      "File \u001b[0;32m~/opt/miniconda3/envs/nerdle/lib/python3.10/site-packages/joblib/executor.py:20\u001b[0m, in \u001b[0;36mget_memmapping_executor\u001b[0;34m(n_jobs, **kwargs)\u001b[0m\n\u001b[1;32m     19\u001b[0m \u001b[38;5;28;01mdef\u001b[39;00m \u001b[38;5;21mget_memmapping_executor\u001b[39m(n_jobs, \u001b[38;5;241m*\u001b[39m\u001b[38;5;241m*\u001b[39mkwargs):\n\u001b[0;32m---> 20\u001b[0m     \u001b[38;5;28;01mreturn\u001b[39;00m \u001b[43mMemmappingExecutor\u001b[49m\u001b[38;5;241;43m.\u001b[39;49m\u001b[43mget_memmapping_executor\u001b[49m\u001b[43m(\u001b[49m\u001b[43mn_jobs\u001b[49m\u001b[43m,\u001b[49m\u001b[43m \u001b[49m\u001b[38;5;241;43m*\u001b[39;49m\u001b[38;5;241;43m*\u001b[39;49m\u001b[43mkwargs\u001b[49m\u001b[43m)\u001b[49m\n",
      "File \u001b[0;32m~/opt/miniconda3/envs/nerdle/lib/python3.10/site-packages/joblib/executor.py:42\u001b[0m, in \u001b[0;36mMemmappingExecutor.get_memmapping_executor\u001b[0;34m(cls, n_jobs, timeout, initializer, initargs, env, temp_folder, context_id, **backend_args)\u001b[0m\n\u001b[1;32m     39\u001b[0m reuse \u001b[38;5;241m=\u001b[39m _executor_args \u001b[38;5;129;01mis\u001b[39;00m \u001b[38;5;28;01mNone\u001b[39;00m \u001b[38;5;129;01mor\u001b[39;00m _executor_args \u001b[38;5;241m==\u001b[39m executor_args\n\u001b[1;32m     40\u001b[0m _executor_args \u001b[38;5;241m=\u001b[39m executor_args\n\u001b[0;32m---> 42\u001b[0m manager \u001b[38;5;241m=\u001b[39m \u001b[43mTemporaryResourcesManager\u001b[49m\u001b[43m(\u001b[49m\u001b[43mtemp_folder\u001b[49m\u001b[43m)\u001b[49m\n\u001b[1;32m     44\u001b[0m \u001b[38;5;66;03m# reducers access the temporary folder in which to store temporary\u001b[39;00m\n\u001b[1;32m     45\u001b[0m \u001b[38;5;66;03m# pickles through a call to manager.resolve_temp_folder_name. resolving\u001b[39;00m\n\u001b[1;32m     46\u001b[0m \u001b[38;5;66;03m# the folder name dynamically is useful to use different folders across\u001b[39;00m\n\u001b[1;32m     47\u001b[0m \u001b[38;5;66;03m# calls of a same reusable executor\u001b[39;00m\n\u001b[1;32m     48\u001b[0m job_reducers, result_reducers \u001b[38;5;241m=\u001b[39m get_memmapping_reducers(\n\u001b[1;32m     49\u001b[0m     unlink_on_gc_collect\u001b[38;5;241m=\u001b[39m\u001b[38;5;28;01mTrue\u001b[39;00m,\n\u001b[1;32m     50\u001b[0m     temp_folder_resolver\u001b[38;5;241m=\u001b[39mmanager\u001b[38;5;241m.\u001b[39mresolve_temp_folder_name,\n\u001b[1;32m     51\u001b[0m     \u001b[38;5;241m*\u001b[39m\u001b[38;5;241m*\u001b[39mbackend_args)\n",
      "File \u001b[0;32m~/opt/miniconda3/envs/nerdle/lib/python3.10/site-packages/joblib/_memmapping_reducer.py:531\u001b[0m, in \u001b[0;36mTemporaryResourcesManager.__init__\u001b[0;34m(self, temp_folder_root, context_id)\u001b[0m\n\u001b[1;32m    525\u001b[0m \u001b[38;5;28;01mif\u001b[39;00m context_id \u001b[38;5;129;01mis\u001b[39;00m \u001b[38;5;28;01mNone\u001b[39;00m:\n\u001b[1;32m    526\u001b[0m     \u001b[38;5;66;03m# It would be safer to not assign a default context id (less silent\u001b[39;00m\n\u001b[1;32m    527\u001b[0m     \u001b[38;5;66;03m# bugs), but doing this while maintaining backward compatibility\u001b[39;00m\n\u001b[1;32m    528\u001b[0m     \u001b[38;5;66;03m# with the previous, context-unaware version get_memmaping_executor\u001b[39;00m\n\u001b[1;32m    529\u001b[0m     \u001b[38;5;66;03m# exposes exposes too many low-level details.\u001b[39;00m\n\u001b[1;32m    530\u001b[0m     context_id \u001b[38;5;241m=\u001b[39m uuid4()\u001b[38;5;241m.\u001b[39mhex\n\u001b[0;32m--> 531\u001b[0m \u001b[38;5;28;43mself\u001b[39;49m\u001b[38;5;241;43m.\u001b[39;49m\u001b[43mset_current_context\u001b[49m\u001b[43m(\u001b[49m\u001b[43mcontext_id\u001b[49m\u001b[43m)\u001b[49m\n",
      "File \u001b[0;32m~/opt/miniconda3/envs/nerdle/lib/python3.10/site-packages/joblib/_memmapping_reducer.py:535\u001b[0m, in \u001b[0;36mTemporaryResourcesManager.set_current_context\u001b[0;34m(self, context_id)\u001b[0m\n\u001b[1;32m    533\u001b[0m \u001b[38;5;28;01mdef\u001b[39;00m \u001b[38;5;21mset_current_context\u001b[39m(\u001b[38;5;28mself\u001b[39m, context_id):\n\u001b[1;32m    534\u001b[0m     \u001b[38;5;28mself\u001b[39m\u001b[38;5;241m.\u001b[39m_current_context_id \u001b[38;5;241m=\u001b[39m context_id\n\u001b[0;32m--> 535\u001b[0m     \u001b[38;5;28;43mself\u001b[39;49m\u001b[38;5;241;43m.\u001b[39;49m\u001b[43mregister_new_context\u001b[49m\u001b[43m(\u001b[49m\u001b[43mcontext_id\u001b[49m\u001b[43m)\u001b[49m\n",
      "File \u001b[0;32m~/opt/miniconda3/envs/nerdle/lib/python3.10/site-packages/joblib/_memmapping_reducer.py:560\u001b[0m, in \u001b[0;36mTemporaryResourcesManager.register_new_context\u001b[0;34m(self, context_id)\u001b[0m\n\u001b[1;32m    553\u001b[0m new_folder_name \u001b[38;5;241m=\u001b[39m (\n\u001b[1;32m    554\u001b[0m     \u001b[38;5;124m\"\u001b[39m\u001b[38;5;124mjoblib_memmapping_folder_\u001b[39m\u001b[38;5;132;01m{}\u001b[39;00m\u001b[38;5;124m_\u001b[39m\u001b[38;5;132;01m{}\u001b[39;00m\u001b[38;5;124m_\u001b[39m\u001b[38;5;132;01m{}\u001b[39;00m\u001b[38;5;124m\"\u001b[39m\u001b[38;5;241m.\u001b[39mformat(\n\u001b[1;32m    555\u001b[0m         os\u001b[38;5;241m.\u001b[39mgetpid(), \u001b[38;5;28mself\u001b[39m\u001b[38;5;241m.\u001b[39m_id, context_id)\n\u001b[1;32m    556\u001b[0m )\n\u001b[1;32m    557\u001b[0m new_folder_path, _ \u001b[38;5;241m=\u001b[39m _get_temp_dir(\n\u001b[1;32m    558\u001b[0m     new_folder_name, \u001b[38;5;28mself\u001b[39m\u001b[38;5;241m.\u001b[39m_temp_folder_root\n\u001b[1;32m    559\u001b[0m )\n\u001b[0;32m--> 560\u001b[0m \u001b[38;5;28;43mself\u001b[39;49m\u001b[38;5;241;43m.\u001b[39;49m\u001b[43mregister_folder_finalizer\u001b[49m\u001b[43m(\u001b[49m\u001b[43mnew_folder_path\u001b[49m\u001b[43m,\u001b[49m\u001b[43m \u001b[49m\u001b[43mcontext_id\u001b[49m\u001b[43m)\u001b[49m\n\u001b[1;32m    561\u001b[0m \u001b[38;5;28mself\u001b[39m\u001b[38;5;241m.\u001b[39m_cached_temp_folders[context_id] \u001b[38;5;241m=\u001b[39m new_folder_path\n",
      "File \u001b[0;32m~/opt/miniconda3/envs/nerdle/lib/python3.10/site-packages/joblib/_memmapping_reducer.py:590\u001b[0m, in \u001b[0;36mTemporaryResourcesManager.register_folder_finalizer\u001b[0;34m(self, pool_subfolder, context_id)\u001b[0m\n\u001b[1;32m    583\u001b[0m \u001b[38;5;28;01mdef\u001b[39;00m \u001b[38;5;21mregister_folder_finalizer\u001b[39m(\u001b[38;5;28mself\u001b[39m, pool_subfolder, context_id):\n\u001b[1;32m    584\u001b[0m     \u001b[38;5;66;03m# Register the garbage collector at program exit in case caller forgets\u001b[39;00m\n\u001b[1;32m    585\u001b[0m     \u001b[38;5;66;03m# to call terminate explicitly: note we do not pass any reference to\u001b[39;00m\n\u001b[1;32m    586\u001b[0m     \u001b[38;5;66;03m# ensure that this callback won't prevent garbage collection of\u001b[39;00m\n\u001b[1;32m    587\u001b[0m     \u001b[38;5;66;03m# parallel instance and related file handler resources such as POSIX\u001b[39;00m\n\u001b[1;32m    588\u001b[0m     \u001b[38;5;66;03m# semaphores and pipes\u001b[39;00m\n\u001b[1;32m    589\u001b[0m     pool_module_name \u001b[38;5;241m=\u001b[39m whichmodule(delete_folder, \u001b[38;5;124m'\u001b[39m\u001b[38;5;124mdelete_folder\u001b[39m\u001b[38;5;124m'\u001b[39m)\n\u001b[0;32m--> 590\u001b[0m     \u001b[43mresource_tracker\u001b[49m\u001b[38;5;241;43m.\u001b[39;49m\u001b[43mregister\u001b[49m\u001b[43m(\u001b[49m\u001b[43mpool_subfolder\u001b[49m\u001b[43m,\u001b[49m\u001b[43m \u001b[49m\u001b[38;5;124;43m\"\u001b[39;49m\u001b[38;5;124;43mfolder\u001b[39;49m\u001b[38;5;124;43m\"\u001b[39;49m\u001b[43m)\u001b[49m\n\u001b[1;32m    592\u001b[0m     \u001b[38;5;28;01mdef\u001b[39;00m \u001b[38;5;21m_cleanup\u001b[39m():\n\u001b[1;32m    593\u001b[0m         \u001b[38;5;66;03m# In some cases the Python runtime seems to set delete_folder to\u001b[39;00m\n\u001b[1;32m    594\u001b[0m         \u001b[38;5;66;03m# None just before exiting when accessing the delete_folder\u001b[39;00m\n\u001b[0;32m   (...)\u001b[0m\n\u001b[1;32m    599\u001b[0m         \u001b[38;5;66;03m# because joblib should only use relative imports to allow\u001b[39;00m\n\u001b[1;32m    600\u001b[0m         \u001b[38;5;66;03m# easy vendoring.\u001b[39;00m\n\u001b[1;32m    601\u001b[0m         delete_folder \u001b[38;5;241m=\u001b[39m \u001b[38;5;28m__import__\u001b[39m(\n\u001b[1;32m    602\u001b[0m             pool_module_name, fromlist\u001b[38;5;241m=\u001b[39m[\u001b[38;5;124m'\u001b[39m\u001b[38;5;124mdelete_folder\u001b[39m\u001b[38;5;124m'\u001b[39m])\u001b[38;5;241m.\u001b[39mdelete_folder\n",
      "File \u001b[0;32m~/opt/miniconda3/envs/nerdle/lib/python3.10/site-packages/joblib/externals/loky/backend/resource_tracker.py:191\u001b[0m, in \u001b[0;36mResourceTracker.register\u001b[0;34m(self, name, rtype)\u001b[0m\n\u001b[1;32m    189\u001b[0m \u001b[38;5;124;03m'''Register a named resource, and increment its refcount.'''\u001b[39;00m\n\u001b[1;32m    190\u001b[0m \u001b[38;5;28mself\u001b[39m\u001b[38;5;241m.\u001b[39mensure_running()\n\u001b[0;32m--> 191\u001b[0m \u001b[38;5;28;43mself\u001b[39;49m\u001b[38;5;241;43m.\u001b[39;49m\u001b[43m_send\u001b[49m\u001b[43m(\u001b[49m\u001b[38;5;124;43m'\u001b[39;49m\u001b[38;5;124;43mREGISTER\u001b[39;49m\u001b[38;5;124;43m'\u001b[39;49m\u001b[43m,\u001b[49m\u001b[43m \u001b[49m\u001b[43mname\u001b[49m\u001b[43m,\u001b[49m\u001b[43m \u001b[49m\u001b[43mrtype\u001b[49m\u001b[43m)\u001b[49m\n",
      "File \u001b[0;32m~/opt/miniconda3/envs/nerdle/lib/python3.10/site-packages/joblib/externals/loky/backend/resource_tracker.py:209\u001b[0m, in \u001b[0;36mResourceTracker._send\u001b[0;34m(self, cmd, name, rtype)\u001b[0m\n\u001b[1;32m    205\u001b[0m \u001b[38;5;28;01mif\u001b[39;00m \u001b[38;5;28mlen\u001b[39m(name) \u001b[38;5;241m>\u001b[39m \u001b[38;5;241m512\u001b[39m:\n\u001b[1;32m    206\u001b[0m     \u001b[38;5;66;03m# posix guarantees that writes to a pipe of less than PIPE_BUF\u001b[39;00m\n\u001b[1;32m    207\u001b[0m     \u001b[38;5;66;03m# bytes are atomic, and that PIPE_BUF >= 512\u001b[39;00m\n\u001b[1;32m    208\u001b[0m     \u001b[38;5;28;01mraise\u001b[39;00m \u001b[38;5;167;01mValueError\u001b[39;00m(\u001b[38;5;124m'\u001b[39m\u001b[38;5;124mname too long\u001b[39m\u001b[38;5;124m'\u001b[39m)\n\u001b[0;32m--> 209\u001b[0m nbytes \u001b[38;5;241m=\u001b[39m \u001b[43mos\u001b[49m\u001b[38;5;241;43m.\u001b[39;49m\u001b[43mwrite\u001b[49m\u001b[43m(\u001b[49m\u001b[38;5;28;43mself\u001b[39;49m\u001b[38;5;241;43m.\u001b[39;49m\u001b[43m_fd\u001b[49m\u001b[43m,\u001b[49m\u001b[43m \u001b[49m\u001b[43mmsg\u001b[49m\u001b[43m)\u001b[49m\n\u001b[1;32m    210\u001b[0m \u001b[38;5;28;01massert\u001b[39;00m nbytes \u001b[38;5;241m==\u001b[39m \u001b[38;5;28mlen\u001b[39m(msg)\n",
      "\u001b[0;31mBrokenPipeError\u001b[0m: [Errno 32] Broken pipe"
     ]
    }
   ],
   "source": [
    "# Mini-Nerdle.\n",
    "solver_data_cy = nerdle.create_solver_data(6, \"db/nerdle6.cython.db\", overwrite=True)\n",
    "#solver_data_cpp = nerdle.create_solver_data(NUM_SLOTS, \"db/nerdle6.db\")"
   ]
  },
  {
   "cell_type": "code",
   "execution_count": 62,
   "id": "c52f9e00-e53d-47eb-8705-a59d334a5983",
   "metadata": {},
   "outputs": [
    {
     "data": {
      "text/plain": [
       "True"
      ]
     },
     "execution_count": 62,
     "metadata": {},
     "output_type": "execute_result"
    }
   ],
   "source": [
    "all(solver_data_cy.answers == solver_data_cpp.answers)"
   ]
  },
  {
   "cell_type": "code",
   "execution_count": 63,
   "id": "7f7f4b67-c3a4-4217-999f-096f8526b017",
   "metadata": {},
   "outputs": [
    {
     "data": {
      "text/plain": [
       "True"
      ]
     },
     "execution_count": 63,
     "metadata": {},
     "output_type": "execute_result"
    }
   ],
   "source": [
    "all((solver_data_cy.score_db == solver_data_cpp.score_db).flatten())"
   ]
  },
  {
   "cell_type": "code",
   "execution_count": 51,
   "id": "449c9edc-a50a-4536-8aa8-b8221be540b7",
   "metadata": {},
   "outputs": [
    {
     "data": {
      "text/plain": [
       "array([[1365, 2721, 2177, ...,  356,  356,  340],\n",
       "       [2697, 1365,  277, ..., 2562, 2562, 2562],\n",
       "       [ 521,  277, 1365, ...,  514, 2562, 1538],\n",
       "       ...,\n",
       "       [ 326,  642,  640, ..., 1365,  357,  325],\n",
       "       [ 326,  642,  672, ..., 2373, 1365,  357],\n",
       "       [ 340,  642, 1664, ...,  325, 2373, 1365]])"
      ]
     },
     "execution_count": 58,
     "metadata": {},
     "output_type": "execute_result"
    }
   ],
   "source": [
    "solver_data_cy.score_db"
   ]
  },
  {
   "cell_type": "code",
   "execution_count": 52,
   "id": "960a83a7-a6a1-4a9f-96ff-600c0c43c94d",
   "metadata": {},
   "outputs": [
    {
     "data": {
      "text/plain": [
       "array([[1365, 2721, 2177, ...,  356,  356,  340],\n",
       "       [2697, 1365,  277, ..., 2562, 2562, 2562],\n",
       "       [ 521,  277, 1365, ...,  514, 2562, 1538],\n",
       "       ...,\n",
       "       [ 326,  642,  640, ..., 1365,  357,  325],\n",
       "       [ 326,  642,  672, ..., 2373, 1365,  357],\n",
       "       [ 340,  642, 1664, ...,  325, 2373, 1365]])"
      ]
     },
     "execution_count": 59,
     "metadata": {},
     "output_type": "execute_result"
    }
   ],
   "source": [
    "solver_data_cpp.score_db"
   ]
  },
  {
   "cell_type": "code",
   "execution_count": 53,
   "id": "fdff3c1d-41db-4a14-926e-ff9663c5c49d",
   "metadata": {},
   "outputs": [
    {
     "data": {
      "text/plain": [
       "'1+9=10'"
      ]
     },
     "execution_count": 53,
     "metadata": {},
     "output_type": "execute_result"
    }
   ],
   "source": [
    "solver_data_cpp.answers[0]"
   ]
  },
  {
   "cell_type": "code",
   "execution_count": 22,
   "id": "d5ad3e49-f628-4c9b-8a39-33baa4269864",
   "metadata": {},
   "outputs": [
    {
     "name": "stdout",
     "output_type": "stream",
     "text": [
      "5\n",
      "CPU times: user 2.74 ms, sys: 4 µs, total: 2.74 ms\n",
      "Wall time: 2.75 ms\n",
      "127\n",
      "CPU times: user 9.59 ms, sys: 368 µs, total: 9.96 ms\n",
      "Wall time: 10.2 ms\n",
      "127\n",
      "6\n",
      "CPU times: user 53.3 ms, sys: 1.41 ms, total: 54.7 ms\n",
      "Wall time: 54 ms\n",
      "206\n",
      "CPU times: user 110 ms, sys: 347 µs, total: 110 ms\n",
      "Wall time: 110 ms\n",
      "206\n",
      "7\n",
      "CPU times: user 888 ms, sys: 2.28 ms, total: 890 ms\n",
      "Wall time: 890 ms\n",
      "6661\n",
      "CPU times: user 1.44 s, sys: 3.37 ms, total: 1.44 s\n",
      "Wall time: 1.44 s\n",
      "7561\n",
      "8\n",
      "CPU times: user 13.2 s, sys: 50.8 ms, total: 13.2 s\n",
      "Wall time: 13.3 s\n",
      "17723\n",
      "9\n"
     ]
    },
    {
     "ename": "KeyboardInterrupt",
     "evalue": "",
     "output_type": "error",
     "traceback": [
      "\u001b[0;31m---------------------------------------------------------------------------\u001b[0m",
      "\u001b[0;31mKeyboardInterrupt\u001b[0m                         Traceback (most recent call last)",
      "File \u001b[0;32m<timed exec>:1\u001b[0m\n",
      "File \u001b[0;32m~/oren/nerdle-solver/generator.py:37\u001b[0m, in \u001b[0;36mall_answers\u001b[0;34m(num_slots, debug)\u001b[0m\n\u001b[1;32m     32\u001b[0m \u001b[38;5;28;01mfor\u001b[39;00m param_values \u001b[38;5;129;01min\u001b[39;00m itertools\u001b[38;5;241m.\u001b[39mproduct(\u001b[38;5;241m*\u001b[39m(\n\u001b[1;32m     33\u001b[0m         \u001b[38;5;28mlist\u001b[39m(itertools\u001b[38;5;241m.\u001b[39mchain\u001b[38;5;241m.\u001b[39mfrom_iterable(\n\u001b[1;32m     34\u001b[0m             \u001b[38;5;28mtuple\u001b[39m((\u001b[38;5;28mrange\u001b[39m(\u001b[38;5;241m10\u001b[39m \u001b[38;5;241m*\u001b[39m\u001b[38;5;241m*\u001b[39m (n \u001b[38;5;241m-\u001b[39m \u001b[38;5;241m1\u001b[39m), \u001b[38;5;241m10\u001b[39m \u001b[38;5;241m*\u001b[39m\u001b[38;5;241m*\u001b[39m n), OPERATIONS) \u001b[38;5;28;01mfor\u001b[39;00m n \u001b[38;5;129;01min\u001b[39;00m param_lens)))[:\u001b[38;5;241m-\u001b[39m\u001b[38;5;241m1\u001b[39m]\n\u001b[1;32m     35\u001b[0m )):\n\u001b[1;32m     36\u001b[0m     s \u001b[38;5;241m=\u001b[39m \u001b[38;5;124m\"\u001b[39m\u001b[38;5;124m\"\u001b[39m\u001b[38;5;241m.\u001b[39mjoin(\u001b[38;5;28mmap\u001b[39m(\u001b[38;5;28mstr\u001b[39m, param_values))\n\u001b[0;32m---> 37\u001b[0m     result \u001b[38;5;241m=\u001b[39m \u001b[38;5;28;43meval\u001b[39;49m\u001b[43m(\u001b[49m\u001b[43ms\u001b[49m\u001b[43m)\u001b[49m\n\u001b[1;32m     38\u001b[0m     \u001b[38;5;28;01mif\u001b[39;00m result_range[\u001b[38;5;241m0\u001b[39m] \u001b[38;5;241m<\u001b[39m\u001b[38;5;241m=\u001b[39m result \u001b[38;5;241m<\u001b[39m result_range[\u001b[38;5;241m1\u001b[39m] \u001b[38;5;129;01mand\u001b[39;00m \\\n\u001b[1;32m     39\u001b[0m             (\u001b[38;5;28misinstance\u001b[39m(result, \u001b[38;5;28mint\u001b[39m) \u001b[38;5;129;01mor\u001b[39;00m result\u001b[38;5;241m.\u001b[39mis_integer()):\n\u001b[1;32m     40\u001b[0m         \u001b[38;5;28;01myield\u001b[39;00m s \u001b[38;5;241m+\u001b[39m EQUALS \u001b[38;5;241m+\u001b[39m \u001b[38;5;28mstr\u001b[39m(\u001b[38;5;28mint\u001b[39m(result))\n",
      "\u001b[0;31mKeyboardInterrupt\u001b[0m: "
     ]
    },
    {
     "name": "stdout",
     "output_type": "stream",
     "text": [
      "17723\n"
     ]
    }
   ],
   "source": [
    "for num_slots in range(5, 10):\n",
    "    print(num_slots)\n",
    "    %time a = list(generator.all_answers(num_slots));\n",
    "    print(len(a))\n",
    "    if num_slots <= 7:\n",
    "        %time b = list(generator.generate_answers(num_slots));\n",
    "        print(len(a))"
   ]
  },
  {
   "cell_type": "code",
   "execution_count": 40,
   "id": "8d60f85f-11b4-4d85-9434-0470a9e3c3d0",
   "metadata": {},
   "outputs": [
    {
     "name": "stdout",
     "output_type": "stream",
     "text": [
      "7561\n",
      "7561\n",
      "True\n"
     ]
    }
   ],
   "source": [
    "a = list(generator.all_answers(7))\n",
    "print(len(a))\n",
    "b = list(generator.generate_answers(7))\n",
    "print(len(b))\n",
    "print(set(a) == set(b))"
   ]
  },
  {
   "cell_type": "code",
   "execution_count": 41,
   "id": "68c7e544-6402-4355-a048-2f5d4a73e7f3",
   "metadata": {},
   "outputs": [
    {
     "name": "stdout",
     "output_type": "stream",
     "text": [
      "CPU times: user 2.41 ms, sys: 3 µs, total: 2.41 ms\n",
      "Wall time: 2.42 ms\n",
      "5 217\n",
      "CPU times: user 56.4 ms, sys: 2.21 ms, total: 58.6 ms\n",
      "Wall time: 58.4 ms\n",
      "6 206\n",
      "CPU times: user 771 ms, sys: 2.07 ms, total: 773 ms\n",
      "Wall time: 774 ms\n",
      "7 7561\n",
      "CPU times: user 13.9 s, sys: 63.9 ms, total: 14 s\n",
      "Wall time: 14 s\n",
      "8 17723\n",
      "CPU times: user 3min 40s, sys: 1.5 s, total: 3min 42s\n",
      "Wall time: 3min 43s\n",
      "9 296224\n"
     ]
    }
   ],
   "source": [
    "for num_slots in range(5, 10):\n",
    "    %time a = list(generator.all_answers(num_slots));\n",
    "    print(num_slots, len(a))"
   ]
  },
  {
   "cell_type": "code",
   "execution_count": null,
   "id": "b72e78f9-2065-43d5-a2de-ed6834e81269",
   "metadata": {},
   "outputs": [],
   "source": []
  }
 ],
 "metadata": {
  "kernelspec": {
   "display_name": "Python 3 (ipykernel)",
   "language": "python",
   "name": "python3"
  },
  "language_info": {
   "codemirror_mode": {
    "name": "ipython",
    "version": 3
   },
   "file_extension": ".py",
   "mimetype": "text/x-python",
   "name": "python",
   "nbconvert_exporter": "python",
   "pygments_lexer": "ipython3",
   "version": "3.10.6"
  }
 },
 "nbformat": 4,
 "nbformat_minor": 5
}
